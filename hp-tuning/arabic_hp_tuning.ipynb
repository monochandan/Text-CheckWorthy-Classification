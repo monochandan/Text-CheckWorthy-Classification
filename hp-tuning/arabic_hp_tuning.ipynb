{
 "cells": [
  {
   "cell_type": "code",
   "execution_count": null,
   "metadata": {
    "colab": {
     "base_uri": "https://localhost:8080/"
    },
    "executionInfo": {
     "elapsed": 22330,
     "status": "ok",
     "timestamp": 1753947343083,
     "user": {
      "displayName": "monotosh kumar das chandan",
      "userId": "10884027464549225371"
     },
     "user_tz": -120
    },
    "id": "bn43uxDgJUUf",
    "outputId": "655f9f10-5407-4dde-8f20-d1c935817109"
   },
   "outputs": [],
   "source": [
    "from google.colab import drive\n",
    "drive.mount('/content/drive')"
   ]
  },
  {
   "cell_type": "markdown",
   "metadata": {
    "id": "meDCK8cD958d"
   },
   "source": [
    "https://sparknlp.org/2020/11/28/lemma_ar.html"
   ]
  },
  {
   "cell_type": "code",
   "execution_count": null,
   "metadata": {
    "executionInfo": {
     "elapsed": 9796,
     "status": "ok",
     "timestamp": 1753947353987,
     "user": {
      "displayName": "monotosh kumar das chandan",
      "userId": "10884027464549225371"
     },
     "user_tz": -120
    },
    "id": "kb2kguNvKJyo"
   },
   "outputs": [],
   "source": [
    "import pandas as pd\n",
    "import ast\n",
    "from sklearn.decomposition import PCA\n",
    "from sklearn.feature_extraction.text import TfidfVectorizer\n",
    "import nltk\n",
    "from nltk.corpus import stopwords\n",
    "from nltk.tokenize import word_tokenize"
   ]
  },
  {
   "cell_type": "code",
   "execution_count": null,
   "metadata": {
    "executionInfo": {
     "elapsed": 3897,
     "status": "ok",
     "timestamp": 1753947359615,
     "user": {
      "displayName": "monotosh kumar das chandan",
      "userId": "10884027464549225371"
     },
     "user_tz": -120
    },
    "id": "cAquHjdgJexL"
   },
   "outputs": [],
   "source": [
    "df_arabic_train = pd.read_csv(\"/content/drive/MyDrive/Thesis/data/Arabic_Data/arabic_train_tfidf.csv\")\n",
    "df_arabic_dev = pd.read_csv(\"/content/drive/MyDrive/Thesis/data/Arabic_Data/arabic_dev_tfidf.csv\")\n",
    "df_arabic_dev_test = pd.read_csv(\"/content/drive/MyDrive/Thesis/data/Arabic_Data/arabic_dev_test_tfidf.csv\")"
   ]
  },
  {
   "cell_type": "code",
   "execution_count": null,
   "metadata": {
    "colab": {
     "base_uri": "https://localhost:8080/"
    },
    "executionInfo": {
     "elapsed": 28,
     "status": "ok",
     "timestamp": 1753947364611,
     "user": {
      "displayName": "monotosh kumar das chandan",
      "userId": "10884027464549225371"
     },
     "user_tz": -120
    },
    "id": "oIeUSIuEKLx_",
    "outputId": "60508a07-028a-4643-ae8d-2260cd51aab1"
   },
   "outputs": [],
   "source": [
    "df_arabic_train.info()"
   ]
  },
  {
   "cell_type": "markdown",
   "metadata": {
    "id": "w2iNETckAmGf"
   },
   "source": [
    "# best_params"
   ]
  },
  {
   "cell_type": "code",
   "execution_count": null,
   "metadata": {
    "id": "3N2aTye-AqI4"
   },
   "outputs": [],
   "source": [
    "best_param_dt = {\n",
    "    'ccp_alpha': 0.0,\n",
    "    'criterion': 'gini',\n",
    "    'max_depth': 110,\n",
    "    'min_impurity_decrease': 0.0,\n",
    "    'min_samples_leaf': 1,\n",
    "    'min_samples_split': 2\n",
    "    }\n",
    "\n",
    "best_param_xgb = {\n",
    "    'colsample_bytree': 0.8,\n",
    "    'eval_metric': 'logloss',\n",
    "    'gamma': 0.2,\n",
    "    'learning_rate': 0.01,\n",
    "    'max_depth': 20,\n",
    "    'min_child_weight': 3,\n",
    "    'n_estimators': 1357,\n",
    "    'objective': 'binary:logistic',\n",
    "    'reg_alpha': 10,\n",
    "    'reg_lambda': 10,\n",
    "    'scale_pos_weight': 10,\n",
    "    'subsample': 0.8\n",
    "    }\n",
    "\n",
    "#     {'colsample_bytree': 0.6,\n",
    "#  'eval_metric': 'logloss',\n",
    "#  'gamma': 1.0,\n",
    "#  'learning_rate': 0.1,\n",
    "#  'max_depth': 30,\n",
    "#  'min_child_weight': 7,\n",
    "#  'n_estimators': 1614,\n",
    "#  'objective': 'binary:logistic',\n",
    "#  'reg_alpha': 10,\n",
    "#  'reg_lambda': 10,\n",
    "#  'scale_pos_weight': 20,\n",
    "#  'subsample': 0.8}\n",
    "\n",
    "best_param_rfc = {\n",
    "            'bootstrap': False,\n",
    "            'ccp_alpha': 0.01,\n",
    "            'class_weight': 'balanced',\n",
    "            'criterion': 'gini',\n",
    "            'max_depth': 100,\n",
    "            'max_features': 'log2',\n",
    "            'min_impurity_decrease': 0.1,\n",
    "            'min_samples_leaf': 1,\n",
    "            'min_samples_split': 2,\n",
    "            'n_estimators': 1788\n",
    "            }\n",
    "\n",
    "best_param_knn = {\n",
    "    'metric': 'minkowski',\n",
    "    'n_neighbors': 3,\n",
    "    'p': 2,\n",
    "    'weights': 'distance'\n",
    "    }\n",
    "\n",
    "best_param_gdb={\n",
    "    'learning_rate': np.float64(0.27616382277289797),\n",
    "      'max_depth': 3,\n",
    "      'max_features': None,\n",
    "      'min_samples_leaf': 5,\n",
    "      'min_samples_split': 16,\n",
    "      'n_estimators': 255,\n",
    "      'subsample': np.float64(0.9244569121330419)\n",
    "      }\n",
    "\n",
    "best_param_lgbm={\n",
    "    'bagging_fraction': np.float64(0.6092202186084168),\n",
    "    'bagging_freq': 3,\n",
    "    'feature_fraction': np.float64(0.9462794992449889),\n",
    "    'lambda_l1': np.float64(0.5393422419156507),\n",
    "    'lambda_l2': np.float64(0.8074401551640625),\n",
    "    'learning_rate': np.float64(0.278827389977048),\n",
    "    'max_depth': 9,\n",
    "    'min_child_samples': 42,\n",
    "    'n_estimators': 178,\n",
    "    'num_leaves': 46\n",
    "    }\n",
    "\n",
    "best_param_adb= {\n",
    "    'learning_rate': np.float64(0.3845401188473625),\n",
    "    'n_estimators': 142\n",
    "    }\n",
    "\n",
    "best_param_lr= {\n",
    "    'C': 0.01,\n",
    "    'class_weight': 'balanced',\n",
    "    'fit_intercept': True,\n",
    "    'intercept_scaling': 3,\n",
    "    'max_iter': 300,\n",
    "    'penalty': 'l1',\n",
    "    'solver': 'liblinear',\n",
    "    'tol': 0.0001\n",
    "    }\n",
    "\n"
   ]
  },
  {
   "cell_type": "code",
   "execution_count": null,
   "metadata": {
    "id": "7ZFYkNYJAqNr"
   },
   "outputs": [],
   "source": []
  },
  {
   "cell_type": "code",
   "execution_count": null,
   "metadata": {
    "id": "tu0gP8fCAqRU"
   },
   "outputs": [],
   "source": []
  },
  {
   "cell_type": "code",
   "execution_count": null,
   "metadata": {
    "id": "6iHUt3tiAqcQ"
   },
   "outputs": [],
   "source": []
  },
  {
   "cell_type": "code",
   "execution_count": null,
   "metadata": {
    "executionInfo": {
     "elapsed": 3,
     "status": "ok",
     "timestamp": 1753899285390,
     "user": {
      "displayName": "monotosh kumar das chandan",
      "userId": "10884027464549225371"
     },
     "user_tz": -120
    },
    "id": "AtekESBoKNLb"
   },
   "outputs": [],
   "source": [
    "# import os\n",
    "\n",
    "# # Install java\n",
    "# ! apt-get update -qq\n",
    "# ! apt-get install -y openjdk-8-jdk-headless -qq > /dev/null\n",
    "\n",
    "# os.environ[\"JAVA_HOME\"] = \"/usr/lib/jvm/java-8-openjdk-amd64\"\n",
    "# os.environ[\"PATH\"] = os.environ[\"JAVA_HOME\"] + \"/bin:\" + os.environ[\"PATH\"]\n",
    "# ! java -version\n",
    "\n",
    "# # Install pyspark\n",
    "# ! pip install --ignore-installed pyspark==2.4.4\n",
    "\n",
    "# # Install Spark NLP\n",
    "# ! pip install --ignore-installed spark-nlp\n",
    "\n",
    "\n",
    "\n",
    "# !apt-get install openjdk-8-jdk-headless -qq > /dev/null\n",
    "# import os\n",
    "# os.environ[\"JAVA_HOME\"] = \"/usr/lib/jvm/java-8-openjdk-amd64\"\n",
    "# os.environ[\"PATH\"] = os.environ[\"JAVA_HOME\"] + \"/bin:\" + os.environ[\"PATH\"]"
   ]
  },
  {
   "cell_type": "code",
   "execution_count": null,
   "metadata": {
    "colab": {
     "base_uri": "https://localhost:8080/",
     "height": 206
    },
    "executionInfo": {
     "elapsed": 75,
     "status": "ok",
     "timestamp": 1753947377053,
     "user": {
      "displayName": "monotosh kumar das chandan",
      "userId": "10884027464549225371"
     },
     "user_tz": -120
    },
    "id": "8JeuBShZ4NiN",
    "outputId": "7868308f-de86-43a6-e3b7-d23f752bccd2"
   },
   "outputs": [],
   "source": [
    "df_arabic_train[[\"Text\", \"text-tfidf\"]].head()"
   ]
  },
  {
   "cell_type": "code",
   "execution_count": null,
   "metadata": {
    "executionInfo": {
     "elapsed": 37,
     "status": "ok",
     "timestamp": 1753899285432,
     "user": {
      "displayName": "monotosh kumar das chandan",
      "userId": "10884027464549225371"
     },
     "user_tz": -120
    },
    "id": "jTxgiNl8KisB"
   },
   "outputs": [],
   "source": [
    "# import sys\n",
    "# from pyspark.sql import SparkSession\n",
    "# from pyspark.ml import PipelineModel\n",
    "\n",
    "# import sparknlp\n",
    "# from sparknlp.annotator import *\n",
    "# from sparknlp.common import *\n",
    "# from sparknlp.base import *\n",
    "# from sparknlp.pretrained import ResourceDownloader\n",
    "\n",
    "# from pathlib import Path\n",
    "\n",
    "# if sys.version_info[0] < 3:\n",
    "#     from urllib import urlretrieve\n",
    "# else:\n",
    "#     from urllib.request import urlretrieve"
   ]
  },
  {
   "cell_type": "code",
   "execution_count": null,
   "metadata": {
    "executionInfo": {
     "elapsed": 9,
     "status": "ok",
     "timestamp": 1753899285440,
     "user": {
      "displayName": "monotosh kumar das chandan",
      "userId": "10884027464549225371"
     },
     "user_tz": -120
    },
    "id": "CkKPaqwOSSKH"
   },
   "outputs": [],
   "source": [
    "# !pip install --upgrade pyspark cloudpickle sparknlp\n",
    "\n",
    "# Install specific versions known to be compatible\n",
    "# !pip uninstall -y pyspark sparknlp\n",
    "# !pip install pyspark==3.0.1 spark-nlp==3.4.4"
   ]
  },
  {
   "cell_type": "code",
   "execution_count": null,
   "metadata": {
    "executionInfo": {
     "elapsed": 3,
     "status": "ok",
     "timestamp": 1753899285446,
     "user": {
      "displayName": "monotosh kumar das chandan",
      "userId": "10884027464549225371"
     },
     "user_tz": -120
    },
    "id": "zi1t_iEIRdBf"
   },
   "outputs": [],
   "source": [
    "# import sparknlp\n",
    "# from sparknlp.base import *\n",
    "# from sparknlp.annotator import *\n",
    "# from pyspark.ml import Pipeline\n",
    "# import pyspark"
   ]
  },
  {
   "cell_type": "code",
   "execution_count": null,
   "metadata": {
    "executionInfo": {
     "elapsed": 2,
     "status": "ok",
     "timestamp": 1753899285452,
     "user": {
      "displayName": "monotosh kumar das chandan",
      "userId": "10884027464549225371"
     },
     "user_tz": -120
    },
    "id": "xe1GjeWST3FH"
   },
   "outputs": [],
   "source": [
    "# print(pyspark.__version__)\n",
    "# print(sparknlp.version())\n",
    "# # print(spark.version)"
   ]
  },
  {
   "cell_type": "code",
   "execution_count": null,
   "metadata": {
    "executionInfo": {
     "elapsed": 2,
     "status": "ok",
     "timestamp": 1753899285456,
     "user": {
      "displayName": "monotosh kumar das chandan",
      "userId": "10884027464549225371"
     },
     "user_tz": -120
    },
    "id": "-RIbrYuZKrRJ"
   },
   "outputs": [],
   "source": [
    "# spark = sparknlp.start()\n",
    "\n",
    "# print(\"Spark NLP version: \", sparknlp.version())\n",
    "# print(\"Apache Spark version: \", spark.version)"
   ]
  },
  {
   "cell_type": "code",
   "execution_count": null,
   "metadata": {
    "executionInfo": {
     "elapsed": 22,
     "status": "ok",
     "timestamp": 1753899285494,
     "user": {
      "displayName": "monotosh kumar das chandan",
      "userId": "10884027464549225371"
     },
     "user_tz": -120
    },
    "id": "19hb_5WHNl9h"
   },
   "outputs": [],
   "source": [
    "# !pip install nlu"
   ]
  },
  {
   "cell_type": "code",
   "execution_count": null,
   "metadata": {
    "executionInfo": {
     "elapsed": 13,
     "status": "ok",
     "timestamp": 1753899285511,
     "user": {
      "displayName": "monotosh kumar das chandan",
      "userId": "10884027464549225371"
     },
     "user_tz": -120
    },
    "id": "b32RSYqUOWmi"
   },
   "outputs": [],
   "source": [
    "# !pip uninstall -y pyspark\n",
    "# !pip install pyspark==3.0.2 spark-nlp==3.4.4"
   ]
  },
  {
   "cell_type": "code",
   "execution_count": null,
   "metadata": {
    "executionInfo": {
     "elapsed": 11,
     "status": "ok",
     "timestamp": 1753899285513,
     "user": {
      "displayName": "monotosh kumar das chandan",
      "userId": "10884027464549225371"
     },
     "user_tz": -120
    },
    "id": "1YENXxTqY2Cb"
   },
   "outputs": [],
   "source": [
    "# !pip freeze"
   ]
  },
  {
   "cell_type": "code",
   "execution_count": null,
   "metadata": {
    "executionInfo": {
     "elapsed": 5,
     "status": "ok",
     "timestamp": 1753899285514,
     "user": {
      "displayName": "monotosh kumar das chandan",
      "userId": "10884027464549225371"
     },
     "user_tz": -120
    },
    "id": "YWkCto7bMNAW"
   },
   "outputs": [],
   "source": [
    "# import nlu\n",
    "\n",
    "# text = [\"\"\"يرفض\tرفضت\tيرفضون\tأرفض\tنرفض\tرفض\tرفضوا\tترفض\tرفضتا\"\"\"]\n",
    "# lemma_df = nlu.load('ar.lemma').predict(text, output_level='document')\n",
    "# lemma_df.lemma.values[0]"
   ]
  },
  {
   "cell_type": "code",
   "execution_count": null,
   "metadata": {
    "executionInfo": {
     "elapsed": 24,
     "status": "ok",
     "timestamp": 1753947384828,
     "user": {
      "displayName": "monotosh kumar das chandan",
      "userId": "10884027464549225371"
     },
     "user_tz": -120
    },
    "id": "xBvhnNioknRc"
   },
   "outputs": [],
   "source": [
    "def joined_tokens(tokens):\n",
    "    token_list = ast.literal_eval(tokens)\n",
    "    return ' '.join(token_list)"
   ]
  },
  {
   "cell_type": "code",
   "execution_count": null,
   "metadata": {
    "executionInfo": {
     "elapsed": 128,
     "status": "ok",
     "timestamp": 1753947385465,
     "user": {
      "displayName": "monotosh kumar das chandan",
      "userId": "10884027464549225371"
     },
     "user_tz": -120
    },
    "id": "fc1MzgArMNL6"
   },
   "outputs": [],
   "source": [
    "df_arabic_train['joined_tokens'] = df_arabic_train['Tokens'].apply(joined_tokens)\n",
    "df_arabic_dev['joined_tokens'] = df_arabic_dev['Tokens'].apply(joined_tokens)\n",
    "df_arabic_dev_test['joined_tokens'] = df_arabic_dev_test['Tokens'].apply(joined_tokens)"
   ]
  },
  {
   "cell_type": "code",
   "execution_count": null,
   "metadata": {
    "executionInfo": {
     "elapsed": 3,
     "status": "ok",
     "timestamp": 1753899285556,
     "user": {
      "displayName": "monotosh kumar das chandan",
      "userId": "10884027464549225371"
     },
     "user_tz": -120
    },
    "id": "43f08ff7"
   },
   "outputs": [],
   "source": [
    "# import os\n",
    "\n",
    "# # Set JAVA_HOME and add to PATH\n",
    "# os.environ[\"JAVA_HOME\"] = \"/usr/lib/jvm/java-8-openjdk-amd64\"\n",
    "# os.environ[\"PATH\"] = os.environ[\"JAVA_HOME\"] + \"/bin:\" + os.environ[\"PATH\"]\n",
    "\n",
    "# # Verify Java version\n",
    "# !java -version"
   ]
  },
  {
   "cell_type": "code",
   "execution_count": null,
   "metadata": {
    "colab": {
     "base_uri": "https://localhost:8080/"
    },
    "executionInfo": {
     "elapsed": 9233,
     "status": "ok",
     "timestamp": 1753899294792,
     "user": {
      "displayName": "monotosh kumar das chandan",
      "userId": "10884027464549225371"
     },
     "user_tz": -120
    },
    "id": "6F_OYC2AYBYW",
    "outputId": "bcb267b0-e000-4e89-ff27-69314dafd4d7"
   },
   "outputs": [],
   "source": [
    "!pip install spark-nlp"
   ]
  },
  {
   "cell_type": "code",
   "execution_count": null,
   "metadata": {
    "executionInfo": {
     "elapsed": 1323,
     "status": "ok",
     "timestamp": 1753899334944,
     "user": {
      "displayName": "monotosh kumar das chandan",
      "userId": "10884027464549225371"
     },
     "user_tz": -120
    },
    "id": "5gXK9W2AijjS"
   },
   "outputs": [],
   "source": [
    "import sparknlp"
   ]
  },
  {
   "cell_type": "code",
   "execution_count": null,
   "metadata": {
    "executionInfo": {
     "elapsed": 17,
     "status": "ok",
     "timestamp": 1753900544473,
     "user": {
      "displayName": "monotosh kumar das chandan",
      "userId": "10884027464549225371"
     },
     "user_tz": -120
    },
    "id": "oGE7Z2lBi_cv"
   },
   "outputs": [],
   "source": [
    "from sparknlp.annotator import Stemmer, LemmatizerModel, Tokenizer\n",
    "from sparknlp.base import DocumentAssembler, Pipeline, LightPipeline"
   ]
  },
  {
   "cell_type": "code",
   "execution_count": null,
   "metadata": {
    "executionInfo": {
     "elapsed": 53835,
     "status": "ok",
     "timestamp": 1753899458116,
     "user": {
      "displayName": "monotosh kumar das chandan",
      "userId": "10884027464549225371"
     },
     "user_tz": -120
    },
    "id": "9xZIy86pjM_n"
   },
   "outputs": [],
   "source": [
    "spark = sparknlp.start()"
   ]
  },
  {
   "cell_type": "code",
   "execution_count": null,
   "metadata": {
    "colab": {
     "base_uri": "https://localhost:8080/"
    },
    "executionInfo": {
     "elapsed": 2656,
     "status": "ok",
     "timestamp": 1753900821201,
     "user": {
      "displayName": "monotosh kumar das chandan",
      "userId": "10884027464549225371"
     },
     "user_tz": -120
    },
    "id": "sN-k5Xu-jQs6",
    "outputId": "189c4a69-e031-4eef-a131-c359e229b065"
   },
   "outputs": [],
   "source": [
    "# stemmer = Stemmer() \\\n",
    "#     .setInputCols([\"token\"]) \\\n",
    "#     .setOutputCol(\"stem\")\n",
    "\n",
    "lemmatizer = (\n",
    "          LemmatizerModel.pretrained(\"lemma\", \"ar\")\\\n",
    "                .setInputCols([\"tokenized\"]) \\\n",
    "              .setOutputCol(\"lemma\")\n",
    "        )"
   ]
  },
  {
   "cell_type": "code",
   "execution_count": null,
   "metadata": {
    "executionInfo": {
     "elapsed": 55,
     "status": "ok",
     "timestamp": 1753900948589,
     "user": {
      "displayName": "monotosh kumar das chandan",
      "userId": "10884027464549225371"
     },
     "user_tz": -120
    },
    "id": "e-box3ENj8yd"
   },
   "outputs": [],
   "source": [
    "document_assembler = (\n",
    "    DocumentAssembler().setInputCol(\"joined_tokens\").setOutputCol(\"document\")\n",
    ")\n",
    "tokenizer = Tokenizer().setInputCols([\"document\"]).setOutputCol(\"tokenized\")\n",
    "\n",
    "pipeline = Pipeline(\n",
    "    stages = [document_assembler, tokenizer, lemmatizer]\n",
    ")"
   ]
  },
  {
   "cell_type": "code",
   "execution_count": null,
   "metadata": {
    "executionInfo": {
     "elapsed": 260,
     "status": "ok",
     "timestamp": 1753903297185,
     "user": {
      "displayName": "monotosh kumar das chandan",
      "userId": "10884027464549225371"
     },
     "user_tz": -120
    },
    "id": "P4FJrMeUoK8J"
   },
   "outputs": [],
   "source": [
    "spark_data_train = spark.createDataFrame(df_arabic_train[[\"tweet_id\", \"joined_tokens\"]])\n",
    "spark_data_dev = spark.createDataFrame(df_arabic_dev[[\"tweet_id\", \"joined_tokens\"]])\n",
    "spark_data_dev_test = spark.createDataFrame(df_arabic_dev_test[[\"tweet_id\", \"joined_tokens\"]])"
   ]
  },
  {
   "cell_type": "code",
   "execution_count": null,
   "metadata": {
    "executionInfo": {
     "elapsed": 406,
     "status": "ok",
     "timestamp": 1753903317719,
     "user": {
      "displayName": "monotosh kumar das chandan",
      "userId": "10884027464549225371"
     },
     "user_tz": -120
    },
    "id": "BdWcp-CtmpQg"
   },
   "outputs": [],
   "source": [
    "# model = pipeline.fit(df_arabic)\n",
    "\n",
    "light_pipeline_train = LightPipeline(pipeline.fit(spark_data_train))\n",
    "light_pipeline_dev = LightPipeline(pipeline.fit(spark_data_dev))\n",
    "light_pipeline_dev_test = LightPipeline(pipeline.fit(spark_data_dev_test))\n"
   ]
  },
  {
   "cell_type": "code",
   "execution_count": null,
   "metadata": {
    "executionInfo": {
     "elapsed": 477,
     "status": "ok",
     "timestamp": 1753903337621,
     "user": {
      "displayName": "monotosh kumar das chandan",
      "userId": "10884027464549225371"
     },
     "user_tz": -120
    },
    "id": "WY4D_S96nO5C"
   },
   "outputs": [],
   "source": [
    "result_train = light_pipeline_train.transform(spark_data_train)\n",
    "result_dev = light_pipeline_dev.transform(spark_data_dev)\n",
    "result_dev_test = light_pipeline_dev_test.transform(spark_data_dev_test)"
   ]
  },
  {
   "cell_type": "code",
   "execution_count": null,
   "metadata": {
    "executionInfo": {
     "elapsed": 8828,
     "status": "ok",
     "timestamp": 1753903382055,
     "user": {
      "displayName": "monotosh kumar das chandan",
      "userId": "10884027464549225371"
     },
     "user_tz": -120
    },
    "id": "cl38ao0cpXGY"
   },
   "outputs": [],
   "source": [
    "lemmatized_res_train = result_train.select(\"lemma.result\").collect()\n",
    "lemmatized_res_dev = result_dev.select(\"lemma.result\").collect()\n",
    "lemmatized_res_dev_test = result_dev_test.select(\"lemma.result\").collect()"
   ]
  },
  {
   "cell_type": "code",
   "execution_count": null,
   "metadata": {
    "executionInfo": {
     "elapsed": 9,
     "status": "ok",
     "timestamp": 1753903394272,
     "user": {
      "displayName": "monotosh kumar das chandan",
      "userId": "10884027464549225371"
     },
     "user_tz": -120
    },
    "id": "aLAunH4jwMOX"
   },
   "outputs": [],
   "source": [
    "lemmatized_texts_train = [ \" \".join(row['result']) for row in lemmatized_res_train ]\n",
    "lemmatized_texts_dev = [ \" \".join(row['result']) for row in lemmatized_res_dev ]\n",
    "lemmatized_texts_dev_test = [ \" \".join(row['result']) for row in lemmatized_res_dev_test ]"
   ]
  },
  {
   "cell_type": "code",
   "execution_count": null,
   "metadata": {
    "executionInfo": {
     "elapsed": 12,
     "status": "ok",
     "timestamp": 1753903414000,
     "user": {
      "displayName": "monotosh kumar das chandan",
      "userId": "10884027464549225371"
     },
     "user_tz": -120
    },
    "id": "x3AGLH2iwPkX"
   },
   "outputs": [],
   "source": [
    "df_arabic_train[\"text-tfidf\"] = lemmatized_texts_train\n",
    "df_arabic_dev[\"text-tfidf\"] = lemmatized_texts_dev\n",
    "df_arabic_dev_test[\"text-tfidf\"] = lemmatized_texts_dev_test"
   ]
  },
  {
   "cell_type": "code",
   "execution_count": null,
   "metadata": {
    "colab": {
     "base_uri": "https://localhost:8080/"
    },
    "executionInfo": {
     "elapsed": 25,
     "status": "ok",
     "timestamp": 1753903610320,
     "user": {
      "displayName": "monotosh kumar das chandan",
      "userId": "10884027464549225371"
     },
     "user_tz": -120
    },
    "id": "hrsjzz6Nwv86",
    "outputId": "b846850c-5ee5-4e37-c762-612589d8acf9"
   },
   "outputs": [],
   "source": [
    "df_arabic_dev_test.columns"
   ]
  },
  {
   "cell_type": "code",
   "execution_count": null,
   "metadata": {
    "executionInfo": {
     "elapsed": 242,
     "status": "ok",
     "timestamp": 1753904035312,
     "user": {
      "displayName": "monotosh kumar das chandan",
      "userId": "10884027464549225371"
     },
     "user_tz": -120
    },
    "id": "I0tBJo2Lz8Fl"
   },
   "outputs": [],
   "source": [
    "df_arabic_train.to_csv(\"/content/drive/MyDrive/Thesis/data/Arabic_Data/arabic_train_tfidf.csv\", index=False)\n",
    "df_arabic_dev.to_csv(\"/content/drive/MyDrive/Thesis/data/Arabic_Data/arabic_dev_tfidf.csv\", index=False)\n",
    "df_arabic_dev_test.to_csv(\"/content/drive/MyDrive/Thesis/data/Arabic_Data/arabic_dev_test_tfidf.csv\", index=False)"
   ]
  },
  {
   "cell_type": "code",
   "execution_count": null,
   "metadata": {
    "colab": {
     "base_uri": "https://localhost:8080/"
    },
    "executionInfo": {
     "elapsed": 17,
     "status": "ok",
     "timestamp": 1753903502098,
     "user": {
      "displayName": "monotosh kumar das chandan",
      "userId": "10884027464549225371"
     },
     "user_tz": -120
    },
    "id": "QvxsZlSBy0f2",
    "outputId": "451ab0db-e1e2-426a-c814-77b1946b32d5"
   },
   "outputs": [],
   "source": [
    "print(df_arabic_train.shape)\n",
    "print(df_arabic_dev.shape)\n",
    "print(df_arabic_dev_test.shape)"
   ]
  },
  {
   "cell_type": "code",
   "execution_count": null,
   "metadata": {
    "colab": {
     "base_uri": "https://localhost:8080/"
    },
    "executionInfo": {
     "elapsed": 18730,
     "status": "ok",
     "timestamp": 1753904967560,
     "user": {
      "displayName": "monotosh kumar das chandan",
      "userId": "10884027464549225371"
     },
     "user_tz": -120
    },
    "id": "zqZMTXmu2iVx",
    "outputId": "046704f0-cdec-433f-b8c3-f168b568f495"
   },
   "outputs": [],
   "source": [
    "!pip install -q -U transformers # datasets peft accelerate scipy einops evaluate trl rouge_score"
   ]
  },
  {
   "cell_type": "code",
   "execution_count": null,
   "metadata": {
    "colab": {
     "base_uri": "https://localhost:8080/"
    },
    "collapsed": true,
    "executionInfo": {
     "elapsed": 107393,
     "status": "ok",
     "timestamp": 1753905086312,
     "user": {
      "displayName": "monotosh kumar das chandan",
      "userId": "10884027464549225371"
     },
     "user_tz": -120
    },
    "id": "gjV4hRKT4cKG",
    "outputId": "5a8db4c5-e469-4c03-9da3-29e6ce7e455b"
   },
   "outputs": [],
   "source": [
    "!pip install torch"
   ]
  },
  {
   "cell_type": "code",
   "execution_count": null,
   "metadata": {
    "executionInfo": {
     "elapsed": 28217,
     "status": "ok",
     "timestamp": 1753947454735,
     "user": {
      "displayName": "monotosh kumar das chandan",
      "userId": "10884027464549225371"
     },
     "user_tz": -120
    },
    "id": "ZBYqmESbu_IZ"
   },
   "outputs": [],
   "source": [
    "from transformers import AutoTokenizer, AutoModel, AutoModelForSequenceClassification, Trainer, TrainingArguments\n",
    "import torch"
   ]
  },
  {
   "cell_type": "code",
   "execution_count": null,
   "metadata": {
    "colab": {
     "base_uri": "https://localhost:8080/",
     "height": 306,
     "referenced_widgets": [
      "ca8af3201c1741138ac700ef4f02b395",
      "03e7c490ff02443d95e645b1e15232b8",
      "d7ebc5e3445d429a9562162067df8937",
      "09fb7ba42950445086e14166064b0356",
      "55b99023084c4edda75df56c85d1532a",
      "7f3fb054340f4861924dbc20fbb42348",
      "d876b7cfb6574da4a7c352f059988c78",
      "530f573fcc234c23961c4183f5a8311b",
      "2c2c2d5f326b40c6acaaf29754da554d",
      "35312da5e8e5400099986551b07f9b76",
      "9dcda291e58442f4b15b1eced723e9e4",
      "e3db2a2379af41bb87e407c7e9e1e73f",
      "9f7cbcbe09d94ac3b3d2caee27412541",
      "f20a081fc4f7440e9279372d7807c4a7",
      "f95bad5644254ddd9a933147c1490332",
      "8860e3071a4c4f5c9c46169f9442afba",
      "982fb0b24d394e7d9d25b367cbb1c768",
      "a351c40409e04dfc94210c1d0294b5f8",
      "a5cdf9e3f3e7438b9b75ab87851a3f42",
      "1d0cf1e1e350467e82dd7febd3d2bc10",
      "3dfc6bb24e374e529a1adc21d88f4610",
      "e86ba6ef5c854cf7a28ce855d1ed4c71",
      "1c482008c20142fbb003df1dffac073c",
      "3fe6ff8500d4432a9934437fa30893d3",
      "32686fac90d44753bed63b669d396c4f",
      "ad1704fa5b1e44c3bcbc741b4432fe1b",
      "091867fb0ed84aab8329bbfc82dd1e9a",
      "189b3562997740118e26ec4969e00313",
      "2edda6d402494e71975a0e0fe12ff79e",
      "f649a57b37654df095f51a3b7a745642",
      "f6d9224c9c7546e3993b3abc1ad04055",
      "8452382aa0234ea7be858dff25fd3bbb",
      "f7d4dcfab8c946a1a2d9d9af12d9f2b0",
      "0ef19492c80d4d93ab2b4fa6f6202a52",
      "97d407b3e3c94fa5a2f5546a92544586",
      "739e9a86555e4354b8452519577fc7fc",
      "71bd018029834e759f5a43bd321dc736",
      "68fb54d9277040d090d79799e8c189ae",
      "da9b5ae48b9748c3a19005c9f28251e1",
      "e1fc41c7e9e04cf4b2a9ac8d19561d3e",
      "777f1726e5a149589a4928d4ca3109ff",
      "1a162d1da46148a789cc6d1a6e44a2b8",
      "6e9540f8ee20420ca7e781f25800f824",
      "c399aa0a6ba14142bce6756390779422",
      "106e95e58a964fba966faf209da67e73",
      "cfd058b79b954a0c876c9b2002bdffef",
      "911ddaf7882345f1aa884c00a7bb14db",
      "44d2cc439c0d4b0d9f525a8ff9c27146",
      "6c11798a6a4b4b18811e88f8151a1cb6",
      "534053c315a14b74bd408350f3fb57f6",
      "3bfdf517bb884e35974b683f595013bf",
      "1b74b45a1cd6461b823b1bdd87a47bee",
      "5e1df04b63dc45ec84564c6fc2290f01",
      "a0723cf4175f4d8dbfe6f59451bf5296",
      "b2b3aa6cada74e2298ff284b5f1e0bbd"
     ]
    },
    "executionInfo": {
     "elapsed": 22960,
     "status": "ok",
     "timestamp": 1753947555303,
     "user": {
      "displayName": "monotosh kumar das chandan",
      "userId": "10884027464549225371"
     },
     "user_tz": -120
    },
    "id": "VlkHuAvnzmis",
    "outputId": "396722e3-ebde-4d74-b10a-db3d578b20ac"
   },
   "outputs": [],
   "source": [
    "model_name = \"sentence-transformers/paraphrase-multilingual-MiniLM-L12-v2\"\n",
    "tokenizer = AutoTokenizer.from_pretrained(model_name)\n",
    "model = AutoModel.from_pretrained(model_name)"
   ]
  },
  {
   "cell_type": "code",
   "execution_count": null,
   "metadata": {
    "executionInfo": {
     "elapsed": 3,
     "status": "ok",
     "timestamp": 1753947558924,
     "user": {
      "displayName": "monotosh kumar das chandan",
      "userId": "10884027464549225371"
     },
     "user_tz": -120
    },
    "id": "qdfzIknX-YE0"
   },
   "outputs": [],
   "source": [
    "def get_embeddings(text):\n",
    "  # text = df_arabic_train[\"Text\"].iloc[0]\n",
    "  input = tokenizer(text, return_tensors=\"pt\", truncation=True, padding=True)\n",
    "  output = model(**input)\n",
    "  embeddings = output.last_hidden_state[:, 0, :].squeeze()\n",
    "  return embeddings.detach().numpy()"
   ]
  },
  {
   "cell_type": "code",
   "execution_count": null,
   "metadata": {
    "colab": {
     "base_uri": "https://localhost:8080/"
    },
    "executionInfo": {
     "elapsed": 152024,
     "status": "ok",
     "timestamp": 1753947713429,
     "user": {
      "displayName": "monotosh kumar das chandan",
      "userId": "10884027464549225371"
     },
     "user_tz": -120
    },
    "id": "0rYaHY5I-yxm",
    "outputId": "838e8a4a-184e-44e5-b9a8-78223a76d469"
   },
   "outputs": [],
   "source": [
    "df_arabic_train[\"embeddings\"] = df_arabic_train[\"joined_tokens\"].apply(get_embeddings)\n",
    "df_arabic_dev[\"embeddings\"] = df_arabic_dev[\"joined_tokens\"].apply(get_embeddings)\n",
    "df_arabic_dev_test[\"embeddings\"] = df_arabic_dev_test[\"joined_tokens\"].apply(get_embeddings)"
   ]
  },
  {
   "cell_type": "code",
   "execution_count": null,
   "metadata": {
    "colab": {
     "base_uri": "https://localhost:8080/"
    },
    "executionInfo": {
     "elapsed": 11,
     "status": "ok",
     "timestamp": 1753907941388,
     "user": {
      "displayName": "monotosh kumar das chandan",
      "userId": "10884027464549225371"
     },
     "user_tz": -120
    },
    "id": "nx9YS19W_88P",
    "outputId": "94efbbc4-def7-4f5b-b5c2-7099a66f8c7b"
   },
   "outputs": [],
   "source": [
    "print(df_arabic_train.info())\n",
    "print(df_arabic_dev.info())\n",
    "print(df_arabic_dev_test.info())"
   ]
  },
  {
   "cell_type": "code",
   "execution_count": null,
   "metadata": {
    "colab": {
     "base_uri": "https://localhost:8080/"
    },
    "executionInfo": {
     "elapsed": 24,
     "status": "ok",
     "timestamp": 1753947868024,
     "user": {
      "displayName": "monotosh kumar das chandan",
      "userId": "10884027464549225371"
     },
     "user_tz": -120
    },
    "id": "soZQ1JsKcEx1",
    "outputId": "55b797ad-061f-428f-8d75-6664122592b4"
   },
   "outputs": [],
   "source": [
    "df_arabic_train[\"embeddings\"].iloc[0]"
   ]
  },
  {
   "cell_type": "code",
   "execution_count": null,
   "metadata": {
    "executionInfo": {
     "elapsed": 6,
     "status": "ok",
     "timestamp": 1753907596582,
     "user": {
      "displayName": "monotosh kumar das chandan",
      "userId": "10884027464549225371"
     },
     "user_tz": -120
    },
    "id": "seukBJKQCDmv"
   },
   "outputs": [],
   "source": [
    "# def convert_to_numpy_array(embd_str):\n",
    "#     #print(f\"string: {embd_str}\")\n",
    "#     #print(type(embd_str))\n",
    "#     # embd_str_clean = embd_str.replace(\"\\n\", \" \").replace(\" \", \" \")\n",
    "#     #print(type(embd_str_clean))\n",
    "#     #print(f\"string cleansing: {embd_str_clean}\")\n",
    "#     # embd_str_clean = embd_str_clean.strip('[]')\n",
    "#     #print(type(embd_str_clean))\n",
    "#     #print(f\"removing the outer brackets {embd_str_clean}\")\n",
    "#     embd_list = embd_str.split()\n",
    "#     #print(f\"Split the string into individual values {embd_list}\")\n",
    "#     embed_array = np.array(embd_list, dtype = float)\n",
    "#     #print(f\"list to array {embed_array}\")\n",
    "#     return embed_array"
   ]
  },
  {
   "cell_type": "code",
   "execution_count": null,
   "metadata": {
    "executionInfo": {
     "elapsed": 42,
     "status": "ok",
     "timestamp": 1753910467648,
     "user": {
      "displayName": "monotosh kumar das chandan",
      "userId": "10884027464549225371"
     },
     "user_tz": -120
    },
    "id": "eVZGT4qYCFKt"
   },
   "outputs": [],
   "source": [
    "# df_arabic_train[\"converted_embeddings\"] = df_arabic_train[\"embeddings\"].apply(convert_to_numpy_array)\n",
    "\n",
    "# df_arabic_dev[\"converted_embeddings\"] = df_arabic_dev[\"embeddings\"].apply(convert_to_numpy_array)\n",
    "\n",
    "# df_arabic_dev_test[\"converted_embeddings\"] = df_arabic_dev_test[\"embeddings\"].apply(convert_to_numpy_array)"
   ]
  },
  {
   "cell_type": "code",
   "execution_count": null,
   "metadata": {
    "executionInfo": {
     "elapsed": 47,
     "status": "ok",
     "timestamp": 1753908006104,
     "user": {
      "displayName": "monotosh kumar das chandan",
      "userId": "10884027464549225371"
     },
     "user_tz": -120
    },
    "id": "U6IUrD4KBmxE"
   },
   "outputs": [],
   "source": [
    "import matplotlib.pyplot as plt\n",
    "import numpy as np"
   ]
  },
  {
   "cell_type": "code",
   "execution_count": null,
   "metadata": {
    "executionInfo": {
     "elapsed": 4,
     "status": "ok",
     "timestamp": 1753907276140,
     "user": {
      "displayName": "monotosh kumar das chandan",
      "userId": "10884027464549225371"
     },
     "user_tz": -120
    },
    "id": "NY9GkWQZ-zwe"
   },
   "outputs": [],
   "source": [
    "pca = PCA()"
   ]
  },
  {
   "cell_type": "code",
   "execution_count": null,
   "metadata": {
    "colab": {
     "base_uri": "https://localhost:8080/"
    },
    "executionInfo": {
     "elapsed": 52,
     "status": "ok",
     "timestamp": 1753907955900,
     "user": {
      "displayName": "monotosh kumar das chandan",
      "userId": "10884027464549225371"
     },
     "user_tz": -120
    },
    "id": "93OxiPs6Bvf5",
    "outputId": "02880cb6-d73b-46f4-fef0-99341d2937f1"
   },
   "outputs": [],
   "source": [
    "np.shape(df_arabic_train['embeddings'].iloc[0])"
   ]
  },
  {
   "cell_type": "code",
   "execution_count": null,
   "metadata": {
    "colab": {
     "base_uri": "https://localhost:8080/",
     "height": 80
    },
    "executionInfo": {
     "elapsed": 158,
     "status": "ok",
     "timestamp": 1753907962933,
     "user": {
      "displayName": "monotosh kumar das chandan",
      "userId": "10884027464549225371"
     },
     "user_tz": -120
    },
    "id": "aaMqBV_FBSiJ",
    "outputId": "ad482d8e-877d-4ae3-a045-b69320cb5c7c"
   },
   "outputs": [],
   "source": [
    "pca.fit(df_arabic_train['embeddings'].tolist())"
   ]
  },
  {
   "cell_type": "code",
   "execution_count": null,
   "metadata": {
    "colab": {
     "base_uri": "https://localhost:8080/",
     "height": 472
    },
    "executionInfo": {
     "elapsed": 451,
     "status": "ok",
     "timestamp": 1753908009027,
     "user": {
      "displayName": "monotosh kumar das chandan",
      "userId": "10884027464549225371"
     },
     "user_tz": -120
    },
    "id": "XFYmZ7xOBeEo",
    "outputId": "8bbf3e58-13fd-41d2-ac3f-9bb4cd28cabe"
   },
   "outputs": [],
   "source": [
    "plt.plot(np.cumsum(pca.explained_variance_ratio_))\n",
    "plt.xlabel('Number of Components')\n",
    "plt.ylabel('Cumulative Explained Variance')\n",
    "plt.title('Explained Variance vs. Number of Components')\n",
    "plt.show()"
   ]
  },
  {
   "cell_type": "code",
   "execution_count": null,
   "metadata": {
    "colab": {
     "base_uri": "https://localhost:8080/"
    },
    "collapsed": true,
    "executionInfo": {
     "elapsed": 14,
     "status": "ok",
     "timestamp": 1753908014365,
     "user": {
      "displayName": "monotosh kumar das chandan",
      "userId": "10884027464549225371"
     },
     "user_tz": -120
    },
    "id": "mVu6F1rZBhDL",
    "outputId": "d3a390de-c612-4427-b163-8315fe4708f5"
   },
   "outputs": [],
   "source": [
    "commulative_var = np.cumsum(pca.explained_variance_ratio_)\n",
    "commulative_var"
   ]
  },
  {
   "cell_type": "code",
   "execution_count": null,
   "metadata": {
    "colab": {
     "base_uri": "https://localhost:8080/"
    },
    "executionInfo": {
     "elapsed": 6,
     "status": "ok",
     "timestamp": 1753908018909,
     "user": {
      "displayName": "monotosh kumar das chandan",
      "userId": "10884027464549225371"
     },
     "user_tz": -120
    },
    "id": "vIEB7S58BhGn",
    "outputId": "031b7af5-6567-4000-d5f7-209f782ace6e"
   },
   "outputs": [],
   "source": [
    "threshold = 0.95\n",
    "val = np.where(commulative_var >= threshold)[0][0]+1\n",
    "val"
   ]
  },
  {
   "cell_type": "code",
   "execution_count": null,
   "metadata": {
    "executionInfo": {
     "elapsed": 6,
     "status": "ok",
     "timestamp": 1753908618882,
     "user": {
      "displayName": "monotosh kumar das chandan",
      "userId": "10884027464549225371"
     },
     "user_tz": -120
    },
    "id": "Vhajun3jGZYb"
   },
   "outputs": [],
   "source": [
    "import pickle"
   ]
  },
  {
   "cell_type": "code",
   "execution_count": null,
   "metadata": {
    "executionInfo": {
     "elapsed": 31,
     "status": "ok",
     "timestamp": 1753908755124,
     "user": {
      "displayName": "monotosh kumar das chandan",
      "userId": "10884027464549225371"
     },
     "user_tz": -120
    },
    "id": "tQhdSAUHEH3m"
   },
   "outputs": [],
   "source": [
    "pca = PCA(n_components = 109)\n",
    "with open('/content/drive/MyDrive/Thesis/data/Arabic_Data/pca_model_109_arab.pkl', 'wb') as f:\n",
    "    pickle.dump(pca, f)"
   ]
  },
  {
   "cell_type": "code",
   "execution_count": null,
   "metadata": {
    "executionInfo": {
     "elapsed": 17,
     "status": "ok",
     "timestamp": 1753908201817,
     "user": {
      "displayName": "monotosh kumar das chandan",
      "userId": "10884027464549225371"
     },
     "user_tz": -120
    },
    "id": "3VocRM2nExLU"
   },
   "outputs": [],
   "source": [
    "reduced_embeddings = pca.fit_transform(df_arabic_train['embeddings'].to_list())\n",
    "reduced_embeddings = np.array(reduced_embeddings, dtype = np.float32)"
   ]
  },
  {
   "cell_type": "code",
   "execution_count": null,
   "metadata": {
    "colab": {
     "base_uri": "https://localhost:8080/"
    },
    "executionInfo": {
     "elapsed": 29,
     "status": "ok",
     "timestamp": 1753908213342,
     "user": {
      "displayName": "monotosh kumar das chandan",
      "userId": "10884027464549225371"
     },
     "user_tz": -120
    },
    "id": "zps6FmCME0hd",
    "outputId": "0284de72-9e89-4612-d357-e10dac6eba19"
   },
   "outputs": [],
   "source": [
    "reduced_embeddings.shape"
   ]
  },
  {
   "cell_type": "code",
   "execution_count": null,
   "metadata": {
    "colab": {
     "base_uri": "https://localhost:8080/"
    },
    "executionInfo": {
     "elapsed": 595,
     "status": "ok",
     "timestamp": 1753909102659,
     "user": {
      "displayName": "monotosh kumar das chandan",
      "userId": "10884027464549225371"
     },
     "user_tz": -120
    },
    "id": "r-1rLupLIPsB",
    "outputId": "3345f8dd-4386-4e16-d55d-723f5474878c"
   },
   "outputs": [],
   "source": [
    "nltk.download('stopwords')\n",
    "nltk.download('punkt')"
   ]
  },
  {
   "cell_type": "code",
   "execution_count": null,
   "metadata": {
    "executionInfo": {
     "elapsed": 3,
     "status": "ok",
     "timestamp": 1753909161088,
     "user": {
      "displayName": "monotosh kumar das chandan",
      "userId": "10884027464549225371"
     },
     "user_tz": -120
    },
    "id": "C7Qu_Rr1E3VR"
   },
   "outputs": [],
   "source": [
    "\n",
    "stop_words_a = set(stopwords.words('arabic'))\n",
    "# stop_words_s = set(stopwords.words('spanish'))\n",
    "# stop_words_e = set(stopwords.words('english'))"
   ]
  },
  {
   "cell_type": "code",
   "execution_count": null,
   "metadata": {
    "executionInfo": {
     "elapsed": 87,
     "status": "ok",
     "timestamp": 1753909427624,
     "user": {
      "displayName": "monotosh kumar das chandan",
      "userId": "10884027464549225371"
     },
     "user_tz": -120
    },
    "id": "k6Mv1ggSIRIR"
   },
   "outputs": [],
   "source": [
    "text = df_arabic_train[\"text-tfidf\"]\n",
    "tfidf_vect = TfidfVectorizer()\n",
    "tfidf_features = tfidf_vect.fit_transform(text)"
   ]
  },
  {
   "cell_type": "code",
   "execution_count": null,
   "metadata": {
    "colab": {
     "base_uri": "https://localhost:8080/"
    },
    "executionInfo": {
     "elapsed": 8,
     "status": "ok",
     "timestamp": 1753909430081,
     "user": {
      "displayName": "monotosh kumar das chandan",
      "userId": "10884027464549225371"
     },
     "user_tz": -120
    },
    "id": "owDcuf5YI_dZ",
    "outputId": "7a8596a8-d548-4589-b1c9-e3da6fd2f320"
   },
   "outputs": [],
   "source": [
    "tfidf_features.shape"
   ]
  },
  {
   "cell_type": "code",
   "execution_count": null,
   "metadata": {
    "id": "JIzi6uU9J8Z4"
   },
   "outputs": [],
   "source": [
    "!pip install"
   ]
  },
  {
   "cell_type": "code",
   "execution_count": null,
   "metadata": {
    "executionInfo": {
     "elapsed": 17,
     "status": "ok",
     "timestamp": 1753909818579,
     "user": {
      "displayName": "monotosh kumar das chandan",
      "userId": "10884027464549225371"
     },
     "user_tz": -120
    },
    "id": "qkPP0hE1KzKv"
   },
   "outputs": [],
   "source": [
    "import sys\n",
    "sys.path.append('/content/drive/MyDrive/Thesis/')\n",
    "# import wcbtfidf"
   ]
  },
  {
   "cell_type": "code",
   "execution_count": null,
   "metadata": {
    "executionInfo": {
     "elapsed": 449,
     "status": "ok",
     "timestamp": 1753909820923,
     "user": {
      "displayName": "monotosh kumar das chandan",
      "userId": "10884027464549225371"
     },
     "user_tz": -120
    },
    "id": "PHCO7bUdJZW-"
   },
   "outputs": [],
   "source": [
    "from wcbtfidf import Wcbtfidf"
   ]
  },
  {
   "cell_type": "markdown",
   "metadata": {
    "id": "e_dMNJlXLF0R"
   },
   "source": [
    "## best tf-idf feature findings"
   ]
  },
  {
   "cell_type": "code",
   "execution_count": null,
   "metadata": {
    "executionInfo": {
     "elapsed": 17,
     "status": "ok",
     "timestamp": 1753910103344,
     "user": {
      "displayName": "monotosh kumar das chandan",
      "userId": "10884027464549225371"
     },
     "user_tz": -120
    },
    "id": "9PN0BTcZLSPU"
   },
   "outputs": [],
   "source": [
    "from sklearn.linear_model import LogisticRegression\n",
    "from sklearn.model_selection import cross_val_score"
   ]
  },
  {
   "cell_type": "code",
   "execution_count": null,
   "metadata": {
    "colab": {
     "base_uri": "https://localhost:8080/",
     "height": 458
    },
    "executionInfo": {
     "elapsed": 23,
     "status": "ok",
     "timestamp": 1753909999962,
     "user": {
      "displayName": "monotosh kumar das chandan",
      "userId": "10884027464549225371"
     },
     "user_tz": -120
    },
    "id": "-rlBojfbLnLc",
    "outputId": "215435f8-eed0-471c-d62f-4ce878a816b0"
   },
   "outputs": [],
   "source": [
    "# df_arabic_train['label']"
   ]
  },
  {
   "cell_type": "code",
   "execution_count": null,
   "metadata": {
    "colab": {
     "base_uri": "https://localhost:8080/"
    },
    "collapsed": true,
    "executionInfo": {
     "elapsed": 179473,
     "status": "ok",
     "timestamp": 1753910285698,
     "user": {
      "displayName": "monotosh kumar das chandan",
      "userId": "10884027464549225371"
     },
     "user_tz": -120
    },
    "id": "eThXfII-Jz9a",
    "outputId": "282fcd6c-a9dc-4737-bfb3-62f7da541bc5"
   },
   "outputs": [],
   "source": [
    "text_data = df_arabic_train['text-tfidf']\n",
    "labels = df_arabic_train['label']\n",
    "max_feature_range = [i for i in range(100, 6587, 100)]\n",
    "scores = {}\n",
    "for max_features in max_feature_range:\n",
    "    wcbtfidf = Wcbtfidf(max_features = max_features)\n",
    "    wcbtfidf_features = wcbtfidf.fit(text_data, labels)\n",
    "    wcbtfidf_features_transformed = wcbtfidf.transform(text_data)\n",
    "\n",
    "    m = LogisticRegression()\n",
    "    # m = RandomForestClassifier()\n",
    "    cv_score = cross_val_score(m, wcbtfidf_features_transformed, labels, cv = 5, scoring = 'accuracy').mean()\n",
    "\n",
    "    scores[max_features] = cv_score\n",
    "    print(f\"Max Features: {max_features}, CV Accuracy: {cv_score: .4f}\")\n",
    "\n",
    "best = max(scores, key = scores.get)\n",
    "#print(f\"Best Max Features: {best}, Accuracy: {scores[best]:.4f}\")\n",
    "# Max Features: 1500, CV Accuracy:  0.8108"
   ]
  },
  {
   "cell_type": "code",
   "execution_count": null,
   "metadata": {
    "id": "l5cm2v4QL11r"
   },
   "outputs": [],
   "source": [
    "sorted_items = sorted(scores.items())\n",
    "max_features_list = [item[0] for item in sorted_items]\n",
    "accuracy_list = [item[1] for item in sorted_items]\n",
    "print(max_features_list)\n",
    "print(accuracy_list)"
   ]
  },
  {
   "cell_type": "code",
   "execution_count": null,
   "metadata": {
    "id": "IzD353KRL4uR"
   },
   "outputs": [],
   "source": [
    "plt.figure(figsize=(10,6))\n",
    "plt.plot(max_features_list, accuracy_list, marker = 'o', linestyle='-', color='blue')\n",
    "\n",
    "# best_idx = accuracy_list.index(max(accuracy_list))\n",
    "# # print(best_idx)\n",
    "# best_x = max_features_list[best_idx]\n",
    "# best_y = accuracy_list[best_idx]\n",
    "# plt.scatter(best_x, best_y,color='red', label=f'Best: {best_y:.2f}')\n",
    "# plt.text(best_x, best_y + 0.005, f'Max: {best_y:.2f}', ha='center', fontsize=10)\n",
    "plt.title(\"TF-IDF max_features vs Classification Accuracy\")\n",
    "plt.xlabel(\"TF-IDF max_features\")\n",
    "plt.ylabel(\"Cross-Validated Accuracy\")\n",
    "plt.grid(True)\n",
    "plt.legend()\n",
    "plt.show()"
   ]
  },
  {
   "cell_type": "code",
   "execution_count": null,
   "metadata": {
    "executionInfo": {
     "elapsed": 4,
     "status": "ok",
     "timestamp": 1753910367522,
     "user": {
      "displayName": "monotosh kumar das chandan",
      "userId": "10884027464549225371"
     },
     "user_tz": -120
    },
    "id": "k-i9gFhxMrKN"
   },
   "outputs": [],
   "source": [
    "import joblib"
   ]
  },
  {
   "cell_type": "code",
   "execution_count": null,
   "metadata": {
    "colab": {
     "base_uri": "https://localhost:8080/"
    },
    "executionInfo": {
     "elapsed": 172,
     "status": "ok",
     "timestamp": 1753910369940,
     "user": {
      "displayName": "monotosh kumar das chandan",
      "userId": "10884027464549225371"
     },
     "user_tz": -120
    },
    "id": "hK7LZBJ1L5c3",
    "outputId": "28a3b409-e861-4fc1-9792-48e9e9aa753b"
   },
   "outputs": [],
   "source": [
    "best = 6587\n",
    "tfidf_vect = TfidfVectorizer(max_features = best) # 10000\n",
    "# joblib.dump(tfidf_vect, 'models/tfidf_vectorizer_10000.pkl')\n",
    "tfidf_features = tfidf_vect.fit(text_data)\n",
    "joblib.dump(tfidf_vect, '/content/drive/MyDrive/Thesis/data/Arabic_Data/tfidf_vectorizer_6587.pkl')"
   ]
  },
  {
   "cell_type": "code",
   "execution_count": null,
   "metadata": {
    "colab": {
     "base_uri": "https://localhost:8080/",
     "height": 177,
     "referenced_widgets": [
      "7d19801066774043a020dfe9699d8299",
      "ba64a34a3e6140e5ab2057427fe43659",
      "07ef82ae9d494526ba706a1620854a70",
      "084d611de43b4253b8ace998f0e0752a",
      "e6502631b9254cfdb2b0f9308f7b21ba",
      "0fcfd14279c048d4aba74c4a3744b999",
      "c1c12aa337e2405a8f3943cb46841e31",
      "4fd190d3511848049373caf488a3a8ea",
      "2545556436f74965a76462b18de626f3",
      "dcc80b3bf39746458d5b30e5a41fb468",
      "7fc32dfe05904d9ebbf6f62b556470f5",
      "45622f5e243c4a77ac67218f36c384c3",
      "5b8b184d64ba41d19d51daa3f7b1b87d",
      "725552f2c7bc46abb465fbd54cb3991f",
      "e377c3d540d54933b1100ef8a6a5eed4",
      "cc1433f016ba4a70baddec9529eb766a",
      "50ecc3d408ef4cca990d62392cfd8103",
      "9af5fc15750d44148e10b013253b4d5a",
      "29f4ee70446e42d98f474cddffa8d268",
      "be43cc219369484196a12a8b86ccd277",
      "2fc1166873bb43dba0a4241ac7f7adac",
      "5fafe5c014ae43b3ba8f6a482a0421f4",
      "f0e473a7c2bf45d5be8793781205c888",
      "3179b4cae9f74bbb8308b45d954c64dd",
      "912062ab2fdc4af9a3cc99cb38617294",
      "2f7efc67744d427ba1c589eb907c9151",
      "6eb9d3074d204bcb9a2dfb60d58ce8b8",
      "5f6f11f593f74aa7a53684e70e1aad50",
      "c98d23536ff140b5964579e9c0221553",
      "8db084db743e4d5887024dfd1b311c37",
      "e95776418d1248f8a5f75bbd67adc4d8",
      "11fec3eb038c4a899f82d8ea7d4a2313",
      "7fedcb0d5c1a404faf5d96e5ba57b981",
      "c982f3079e9947fa934f84ed3557f2ab",
      "28444d50850d4a89aac52b78ae4f4573",
      "9ead49d232ef4c41a517ed5931f3fc43",
      "65857156bc314a74b4b6d6e81878c06f",
      "129b399f5da84f96bdc989224beb6104",
      "1b1652927e5f40698bb766ce2e30156d",
      "163b43f519604921a1e3c799e4499eed",
      "1b9304aec67e4743b5480f3f7946503c",
      "a1763514671c4ab39270004479f8ba80",
      "b2bbea08f83647228069f4ab80eb10d5",
      "7c7e5c6afb8543babc32aecb3979166b",
      "e5bb2b76af3647128b9bbf8fc7efc278",
      "eef20537ba454bcea269d30d2c880c8b",
      "279791cd2e554056b5d8821bdf5302ec",
      "01c065d4284c445d821a67760d4cf179",
      "ec094e6a9c5e4e3fb3432820a42d06c7",
      "d3a8fcb70d6e44dca5dace01f7ab5ad9",
      "da3e1c0384934ecbbeb81258bd046361",
      "6b6c0bb7e54e45008e2ef97af96b307b",
      "304ea1bbf08e4a6e9fe33f85fbc5c757",
      "087bd7056adb4adc90cd168a9b40099e",
      "a6f20d9daa924a9cba68660961804338"
     ]
    },
    "executionInfo": {
     "elapsed": 4402,
     "status": "ok",
     "timestamp": 1753947969696,
     "user": {
      "displayName": "monotosh kumar das chandan",
      "userId": "10884027464549225371"
     },
     "user_tz": -120
    },
    "id": "Zwxv6oPkL5hm",
    "outputId": "9d7e71f8-6e9c-4637-e1c6-8af31f056a1c"
   },
   "outputs": [],
   "source": [
    "model_sentiment = \"CAMeL-Lab/bert-base-arabic-camelbert-mix-sentiment\"\n",
    "tokenizer_sent = AutoTokenizer.from_pretrained(model_sentiment)\n",
    "model_sent = AutoModelForSequenceClassification.from_pretrained(model_sentiment)"
   ]
  },
  {
   "cell_type": "code",
   "execution_count": null,
   "metadata": {
    "colab": {
     "base_uri": "https://localhost:8080/",
     "height": 1000
    },
    "collapsed": true,
    "executionInfo": {
     "elapsed": 190996,
     "status": "ok",
     "timestamp": 1753910780083,
     "user": {
      "displayName": "monotosh kumar das chandan",
      "userId": "10884027464549225371"
     },
     "user_tz": -120
    },
    "id": "3CUvlc21L5lG",
    "outputId": "151403af-5564-43e8-a2af-0f5c6d493ae2"
   },
   "outputs": [],
   "source": [
    "!pip install camel-tools"
   ]
  },
  {
   "cell_type": "code",
   "execution_count": null,
   "metadata": {
    "id": "GeaTVL8uN7Wr"
   },
   "outputs": [],
   "source": [
    "# from camel_tools.sentiment import SentimentAnalyzer\n",
    "# sa = SentimentAnalyzer(\"CAMeL-Lab/bert-base-arabic-camelbert-mix-sentiment\")"
   ]
  },
  {
   "cell_type": "code",
   "execution_count": null,
   "metadata": {
    "executionInfo": {
     "elapsed": 60,
     "status": "ok",
     "timestamp": 1753911069872,
     "user": {
      "displayName": "monotosh kumar das chandan",
      "userId": "10884027464549225371"
     },
     "user_tz": -120
    },
    "id": "E8hz_6K_OMIu"
   },
   "outputs": [],
   "source": []
  },
  {
   "cell_type": "code",
   "execution_count": null,
   "metadata": {
    "id": "m0ytNn_2OwEZ"
   },
   "outputs": [],
   "source": []
  },
  {
   "cell_type": "code",
   "execution_count": null,
   "metadata": {
    "colab": {
     "base_uri": "https://localhost:8080/",
     "height": 812
    },
    "executionInfo": {
     "elapsed": 106469,
     "status": "ok",
     "timestamp": 1753910996142,
     "user": {
      "displayName": "monotosh kumar das chandan",
      "userId": "10884027464549225371"
     },
     "user_tz": -120
    },
    "id": "61ccfed6",
    "outputId": "d5604c5a-b2a1-4c2c-fd23-468452c7db49"
   },
   "outputs": [],
   "source": [
    "!pip install --upgrade --no-deps transformers torch tokenizers huggingface-hub"
   ]
  },
  {
   "cell_type": "code",
   "execution_count": null,
   "metadata": {
    "executionInfo": {
     "elapsed": 218,
     "status": "ok",
     "timestamp": 1753947985796,
     "user": {
      "displayName": "monotosh kumar das chandan",
      "userId": "10884027464549225371"
     },
     "user_tz": -120
    },
    "id": "kWQpB-afPEvP"
   },
   "outputs": [],
   "source": [
    "from transformers import pipeline"
   ]
  },
  {
   "cell_type": "code",
   "execution_count": null,
   "metadata": {
    "colab": {
     "base_uri": "https://localhost:8080/"
    },
    "executionInfo": {
     "elapsed": 2180,
     "status": "ok",
     "timestamp": 1753948019458,
     "user": {
      "displayName": "monotosh kumar das chandan",
      "userId": "10884027464549225371"
     },
     "user_tz": -120
    },
    "id": "_ndknoZrS-X5",
    "outputId": "f22e97fa-8151-4b65-934a-610557ee23f6"
   },
   "outputs": [],
   "source": [
    "sa = pipeline('sentiment-analysis', model='CAMeL-Lab/bert-base-arabic-camelbert-mix-sentiment')"
   ]
  },
  {
   "cell_type": "code",
   "execution_count": null,
   "metadata": {
    "executionInfo": {
     "elapsed": 25,
     "status": "ok",
     "timestamp": 1753948058331,
     "user": {
      "displayName": "monotosh kumar das chandan",
      "userId": "10884027464549225371"
     },
     "user_tz": -120
    },
    "id": "Ges4bUXVctH2"
   },
   "outputs": [],
   "source": [
    "sentences = ['أنا بخير', 'أنا لست بخير']"
   ]
  },
  {
   "cell_type": "code",
   "execution_count": null,
   "metadata": {
    "colab": {
     "base_uri": "https://localhost:8080/"
    },
    "executionInfo": {
     "elapsed": 35,
     "status": "ok",
     "timestamp": 1753948168954,
     "user": {
      "displayName": "monotosh kumar das chandan",
      "userId": "10884027464549225371"
     },
     "user_tz": -120
    },
    "id": "xcnn8dM9c3JC",
    "outputId": "5c766d6f-d6c4-48b2-e5dd-e07815bf232d"
   },
   "outputs": [],
   "source": [
    "lst = sa(sentences)\n",
    "print(lst)"
   ]
  },
  {
   "cell_type": "code",
   "execution_count": null,
   "metadata": {
    "executionInfo": {
     "elapsed": 24,
     "status": "ok",
     "timestamp": 1753948378930,
     "user": {
      "displayName": "monotosh kumar das chandan",
      "userId": "10884027464549225371"
     },
     "user_tz": -120
    },
    "id": "QX0gmthvc4lG"
   },
   "outputs": [],
   "source": [
    "def arab_sent(text):\n",
    "  pos = 0\n",
    "  neg = 0\n",
    "  sent = sa(sentences)\n",
    "  for i in sent:\n",
    "    if i['label'] == \"positive\":\n",
    "      pos = i[\"score\"]\n",
    "    elif i['label'] == \"negative\":\n",
    "      neg = i[\"score\"]\n",
    "\n",
    "  return {\n",
    "      \"positive\": pos,\n",
    "      \"negative\": neg\n",
    "  }"
   ]
  },
  {
   "cell_type": "code",
   "execution_count": null,
   "metadata": {
    "colab": {
     "base_uri": "https://localhost:8080/"
    },
    "executionInfo": {
     "elapsed": 51034,
     "status": "ok",
     "timestamp": 1753948484404,
     "user": {
      "displayName": "monotosh kumar das chandan",
      "userId": "10884027464549225371"
     },
     "user_tz": -120
    },
    "id": "5TtRCx9AeFaN",
    "outputId": "29851e9b-a79e-464a-b5de-4cc0fbb3fdcf"
   },
   "outputs": [],
   "source": [
    "df_arabic_train[\"sentiment\"] = df_arabic_train[\"Text\"].apply(arab_sent)\n",
    "df_arabic_dev[\"sentiment\"] = df_arabic_dev[\"Text\"].apply(arab_sent)\n",
    "df_arabic_dev_test[\"sentiment\"] = df_arabic_dev_test[\"Text\"].apply(arab_sent)"
   ]
  },
  {
   "cell_type": "code",
   "execution_count": null,
   "metadata": {
    "colab": {
     "base_uri": "https://localhost:8080/",
     "height": 521
    },
    "executionInfo": {
     "elapsed": 46,
     "status": "ok",
     "timestamp": 1753948547737,
     "user": {
      "displayName": "monotosh kumar das chandan",
      "userId": "10884027464549225371"
     },
     "user_tz": -120
    },
    "id": "5WJ8fwtVegP6",
    "outputId": "09ce3bc9-935a-4825-89ce-111c999c9890"
   },
   "outputs": [],
   "source": [
    "df_arabic_train.head()"
   ]
  },
  {
   "cell_type": "code",
   "execution_count": null,
   "metadata": {
    "executionInfo": {
     "elapsed": 24,
     "status": "ok",
     "timestamp": 1753948530501,
     "user": {
      "displayName": "monotosh kumar das chandan",
      "userId": "10884027464549225371"
     },
     "user_tz": -120
    },
    "id": "46jj-TYaeStB"
   },
   "outputs": [],
   "source": [
    "df_arabic_train[\"sent_pos\"] = df_arabic_train[\"sentiment\"].apply(lambda x: x[\"positive\"])\n",
    "df_arabic_train[\"sent_neg\"] = df_arabic_train[\"sentiment\"].apply(lambda x: x[\"negative\"])\n",
    "\n",
    "df_arabic_dev[\"sent_pos\"] = df_arabic_dev[\"sentiment\"].apply(lambda x: x[\"positive\"])\n",
    "df_arabic_dev[\"sent_neg\"] = df_arabic_dev[\"sentiment\"].apply(lambda x: x[\"negative\"])\n",
    "\n",
    "df_arabic_dev_test[\"sent_pos\"] = df_arabic_dev_test[\"sentiment\"].apply(lambda x: x[\"positive\"])\n",
    "df_arabic_dev_test[\"sent_neg\"] = df_arabic_dev_test[\"sentiment\"].apply(lambda x: x[\"negative\"])"
   ]
  },
  {
   "cell_type": "code",
   "execution_count": null,
   "metadata": {
    "colab": {
     "base_uri": "https://localhost:8080/"
    },
    "executionInfo": {
     "elapsed": 33,
     "status": "ok",
     "timestamp": 1753948539606,
     "user": {
      "displayName": "monotosh kumar das chandan",
      "userId": "10884027464549225371"
     },
     "user_tz": -120
    },
    "id": "lws7UEwCeqal",
    "outputId": "c55e5971-d0fd-4947-c7ef-33e56f115eca"
   },
   "outputs": [],
   "source": [
    "df_arabic_train.columns"
   ]
  },
  {
   "cell_type": "code",
   "execution_count": null,
   "metadata": {
    "executionInfo": {
     "elapsed": 6370,
     "status": "ok",
     "timestamp": 1753949080579,
     "user": {
      "displayName": "monotosh kumar das chandan",
      "userId": "10884027464549225371"
     },
     "user_tz": -120
    },
    "id": "MTcdC-s8gl1o"
   },
   "outputs": [],
   "source": [
    "df_arabic_train.to_csv(\"/content/drive/MyDrive/Thesis/data/Arabic_Data/arabic_train_final.csv\", index=False)\n",
    "df_arabic_dev.to_csv(\"/content/drive/MyDrive/Thesis/data/Arabic_Data/arabic_dev_final.csv\", index=False)\n",
    "df_arabic_dev_test.to_csv(\"/content/drive/MyDrive/Thesis/data/Arabic_Data/arabic_dev_test_final.csv\", index=False)"
   ]
  },
  {
   "cell_type": "markdown",
   "metadata": {
    "id": "5rZuUd0leyHR"
   },
   "source": [
    "# HP Tuning"
   ]
  },
  {
   "cell_type": "code",
   "execution_count": null,
   "metadata": {
    "executionInfo": {
     "elapsed": 23,
     "status": "ok",
     "timestamp": 1753948667084,
     "user": {
      "displayName": "monotosh kumar das chandan",
      "userId": "10884027464549225371"
     },
     "user_tz": -120
    },
    "id": "YONnCsrResok"
   },
   "outputs": [],
   "source": [
    "from sklearn.metrics import f1_score\n",
    "from sklearn.metrics import accuracy_score\n",
    "from sklearn.metrics import recall_score\n",
    "from sklearn.metrics import precision_score\n",
    "from scipy.stats import randint, uniform\n",
    "\n",
    "from sklearn.linear_model import LogisticRegression\n",
    "from sklearn.model_selection import cross_val_score, train_test_split # fnding max_features\n",
    "# from sklearn.ensemble import\n",
    "from sklearn.decomposition import PCA\n",
    "from sklearn.metrics import classification_report\n",
    "# import joblib\n",
    "import os\n",
    "\n",
    "# hyperparameter tuning\n",
    " # to look availiable hyperparameters\n",
    "from pprint import pprint\n",
    "from sklearn.model_selection import RandomizedSearchCV #\n",
    "\n",
    "from hyperopt import fmin, tpe, hp\n",
    "\n",
    "import scipy.stats as stats\n",
    "import xgboost as xgb\n",
    "\n",
    "from sklearn.model_selection import GridSearchCV\n",
    "\n",
    "import spacy\n",
    "import ast\n",
    "\n",
    "# models for hp tuning\n",
    "from sklearn.ensemble import  RandomForestClassifier # hp tunned\n",
    "from sklearn.tree import DecisionTreeClassifier # hp tuned\n",
    "from sklearn.linear_model import LogisticRegression\n",
    "from xgboost import XGBClassifier # hp tunned\n",
    "from sklearn.neighbors import KNeighborsClassifier #hp tuned\n",
    "from sklearn.ensemble import AdaBoostClassifier\n",
    "from sklearn.ensemble import GradientBoostingClassifier\n",
    "from lightgbm import LGBMClassifier\n",
    "from sklearn.svm import SVC\n",
    "\n",
    "## tuning parameters for sampling techniques\n",
    "## under sampling\n",
    "from imblearn.under_sampling import  RandomUnderSampler, EditedNearestNeighbours, CondensedNearestNeighbour, TomekLinks, ClusterCentroids, RepeatedEditedNearestNeighbours, NearMiss, NeighbourhoodCleaningRule, OneSidedSelection, AllKNN, InstanceHardnessThreshold\n",
    "\n",
    "## over sampling\n",
    "from imblearn.over_sampling import SMOTE, ADASYN, BorderlineSMOTE, SVMSMOTE, KMeansSMOTE, RandomOverSampler, SMOTENC\n",
    "\n",
    "## over and under sampling\n",
    "from imblearn.combine import SMOTEENN, SMOTETomek\n",
    "\n",
    "\n",
    "from imblearn.pipeline import Pipeline\n",
    "\n",
    "# from skopt import BayesSearchCV\n",
    "# from skopt.space import Real, Categorical, Integer\n"
   ]
  },
  {
   "cell_type": "code",
   "execution_count": null,
   "metadata": {
    "executionInfo": {
     "elapsed": 24,
     "status": "ok",
     "timestamp": 1753948993393,
     "user": {
      "displayName": "monotosh kumar das chandan",
      "userId": "10884027464549225371"
     },
     "user_tz": -120
    },
    "id": "1k2gGSBJfjxf"
   },
   "outputs": [],
   "source": [
    "import numpy as np\n",
    "import joblib"
   ]
  },
  {
   "cell_type": "code",
   "execution_count": null,
   "metadata": {
    "executionInfo": {
     "elapsed": 1052,
     "status": "ok",
     "timestamp": 1753948996754,
     "user": {
      "displayName": "monotosh kumar das chandan",
      "userId": "10884027464549225371"
     },
     "user_tz": -120
    },
    "id": "7t5tRhNtgNvM"
   },
   "outputs": [],
   "source": [
    "pca_path = '/content/drive/MyDrive/Thesis/data/Arabic_Data/pca_model_109_arab.pkl'\n",
    "pca = joblib.load(pca_path)\n",
    "\n",
    "# tf idf\n",
    "vectorizer_path = '/content/drive/MyDrive/Thesis/data/Arabic_Data/tfidf_vectorizer_6587.pkl'\n",
    "# tfidf_vect = TfidfVectorizer(lowercase = True, analyzer='word', stop_words = 'english', ngram_range=(1, 2))\n",
    "tfidf_vect = joblib.load(vectorizer_path)"
   ]
  },
  {
   "cell_type": "code",
   "execution_count": null,
   "metadata": {
    "executionInfo": {
     "elapsed": 55,
     "status": "ok",
     "timestamp": 1753949189789,
     "user": {
      "displayName": "monotosh kumar das chandan",
      "userId": "10884027464549225371"
     },
     "user_tz": -120
    },
    "id": "PUxdwgl3gdeS"
   },
   "outputs": [],
   "source": [
    "train_text = df_arabic_train[\"text-tfidf\"]\n",
    "train_text_tfidf_fet = tfidf_vect.transform(train_text)\n",
    "\n",
    "dev_text = df_arabic_dev[\"text-tfidf\"]\n",
    "dev_text_tfidf_fet = tfidf_vect.transform(dev_text)\n",
    "\n",
    "dev_test_text = df_arabic_dev_test[\"text-tfidf\"]\n",
    "dev_test_text_tfidf_fet = tfidf_vect.transform(dev_test_text)"
   ]
  },
  {
   "cell_type": "code",
   "execution_count": null,
   "metadata": {
    "colab": {
     "base_uri": "https://localhost:8080/"
    },
    "executionInfo": {
     "elapsed": 15,
     "status": "ok",
     "timestamp": 1753949213089,
     "user": {
      "displayName": "monotosh kumar das chandan",
      "userId": "10884027464549225371"
     },
     "user_tz": -120
    },
    "id": "so1_bHAogdzO",
    "outputId": "0da80fc0-fe44-4ff6-ed61-5ccef824b14b"
   },
   "outputs": [],
   "source": [
    "train_text_tfidf_fet.shape\n"
   ]
  },
  {
   "cell_type": "code",
   "execution_count": null,
   "metadata": {
    "colab": {
     "base_uri": "https://localhost:8080/"
    },
    "executionInfo": {
     "elapsed": 31,
     "status": "ok",
     "timestamp": 1753949278533,
     "user": {
      "displayName": "monotosh kumar das chandan",
      "userId": "10884027464549225371"
     },
     "user_tz": -120
    },
    "id": "dS9QJ4xShc4G",
    "outputId": "1838bc8b-64cf-4955-e117-c40ad4ca30f1"
   },
   "outputs": [],
   "source": [
    "df_arabic_train.columns"
   ]
  },
  {
   "cell_type": "code",
   "execution_count": null,
   "metadata": {
    "executionInfo": {
     "elapsed": 6,
     "status": "ok",
     "timestamp": 1753950167403,
     "user": {
      "displayName": "monotosh kumar das chandan",
      "userId": "10884027464549225371"
     },
     "user_tz": -120
    },
    "id": "3XjPVJC0gd38"
   },
   "outputs": [],
   "source": [
    "train_additional_features = df_arabic_train[['Text_Length', 'sent_neg',\n",
    "                            'sent_pos', 'names', 'organizations', 'dates',\n",
    "                            'count_tokens', 'cleaned_text_length']].to_numpy()\n",
    "\n",
    "dev_additional_features = df_arabic_dev[['Text_Length', 'sent_neg',\n",
    "                            'sent_pos', 'names', 'organizations', 'dates',\n",
    "                            'count_tokens', 'cleaned_text_length']].to_numpy()\n",
    "\n",
    "test_additional_features = df_arabic_dev_test[['Text_Length', 'sent_neg',\n",
    "                            'sent_pos', 'names', 'organizations', 'dates',\n",
    "                            'count_tokens', 'cleaned_text_length']].to_numpy()"
   ]
  },
  {
   "cell_type": "code",
   "execution_count": null,
   "metadata": {
    "executionInfo": {
     "elapsed": 43,
     "status": "ok",
     "timestamp": 1753950168149,
     "user": {
      "displayName": "monotosh kumar das chandan",
      "userId": "10884027464549225371"
     },
     "user_tz": -120
    },
    "id": "SPbw2siIiilX"
   },
   "outputs": [],
   "source": [
    "pca = PCA(n_components=109)"
   ]
  },
  {
   "cell_type": "code",
   "execution_count": null,
   "metadata": {
    "executionInfo": {
     "elapsed": 2077,
     "status": "ok",
     "timestamp": 1753950170770,
     "user": {
      "displayName": "monotosh kumar das chandan",
      "userId": "10884027464549225371"
     },
     "user_tz": -120
    },
    "id": "Psauu6OTgd9B"
   },
   "outputs": [],
   "source": [
    "train_reduced_embeddings = pca.fit_transform(df_arabic_train['embeddings'].to_list())\n",
    "dev_reduced_embeddings = pca.fit_transform(df_arabic_dev['embeddings'].to_list())\n",
    "test_reduced_embeddings = pca.fit_transform(df_arabic_dev_test['embeddings'].to_list())"
   ]
  },
  {
   "cell_type": "code",
   "execution_count": null,
   "metadata": {
    "colab": {
     "base_uri": "https://localhost:8080/"
    },
    "executionInfo": {
     "elapsed": 55,
     "status": "ok",
     "timestamp": 1753950172580,
     "user": {
      "displayName": "monotosh kumar das chandan",
      "userId": "10884027464549225371"
     },
     "user_tz": -120
    },
    "id": "8GPRbMp8geCo",
    "outputId": "c5668c77-febf-42df-88ba-4d5022bbafff"
   },
   "outputs": [],
   "source": [
    "train_reduced_embeddings.shape"
   ]
  },
  {
   "cell_type": "code",
   "execution_count": null,
   "metadata": {
    "executionInfo": {
     "elapsed": 45,
     "status": "ok",
     "timestamp": 1753950175120,
     "user": {
      "displayName": "monotosh kumar das chandan",
      "userId": "10884027464549225371"
     },
     "user_tz": -120
    },
    "id": "flN9YOCCgeIe"
   },
   "outputs": [],
   "source": [
    "dev_embeddings_np = np.array(dev_reduced_embeddings)\n",
    "dev_tfidf_features_np = dev_text_tfidf_fet.toarray()\n",
    "dev_additional_features_np = np.array(dev_additional_features)\n",
    "\n",
    "test_embeddings_np = np.array(test_reduced_embeddings)\n",
    "test_tfidf_features_np = dev_test_text_tfidf_fet.toarray()\n",
    "test_additional_features_np = np.array(test_additional_features)\n",
    "\n",
    "train_embeddings_np = np.array(train_reduced_embeddings)\n",
    "train_tfidf_features_np = train_text_tfidf_fet.toarray()\n",
    "train_additional_features_np = np.array(train_additional_features)"
   ]
  },
  {
   "cell_type": "code",
   "execution_count": null,
   "metadata": {
    "executionInfo": {
     "elapsed": 57,
     "status": "ok",
     "timestamp": 1753950177335,
     "user": {
      "displayName": "monotosh kumar das chandan",
      "userId": "10884027464549225371"
     },
     "user_tz": -120
    },
    "id": "DJQhKy0-geOe"
   },
   "outputs": [],
   "source": [
    "X_train = np.hstack([train_tfidf_features_np,train_embeddings_np, train_additional_features_np])\n",
    "y_train = df_arabic_train['label']\n",
    "\n"
   ]
  },
  {
   "cell_type": "code",
   "execution_count": null,
   "metadata": {
    "executionInfo": {
     "elapsed": 42,
     "status": "ok",
     "timestamp": 1753950177709,
     "user": {
      "displayName": "monotosh kumar das chandan",
      "userId": "10884027464549225371"
     },
     "user_tz": -120
    },
    "id": "6Ly4_syGgeUy"
   },
   "outputs": [],
   "source": [
    "X_dev = np.hstack([dev_tfidf_features_np, dev_embeddings_np, dev_additional_features_np])\n",
    "y_dev = df_arabic_dev['label']"
   ]
  },
  {
   "cell_type": "code",
   "execution_count": null,
   "metadata": {
    "colab": {
     "base_uri": "https://localhost:8080/"
    },
    "executionInfo": {
     "elapsed": 47,
     "status": "ok",
     "timestamp": 1753950186865,
     "user": {
      "displayName": "monotosh kumar das chandan",
      "userId": "10884027464549225371"
     },
     "user_tz": -120
    },
    "id": "TNxZmRtdklaU",
    "outputId": "e8d0a1de-6d19-45d0-dc07-00f900b5f084"
   },
   "outputs": [],
   "source": [
    "print(test_tfidf_features_np.shape)\n",
    "print(test_embeddings_np.shape)\n",
    "print(test_additional_features_np.shape)"
   ]
  },
  {
   "cell_type": "code",
   "execution_count": null,
   "metadata": {
    "executionInfo": {
     "elapsed": 68,
     "status": "ok",
     "timestamp": 1753950183830,
     "user": {
      "displayName": "monotosh kumar das chandan",
      "userId": "10884027464549225371"
     },
     "user_tz": -120
    },
    "id": "3bQl0AJ9gecA"
   },
   "outputs": [],
   "source": [
    "X_test = np.hstack([test_tfidf_features_np, test_embeddings_np, test_additional_features_np])\n",
    "y_test = df_arabic_dev_test['label']"
   ]
  },
  {
   "cell_type": "markdown",
   "metadata": {
    "id": "Fktc3nV8owBR"
   },
   "source": [
    "# XGB"
   ]
  },
  {
   "cell_type": "code",
   "execution_count": null,
   "metadata": {
    "colab": {
     "base_uri": "https://localhost:8080/"
    },
    "executionInfo": {
     "elapsed": 59,
     "status": "ok",
     "timestamp": 1753952191568,
     "user": {
      "displayName": "monotosh kumar das chandan",
      "userId": "10884027464549225371"
     },
     "user_tz": -120
    },
    "id": "rIkdGtldfFQ5",
    "outputId": "1ac6a75f-856a-43a6-8e8f-ce7ec739d5fc"
   },
   "outputs": [],
   "source": [
    "xgb_model = XGBClassifier()\n",
    "pprint(xgb_model.get_params)"
   ]
  },
  {
   "cell_type": "code",
   "execution_count": null,
   "metadata": {
    "colab": {
     "base_uri": "https://localhost:8080/"
    },
    "executionInfo": {
     "elapsed": 41,
     "status": "ok",
     "timestamp": 1753952196481,
     "user": {
      "displayName": "monotosh kumar das chandan",
      "userId": "10884027464549225371"
     },
     "user_tz": -120
    },
    "id": "cS4asl3lfYPF",
    "outputId": "24d31203-20b7-4c97-c796-63ec048d570b"
   },
   "outputs": [],
   "source": [
    "xgb_param_dist = {\n",
    "  'n_estimators': [int(x) for x in np.linspace(start = 200, stop = 2000, num = 15)],  # Number of boosting rounds\n",
    "    'max_depth': [int(x) for x in np.linspace(10, 110, num = 11)],  # Depth of trees\n",
    "    'learning_rate': [0.01, 0.05, 0.1, 0.2],  # Step size shrinkage\n",
    "    'subsample': [0.6, 0.8, 1.0],  # Fraction of samples used per tree\n",
    "    'colsample_bytree': [0.6, 0.8, 1.0],  # Fraction of features used per tree\n",
    "    'gamma': [0, 0.1, 0.2, 0.5, 1.0],  # Minimum loss reduction to split a node\n",
    "    'min_child_weight': [1, 3, 5, 7],  # Minimum sum of weights in a leaf\n",
    "    'reg_alpha': [0, 0.01, 0.1, 1, 10],  # L1 regularization (Lasso)\n",
    "    'reg_lambda': [0, 0.01, 0.1, 1, 10],  # L2 regularization (Ridge)\n",
    "    'scale_pos_weight': [1, 2, 5, 10, 20],  # Balance positive class in imbalanced data\n",
    "    'objective': ['binary:logistic'],  # Binary classification\n",
    "    'eval_metric': ['logloss', 'auc', 'error']  # Evaluation metrics\n",
    "}\n",
    "\n",
    "\n",
    "pprint(xgb_param_dist)"
   ]
  },
  {
   "cell_type": "code",
   "execution_count": null,
   "metadata": {
    "colab": {
     "base_uri": "https://localhost:8080/",
     "height": 183
    },
    "executionInfo": {
     "elapsed": 5153217,
     "status": "ok",
     "timestamp": 1753957352910,
     "user": {
      "displayName": "monotosh kumar das chandan",
      "userId": "10884027464549225371"
     },
     "user_tz": -120
    },
    "id": "tjBpxMeefgKx",
    "outputId": "d2150189-332e-403f-fb4c-6d69e60af15a"
   },
   "outputs": [],
   "source": [
    "xgb_random = RandomizedSearchCV(xgb_model, xgb_param_dist, n_iter = 50, cv=5, scoring='f1', verbose=2, random_state=42, n_jobs = -1)\n",
    "xgb_random.fit(X_dev, y_dev)"
   ]
  },
  {
   "cell_type": "code",
   "execution_count": null,
   "metadata": {
    "colab": {
     "base_uri": "https://localhost:8080/"
    },
    "executionInfo": {
     "elapsed": 40,
     "status": "ok",
     "timestamp": 1753957362507,
     "user": {
      "displayName": "monotosh kumar das chandan",
      "userId": "10884027464549225371"
     },
     "user_tz": -120
    },
    "id": "TDhCmlFNlLxn",
    "outputId": "b277980d-dc34-4cb2-c379-2efe24433986"
   },
   "outputs": [],
   "source": [
    "pprint(xgb_random.best_params_)"
   ]
  },
  {
   "cell_type": "markdown",
   "metadata": {
    "id": "iXD6bBNLlMw7"
   },
   "source": [
    "# RFC HPT"
   ]
  },
  {
   "cell_type": "code",
   "execution_count": null,
   "metadata": {
    "executionInfo": {
     "elapsed": 55,
     "status": "ok",
     "timestamp": 1753957372142,
     "user": {
      "displayName": "monotosh kumar das chandan",
      "userId": "10884027464549225371"
     },
     "user_tz": -120
    },
    "id": "NEXjiHT9lQw0"
   },
   "outputs": [],
   "source": [
    "rf = RandomForestClassifier(random_state = 42)"
   ]
  },
  {
   "cell_type": "code",
   "execution_count": null,
   "metadata": {
    "colab": {
     "base_uri": "https://localhost:8080/"
    },
    "executionInfo": {
     "elapsed": 78,
     "status": "ok",
     "timestamp": 1753957373816,
     "user": {
      "displayName": "monotosh kumar das chandan",
      "userId": "10884027464549225371"
     },
     "user_tz": -120
    },
    "id": "njFwVvuQlUnw",
    "outputId": "15984d27-6651-4833-fea0-4bd47dec0610"
   },
   "outputs": [],
   "source": [
    "print(\"Parameters are currently in used:\\n\")\n",
    "pprint(rf.get_params())"
   ]
  },
  {
   "cell_type": "code",
   "execution_count": null,
   "metadata": {
    "colab": {
     "base_uri": "https://localhost:8080/"
    },
    "executionInfo": {
     "elapsed": 84,
     "status": "ok",
     "timestamp": 1753957377373,
     "user": {
      "displayName": "monotosh kumar das chandan",
      "userId": "10884027464549225371"
     },
     "user_tz": -120
    },
    "id": "pvoYmG3HlUrJ",
    "outputId": "e294e9ac-d998-4bf4-bce7-0314117e895a"
   },
   "outputs": [],
   "source": [
    "rfc_param_dist = {\n",
    "    'n_estimators': [int(x) for x in np.linspace(start=100, stop=2000, num=10)],  # Trees\n",
    "    'max_features': ['sqrt', 'log2'],  # Features per split\n",
    "    'max_depth': [int(x) for x in np.linspace(10, 110, num=11)] + [None],  # Depth\n",
    "    'min_samples_split': [2, 5, 10],  # Min samples for split\n",
    "    'min_samples_leaf': [1, 2, 4],  # Min samples per leaf\n",
    "    'bootstrap': [True, False],  # Bootstrap sampling\n",
    "    'class_weight': [None, 'balanced'],  # Handle imbalance\n",
    "    'criterion': ['gini', 'entropy'],  # Splitting strategy\n",
    "    'ccp_alpha': [0.0, 0.01, 0.1],  # Post-pruning\n",
    "    'min_impurity_decrease': [0.0, 0.01, 0.1]  # Stop unhelpful splits\n",
    "}\n",
    "\n",
    "pprint(rfc_param_dist)"
   ]
  },
  {
   "cell_type": "code",
   "execution_count": null,
   "metadata": {
    "colab": {
     "base_uri": "https://localhost:8080/",
     "height": 183
    },
    "executionInfo": {
     "elapsed": 789974,
     "status": "ok",
     "timestamp": 1753958188120,
     "user": {
      "displayName": "monotosh kumar das chandan",
      "userId": "10884027464549225371"
     },
     "user_tz": -120
    },
    "id": "Rd-BftMwlUuW",
    "outputId": "1971a808-da8a-487b-dd85-831b1e428792"
   },
   "outputs": [],
   "source": [
    "# Use the random grid to search for best hyperparameters\n",
    "# First create the base model to tune\n",
    "rf = RandomForestClassifier()\n",
    "# Random search of parameters, using 3 fold cross validation,\n",
    "# search across 100 different combinations, and use all available cores\n",
    "rf_random = RandomizedSearchCV(estimator = rf, param_distributions = rfc_param_dist, n_iter = 50, cv = 5, verbose=2, random_state=42, n_jobs = -1, scoring = 'f1')\n",
    "# Fit the random search model\n",
    "rf_random.fit(X_dev, y_dev)"
   ]
  },
  {
   "cell_type": "code",
   "execution_count": null,
   "metadata": {
    "id": "xpVPRVtUBNv7"
   },
   "outputs": [],
   "source": []
  },
  {
   "cell_type": "code",
   "execution_count": null,
   "metadata": {
    "colab": {
     "base_uri": "https://localhost:8080/"
    },
    "executionInfo": {
     "elapsed": 66,
     "status": "ok",
     "timestamp": 1753958195315,
     "user": {
      "displayName": "monotosh kumar das chandan",
      "userId": "10884027464549225371"
     },
     "user_tz": -120
    },
    "id": "YUiZh20_lUxP",
    "outputId": "193c01cb-ea80-44c1-d204-f21e6451dea7"
   },
   "outputs": [],
   "source": [
    "pprint(rf_random.best_params_)"
   ]
  },
  {
   "cell_type": "markdown",
   "metadata": {
    "id": "pgrRB1ZKldlM"
   },
   "source": [
    "# LG Reg. HPT"
   ]
  },
  {
   "cell_type": "code",
   "execution_count": null,
   "metadata": {
    "executionInfo": {
     "elapsed": 35,
     "status": "ok",
     "timestamp": 1753958202005,
     "user": {
      "displayName": "monotosh kumar das chandan",
      "userId": "10884027464549225371"
     },
     "user_tz": -120
    },
    "id": "43fbUcoalU0b"
   },
   "outputs": [],
   "source": [
    "lr = LogisticRegression(random_state=42)"
   ]
  },
  {
   "cell_type": "code",
   "execution_count": null,
   "metadata": {
    "executionInfo": {
     "elapsed": 37,
     "status": "ok",
     "timestamp": 1753958203799,
     "user": {
      "displayName": "monotosh kumar das chandan",
      "userId": "10884027464549225371"
     },
     "user_tz": -120
    },
    "id": "0GLBOEUilU3i"
   },
   "outputs": [],
   "source": [
    "lr_param_dist = {\n",
    "  #  'penalty':['l1', 'l2', 'elasticnet', None] ,\n",
    "  #  'dual':[True, False],\n",
    "  #  'tol':[1e-4, 1e-3],\n",
    "  #  'C':[0.01, 0.001,1,10,100],\n",
    "  #  'fit_intercept':[True, False],\n",
    "  #  'intercept_scaling':[1,2,3],\n",
    "  #  'class_weight':['balanced', None],\n",
    "  #  'solver':['newton-cg', 'lbfgs', 'liblinear', 'sag', 'saga'],\n",
    "  #  'max_iter':[100,200,300,400,500],\n",
    "  #  'multi_class':['auto', 'ovr', 'multinomial'],\n",
    "  'penalty': ['l1', 'l2', 'elasticnet'],\n",
    "  'tol': [1e-4, 1e-3],\n",
    "  'C': [0.01, 0.001, 1, 10, 100],\n",
    "  'fit_intercept': [True, False],\n",
    "  'intercept_scaling': [1, 2, 3],\n",
    "  'class_weight': ['balanced', None],\n",
    "  'solver': ['liblinear', 'saga'],\n",
    "  'max_iter': [100, 200, 300],\n",
    "\n",
    "}"
   ]
  },
  {
   "cell_type": "code",
   "execution_count": null,
   "metadata": {
    "colab": {
     "base_uri": "https://localhost:8080/"
    },
    "executionInfo": {
     "elapsed": 90,
     "status": "ok",
     "timestamp": 1753958207029,
     "user": {
      "displayName": "monotosh kumar das chandan",
      "userId": "10884027464549225371"
     },
     "user_tz": -120
    },
    "id": "llrI84AUlU6h",
    "outputId": "6c1e0e22-9fd7-46b3-a253-873431909054"
   },
   "outputs": [],
   "source": [
    "pprint(lr_param_dist)"
   ]
  },
  {
   "cell_type": "code",
   "execution_count": null,
   "metadata": {
    "executionInfo": {
     "elapsed": 69,
     "status": "ok",
     "timestamp": 1753958219579,
     "user": {
      "displayName": "monotosh kumar das chandan",
      "userId": "10884027464549225371"
     },
     "user_tz": -120
    },
    "id": "n7r0mR7QnYuq"
   },
   "outputs": [],
   "source": [
    "lr_random = RandomizedSearchCV(estimator = lr, param_distributions = lr_param_dist, n_iter = 60, cv = 5, verbose=2, random_state=42, n_jobs = -1, scoring = 'f1')"
   ]
  },
  {
   "cell_type": "code",
   "execution_count": null,
   "metadata": {
    "colab": {
     "base_uri": "https://localhost:8080/",
     "height": 1000
    },
    "executionInfo": {
     "elapsed": 1784230,
     "status": "ok",
     "timestamp": 1753960004816,
     "user": {
      "displayName": "monotosh kumar das chandan",
      "userId": "10884027464549225371"
     },
     "user_tz": -120
    },
    "id": "IIh6QxqYnYyL",
    "outputId": "e84e2346-d27f-434d-e1ec-8d0926c6c6bc"
   },
   "outputs": [],
   "source": [
    "lr_random.fit(X_dev, y_dev)"
   ]
  },
  {
   "cell_type": "code",
   "execution_count": null,
   "metadata": {
    "colab": {
     "base_uri": "https://localhost:8080/"
    },
    "executionInfo": {
     "elapsed": 119,
     "status": "ok",
     "timestamp": 1753960209836,
     "user": {
      "displayName": "monotosh kumar das chandan",
      "userId": "10884027464549225371"
     },
     "user_tz": -120
    },
    "id": "gpQ9hY-CnY1w",
    "outputId": "408188af-13bb-4c17-fa5b-01b93c1badd8"
   },
   "outputs": [],
   "source": [
    "pprint(lr_random.best_params_)"
   ]
  },
  {
   "cell_type": "markdown",
   "metadata": {
    "id": "1uI3L_lonlb6"
   },
   "source": [
    "# KNN"
   ]
  },
  {
   "cell_type": "code",
   "execution_count": null,
   "metadata": {
    "executionInfo": {
     "elapsed": 40,
     "status": "ok",
     "timestamp": 1753960216948,
     "user": {
      "displayName": "monotosh kumar das chandan",
      "userId": "10884027464549225371"
     },
     "user_tz": -120
    },
    "id": "M-QwVdr-nY4p"
   },
   "outputs": [],
   "source": [
    "knn = KNeighborsClassifier()"
   ]
  },
  {
   "cell_type": "code",
   "execution_count": null,
   "metadata": {
    "colab": {
     "base_uri": "https://localhost:8080/"
    },
    "executionInfo": {
     "elapsed": 71,
     "status": "ok",
     "timestamp": 1753960217331,
     "user": {
      "displayName": "monotosh kumar das chandan",
      "userId": "10884027464549225371"
     },
     "user_tz": -120
    },
    "id": "IPNYEJbunsyJ",
    "outputId": "56f61f45-12b9-4bf6-b09e-c16ccb186591"
   },
   "outputs": [],
   "source": [
    "pprint(knn.get_params())"
   ]
  },
  {
   "cell_type": "code",
   "execution_count": null,
   "metadata": {
    "colab": {
     "base_uri": "https://localhost:8080/"
    },
    "executionInfo": {
     "elapsed": 43,
     "status": "ok",
     "timestamp": 1753960219568,
     "user": {
      "displayName": "monotosh kumar das chandan",
      "userId": "10884027464549225371"
     },
     "user_tz": -120
    },
    "id": "RWfWSUPJns0u",
    "outputId": "8ddc1061-b4b4-495d-bd7f-e0e5bd704888"
   },
   "outputs": [],
   "source": [
    "knn_param_dist = {\n",
    "    'n_neighbors': list(range(3, 51, 2)),  # Odd values to avoid ties\n",
    "    'weights': ['uniform', 'distance'],  # Distance-based weighting can help\n",
    "    'metric': ['euclidean', 'manhattan', 'minkowski'],  # Different distance metrics\n",
    "    'p': [1, 2]  # p=1 (Manhattan), p=2 (Euclidean) for Minkowski distance\n",
    "}\n",
    "\n",
    "pprint(knn_param_dist)"
   ]
  },
  {
   "cell_type": "code",
   "execution_count": null,
   "metadata": {
    "colab": {
     "base_uri": "https://localhost:8080/",
     "height": 183
    },
    "executionInfo": {
     "elapsed": 151149,
     "status": "ok",
     "timestamp": 1753960401178,
     "user": {
      "displayName": "monotosh kumar das chandan",
      "userId": "10884027464549225371"
     },
     "user_tz": -120
    },
    "id": "RI5rKaLEns3g",
    "outputId": "ae9590aa-12b9-41ec-e779-dc51e57777c7"
   },
   "outputs": [],
   "source": [
    "rcv_knn = RandomizedSearchCV(estimator=knn, param_distributions=knn_param_dist, n_iter=50, n_jobs = -1, cv = 5, verbose =2 , random_state = 42, scoring= 'f1')\n",
    "# pprint(rcv_knn.get_params())\n",
    "rcv_knn.fit(X_dev, y_dev)"
   ]
  },
  {
   "cell_type": "code",
   "execution_count": null,
   "metadata": {
    "id": "Tms0RWfyns6R"
   },
   "outputs": [],
   "source": []
  },
  {
   "cell_type": "code",
   "execution_count": null,
   "metadata": {
    "colab": {
     "base_uri": "https://localhost:8080/"
    },
    "executionInfo": {
     "elapsed": 52,
     "status": "ok",
     "timestamp": 1753960416373,
     "user": {
      "displayName": "monotosh kumar das chandan",
      "userId": "10884027464549225371"
     },
     "user_tz": -120
    },
    "id": "Cp_4ZWauns9L",
    "outputId": "e255351f-0ea3-4b0d-a1a6-2728a9b68876"
   },
   "outputs": [],
   "source": [
    "pprint(rcv_knn.best_params_)"
   ]
  },
  {
   "cell_type": "markdown",
   "metadata": {
    "id": "C5rqRGPXoQ7d"
   },
   "source": [
    "# GDB"
   ]
  },
  {
   "cell_type": "code",
   "execution_count": null,
   "metadata": {
    "executionInfo": {
     "elapsed": 48,
     "status": "ok",
     "timestamp": 1753960427357,
     "user": {
      "displayName": "monotosh kumar das chandan",
      "userId": "10884027464549225371"
     },
     "user_tz": -120
    },
    "id": "l8hbuC7NoQHE"
   },
   "outputs": [],
   "source": [
    "gdb = GradientBoostingClassifier(random_state=42)"
   ]
  },
  {
   "cell_type": "code",
   "execution_count": null,
   "metadata": {
    "executionInfo": {
     "elapsed": 62,
     "status": "ok",
     "timestamp": 1753960429299,
     "user": {
      "displayName": "monotosh kumar das chandan",
      "userId": "10884027464549225371"
     },
     "user_tz": -120
    },
    "id": "kqIJUGwQntII"
   },
   "outputs": [],
   "source": [
    "gdb_param_dist = {\n",
    "    'n_estimators': randint(50, 300),  # Number of boosting stages\n",
    "    'learning_rate': uniform(0.01, 0.3),  # Learning rate\n",
    "    'max_depth': randint(3, 10),  # Maximum depth of trees\n",
    "    'min_samples_split': randint(2, 20),  # Minimum samples to split\n",
    "    'min_samples_leaf': randint(1, 20),  # Minimum samples at a leaf\n",
    "    'max_features': ['sqrt', 'log2', None],  # Number of features to consider\n",
    "    'subsample': uniform(0.5, 0.5),  # Fraction of samples used\n",
    "}"
   ]
  },
  {
   "cell_type": "code",
   "execution_count": null,
   "metadata": {
    "colab": {
     "base_uri": "https://localhost:8080/"
    },
    "executionInfo": {
     "elapsed": 1732811,
     "status": "ok",
     "timestamp": 1753962164778,
     "user": {
      "displayName": "monotosh kumar das chandan",
      "userId": "10884027464549225371"
     },
     "user_tz": -120
    },
    "id": "Iol-Xl-ToWeF",
    "outputId": "c95f8dfe-5ced-4351-b052-a10c8f247b88"
   },
   "outputs": [],
   "source": [
    "rf_gdb = RandomizedSearchCV(estimator=gdb, param_distributions=gdb_param_dist, n_iter=50, n_jobs = -1, cv = 5, verbose =2 , random_state = 42, scoring= 'f1')\n",
    "rf_gdb.fit(X_dev, y_dev)\n",
    "print(rf_gdb.best_params_)"
   ]
  },
  {
   "cell_type": "code",
   "execution_count": null,
   "metadata": {
    "colab": {
     "base_uri": "https://localhost:8080/"
    },
    "executionInfo": {
     "elapsed": 45,
     "status": "ok",
     "timestamp": 1753962214211,
     "user": {
      "displayName": "monotosh kumar das chandan",
      "userId": "10884027464549225371"
     },
     "user_tz": -120
    },
    "id": "pwcozdzVoWhh",
    "outputId": "7396a991-e07f-4431-dc9d-eba682597191"
   },
   "outputs": [],
   "source": [
    "pprint(rf_gdb.best_params_)"
   ]
  },
  {
   "cell_type": "markdown",
   "metadata": {
    "id": "pWz1eAjMofRf"
   },
   "source": [
    "# LGBM"
   ]
  },
  {
   "cell_type": "code",
   "execution_count": null,
   "metadata": {
    "executionInfo": {
     "elapsed": 19,
     "status": "ok",
     "timestamp": 1753962221860,
     "user": {
      "displayName": "monotosh kumar das chandan",
      "userId": "10884027464549225371"
     },
     "user_tz": -120
    },
    "id": "_RpXduzCoWlU"
   },
   "outputs": [],
   "source": [
    "lgbm = LGBMClassifier(objective='binary', metric='binary_logloss', verbose=-1, random_state=42)"
   ]
  },
  {
   "cell_type": "code",
   "execution_count": null,
   "metadata": {
    "executionInfo": {
     "elapsed": 21,
     "status": "ok",
     "timestamp": 1753962223579,
     "user": {
      "displayName": "monotosh kumar das chandan",
      "userId": "10884027464549225371"
     },
     "user_tz": -120
    },
    "id": "brS7TBJroWoI"
   },
   "outputs": [],
   "source": [
    "lgbm_params_dist = {\n",
    "    'num_leaves': randint(20, 100),  # Number of leaves\n",
    "    'max_depth': randint(3, 15),     # Maximum depth\n",
    "    'learning_rate': uniform(0.01, 0.3),  # Learning rate\n",
    "    'n_estimators': randint(50, 300),  # Number of boosting rounds\n",
    "    'lambda_l1': uniform(0, 1),  # L1 regularization\n",
    "    'lambda_l2': uniform(0, 1),  # L2 regularization\n",
    "    'min_child_samples': randint(10, 50),  # Minimum data in a leaf\n",
    "    'feature_fraction': uniform(0.5, 0.5),  # Feature fraction\n",
    "    'bagging_fraction': uniform(0.5, 0.5),  # Bagging fraction\n",
    "    'bagging_freq': randint(0, 10),  # Bagging frequency\n",
    "}"
   ]
  },
  {
   "cell_type": "code",
   "execution_count": null,
   "metadata": {
    "colab": {
     "base_uri": "https://localhost:8080/"
    },
    "executionInfo": {
     "elapsed": 146759,
     "status": "ok",
     "timestamp": 1753962373617,
     "user": {
      "displayName": "monotosh kumar das chandan",
      "userId": "10884027464549225371"
     },
     "user_tz": -120
    },
    "id": "2fSPmot9oks0",
    "outputId": "df9cb5c0-edfb-4ccf-8d36-ce1b8f15b0d0"
   },
   "outputs": [],
   "source": [
    "rf_lgbm = RandomizedSearchCV(estimator=lgbm, param_distributions=lgbm_params_dist, n_iter=50, n_jobs = -1, cv = 5, verbose =2 , random_state = 42, scoring= 'f1')\n",
    "rf_lgbm.fit(X_dev, y_dev)\n",
    "pprint(rf_lgbm.best_params_)"
   ]
  },
  {
   "cell_type": "markdown",
   "metadata": {
    "id": "gVCS9tGrpaGd"
   },
   "source": [
    "# DT"
   ]
  },
  {
   "cell_type": "code",
   "execution_count": null,
   "metadata": {
    "executionInfo": {
     "elapsed": 26,
     "status": "ok",
     "timestamp": 1753962732495,
     "user": {
      "displayName": "monotosh kumar das chandan",
      "userId": "10884027464549225371"
     },
     "user_tz": -120
    },
    "id": "i0iJ0ZhmokwW"
   },
   "outputs": [],
   "source": [
    "dt = DecisionTreeClassifier(random_state=42)"
   ]
  },
  {
   "cell_type": "code",
   "execution_count": null,
   "metadata": {
    "executionInfo": {
     "elapsed": 29,
     "status": "ok",
     "timestamp": 1753962733348,
     "user": {
      "displayName": "monotosh kumar das chandan",
      "userId": "10884027464549225371"
     },
     "user_tz": -120
    },
    "id": "ddp0WsFapd1A"
   },
   "outputs": [],
   "source": [
    "dt_params_dist = {\n",
    "    'max_depth': [int(x) for x in np.linspace(10, 110, num=11)],  # Depth\n",
    "    'min_samples_split': [2, 5, 10],  # Min samples for split\n",
    "    'min_samples_leaf': [1, 2, 4],  # Min samples per leaf\n",
    "    'criterion': ['gini', 'entropy'],  # Splitting strategy\n",
    "    'ccp_alpha': [0.0, 0.01, 0.1],  # Post-pruning\n",
    "    'min_impurity_decrease': [0.0, 0.01, 0.1]  # Stop unhelpful splits\n",
    "}"
   ]
  },
  {
   "cell_type": "code",
   "execution_count": null,
   "metadata": {
    "colab": {
     "base_uri": "https://localhost:8080/"
    },
    "executionInfo": {
     "elapsed": 75284,
     "status": "ok",
     "timestamp": 1753962810201,
     "user": {
      "displayName": "monotosh kumar das chandan",
      "userId": "10884027464549225371"
     },
     "user_tz": -120
    },
    "id": "PXuJxdY7pd4f",
    "outputId": "ea7d75e7-f889-457a-c376-8c857c780534"
   },
   "outputs": [],
   "source": [
    "rf_dt = RandomizedSearchCV(estimator=dt, param_distributions=dt_params_dist, n_iter=50, n_jobs = -1, cv = 5, verbose =2 , random_state = 42, scoring= 'f1')\n",
    "rf_dt.fit(X_dev, y_dev)\n",
    "pprint(rf_dt.best_params_)"
   ]
  },
  {
   "cell_type": "markdown",
   "metadata": {
    "id": "UPvzMAV7n6J5"
   },
   "source": [
    "# Ada Boost"
   ]
  },
  {
   "cell_type": "code",
   "execution_count": null,
   "metadata": {
    "executionInfo": {
     "elapsed": 28,
     "status": "ok",
     "timestamp": 1753962878649,
     "user": {
      "displayName": "monotosh kumar das chandan",
      "userId": "10884027464549225371"
     },
     "user_tz": -120
    },
    "id": "_SQNU5f6ns_0"
   },
   "outputs": [],
   "source": [
    "best_params_adb = rf_dt.best_params_\n",
    "base_estimetor = DecisionTreeClassifier(**best_params_adb, random_state=42)"
   ]
  },
  {
   "cell_type": "code",
   "execution_count": null,
   "metadata": {
    "executionInfo": {
     "elapsed": 27,
     "status": "ok",
     "timestamp": 1753962879526,
     "user": {
      "displayName": "monotosh kumar das chandan",
      "userId": "10884027464549225371"
     },
     "user_tz": -120
    },
    "id": "M8LeGWjdntCl"
   },
   "outputs": [],
   "source": [
    "adb = AdaBoostClassifier(estimator=base_estimetor, random_state = 42)\n",
    "adb_param_dist = {\n",
    "    'n_estimators': randint(50, 300),  # Number of weak learners\n",
    "    'learning_rate': uniform(0.01, 1.0),  # Learning rate\n",
    "    #'base_estimator__max_depth': randint(1, 5),  # Depth of weak learners\n",
    "}"
   ]
  },
  {
   "cell_type": "code",
   "execution_count": null,
   "metadata": {
    "colab": {
     "base_uri": "https://localhost:8080/"
    },
    "executionInfo": {
     "elapsed": 136973,
     "status": "ok",
     "timestamp": 1753963023230,
     "user": {
      "displayName": "monotosh kumar das chandan",
      "userId": "10884027464549225371"
     },
     "user_tz": -120
    },
    "id": "3FjHZ4L7ntFU",
    "outputId": "b536f990-4718-4136-9f95-5d31d2a732d8"
   },
   "outputs": [],
   "source": [
    "rf_adb = RandomizedSearchCV(\n",
    "    estimator=adb,\n",
    "    param_distributions=adb_param_dist,\n",
    "    n_iter=50,  # Number of parameter combinations to try\n",
    "    cv=5,       # 5-fold cross-validation\n",
    "    scoring='f1',  # Metric to optimize (F1 score for binary classification)\n",
    "    verbose=2,   # Print progress\n",
    "    random_state=42,\n",
    "    n_jobs=-1    # Use all available cores\n",
    ")\n",
    "rf_adb.fit(X_dev, y_dev)\n",
    "pprint(rf_adb.best_params_)"
   ]
  },
  {
   "cell_type": "markdown",
   "metadata": {
    "id": "WUq9aEoEBQea"
   },
   "source": [
    "# Ensemble class run"
   ]
  },
  {
   "cell_type": "code",
   "execution_count": null,
   "metadata": {
    "id": "CyAMR8EYBTzO"
   },
   "outputs": [],
   "source": [
    "import sys\n",
    "sys.path.append('/content/drive/MyDrive/Thesis/code/')"
   ]
  },
  {
   "cell_type": "code",
   "execution_count": null,
   "metadata": {
    "id": "mU46XJqEBbO4"
   },
   "outputs": [],
   "source": [
    "from Ensemble import Ensemble"
   ]
  },
  {
   "cell_type": "code",
   "execution_count": null,
   "metadata": {
    "id": "Izjm-qhkBf7l"
   },
   "outputs": [],
   "source": [
    "obj = Ensemble(X_train,\n",
    "               y_train.tolist(),\n",
    "               X_test, y_test.tolist(),\n",
    "               X_val,\n",
    "               y_val.tolist(),\n",
    "               best_param_dt,\n",
    "               best_param_xgb,\n",
    "               best_param_rfc,\n",
    "               best_param_knn,\n",
    "               best_param_gdb,\n",
    "               best_param_lgbm,\n",
    "               best_param_adb,\n",
    "               best_param_lr)\n",
    "obj.run_pipeline()"
   ]
  }
 ],
 "metadata": {
  "accelerator": "GPU",
  "colab": {
   "authorship_tag": "ABX9TyMzIgNV/T3Hmvhr5KZJCP30",
   "gpuType": "T4",
   "provenance": [],
   "toc_visible": true
  },
  "kernelspec": {
   "display_name": "Python 3",
   "name": "python3"
  },
  "language_info": {
   "name": "python"
  },
  "widgets": {
   "application/vnd.jupyter.widget-state+json": {
    "01c065d4284c445d821a67760d4cf179": {
     "model_module": "@jupyter-widgets/controls",
     "model_module_version": "1.5.0",
     "model_name": "HTMLModel",
     "state": {
      "_dom_classes": [],
      "_model_module": "@jupyter-widgets/controls",
      "_model_module_version": "1.5.0",
      "_model_name": "HTMLModel",
      "_view_count": null,
      "_view_module": "@jupyter-widgets/controls",
      "_view_module_version": "1.5.0",
      "_view_name": "HTMLView",
      "description": "",
      "description_tooltip": null,
      "layout": "IPY_MODEL_087bd7056adb4adc90cd168a9b40099e",
      "placeholder": "​",
      "style": "IPY_MODEL_a6f20d9daa924a9cba68660961804338",
      "value": " 436M/436M [00:01&lt;00:00, 216MB/s]"
     }
    },
    "03e7c490ff02443d95e645b1e15232b8": {
     "model_module": "@jupyter-widgets/controls",
     "model_module_version": "1.5.0",
     "model_name": "HTMLModel",
     "state": {
      "_dom_classes": [],
      "_model_module": "@jupyter-widgets/controls",
      "_model_module_version": "1.5.0",
      "_model_name": "HTMLModel",
      "_view_count": null,
      "_view_module": "@jupyter-widgets/controls",
      "_view_module_version": "1.5.0",
      "_view_name": "HTMLView",
      "description": "",
      "description_tooltip": null,
      "layout": "IPY_MODEL_7f3fb054340f4861924dbc20fbb42348",
      "placeholder": "​",
      "style": "IPY_MODEL_d876b7cfb6574da4a7c352f059988c78",
      "value": "tokenizer_config.json: 100%"
     }
    },
    "07ef82ae9d494526ba706a1620854a70": {
     "model_module": "@jupyter-widgets/controls",
     "model_module_version": "1.5.0",
     "model_name": "FloatProgressModel",
     "state": {
      "_dom_classes": [],
      "_model_module": "@jupyter-widgets/controls",
      "_model_module_version": "1.5.0",
      "_model_name": "FloatProgressModel",
      "_view_count": null,
      "_view_module": "@jupyter-widgets/controls",
      "_view_module_version": "1.5.0",
      "_view_name": "ProgressView",
      "bar_style": "success",
      "description": "",
      "description_tooltip": null,
      "layout": "IPY_MODEL_4fd190d3511848049373caf488a3a8ea",
      "max": 86,
      "min": 0,
      "orientation": "horizontal",
      "style": "IPY_MODEL_2545556436f74965a76462b18de626f3",
      "value": 86
     }
    },
    "084d611de43b4253b8ace998f0e0752a": {
     "model_module": "@jupyter-widgets/controls",
     "model_module_version": "1.5.0",
     "model_name": "HTMLModel",
     "state": {
      "_dom_classes": [],
      "_model_module": "@jupyter-widgets/controls",
      "_model_module_version": "1.5.0",
      "_model_name": "HTMLModel",
      "_view_count": null,
      "_view_module": "@jupyter-widgets/controls",
      "_view_module_version": "1.5.0",
      "_view_name": "HTMLView",
      "description": "",
      "description_tooltip": null,
      "layout": "IPY_MODEL_dcc80b3bf39746458d5b30e5a41fb468",
      "placeholder": "​",
      "style": "IPY_MODEL_7fc32dfe05904d9ebbf6f62b556470f5",
      "value": " 86.0/86.0 [00:00&lt;00:00, 7.03kB/s]"
     }
    },
    "087bd7056adb4adc90cd168a9b40099e": {
     "model_module": "@jupyter-widgets/base",
     "model_module_version": "1.2.0",
     "model_name": "LayoutModel",
     "state": {
      "_model_module": "@jupyter-widgets/base",
      "_model_module_version": "1.2.0",
      "_model_name": "LayoutModel",
      "_view_count": null,
      "_view_module": "@jupyter-widgets/base",
      "_view_module_version": "1.2.0",
      "_view_name": "LayoutView",
      "align_content": null,
      "align_items": null,
      "align_self": null,
      "border": null,
      "bottom": null,
      "display": null,
      "flex": null,
      "flex_flow": null,
      "grid_area": null,
      "grid_auto_columns": null,
      "grid_auto_flow": null,
      "grid_auto_rows": null,
      "grid_column": null,
      "grid_gap": null,
      "grid_row": null,
      "grid_template_areas": null,
      "grid_template_columns": null,
      "grid_template_rows": null,
      "height": null,
      "justify_content": null,
      "justify_items": null,
      "left": null,
      "margin": null,
      "max_height": null,
      "max_width": null,
      "min_height": null,
      "min_width": null,
      "object_fit": null,
      "object_position": null,
      "order": null,
      "overflow": null,
      "overflow_x": null,
      "overflow_y": null,
      "padding": null,
      "right": null,
      "top": null,
      "visibility": null,
      "width": null
     }
    },
    "091867fb0ed84aab8329bbfc82dd1e9a": {
     "model_module": "@jupyter-widgets/base",
     "model_module_version": "1.2.0",
     "model_name": "LayoutModel",
     "state": {
      "_model_module": "@jupyter-widgets/base",
      "_model_module_version": "1.2.0",
      "_model_name": "LayoutModel",
      "_view_count": null,
      "_view_module": "@jupyter-widgets/base",
      "_view_module_version": "1.2.0",
      "_view_name": "LayoutView",
      "align_content": null,
      "align_items": null,
      "align_self": null,
      "border": null,
      "bottom": null,
      "display": null,
      "flex": null,
      "flex_flow": null,
      "grid_area": null,
      "grid_auto_columns": null,
      "grid_auto_flow": null,
      "grid_auto_rows": null,
      "grid_column": null,
      "grid_gap": null,
      "grid_row": null,
      "grid_template_areas": null,
      "grid_template_columns": null,
      "grid_template_rows": null,
      "height": null,
      "justify_content": null,
      "justify_items": null,
      "left": null,
      "margin": null,
      "max_height": null,
      "max_width": null,
      "min_height": null,
      "min_width": null,
      "object_fit": null,
      "object_position": null,
      "order": null,
      "overflow": null,
      "overflow_x": null,
      "overflow_y": null,
      "padding": null,
      "right": null,
      "top": null,
      "visibility": null,
      "width": null
     }
    },
    "09fb7ba42950445086e14166064b0356": {
     "model_module": "@jupyter-widgets/controls",
     "model_module_version": "1.5.0",
     "model_name": "HTMLModel",
     "state": {
      "_dom_classes": [],
      "_model_module": "@jupyter-widgets/controls",
      "_model_module_version": "1.5.0",
      "_model_name": "HTMLModel",
      "_view_count": null,
      "_view_module": "@jupyter-widgets/controls",
      "_view_module_version": "1.5.0",
      "_view_name": "HTMLView",
      "description": "",
      "description_tooltip": null,
      "layout": "IPY_MODEL_35312da5e8e5400099986551b07f9b76",
      "placeholder": "​",
      "style": "IPY_MODEL_9dcda291e58442f4b15b1eced723e9e4",
      "value": " 480/480 [00:00&lt;00:00, 47.3kB/s]"
     }
    },
    "0ef19492c80d4d93ab2b4fa6f6202a52": {
     "model_module": "@jupyter-widgets/controls",
     "model_module_version": "1.5.0",
     "model_name": "HBoxModel",
     "state": {
      "_dom_classes": [],
      "_model_module": "@jupyter-widgets/controls",
      "_model_module_version": "1.5.0",
      "_model_name": "HBoxModel",
      "_view_count": null,
      "_view_module": "@jupyter-widgets/controls",
      "_view_module_version": "1.5.0",
      "_view_name": "HBoxView",
      "box_style": "",
      "children": [
       "IPY_MODEL_97d407b3e3c94fa5a2f5546a92544586",
       "IPY_MODEL_739e9a86555e4354b8452519577fc7fc",
       "IPY_MODEL_71bd018029834e759f5a43bd321dc736"
      ],
      "layout": "IPY_MODEL_68fb54d9277040d090d79799e8c189ae"
     }
    },
    "0fcfd14279c048d4aba74c4a3744b999": {
     "model_module": "@jupyter-widgets/base",
     "model_module_version": "1.2.0",
     "model_name": "LayoutModel",
     "state": {
      "_model_module": "@jupyter-widgets/base",
      "_model_module_version": "1.2.0",
      "_model_name": "LayoutModel",
      "_view_count": null,
      "_view_module": "@jupyter-widgets/base",
      "_view_module_version": "1.2.0",
      "_view_name": "LayoutView",
      "align_content": null,
      "align_items": null,
      "align_self": null,
      "border": null,
      "bottom": null,
      "display": null,
      "flex": null,
      "flex_flow": null,
      "grid_area": null,
      "grid_auto_columns": null,
      "grid_auto_flow": null,
      "grid_auto_rows": null,
      "grid_column": null,
      "grid_gap": null,
      "grid_row": null,
      "grid_template_areas": null,
      "grid_template_columns": null,
      "grid_template_rows": null,
      "height": null,
      "justify_content": null,
      "justify_items": null,
      "left": null,
      "margin": null,
      "max_height": null,
      "max_width": null,
      "min_height": null,
      "min_width": null,
      "object_fit": null,
      "object_position": null,
      "order": null,
      "overflow": null,
      "overflow_x": null,
      "overflow_y": null,
      "padding": null,
      "right": null,
      "top": null,
      "visibility": null,
      "width": null
     }
    },
    "106e95e58a964fba966faf209da67e73": {
     "model_module": "@jupyter-widgets/controls",
     "model_module_version": "1.5.0",
     "model_name": "HBoxModel",
     "state": {
      "_dom_classes": [],
      "_model_module": "@jupyter-widgets/controls",
      "_model_module_version": "1.5.0",
      "_model_name": "HBoxModel",
      "_view_count": null,
      "_view_module": "@jupyter-widgets/controls",
      "_view_module_version": "1.5.0",
      "_view_name": "HBoxView",
      "box_style": "",
      "children": [
       "IPY_MODEL_cfd058b79b954a0c876c9b2002bdffef",
       "IPY_MODEL_911ddaf7882345f1aa884c00a7bb14db",
       "IPY_MODEL_44d2cc439c0d4b0d9f525a8ff9c27146"
      ],
      "layout": "IPY_MODEL_6c11798a6a4b4b18811e88f8151a1cb6"
     }
    },
    "11fec3eb038c4a899f82d8ea7d4a2313": {
     "model_module": "@jupyter-widgets/base",
     "model_module_version": "1.2.0",
     "model_name": "LayoutModel",
     "state": {
      "_model_module": "@jupyter-widgets/base",
      "_model_module_version": "1.2.0",
      "_model_name": "LayoutModel",
      "_view_count": null,
      "_view_module": "@jupyter-widgets/base",
      "_view_module_version": "1.2.0",
      "_view_name": "LayoutView",
      "align_content": null,
      "align_items": null,
      "align_self": null,
      "border": null,
      "bottom": null,
      "display": null,
      "flex": null,
      "flex_flow": null,
      "grid_area": null,
      "grid_auto_columns": null,
      "grid_auto_flow": null,
      "grid_auto_rows": null,
      "grid_column": null,
      "grid_gap": null,
      "grid_row": null,
      "grid_template_areas": null,
      "grid_template_columns": null,
      "grid_template_rows": null,
      "height": null,
      "justify_content": null,
      "justify_items": null,
      "left": null,
      "margin": null,
      "max_height": null,
      "max_width": null,
      "min_height": null,
      "min_width": null,
      "object_fit": null,
      "object_position": null,
      "order": null,
      "overflow": null,
      "overflow_x": null,
      "overflow_y": null,
      "padding": null,
      "right": null,
      "top": null,
      "visibility": null,
      "width": null
     }
    },
    "129b399f5da84f96bdc989224beb6104": {
     "model_module": "@jupyter-widgets/base",
     "model_module_version": "1.2.0",
     "model_name": "LayoutModel",
     "state": {
      "_model_module": "@jupyter-widgets/base",
      "_model_module_version": "1.2.0",
      "_model_name": "LayoutModel",
      "_view_count": null,
      "_view_module": "@jupyter-widgets/base",
      "_view_module_version": "1.2.0",
      "_view_name": "LayoutView",
      "align_content": null,
      "align_items": null,
      "align_self": null,
      "border": null,
      "bottom": null,
      "display": null,
      "flex": null,
      "flex_flow": null,
      "grid_area": null,
      "grid_auto_columns": null,
      "grid_auto_flow": null,
      "grid_auto_rows": null,
      "grid_column": null,
      "grid_gap": null,
      "grid_row": null,
      "grid_template_areas": null,
      "grid_template_columns": null,
      "grid_template_rows": null,
      "height": null,
      "justify_content": null,
      "justify_items": null,
      "left": null,
      "margin": null,
      "max_height": null,
      "max_width": null,
      "min_height": null,
      "min_width": null,
      "object_fit": null,
      "object_position": null,
      "order": null,
      "overflow": null,
      "overflow_x": null,
      "overflow_y": null,
      "padding": null,
      "right": null,
      "top": null,
      "visibility": null,
      "width": null
     }
    },
    "163b43f519604921a1e3c799e4499eed": {
     "model_module": "@jupyter-widgets/controls",
     "model_module_version": "1.5.0",
     "model_name": "DescriptionStyleModel",
     "state": {
      "_model_module": "@jupyter-widgets/controls",
      "_model_module_version": "1.5.0",
      "_model_name": "DescriptionStyleModel",
      "_view_count": null,
      "_view_module": "@jupyter-widgets/base",
      "_view_module_version": "1.2.0",
      "_view_name": "StyleView",
      "description_width": ""
     }
    },
    "189b3562997740118e26ec4969e00313": {
     "model_module": "@jupyter-widgets/base",
     "model_module_version": "1.2.0",
     "model_name": "LayoutModel",
     "state": {
      "_model_module": "@jupyter-widgets/base",
      "_model_module_version": "1.2.0",
      "_model_name": "LayoutModel",
      "_view_count": null,
      "_view_module": "@jupyter-widgets/base",
      "_view_module_version": "1.2.0",
      "_view_name": "LayoutView",
      "align_content": null,
      "align_items": null,
      "align_self": null,
      "border": null,
      "bottom": null,
      "display": null,
      "flex": null,
      "flex_flow": null,
      "grid_area": null,
      "grid_auto_columns": null,
      "grid_auto_flow": null,
      "grid_auto_rows": null,
      "grid_column": null,
      "grid_gap": null,
      "grid_row": null,
      "grid_template_areas": null,
      "grid_template_columns": null,
      "grid_template_rows": null,
      "height": null,
      "justify_content": null,
      "justify_items": null,
      "left": null,
      "margin": null,
      "max_height": null,
      "max_width": null,
      "min_height": null,
      "min_width": null,
      "object_fit": null,
      "object_position": null,
      "order": null,
      "overflow": null,
      "overflow_x": null,
      "overflow_y": null,
      "padding": null,
      "right": null,
      "top": null,
      "visibility": null,
      "width": null
     }
    },
    "1a162d1da46148a789cc6d1a6e44a2b8": {
     "model_module": "@jupyter-widgets/controls",
     "model_module_version": "1.5.0",
     "model_name": "ProgressStyleModel",
     "state": {
      "_model_module": "@jupyter-widgets/controls",
      "_model_module_version": "1.5.0",
      "_model_name": "ProgressStyleModel",
      "_view_count": null,
      "_view_module": "@jupyter-widgets/base",
      "_view_module_version": "1.2.0",
      "_view_name": "StyleView",
      "bar_color": null,
      "description_width": ""
     }
    },
    "1b1652927e5f40698bb766ce2e30156d": {
     "model_module": "@jupyter-widgets/base",
     "model_module_version": "1.2.0",
     "model_name": "LayoutModel",
     "state": {
      "_model_module": "@jupyter-widgets/base",
      "_model_module_version": "1.2.0",
      "_model_name": "LayoutModel",
      "_view_count": null,
      "_view_module": "@jupyter-widgets/base",
      "_view_module_version": "1.2.0",
      "_view_name": "LayoutView",
      "align_content": null,
      "align_items": null,
      "align_self": null,
      "border": null,
      "bottom": null,
      "display": null,
      "flex": null,
      "flex_flow": null,
      "grid_area": null,
      "grid_auto_columns": null,
      "grid_auto_flow": null,
      "grid_auto_rows": null,
      "grid_column": null,
      "grid_gap": null,
      "grid_row": null,
      "grid_template_areas": null,
      "grid_template_columns": null,
      "grid_template_rows": null,
      "height": null,
      "justify_content": null,
      "justify_items": null,
      "left": null,
      "margin": null,
      "max_height": null,
      "max_width": null,
      "min_height": null,
      "min_width": null,
      "object_fit": null,
      "object_position": null,
      "order": null,
      "overflow": null,
      "overflow_x": null,
      "overflow_y": null,
      "padding": null,
      "right": null,
      "top": null,
      "visibility": null,
      "width": null
     }
    },
    "1b74b45a1cd6461b823b1bdd87a47bee": {
     "model_module": "@jupyter-widgets/base",
     "model_module_version": "1.2.0",
     "model_name": "LayoutModel",
     "state": {
      "_model_module": "@jupyter-widgets/base",
      "_model_module_version": "1.2.0",
      "_model_name": "LayoutModel",
      "_view_count": null,
      "_view_module": "@jupyter-widgets/base",
      "_view_module_version": "1.2.0",
      "_view_name": "LayoutView",
      "align_content": null,
      "align_items": null,
      "align_self": null,
      "border": null,
      "bottom": null,
      "display": null,
      "flex": null,
      "flex_flow": null,
      "grid_area": null,
      "grid_auto_columns": null,
      "grid_auto_flow": null,
      "grid_auto_rows": null,
      "grid_column": null,
      "grid_gap": null,
      "grid_row": null,
      "grid_template_areas": null,
      "grid_template_columns": null,
      "grid_template_rows": null,
      "height": null,
      "justify_content": null,
      "justify_items": null,
      "left": null,
      "margin": null,
      "max_height": null,
      "max_width": null,
      "min_height": null,
      "min_width": null,
      "object_fit": null,
      "object_position": null,
      "order": null,
      "overflow": null,
      "overflow_x": null,
      "overflow_y": null,
      "padding": null,
      "right": null,
      "top": null,
      "visibility": null,
      "width": null
     }
    },
    "1b9304aec67e4743b5480f3f7946503c": {
     "model_module": "@jupyter-widgets/base",
     "model_module_version": "1.2.0",
     "model_name": "LayoutModel",
     "state": {
      "_model_module": "@jupyter-widgets/base",
      "_model_module_version": "1.2.0",
      "_model_name": "LayoutModel",
      "_view_count": null,
      "_view_module": "@jupyter-widgets/base",
      "_view_module_version": "1.2.0",
      "_view_name": "LayoutView",
      "align_content": null,
      "align_items": null,
      "align_self": null,
      "border": null,
      "bottom": null,
      "display": null,
      "flex": null,
      "flex_flow": null,
      "grid_area": null,
      "grid_auto_columns": null,
      "grid_auto_flow": null,
      "grid_auto_rows": null,
      "grid_column": null,
      "grid_gap": null,
      "grid_row": null,
      "grid_template_areas": null,
      "grid_template_columns": null,
      "grid_template_rows": null,
      "height": null,
      "justify_content": null,
      "justify_items": null,
      "left": null,
      "margin": null,
      "max_height": null,
      "max_width": null,
      "min_height": null,
      "min_width": null,
      "object_fit": null,
      "object_position": null,
      "order": null,
      "overflow": null,
      "overflow_x": null,
      "overflow_y": null,
      "padding": null,
      "right": null,
      "top": null,
      "visibility": null,
      "width": null
     }
    },
    "1c482008c20142fbb003df1dffac073c": {
     "model_module": "@jupyter-widgets/controls",
     "model_module_version": "1.5.0",
     "model_name": "HBoxModel",
     "state": {
      "_dom_classes": [],
      "_model_module": "@jupyter-widgets/controls",
      "_model_module_version": "1.5.0",
      "_model_name": "HBoxModel",
      "_view_count": null,
      "_view_module": "@jupyter-widgets/controls",
      "_view_module_version": "1.5.0",
      "_view_name": "HBoxView",
      "box_style": "",
      "children": [
       "IPY_MODEL_3fe6ff8500d4432a9934437fa30893d3",
       "IPY_MODEL_32686fac90d44753bed63b669d396c4f",
       "IPY_MODEL_ad1704fa5b1e44c3bcbc741b4432fe1b"
      ],
      "layout": "IPY_MODEL_091867fb0ed84aab8329bbfc82dd1e9a"
     }
    },
    "1d0cf1e1e350467e82dd7febd3d2bc10": {
     "model_module": "@jupyter-widgets/controls",
     "model_module_version": "1.5.0",
     "model_name": "ProgressStyleModel",
     "state": {
      "_model_module": "@jupyter-widgets/controls",
      "_model_module_version": "1.5.0",
      "_model_name": "ProgressStyleModel",
      "_view_count": null,
      "_view_module": "@jupyter-widgets/base",
      "_view_module_version": "1.2.0",
      "_view_name": "StyleView",
      "bar_color": null,
      "description_width": ""
     }
    },
    "2545556436f74965a76462b18de626f3": {
     "model_module": "@jupyter-widgets/controls",
     "model_module_version": "1.5.0",
     "model_name": "ProgressStyleModel",
     "state": {
      "_model_module": "@jupyter-widgets/controls",
      "_model_module_version": "1.5.0",
      "_model_name": "ProgressStyleModel",
      "_view_count": null,
      "_view_module": "@jupyter-widgets/base",
      "_view_module_version": "1.2.0",
      "_view_name": "StyleView",
      "bar_color": null,
      "description_width": ""
     }
    },
    "279791cd2e554056b5d8821bdf5302ec": {
     "model_module": "@jupyter-widgets/controls",
     "model_module_version": "1.5.0",
     "model_name": "FloatProgressModel",
     "state": {
      "_dom_classes": [],
      "_model_module": "@jupyter-widgets/controls",
      "_model_module_version": "1.5.0",
      "_model_name": "FloatProgressModel",
      "_view_count": null,
      "_view_module": "@jupyter-widgets/controls",
      "_view_module_version": "1.5.0",
      "_view_name": "ProgressView",
      "bar_style": "success",
      "description": "",
      "description_tooltip": null,
      "layout": "IPY_MODEL_6b6c0bb7e54e45008e2ef97af96b307b",
      "max": 436389169,
      "min": 0,
      "orientation": "horizontal",
      "style": "IPY_MODEL_304ea1bbf08e4a6e9fe33f85fbc5c757",
      "value": 436389169
     }
    },
    "28444d50850d4a89aac52b78ae4f4573": {
     "model_module": "@jupyter-widgets/controls",
     "model_module_version": "1.5.0",
     "model_name": "HTMLModel",
     "state": {
      "_dom_classes": [],
      "_model_module": "@jupyter-widgets/controls",
      "_model_module_version": "1.5.0",
      "_model_name": "HTMLModel",
      "_view_count": null,
      "_view_module": "@jupyter-widgets/controls",
      "_view_module_version": "1.5.0",
      "_view_name": "HTMLView",
      "description": "",
      "description_tooltip": null,
      "layout": "IPY_MODEL_1b1652927e5f40698bb766ce2e30156d",
      "placeholder": "​",
      "style": "IPY_MODEL_163b43f519604921a1e3c799e4499eed",
      "value": "special_tokens_map.json: 100%"
     }
    },
    "29f4ee70446e42d98f474cddffa8d268": {
     "model_module": "@jupyter-widgets/base",
     "model_module_version": "1.2.0",
     "model_name": "LayoutModel",
     "state": {
      "_model_module": "@jupyter-widgets/base",
      "_model_module_version": "1.2.0",
      "_model_name": "LayoutModel",
      "_view_count": null,
      "_view_module": "@jupyter-widgets/base",
      "_view_module_version": "1.2.0",
      "_view_name": "LayoutView",
      "align_content": null,
      "align_items": null,
      "align_self": null,
      "border": null,
      "bottom": null,
      "display": null,
      "flex": null,
      "flex_flow": null,
      "grid_area": null,
      "grid_auto_columns": null,
      "grid_auto_flow": null,
      "grid_auto_rows": null,
      "grid_column": null,
      "grid_gap": null,
      "grid_row": null,
      "grid_template_areas": null,
      "grid_template_columns": null,
      "grid_template_rows": null,
      "height": null,
      "justify_content": null,
      "justify_items": null,
      "left": null,
      "margin": null,
      "max_height": null,
      "max_width": null,
      "min_height": null,
      "min_width": null,
      "object_fit": null,
      "object_position": null,
      "order": null,
      "overflow": null,
      "overflow_x": null,
      "overflow_y": null,
      "padding": null,
      "right": null,
      "top": null,
      "visibility": null,
      "width": null
     }
    },
    "2c2c2d5f326b40c6acaaf29754da554d": {
     "model_module": "@jupyter-widgets/controls",
     "model_module_version": "1.5.0",
     "model_name": "ProgressStyleModel",
     "state": {
      "_model_module": "@jupyter-widgets/controls",
      "_model_module_version": "1.5.0",
      "_model_name": "ProgressStyleModel",
      "_view_count": null,
      "_view_module": "@jupyter-widgets/base",
      "_view_module_version": "1.2.0",
      "_view_name": "StyleView",
      "bar_color": null,
      "description_width": ""
     }
    },
    "2edda6d402494e71975a0e0fe12ff79e": {
     "model_module": "@jupyter-widgets/controls",
     "model_module_version": "1.5.0",
     "model_name": "DescriptionStyleModel",
     "state": {
      "_model_module": "@jupyter-widgets/controls",
      "_model_module_version": "1.5.0",
      "_model_name": "DescriptionStyleModel",
      "_view_count": null,
      "_view_module": "@jupyter-widgets/base",
      "_view_module_version": "1.2.0",
      "_view_name": "StyleView",
      "description_width": ""
     }
    },
    "2f7efc67744d427ba1c589eb907c9151": {
     "model_module": "@jupyter-widgets/controls",
     "model_module_version": "1.5.0",
     "model_name": "HTMLModel",
     "state": {
      "_dom_classes": [],
      "_model_module": "@jupyter-widgets/controls",
      "_model_module_version": "1.5.0",
      "_model_name": "HTMLModel",
      "_view_count": null,
      "_view_module": "@jupyter-widgets/controls",
      "_view_module_version": "1.5.0",
      "_view_name": "HTMLView",
      "description": "",
      "description_tooltip": null,
      "layout": "IPY_MODEL_11fec3eb038c4a899f82d8ea7d4a2313",
      "placeholder": "​",
      "style": "IPY_MODEL_7fedcb0d5c1a404faf5d96e5ba57b981",
      "value": " 305k/? [00:00&lt;00:00, 12.1MB/s]"
     }
    },
    "2fc1166873bb43dba0a4241ac7f7adac": {
     "model_module": "@jupyter-widgets/base",
     "model_module_version": "1.2.0",
     "model_name": "LayoutModel",
     "state": {
      "_model_module": "@jupyter-widgets/base",
      "_model_module_version": "1.2.0",
      "_model_name": "LayoutModel",
      "_view_count": null,
      "_view_module": "@jupyter-widgets/base",
      "_view_module_version": "1.2.0",
      "_view_name": "LayoutView",
      "align_content": null,
      "align_items": null,
      "align_self": null,
      "border": null,
      "bottom": null,
      "display": null,
      "flex": null,
      "flex_flow": null,
      "grid_area": null,
      "grid_auto_columns": null,
      "grid_auto_flow": null,
      "grid_auto_rows": null,
      "grid_column": null,
      "grid_gap": null,
      "grid_row": null,
      "grid_template_areas": null,
      "grid_template_columns": null,
      "grid_template_rows": null,
      "height": null,
      "justify_content": null,
      "justify_items": null,
      "left": null,
      "margin": null,
      "max_height": null,
      "max_width": null,
      "min_height": null,
      "min_width": null,
      "object_fit": null,
      "object_position": null,
      "order": null,
      "overflow": null,
      "overflow_x": null,
      "overflow_y": null,
      "padding": null,
      "right": null,
      "top": null,
      "visibility": null,
      "width": null
     }
    },
    "304ea1bbf08e4a6e9fe33f85fbc5c757": {
     "model_module": "@jupyter-widgets/controls",
     "model_module_version": "1.5.0",
     "model_name": "ProgressStyleModel",
     "state": {
      "_model_module": "@jupyter-widgets/controls",
      "_model_module_version": "1.5.0",
      "_model_name": "ProgressStyleModel",
      "_view_count": null,
      "_view_module": "@jupyter-widgets/base",
      "_view_module_version": "1.2.0",
      "_view_name": "StyleView",
      "bar_color": null,
      "description_width": ""
     }
    },
    "3179b4cae9f74bbb8308b45d954c64dd": {
     "model_module": "@jupyter-widgets/controls",
     "model_module_version": "1.5.0",
     "model_name": "HTMLModel",
     "state": {
      "_dom_classes": [],
      "_model_module": "@jupyter-widgets/controls",
      "_model_module_version": "1.5.0",
      "_model_name": "HTMLModel",
      "_view_count": null,
      "_view_module": "@jupyter-widgets/controls",
      "_view_module_version": "1.5.0",
      "_view_name": "HTMLView",
      "description": "",
      "description_tooltip": null,
      "layout": "IPY_MODEL_5f6f11f593f74aa7a53684e70e1aad50",
      "placeholder": "​",
      "style": "IPY_MODEL_c98d23536ff140b5964579e9c0221553",
      "value": "vocab.txt: "
     }
    },
    "32686fac90d44753bed63b669d396c4f": {
     "model_module": "@jupyter-widgets/controls",
     "model_module_version": "1.5.0",
     "model_name": "FloatProgressModel",
     "state": {
      "_dom_classes": [],
      "_model_module": "@jupyter-widgets/controls",
      "_model_module_version": "1.5.0",
      "_model_name": "FloatProgressModel",
      "_view_count": null,
      "_view_module": "@jupyter-widgets/controls",
      "_view_module_version": "1.5.0",
      "_view_name": "ProgressView",
      "bar_style": "success",
      "description": "",
      "description_tooltip": null,
      "layout": "IPY_MODEL_f649a57b37654df095f51a3b7a745642",
      "max": 9081518,
      "min": 0,
      "orientation": "horizontal",
      "style": "IPY_MODEL_f6d9224c9c7546e3993b3abc1ad04055",
      "value": 9081518
     }
    },
    "35312da5e8e5400099986551b07f9b76": {
     "model_module": "@jupyter-widgets/base",
     "model_module_version": "1.2.0",
     "model_name": "LayoutModel",
     "state": {
      "_model_module": "@jupyter-widgets/base",
      "_model_module_version": "1.2.0",
      "_model_name": "LayoutModel",
      "_view_count": null,
      "_view_module": "@jupyter-widgets/base",
      "_view_module_version": "1.2.0",
      "_view_name": "LayoutView",
      "align_content": null,
      "align_items": null,
      "align_self": null,
      "border": null,
      "bottom": null,
      "display": null,
      "flex": null,
      "flex_flow": null,
      "grid_area": null,
      "grid_auto_columns": null,
      "grid_auto_flow": null,
      "grid_auto_rows": null,
      "grid_column": null,
      "grid_gap": null,
      "grid_row": null,
      "grid_template_areas": null,
      "grid_template_columns": null,
      "grid_template_rows": null,
      "height": null,
      "justify_content": null,
      "justify_items": null,
      "left": null,
      "margin": null,
      "max_height": null,
      "max_width": null,
      "min_height": null,
      "min_width": null,
      "object_fit": null,
      "object_position": null,
      "order": null,
      "overflow": null,
      "overflow_x": null,
      "overflow_y": null,
      "padding": null,
      "right": null,
      "top": null,
      "visibility": null,
      "width": null
     }
    },
    "3bfdf517bb884e35974b683f595013bf": {
     "model_module": "@jupyter-widgets/controls",
     "model_module_version": "1.5.0",
     "model_name": "DescriptionStyleModel",
     "state": {
      "_model_module": "@jupyter-widgets/controls",
      "_model_module_version": "1.5.0",
      "_model_name": "DescriptionStyleModel",
      "_view_count": null,
      "_view_module": "@jupyter-widgets/base",
      "_view_module_version": "1.2.0",
      "_view_name": "StyleView",
      "description_width": ""
     }
    },
    "3dfc6bb24e374e529a1adc21d88f4610": {
     "model_module": "@jupyter-widgets/base",
     "model_module_version": "1.2.0",
     "model_name": "LayoutModel",
     "state": {
      "_model_module": "@jupyter-widgets/base",
      "_model_module_version": "1.2.0",
      "_model_name": "LayoutModel",
      "_view_count": null,
      "_view_module": "@jupyter-widgets/base",
      "_view_module_version": "1.2.0",
      "_view_name": "LayoutView",
      "align_content": null,
      "align_items": null,
      "align_self": null,
      "border": null,
      "bottom": null,
      "display": null,
      "flex": null,
      "flex_flow": null,
      "grid_area": null,
      "grid_auto_columns": null,
      "grid_auto_flow": null,
      "grid_auto_rows": null,
      "grid_column": null,
      "grid_gap": null,
      "grid_row": null,
      "grid_template_areas": null,
      "grid_template_columns": null,
      "grid_template_rows": null,
      "height": null,
      "justify_content": null,
      "justify_items": null,
      "left": null,
      "margin": null,
      "max_height": null,
      "max_width": null,
      "min_height": null,
      "min_width": null,
      "object_fit": null,
      "object_position": null,
      "order": null,
      "overflow": null,
      "overflow_x": null,
      "overflow_y": null,
      "padding": null,
      "right": null,
      "top": null,
      "visibility": null,
      "width": null
     }
    },
    "3fe6ff8500d4432a9934437fa30893d3": {
     "model_module": "@jupyter-widgets/controls",
     "model_module_version": "1.5.0",
     "model_name": "HTMLModel",
     "state": {
      "_dom_classes": [],
      "_model_module": "@jupyter-widgets/controls",
      "_model_module_version": "1.5.0",
      "_model_name": "HTMLModel",
      "_view_count": null,
      "_view_module": "@jupyter-widgets/controls",
      "_view_module_version": "1.5.0",
      "_view_name": "HTMLView",
      "description": "",
      "description_tooltip": null,
      "layout": "IPY_MODEL_189b3562997740118e26ec4969e00313",
      "placeholder": "​",
      "style": "IPY_MODEL_2edda6d402494e71975a0e0fe12ff79e",
      "value": "tokenizer.json: 100%"
     }
    },
    "44d2cc439c0d4b0d9f525a8ff9c27146": {
     "model_module": "@jupyter-widgets/controls",
     "model_module_version": "1.5.0",
     "model_name": "HTMLModel",
     "state": {
      "_dom_classes": [],
      "_model_module": "@jupyter-widgets/controls",
      "_model_module_version": "1.5.0",
      "_model_name": "HTMLModel",
      "_view_count": null,
      "_view_module": "@jupyter-widgets/controls",
      "_view_module_version": "1.5.0",
      "_view_name": "HTMLView",
      "description": "",
      "description_tooltip": null,
      "layout": "IPY_MODEL_a0723cf4175f4d8dbfe6f59451bf5296",
      "placeholder": "​",
      "style": "IPY_MODEL_b2b3aa6cada74e2298ff284b5f1e0bbd",
      "value": " 471M/471M [00:14&lt;00:00, 53.3MB/s]"
     }
    },
    "45622f5e243c4a77ac67218f36c384c3": {
     "model_module": "@jupyter-widgets/controls",
     "model_module_version": "1.5.0",
     "model_name": "HBoxModel",
     "state": {
      "_dom_classes": [],
      "_model_module": "@jupyter-widgets/controls",
      "_model_module_version": "1.5.0",
      "_model_name": "HBoxModel",
      "_view_count": null,
      "_view_module": "@jupyter-widgets/controls",
      "_view_module_version": "1.5.0",
      "_view_name": "HBoxView",
      "box_style": "",
      "children": [
       "IPY_MODEL_5b8b184d64ba41d19d51daa3f7b1b87d",
       "IPY_MODEL_725552f2c7bc46abb465fbd54cb3991f",
       "IPY_MODEL_e377c3d540d54933b1100ef8a6a5eed4"
      ],
      "layout": "IPY_MODEL_cc1433f016ba4a70baddec9529eb766a"
     }
    },
    "4fd190d3511848049373caf488a3a8ea": {
     "model_module": "@jupyter-widgets/base",
     "model_module_version": "1.2.0",
     "model_name": "LayoutModel",
     "state": {
      "_model_module": "@jupyter-widgets/base",
      "_model_module_version": "1.2.0",
      "_model_name": "LayoutModel",
      "_view_count": null,
      "_view_module": "@jupyter-widgets/base",
      "_view_module_version": "1.2.0",
      "_view_name": "LayoutView",
      "align_content": null,
      "align_items": null,
      "align_self": null,
      "border": null,
      "bottom": null,
      "display": null,
      "flex": null,
      "flex_flow": null,
      "grid_area": null,
      "grid_auto_columns": null,
      "grid_auto_flow": null,
      "grid_auto_rows": null,
      "grid_column": null,
      "grid_gap": null,
      "grid_row": null,
      "grid_template_areas": null,
      "grid_template_columns": null,
      "grid_template_rows": null,
      "height": null,
      "justify_content": null,
      "justify_items": null,
      "left": null,
      "margin": null,
      "max_height": null,
      "max_width": null,
      "min_height": null,
      "min_width": null,
      "object_fit": null,
      "object_position": null,
      "order": null,
      "overflow": null,
      "overflow_x": null,
      "overflow_y": null,
      "padding": null,
      "right": null,
      "top": null,
      "visibility": null,
      "width": null
     }
    },
    "50ecc3d408ef4cca990d62392cfd8103": {
     "model_module": "@jupyter-widgets/base",
     "model_module_version": "1.2.0",
     "model_name": "LayoutModel",
     "state": {
      "_model_module": "@jupyter-widgets/base",
      "_model_module_version": "1.2.0",
      "_model_name": "LayoutModel",
      "_view_count": null,
      "_view_module": "@jupyter-widgets/base",
      "_view_module_version": "1.2.0",
      "_view_name": "LayoutView",
      "align_content": null,
      "align_items": null,
      "align_self": null,
      "border": null,
      "bottom": null,
      "display": null,
      "flex": null,
      "flex_flow": null,
      "grid_area": null,
      "grid_auto_columns": null,
      "grid_auto_flow": null,
      "grid_auto_rows": null,
      "grid_column": null,
      "grid_gap": null,
      "grid_row": null,
      "grid_template_areas": null,
      "grid_template_columns": null,
      "grid_template_rows": null,
      "height": null,
      "justify_content": null,
      "justify_items": null,
      "left": null,
      "margin": null,
      "max_height": null,
      "max_width": null,
      "min_height": null,
      "min_width": null,
      "object_fit": null,
      "object_position": null,
      "order": null,
      "overflow": null,
      "overflow_x": null,
      "overflow_y": null,
      "padding": null,
      "right": null,
      "top": null,
      "visibility": null,
      "width": null
     }
    },
    "530f573fcc234c23961c4183f5a8311b": {
     "model_module": "@jupyter-widgets/base",
     "model_module_version": "1.2.0",
     "model_name": "LayoutModel",
     "state": {
      "_model_module": "@jupyter-widgets/base",
      "_model_module_version": "1.2.0",
      "_model_name": "LayoutModel",
      "_view_count": null,
      "_view_module": "@jupyter-widgets/base",
      "_view_module_version": "1.2.0",
      "_view_name": "LayoutView",
      "align_content": null,
      "align_items": null,
      "align_self": null,
      "border": null,
      "bottom": null,
      "display": null,
      "flex": null,
      "flex_flow": null,
      "grid_area": null,
      "grid_auto_columns": null,
      "grid_auto_flow": null,
      "grid_auto_rows": null,
      "grid_column": null,
      "grid_gap": null,
      "grid_row": null,
      "grid_template_areas": null,
      "grid_template_columns": null,
      "grid_template_rows": null,
      "height": null,
      "justify_content": null,
      "justify_items": null,
      "left": null,
      "margin": null,
      "max_height": null,
      "max_width": null,
      "min_height": null,
      "min_width": null,
      "object_fit": null,
      "object_position": null,
      "order": null,
      "overflow": null,
      "overflow_x": null,
      "overflow_y": null,
      "padding": null,
      "right": null,
      "top": null,
      "visibility": null,
      "width": null
     }
    },
    "534053c315a14b74bd408350f3fb57f6": {
     "model_module": "@jupyter-widgets/base",
     "model_module_version": "1.2.0",
     "model_name": "LayoutModel",
     "state": {
      "_model_module": "@jupyter-widgets/base",
      "_model_module_version": "1.2.0",
      "_model_name": "LayoutModel",
      "_view_count": null,
      "_view_module": "@jupyter-widgets/base",
      "_view_module_version": "1.2.0",
      "_view_name": "LayoutView",
      "align_content": null,
      "align_items": null,
      "align_self": null,
      "border": null,
      "bottom": null,
      "display": null,
      "flex": null,
      "flex_flow": null,
      "grid_area": null,
      "grid_auto_columns": null,
      "grid_auto_flow": null,
      "grid_auto_rows": null,
      "grid_column": null,
      "grid_gap": null,
      "grid_row": null,
      "grid_template_areas": null,
      "grid_template_columns": null,
      "grid_template_rows": null,
      "height": null,
      "justify_content": null,
      "justify_items": null,
      "left": null,
      "margin": null,
      "max_height": null,
      "max_width": null,
      "min_height": null,
      "min_width": null,
      "object_fit": null,
      "object_position": null,
      "order": null,
      "overflow": null,
      "overflow_x": null,
      "overflow_y": null,
      "padding": null,
      "right": null,
      "top": null,
      "visibility": null,
      "width": null
     }
    },
    "55b99023084c4edda75df56c85d1532a": {
     "model_module": "@jupyter-widgets/base",
     "model_module_version": "1.2.0",
     "model_name": "LayoutModel",
     "state": {
      "_model_module": "@jupyter-widgets/base",
      "_model_module_version": "1.2.0",
      "_model_name": "LayoutModel",
      "_view_count": null,
      "_view_module": "@jupyter-widgets/base",
      "_view_module_version": "1.2.0",
      "_view_name": "LayoutView",
      "align_content": null,
      "align_items": null,
      "align_self": null,
      "border": null,
      "bottom": null,
      "display": null,
      "flex": null,
      "flex_flow": null,
      "grid_area": null,
      "grid_auto_columns": null,
      "grid_auto_flow": null,
      "grid_auto_rows": null,
      "grid_column": null,
      "grid_gap": null,
      "grid_row": null,
      "grid_template_areas": null,
      "grid_template_columns": null,
      "grid_template_rows": null,
      "height": null,
      "justify_content": null,
      "justify_items": null,
      "left": null,
      "margin": null,
      "max_height": null,
      "max_width": null,
      "min_height": null,
      "min_width": null,
      "object_fit": null,
      "object_position": null,
      "order": null,
      "overflow": null,
      "overflow_x": null,
      "overflow_y": null,
      "padding": null,
      "right": null,
      "top": null,
      "visibility": null,
      "width": null
     }
    },
    "5b8b184d64ba41d19d51daa3f7b1b87d": {
     "model_module": "@jupyter-widgets/controls",
     "model_module_version": "1.5.0",
     "model_name": "HTMLModel",
     "state": {
      "_dom_classes": [],
      "_model_module": "@jupyter-widgets/controls",
      "_model_module_version": "1.5.0",
      "_model_name": "HTMLModel",
      "_view_count": null,
      "_view_module": "@jupyter-widgets/controls",
      "_view_module_version": "1.5.0",
      "_view_name": "HTMLView",
      "description": "",
      "description_tooltip": null,
      "layout": "IPY_MODEL_50ecc3d408ef4cca990d62392cfd8103",
      "placeholder": "​",
      "style": "IPY_MODEL_9af5fc15750d44148e10b013253b4d5a",
      "value": "config.json: 100%"
     }
    },
    "5e1df04b63dc45ec84564c6fc2290f01": {
     "model_module": "@jupyter-widgets/controls",
     "model_module_version": "1.5.0",
     "model_name": "ProgressStyleModel",
     "state": {
      "_model_module": "@jupyter-widgets/controls",
      "_model_module_version": "1.5.0",
      "_model_name": "ProgressStyleModel",
      "_view_count": null,
      "_view_module": "@jupyter-widgets/base",
      "_view_module_version": "1.2.0",
      "_view_name": "StyleView",
      "bar_color": null,
      "description_width": ""
     }
    },
    "5f6f11f593f74aa7a53684e70e1aad50": {
     "model_module": "@jupyter-widgets/base",
     "model_module_version": "1.2.0",
     "model_name": "LayoutModel",
     "state": {
      "_model_module": "@jupyter-widgets/base",
      "_model_module_version": "1.2.0",
      "_model_name": "LayoutModel",
      "_view_count": null,
      "_view_module": "@jupyter-widgets/base",
      "_view_module_version": "1.2.0",
      "_view_name": "LayoutView",
      "align_content": null,
      "align_items": null,
      "align_self": null,
      "border": null,
      "bottom": null,
      "display": null,
      "flex": null,
      "flex_flow": null,
      "grid_area": null,
      "grid_auto_columns": null,
      "grid_auto_flow": null,
      "grid_auto_rows": null,
      "grid_column": null,
      "grid_gap": null,
      "grid_row": null,
      "grid_template_areas": null,
      "grid_template_columns": null,
      "grid_template_rows": null,
      "height": null,
      "justify_content": null,
      "justify_items": null,
      "left": null,
      "margin": null,
      "max_height": null,
      "max_width": null,
      "min_height": null,
      "min_width": null,
      "object_fit": null,
      "object_position": null,
      "order": null,
      "overflow": null,
      "overflow_x": null,
      "overflow_y": null,
      "padding": null,
      "right": null,
      "top": null,
      "visibility": null,
      "width": null
     }
    },
    "5fafe5c014ae43b3ba8f6a482a0421f4": {
     "model_module": "@jupyter-widgets/controls",
     "model_module_version": "1.5.0",
     "model_name": "DescriptionStyleModel",
     "state": {
      "_model_module": "@jupyter-widgets/controls",
      "_model_module_version": "1.5.0",
      "_model_name": "DescriptionStyleModel",
      "_view_count": null,
      "_view_module": "@jupyter-widgets/base",
      "_view_module_version": "1.2.0",
      "_view_name": "StyleView",
      "description_width": ""
     }
    },
    "65857156bc314a74b4b6d6e81878c06f": {
     "model_module": "@jupyter-widgets/controls",
     "model_module_version": "1.5.0",
     "model_name": "HTMLModel",
     "state": {
      "_dom_classes": [],
      "_model_module": "@jupyter-widgets/controls",
      "_model_module_version": "1.5.0",
      "_model_name": "HTMLModel",
      "_view_count": null,
      "_view_module": "@jupyter-widgets/controls",
      "_view_module_version": "1.5.0",
      "_view_name": "HTMLView",
      "description": "",
      "description_tooltip": null,
      "layout": "IPY_MODEL_b2bbea08f83647228069f4ab80eb10d5",
      "placeholder": "​",
      "style": "IPY_MODEL_7c7e5c6afb8543babc32aecb3979166b",
      "value": " 112/112 [00:00&lt;00:00, 9.94kB/s]"
     }
    },
    "68fb54d9277040d090d79799e8c189ae": {
     "model_module": "@jupyter-widgets/base",
     "model_module_version": "1.2.0",
     "model_name": "LayoutModel",
     "state": {
      "_model_module": "@jupyter-widgets/base",
      "_model_module_version": "1.2.0",
      "_model_name": "LayoutModel",
      "_view_count": null,
      "_view_module": "@jupyter-widgets/base",
      "_view_module_version": "1.2.0",
      "_view_name": "LayoutView",
      "align_content": null,
      "align_items": null,
      "align_self": null,
      "border": null,
      "bottom": null,
      "display": null,
      "flex": null,
      "flex_flow": null,
      "grid_area": null,
      "grid_auto_columns": null,
      "grid_auto_flow": null,
      "grid_auto_rows": null,
      "grid_column": null,
      "grid_gap": null,
      "grid_row": null,
      "grid_template_areas": null,
      "grid_template_columns": null,
      "grid_template_rows": null,
      "height": null,
      "justify_content": null,
      "justify_items": null,
      "left": null,
      "margin": null,
      "max_height": null,
      "max_width": null,
      "min_height": null,
      "min_width": null,
      "object_fit": null,
      "object_position": null,
      "order": null,
      "overflow": null,
      "overflow_x": null,
      "overflow_y": null,
      "padding": null,
      "right": null,
      "top": null,
      "visibility": null,
      "width": null
     }
    },
    "6b6c0bb7e54e45008e2ef97af96b307b": {
     "model_module": "@jupyter-widgets/base",
     "model_module_version": "1.2.0",
     "model_name": "LayoutModel",
     "state": {
      "_model_module": "@jupyter-widgets/base",
      "_model_module_version": "1.2.0",
      "_model_name": "LayoutModel",
      "_view_count": null,
      "_view_module": "@jupyter-widgets/base",
      "_view_module_version": "1.2.0",
      "_view_name": "LayoutView",
      "align_content": null,
      "align_items": null,
      "align_self": null,
      "border": null,
      "bottom": null,
      "display": null,
      "flex": null,
      "flex_flow": null,
      "grid_area": null,
      "grid_auto_columns": null,
      "grid_auto_flow": null,
      "grid_auto_rows": null,
      "grid_column": null,
      "grid_gap": null,
      "grid_row": null,
      "grid_template_areas": null,
      "grid_template_columns": null,
      "grid_template_rows": null,
      "height": null,
      "justify_content": null,
      "justify_items": null,
      "left": null,
      "margin": null,
      "max_height": null,
      "max_width": null,
      "min_height": null,
      "min_width": null,
      "object_fit": null,
      "object_position": null,
      "order": null,
      "overflow": null,
      "overflow_x": null,
      "overflow_y": null,
      "padding": null,
      "right": null,
      "top": null,
      "visibility": null,
      "width": null
     }
    },
    "6c11798a6a4b4b18811e88f8151a1cb6": {
     "model_module": "@jupyter-widgets/base",
     "model_module_version": "1.2.0",
     "model_name": "LayoutModel",
     "state": {
      "_model_module": "@jupyter-widgets/base",
      "_model_module_version": "1.2.0",
      "_model_name": "LayoutModel",
      "_view_count": null,
      "_view_module": "@jupyter-widgets/base",
      "_view_module_version": "1.2.0",
      "_view_name": "LayoutView",
      "align_content": null,
      "align_items": null,
      "align_self": null,
      "border": null,
      "bottom": null,
      "display": null,
      "flex": null,
      "flex_flow": null,
      "grid_area": null,
      "grid_auto_columns": null,
      "grid_auto_flow": null,
      "grid_auto_rows": null,
      "grid_column": null,
      "grid_gap": null,
      "grid_row": null,
      "grid_template_areas": null,
      "grid_template_columns": null,
      "grid_template_rows": null,
      "height": null,
      "justify_content": null,
      "justify_items": null,
      "left": null,
      "margin": null,
      "max_height": null,
      "max_width": null,
      "min_height": null,
      "min_width": null,
      "object_fit": null,
      "object_position": null,
      "order": null,
      "overflow": null,
      "overflow_x": null,
      "overflow_y": null,
      "padding": null,
      "right": null,
      "top": null,
      "visibility": null,
      "width": null
     }
    },
    "6e9540f8ee20420ca7e781f25800f824": {
     "model_module": "@jupyter-widgets/base",
     "model_module_version": "1.2.0",
     "model_name": "LayoutModel",
     "state": {
      "_model_module": "@jupyter-widgets/base",
      "_model_module_version": "1.2.0",
      "_model_name": "LayoutModel",
      "_view_count": null,
      "_view_module": "@jupyter-widgets/base",
      "_view_module_version": "1.2.0",
      "_view_name": "LayoutView",
      "align_content": null,
      "align_items": null,
      "align_self": null,
      "border": null,
      "bottom": null,
      "display": null,
      "flex": null,
      "flex_flow": null,
      "grid_area": null,
      "grid_auto_columns": null,
      "grid_auto_flow": null,
      "grid_auto_rows": null,
      "grid_column": null,
      "grid_gap": null,
      "grid_row": null,
      "grid_template_areas": null,
      "grid_template_columns": null,
      "grid_template_rows": null,
      "height": null,
      "justify_content": null,
      "justify_items": null,
      "left": null,
      "margin": null,
      "max_height": null,
      "max_width": null,
      "min_height": null,
      "min_width": null,
      "object_fit": null,
      "object_position": null,
      "order": null,
      "overflow": null,
      "overflow_x": null,
      "overflow_y": null,
      "padding": null,
      "right": null,
      "top": null,
      "visibility": null,
      "width": null
     }
    },
    "6eb9d3074d204bcb9a2dfb60d58ce8b8": {
     "model_module": "@jupyter-widgets/base",
     "model_module_version": "1.2.0",
     "model_name": "LayoutModel",
     "state": {
      "_model_module": "@jupyter-widgets/base",
      "_model_module_version": "1.2.0",
      "_model_name": "LayoutModel",
      "_view_count": null,
      "_view_module": "@jupyter-widgets/base",
      "_view_module_version": "1.2.0",
      "_view_name": "LayoutView",
      "align_content": null,
      "align_items": null,
      "align_self": null,
      "border": null,
      "bottom": null,
      "display": null,
      "flex": null,
      "flex_flow": null,
      "grid_area": null,
      "grid_auto_columns": null,
      "grid_auto_flow": null,
      "grid_auto_rows": null,
      "grid_column": null,
      "grid_gap": null,
      "grid_row": null,
      "grid_template_areas": null,
      "grid_template_columns": null,
      "grid_template_rows": null,
      "height": null,
      "justify_content": null,
      "justify_items": null,
      "left": null,
      "margin": null,
      "max_height": null,
      "max_width": null,
      "min_height": null,
      "min_width": null,
      "object_fit": null,
      "object_position": null,
      "order": null,
      "overflow": null,
      "overflow_x": null,
      "overflow_y": null,
      "padding": null,
      "right": null,
      "top": null,
      "visibility": null,
      "width": null
     }
    },
    "71bd018029834e759f5a43bd321dc736": {
     "model_module": "@jupyter-widgets/controls",
     "model_module_version": "1.5.0",
     "model_name": "HTMLModel",
     "state": {
      "_dom_classes": [],
      "_model_module": "@jupyter-widgets/controls",
      "_model_module_version": "1.5.0",
      "_model_name": "HTMLModel",
      "_view_count": null,
      "_view_module": "@jupyter-widgets/controls",
      "_view_module_version": "1.5.0",
      "_view_name": "HTMLView",
      "description": "",
      "description_tooltip": null,
      "layout": "IPY_MODEL_6e9540f8ee20420ca7e781f25800f824",
      "placeholder": "​",
      "style": "IPY_MODEL_c399aa0a6ba14142bce6756390779422",
      "value": " 239/239 [00:00&lt;00:00, 18.6kB/s]"
     }
    },
    "725552f2c7bc46abb465fbd54cb3991f": {
     "model_module": "@jupyter-widgets/controls",
     "model_module_version": "1.5.0",
     "model_name": "FloatProgressModel",
     "state": {
      "_dom_classes": [],
      "_model_module": "@jupyter-widgets/controls",
      "_model_module_version": "1.5.0",
      "_model_name": "FloatProgressModel",
      "_view_count": null,
      "_view_module": "@jupyter-widgets/controls",
      "_view_module_version": "1.5.0",
      "_view_name": "ProgressView",
      "bar_style": "success",
      "description": "",
      "description_tooltip": null,
      "layout": "IPY_MODEL_29f4ee70446e42d98f474cddffa8d268",
      "max": 842,
      "min": 0,
      "orientation": "horizontal",
      "style": "IPY_MODEL_be43cc219369484196a12a8b86ccd277",
      "value": 842
     }
    },
    "739e9a86555e4354b8452519577fc7fc": {
     "model_module": "@jupyter-widgets/controls",
     "model_module_version": "1.5.0",
     "model_name": "FloatProgressModel",
     "state": {
      "_dom_classes": [],
      "_model_module": "@jupyter-widgets/controls",
      "_model_module_version": "1.5.0",
      "_model_name": "FloatProgressModel",
      "_view_count": null,
      "_view_module": "@jupyter-widgets/controls",
      "_view_module_version": "1.5.0",
      "_view_name": "ProgressView",
      "bar_style": "success",
      "description": "",
      "description_tooltip": null,
      "layout": "IPY_MODEL_777f1726e5a149589a4928d4ca3109ff",
      "max": 239,
      "min": 0,
      "orientation": "horizontal",
      "style": "IPY_MODEL_1a162d1da46148a789cc6d1a6e44a2b8",
      "value": 239
     }
    },
    "777f1726e5a149589a4928d4ca3109ff": {
     "model_module": "@jupyter-widgets/base",
     "model_module_version": "1.2.0",
     "model_name": "LayoutModel",
     "state": {
      "_model_module": "@jupyter-widgets/base",
      "_model_module_version": "1.2.0",
      "_model_name": "LayoutModel",
      "_view_count": null,
      "_view_module": "@jupyter-widgets/base",
      "_view_module_version": "1.2.0",
      "_view_name": "LayoutView",
      "align_content": null,
      "align_items": null,
      "align_self": null,
      "border": null,
      "bottom": null,
      "display": null,
      "flex": null,
      "flex_flow": null,
      "grid_area": null,
      "grid_auto_columns": null,
      "grid_auto_flow": null,
      "grid_auto_rows": null,
      "grid_column": null,
      "grid_gap": null,
      "grid_row": null,
      "grid_template_areas": null,
      "grid_template_columns": null,
      "grid_template_rows": null,
      "height": null,
      "justify_content": null,
      "justify_items": null,
      "left": null,
      "margin": null,
      "max_height": null,
      "max_width": null,
      "min_height": null,
      "min_width": null,
      "object_fit": null,
      "object_position": null,
      "order": null,
      "overflow": null,
      "overflow_x": null,
      "overflow_y": null,
      "padding": null,
      "right": null,
      "top": null,
      "visibility": null,
      "width": null
     }
    },
    "7c7e5c6afb8543babc32aecb3979166b": {
     "model_module": "@jupyter-widgets/controls",
     "model_module_version": "1.5.0",
     "model_name": "DescriptionStyleModel",
     "state": {
      "_model_module": "@jupyter-widgets/controls",
      "_model_module_version": "1.5.0",
      "_model_name": "DescriptionStyleModel",
      "_view_count": null,
      "_view_module": "@jupyter-widgets/base",
      "_view_module_version": "1.2.0",
      "_view_name": "StyleView",
      "description_width": ""
     }
    },
    "7d19801066774043a020dfe9699d8299": {
     "model_module": "@jupyter-widgets/controls",
     "model_module_version": "1.5.0",
     "model_name": "HBoxModel",
     "state": {
      "_dom_classes": [],
      "_model_module": "@jupyter-widgets/controls",
      "_model_module_version": "1.5.0",
      "_model_name": "HBoxModel",
      "_view_count": null,
      "_view_module": "@jupyter-widgets/controls",
      "_view_module_version": "1.5.0",
      "_view_name": "HBoxView",
      "box_style": "",
      "children": [
       "IPY_MODEL_ba64a34a3e6140e5ab2057427fe43659",
       "IPY_MODEL_07ef82ae9d494526ba706a1620854a70",
       "IPY_MODEL_084d611de43b4253b8ace998f0e0752a"
      ],
      "layout": "IPY_MODEL_e6502631b9254cfdb2b0f9308f7b21ba"
     }
    },
    "7f3fb054340f4861924dbc20fbb42348": {
     "model_module": "@jupyter-widgets/base",
     "model_module_version": "1.2.0",
     "model_name": "LayoutModel",
     "state": {
      "_model_module": "@jupyter-widgets/base",
      "_model_module_version": "1.2.0",
      "_model_name": "LayoutModel",
      "_view_count": null,
      "_view_module": "@jupyter-widgets/base",
      "_view_module_version": "1.2.0",
      "_view_name": "LayoutView",
      "align_content": null,
      "align_items": null,
      "align_self": null,
      "border": null,
      "bottom": null,
      "display": null,
      "flex": null,
      "flex_flow": null,
      "grid_area": null,
      "grid_auto_columns": null,
      "grid_auto_flow": null,
      "grid_auto_rows": null,
      "grid_column": null,
      "grid_gap": null,
      "grid_row": null,
      "grid_template_areas": null,
      "grid_template_columns": null,
      "grid_template_rows": null,
      "height": null,
      "justify_content": null,
      "justify_items": null,
      "left": null,
      "margin": null,
      "max_height": null,
      "max_width": null,
      "min_height": null,
      "min_width": null,
      "object_fit": null,
      "object_position": null,
      "order": null,
      "overflow": null,
      "overflow_x": null,
      "overflow_y": null,
      "padding": null,
      "right": null,
      "top": null,
      "visibility": null,
      "width": null
     }
    },
    "7fc32dfe05904d9ebbf6f62b556470f5": {
     "model_module": "@jupyter-widgets/controls",
     "model_module_version": "1.5.0",
     "model_name": "DescriptionStyleModel",
     "state": {
      "_model_module": "@jupyter-widgets/controls",
      "_model_module_version": "1.5.0",
      "_model_name": "DescriptionStyleModel",
      "_view_count": null,
      "_view_module": "@jupyter-widgets/base",
      "_view_module_version": "1.2.0",
      "_view_name": "StyleView",
      "description_width": ""
     }
    },
    "7fedcb0d5c1a404faf5d96e5ba57b981": {
     "model_module": "@jupyter-widgets/controls",
     "model_module_version": "1.5.0",
     "model_name": "DescriptionStyleModel",
     "state": {
      "_model_module": "@jupyter-widgets/controls",
      "_model_module_version": "1.5.0",
      "_model_name": "DescriptionStyleModel",
      "_view_count": null,
      "_view_module": "@jupyter-widgets/base",
      "_view_module_version": "1.2.0",
      "_view_name": "StyleView",
      "description_width": ""
     }
    },
    "8452382aa0234ea7be858dff25fd3bbb": {
     "model_module": "@jupyter-widgets/base",
     "model_module_version": "1.2.0",
     "model_name": "LayoutModel",
     "state": {
      "_model_module": "@jupyter-widgets/base",
      "_model_module_version": "1.2.0",
      "_model_name": "LayoutModel",
      "_view_count": null,
      "_view_module": "@jupyter-widgets/base",
      "_view_module_version": "1.2.0",
      "_view_name": "LayoutView",
      "align_content": null,
      "align_items": null,
      "align_self": null,
      "border": null,
      "bottom": null,
      "display": null,
      "flex": null,
      "flex_flow": null,
      "grid_area": null,
      "grid_auto_columns": null,
      "grid_auto_flow": null,
      "grid_auto_rows": null,
      "grid_column": null,
      "grid_gap": null,
      "grid_row": null,
      "grid_template_areas": null,
      "grid_template_columns": null,
      "grid_template_rows": null,
      "height": null,
      "justify_content": null,
      "justify_items": null,
      "left": null,
      "margin": null,
      "max_height": null,
      "max_width": null,
      "min_height": null,
      "min_width": null,
      "object_fit": null,
      "object_position": null,
      "order": null,
      "overflow": null,
      "overflow_x": null,
      "overflow_y": null,
      "padding": null,
      "right": null,
      "top": null,
      "visibility": null,
      "width": null
     }
    },
    "8860e3071a4c4f5c9c46169f9442afba": {
     "model_module": "@jupyter-widgets/base",
     "model_module_version": "1.2.0",
     "model_name": "LayoutModel",
     "state": {
      "_model_module": "@jupyter-widgets/base",
      "_model_module_version": "1.2.0",
      "_model_name": "LayoutModel",
      "_view_count": null,
      "_view_module": "@jupyter-widgets/base",
      "_view_module_version": "1.2.0",
      "_view_name": "LayoutView",
      "align_content": null,
      "align_items": null,
      "align_self": null,
      "border": null,
      "bottom": null,
      "display": null,
      "flex": null,
      "flex_flow": null,
      "grid_area": null,
      "grid_auto_columns": null,
      "grid_auto_flow": null,
      "grid_auto_rows": null,
      "grid_column": null,
      "grid_gap": null,
      "grid_row": null,
      "grid_template_areas": null,
      "grid_template_columns": null,
      "grid_template_rows": null,
      "height": null,
      "justify_content": null,
      "justify_items": null,
      "left": null,
      "margin": null,
      "max_height": null,
      "max_width": null,
      "min_height": null,
      "min_width": null,
      "object_fit": null,
      "object_position": null,
      "order": null,
      "overflow": null,
      "overflow_x": null,
      "overflow_y": null,
      "padding": null,
      "right": null,
      "top": null,
      "visibility": null,
      "width": null
     }
    },
    "8db084db743e4d5887024dfd1b311c37": {
     "model_module": "@jupyter-widgets/base",
     "model_module_version": "1.2.0",
     "model_name": "LayoutModel",
     "state": {
      "_model_module": "@jupyter-widgets/base",
      "_model_module_version": "1.2.0",
      "_model_name": "LayoutModel",
      "_view_count": null,
      "_view_module": "@jupyter-widgets/base",
      "_view_module_version": "1.2.0",
      "_view_name": "LayoutView",
      "align_content": null,
      "align_items": null,
      "align_self": null,
      "border": null,
      "bottom": null,
      "display": null,
      "flex": null,
      "flex_flow": null,
      "grid_area": null,
      "grid_auto_columns": null,
      "grid_auto_flow": null,
      "grid_auto_rows": null,
      "grid_column": null,
      "grid_gap": null,
      "grid_row": null,
      "grid_template_areas": null,
      "grid_template_columns": null,
      "grid_template_rows": null,
      "height": null,
      "justify_content": null,
      "justify_items": null,
      "left": null,
      "margin": null,
      "max_height": null,
      "max_width": null,
      "min_height": null,
      "min_width": null,
      "object_fit": null,
      "object_position": null,
      "order": null,
      "overflow": null,
      "overflow_x": null,
      "overflow_y": null,
      "padding": null,
      "right": null,
      "top": null,
      "visibility": null,
      "width": "20px"
     }
    },
    "911ddaf7882345f1aa884c00a7bb14db": {
     "model_module": "@jupyter-widgets/controls",
     "model_module_version": "1.5.0",
     "model_name": "FloatProgressModel",
     "state": {
      "_dom_classes": [],
      "_model_module": "@jupyter-widgets/controls",
      "_model_module_version": "1.5.0",
      "_model_name": "FloatProgressModel",
      "_view_count": null,
      "_view_module": "@jupyter-widgets/controls",
      "_view_module_version": "1.5.0",
      "_view_name": "ProgressView",
      "bar_style": "success",
      "description": "",
      "description_tooltip": null,
      "layout": "IPY_MODEL_1b74b45a1cd6461b823b1bdd87a47bee",
      "max": 470641600,
      "min": 0,
      "orientation": "horizontal",
      "style": "IPY_MODEL_5e1df04b63dc45ec84564c6fc2290f01",
      "value": 470641600
     }
    },
    "912062ab2fdc4af9a3cc99cb38617294": {
     "model_module": "@jupyter-widgets/controls",
     "model_module_version": "1.5.0",
     "model_name": "FloatProgressModel",
     "state": {
      "_dom_classes": [],
      "_model_module": "@jupyter-widgets/controls",
      "_model_module_version": "1.5.0",
      "_model_name": "FloatProgressModel",
      "_view_count": null,
      "_view_module": "@jupyter-widgets/controls",
      "_view_module_version": "1.5.0",
      "_view_name": "ProgressView",
      "bar_style": "success",
      "description": "",
      "description_tooltip": null,
      "layout": "IPY_MODEL_8db084db743e4d5887024dfd1b311c37",
      "max": 1,
      "min": 0,
      "orientation": "horizontal",
      "style": "IPY_MODEL_e95776418d1248f8a5f75bbd67adc4d8",
      "value": 1
     }
    },
    "97d407b3e3c94fa5a2f5546a92544586": {
     "model_module": "@jupyter-widgets/controls",
     "model_module_version": "1.5.0",
     "model_name": "HTMLModel",
     "state": {
      "_dom_classes": [],
      "_model_module": "@jupyter-widgets/controls",
      "_model_module_version": "1.5.0",
      "_model_name": "HTMLModel",
      "_view_count": null,
      "_view_module": "@jupyter-widgets/controls",
      "_view_module_version": "1.5.0",
      "_view_name": "HTMLView",
      "description": "",
      "description_tooltip": null,
      "layout": "IPY_MODEL_da9b5ae48b9748c3a19005c9f28251e1",
      "placeholder": "​",
      "style": "IPY_MODEL_e1fc41c7e9e04cf4b2a9ac8d19561d3e",
      "value": "special_tokens_map.json: 100%"
     }
    },
    "982fb0b24d394e7d9d25b367cbb1c768": {
     "model_module": "@jupyter-widgets/base",
     "model_module_version": "1.2.0",
     "model_name": "LayoutModel",
     "state": {
      "_model_module": "@jupyter-widgets/base",
      "_model_module_version": "1.2.0",
      "_model_name": "LayoutModel",
      "_view_count": null,
      "_view_module": "@jupyter-widgets/base",
      "_view_module_version": "1.2.0",
      "_view_name": "LayoutView",
      "align_content": null,
      "align_items": null,
      "align_self": null,
      "border": null,
      "bottom": null,
      "display": null,
      "flex": null,
      "flex_flow": null,
      "grid_area": null,
      "grid_auto_columns": null,
      "grid_auto_flow": null,
      "grid_auto_rows": null,
      "grid_column": null,
      "grid_gap": null,
      "grid_row": null,
      "grid_template_areas": null,
      "grid_template_columns": null,
      "grid_template_rows": null,
      "height": null,
      "justify_content": null,
      "justify_items": null,
      "left": null,
      "margin": null,
      "max_height": null,
      "max_width": null,
      "min_height": null,
      "min_width": null,
      "object_fit": null,
      "object_position": null,
      "order": null,
      "overflow": null,
      "overflow_x": null,
      "overflow_y": null,
      "padding": null,
      "right": null,
      "top": null,
      "visibility": null,
      "width": null
     }
    },
    "9af5fc15750d44148e10b013253b4d5a": {
     "model_module": "@jupyter-widgets/controls",
     "model_module_version": "1.5.0",
     "model_name": "DescriptionStyleModel",
     "state": {
      "_model_module": "@jupyter-widgets/controls",
      "_model_module_version": "1.5.0",
      "_model_name": "DescriptionStyleModel",
      "_view_count": null,
      "_view_module": "@jupyter-widgets/base",
      "_view_module_version": "1.2.0",
      "_view_name": "StyleView",
      "description_width": ""
     }
    },
    "9dcda291e58442f4b15b1eced723e9e4": {
     "model_module": "@jupyter-widgets/controls",
     "model_module_version": "1.5.0",
     "model_name": "DescriptionStyleModel",
     "state": {
      "_model_module": "@jupyter-widgets/controls",
      "_model_module_version": "1.5.0",
      "_model_name": "DescriptionStyleModel",
      "_view_count": null,
      "_view_module": "@jupyter-widgets/base",
      "_view_module_version": "1.2.0",
      "_view_name": "StyleView",
      "description_width": ""
     }
    },
    "9ead49d232ef4c41a517ed5931f3fc43": {
     "model_module": "@jupyter-widgets/controls",
     "model_module_version": "1.5.0",
     "model_name": "FloatProgressModel",
     "state": {
      "_dom_classes": [],
      "_model_module": "@jupyter-widgets/controls",
      "_model_module_version": "1.5.0",
      "_model_name": "FloatProgressModel",
      "_view_count": null,
      "_view_module": "@jupyter-widgets/controls",
      "_view_module_version": "1.5.0",
      "_view_name": "ProgressView",
      "bar_style": "success",
      "description": "",
      "description_tooltip": null,
      "layout": "IPY_MODEL_1b9304aec67e4743b5480f3f7946503c",
      "max": 112,
      "min": 0,
      "orientation": "horizontal",
      "style": "IPY_MODEL_a1763514671c4ab39270004479f8ba80",
      "value": 112
     }
    },
    "9f7cbcbe09d94ac3b3d2caee27412541": {
     "model_module": "@jupyter-widgets/controls",
     "model_module_version": "1.5.0",
     "model_name": "HTMLModel",
     "state": {
      "_dom_classes": [],
      "_model_module": "@jupyter-widgets/controls",
      "_model_module_version": "1.5.0",
      "_model_name": "HTMLModel",
      "_view_count": null,
      "_view_module": "@jupyter-widgets/controls",
      "_view_module_version": "1.5.0",
      "_view_name": "HTMLView",
      "description": "",
      "description_tooltip": null,
      "layout": "IPY_MODEL_982fb0b24d394e7d9d25b367cbb1c768",
      "placeholder": "​",
      "style": "IPY_MODEL_a351c40409e04dfc94210c1d0294b5f8",
      "value": "config.json: 100%"
     }
    },
    "a0723cf4175f4d8dbfe6f59451bf5296": {
     "model_module": "@jupyter-widgets/base",
     "model_module_version": "1.2.0",
     "model_name": "LayoutModel",
     "state": {
      "_model_module": "@jupyter-widgets/base",
      "_model_module_version": "1.2.0",
      "_model_name": "LayoutModel",
      "_view_count": null,
      "_view_module": "@jupyter-widgets/base",
      "_view_module_version": "1.2.0",
      "_view_name": "LayoutView",
      "align_content": null,
      "align_items": null,
      "align_self": null,
      "border": null,
      "bottom": null,
      "display": null,
      "flex": null,
      "flex_flow": null,
      "grid_area": null,
      "grid_auto_columns": null,
      "grid_auto_flow": null,
      "grid_auto_rows": null,
      "grid_column": null,
      "grid_gap": null,
      "grid_row": null,
      "grid_template_areas": null,
      "grid_template_columns": null,
      "grid_template_rows": null,
      "height": null,
      "justify_content": null,
      "justify_items": null,
      "left": null,
      "margin": null,
      "max_height": null,
      "max_width": null,
      "min_height": null,
      "min_width": null,
      "object_fit": null,
      "object_position": null,
      "order": null,
      "overflow": null,
      "overflow_x": null,
      "overflow_y": null,
      "padding": null,
      "right": null,
      "top": null,
      "visibility": null,
      "width": null
     }
    },
    "a1763514671c4ab39270004479f8ba80": {
     "model_module": "@jupyter-widgets/controls",
     "model_module_version": "1.5.0",
     "model_name": "ProgressStyleModel",
     "state": {
      "_model_module": "@jupyter-widgets/controls",
      "_model_module_version": "1.5.0",
      "_model_name": "ProgressStyleModel",
      "_view_count": null,
      "_view_module": "@jupyter-widgets/base",
      "_view_module_version": "1.2.0",
      "_view_name": "StyleView",
      "bar_color": null,
      "description_width": ""
     }
    },
    "a351c40409e04dfc94210c1d0294b5f8": {
     "model_module": "@jupyter-widgets/controls",
     "model_module_version": "1.5.0",
     "model_name": "DescriptionStyleModel",
     "state": {
      "_model_module": "@jupyter-widgets/controls",
      "_model_module_version": "1.5.0",
      "_model_name": "DescriptionStyleModel",
      "_view_count": null,
      "_view_module": "@jupyter-widgets/base",
      "_view_module_version": "1.2.0",
      "_view_name": "StyleView",
      "description_width": ""
     }
    },
    "a5cdf9e3f3e7438b9b75ab87851a3f42": {
     "model_module": "@jupyter-widgets/base",
     "model_module_version": "1.2.0",
     "model_name": "LayoutModel",
     "state": {
      "_model_module": "@jupyter-widgets/base",
      "_model_module_version": "1.2.0",
      "_model_name": "LayoutModel",
      "_view_count": null,
      "_view_module": "@jupyter-widgets/base",
      "_view_module_version": "1.2.0",
      "_view_name": "LayoutView",
      "align_content": null,
      "align_items": null,
      "align_self": null,
      "border": null,
      "bottom": null,
      "display": null,
      "flex": null,
      "flex_flow": null,
      "grid_area": null,
      "grid_auto_columns": null,
      "grid_auto_flow": null,
      "grid_auto_rows": null,
      "grid_column": null,
      "grid_gap": null,
      "grid_row": null,
      "grid_template_areas": null,
      "grid_template_columns": null,
      "grid_template_rows": null,
      "height": null,
      "justify_content": null,
      "justify_items": null,
      "left": null,
      "margin": null,
      "max_height": null,
      "max_width": null,
      "min_height": null,
      "min_width": null,
      "object_fit": null,
      "object_position": null,
      "order": null,
      "overflow": null,
      "overflow_x": null,
      "overflow_y": null,
      "padding": null,
      "right": null,
      "top": null,
      "visibility": null,
      "width": null
     }
    },
    "a6f20d9daa924a9cba68660961804338": {
     "model_module": "@jupyter-widgets/controls",
     "model_module_version": "1.5.0",
     "model_name": "DescriptionStyleModel",
     "state": {
      "_model_module": "@jupyter-widgets/controls",
      "_model_module_version": "1.5.0",
      "_model_name": "DescriptionStyleModel",
      "_view_count": null,
      "_view_module": "@jupyter-widgets/base",
      "_view_module_version": "1.2.0",
      "_view_name": "StyleView",
      "description_width": ""
     }
    },
    "ad1704fa5b1e44c3bcbc741b4432fe1b": {
     "model_module": "@jupyter-widgets/controls",
     "model_module_version": "1.5.0",
     "model_name": "HTMLModel",
     "state": {
      "_dom_classes": [],
      "_model_module": "@jupyter-widgets/controls",
      "_model_module_version": "1.5.0",
      "_model_name": "HTMLModel",
      "_view_count": null,
      "_view_module": "@jupyter-widgets/controls",
      "_view_module_version": "1.5.0",
      "_view_name": "HTMLView",
      "description": "",
      "description_tooltip": null,
      "layout": "IPY_MODEL_8452382aa0234ea7be858dff25fd3bbb",
      "placeholder": "​",
      "style": "IPY_MODEL_f7d4dcfab8c946a1a2d9d9af12d9f2b0",
      "value": " 9.08M/9.08M [00:00&lt;00:00, 13.6MB/s]"
     }
    },
    "b2b3aa6cada74e2298ff284b5f1e0bbd": {
     "model_module": "@jupyter-widgets/controls",
     "model_module_version": "1.5.0",
     "model_name": "DescriptionStyleModel",
     "state": {
      "_model_module": "@jupyter-widgets/controls",
      "_model_module_version": "1.5.0",
      "_model_name": "DescriptionStyleModel",
      "_view_count": null,
      "_view_module": "@jupyter-widgets/base",
      "_view_module_version": "1.2.0",
      "_view_name": "StyleView",
      "description_width": ""
     }
    },
    "b2bbea08f83647228069f4ab80eb10d5": {
     "model_module": "@jupyter-widgets/base",
     "model_module_version": "1.2.0",
     "model_name": "LayoutModel",
     "state": {
      "_model_module": "@jupyter-widgets/base",
      "_model_module_version": "1.2.0",
      "_model_name": "LayoutModel",
      "_view_count": null,
      "_view_module": "@jupyter-widgets/base",
      "_view_module_version": "1.2.0",
      "_view_name": "LayoutView",
      "align_content": null,
      "align_items": null,
      "align_self": null,
      "border": null,
      "bottom": null,
      "display": null,
      "flex": null,
      "flex_flow": null,
      "grid_area": null,
      "grid_auto_columns": null,
      "grid_auto_flow": null,
      "grid_auto_rows": null,
      "grid_column": null,
      "grid_gap": null,
      "grid_row": null,
      "grid_template_areas": null,
      "grid_template_columns": null,
      "grid_template_rows": null,
      "height": null,
      "justify_content": null,
      "justify_items": null,
      "left": null,
      "margin": null,
      "max_height": null,
      "max_width": null,
      "min_height": null,
      "min_width": null,
      "object_fit": null,
      "object_position": null,
      "order": null,
      "overflow": null,
      "overflow_x": null,
      "overflow_y": null,
      "padding": null,
      "right": null,
      "top": null,
      "visibility": null,
      "width": null
     }
    },
    "ba64a34a3e6140e5ab2057427fe43659": {
     "model_module": "@jupyter-widgets/controls",
     "model_module_version": "1.5.0",
     "model_name": "HTMLModel",
     "state": {
      "_dom_classes": [],
      "_model_module": "@jupyter-widgets/controls",
      "_model_module_version": "1.5.0",
      "_model_name": "HTMLModel",
      "_view_count": null,
      "_view_module": "@jupyter-widgets/controls",
      "_view_module_version": "1.5.0",
      "_view_name": "HTMLView",
      "description": "",
      "description_tooltip": null,
      "layout": "IPY_MODEL_0fcfd14279c048d4aba74c4a3744b999",
      "placeholder": "​",
      "style": "IPY_MODEL_c1c12aa337e2405a8f3943cb46841e31",
      "value": "tokenizer_config.json: 100%"
     }
    },
    "be43cc219369484196a12a8b86ccd277": {
     "model_module": "@jupyter-widgets/controls",
     "model_module_version": "1.5.0",
     "model_name": "ProgressStyleModel",
     "state": {
      "_model_module": "@jupyter-widgets/controls",
      "_model_module_version": "1.5.0",
      "_model_name": "ProgressStyleModel",
      "_view_count": null,
      "_view_module": "@jupyter-widgets/base",
      "_view_module_version": "1.2.0",
      "_view_name": "StyleView",
      "bar_color": null,
      "description_width": ""
     }
    },
    "c1c12aa337e2405a8f3943cb46841e31": {
     "model_module": "@jupyter-widgets/controls",
     "model_module_version": "1.5.0",
     "model_name": "DescriptionStyleModel",
     "state": {
      "_model_module": "@jupyter-widgets/controls",
      "_model_module_version": "1.5.0",
      "_model_name": "DescriptionStyleModel",
      "_view_count": null,
      "_view_module": "@jupyter-widgets/base",
      "_view_module_version": "1.2.0",
      "_view_name": "StyleView",
      "description_width": ""
     }
    },
    "c399aa0a6ba14142bce6756390779422": {
     "model_module": "@jupyter-widgets/controls",
     "model_module_version": "1.5.0",
     "model_name": "DescriptionStyleModel",
     "state": {
      "_model_module": "@jupyter-widgets/controls",
      "_model_module_version": "1.5.0",
      "_model_name": "DescriptionStyleModel",
      "_view_count": null,
      "_view_module": "@jupyter-widgets/base",
      "_view_module_version": "1.2.0",
      "_view_name": "StyleView",
      "description_width": ""
     }
    },
    "c982f3079e9947fa934f84ed3557f2ab": {
     "model_module": "@jupyter-widgets/controls",
     "model_module_version": "1.5.0",
     "model_name": "HBoxModel",
     "state": {
      "_dom_classes": [],
      "_model_module": "@jupyter-widgets/controls",
      "_model_module_version": "1.5.0",
      "_model_name": "HBoxModel",
      "_view_count": null,
      "_view_module": "@jupyter-widgets/controls",
      "_view_module_version": "1.5.0",
      "_view_name": "HBoxView",
      "box_style": "",
      "children": [
       "IPY_MODEL_28444d50850d4a89aac52b78ae4f4573",
       "IPY_MODEL_9ead49d232ef4c41a517ed5931f3fc43",
       "IPY_MODEL_65857156bc314a74b4b6d6e81878c06f"
      ],
      "layout": "IPY_MODEL_129b399f5da84f96bdc989224beb6104"
     }
    },
    "c98d23536ff140b5964579e9c0221553": {
     "model_module": "@jupyter-widgets/controls",
     "model_module_version": "1.5.0",
     "model_name": "DescriptionStyleModel",
     "state": {
      "_model_module": "@jupyter-widgets/controls",
      "_model_module_version": "1.5.0",
      "_model_name": "DescriptionStyleModel",
      "_view_count": null,
      "_view_module": "@jupyter-widgets/base",
      "_view_module_version": "1.2.0",
      "_view_name": "StyleView",
      "description_width": ""
     }
    },
    "ca8af3201c1741138ac700ef4f02b395": {
     "model_module": "@jupyter-widgets/controls",
     "model_module_version": "1.5.0",
     "model_name": "HBoxModel",
     "state": {
      "_dom_classes": [],
      "_model_module": "@jupyter-widgets/controls",
      "_model_module_version": "1.5.0",
      "_model_name": "HBoxModel",
      "_view_count": null,
      "_view_module": "@jupyter-widgets/controls",
      "_view_module_version": "1.5.0",
      "_view_name": "HBoxView",
      "box_style": "",
      "children": [
       "IPY_MODEL_03e7c490ff02443d95e645b1e15232b8",
       "IPY_MODEL_d7ebc5e3445d429a9562162067df8937",
       "IPY_MODEL_09fb7ba42950445086e14166064b0356"
      ],
      "layout": "IPY_MODEL_55b99023084c4edda75df56c85d1532a"
     }
    },
    "cc1433f016ba4a70baddec9529eb766a": {
     "model_module": "@jupyter-widgets/base",
     "model_module_version": "1.2.0",
     "model_name": "LayoutModel",
     "state": {
      "_model_module": "@jupyter-widgets/base",
      "_model_module_version": "1.2.0",
      "_model_name": "LayoutModel",
      "_view_count": null,
      "_view_module": "@jupyter-widgets/base",
      "_view_module_version": "1.2.0",
      "_view_name": "LayoutView",
      "align_content": null,
      "align_items": null,
      "align_self": null,
      "border": null,
      "bottom": null,
      "display": null,
      "flex": null,
      "flex_flow": null,
      "grid_area": null,
      "grid_auto_columns": null,
      "grid_auto_flow": null,
      "grid_auto_rows": null,
      "grid_column": null,
      "grid_gap": null,
      "grid_row": null,
      "grid_template_areas": null,
      "grid_template_columns": null,
      "grid_template_rows": null,
      "height": null,
      "justify_content": null,
      "justify_items": null,
      "left": null,
      "margin": null,
      "max_height": null,
      "max_width": null,
      "min_height": null,
      "min_width": null,
      "object_fit": null,
      "object_position": null,
      "order": null,
      "overflow": null,
      "overflow_x": null,
      "overflow_y": null,
      "padding": null,
      "right": null,
      "top": null,
      "visibility": null,
      "width": null
     }
    },
    "cfd058b79b954a0c876c9b2002bdffef": {
     "model_module": "@jupyter-widgets/controls",
     "model_module_version": "1.5.0",
     "model_name": "HTMLModel",
     "state": {
      "_dom_classes": [],
      "_model_module": "@jupyter-widgets/controls",
      "_model_module_version": "1.5.0",
      "_model_name": "HTMLModel",
      "_view_count": null,
      "_view_module": "@jupyter-widgets/controls",
      "_view_module_version": "1.5.0",
      "_view_name": "HTMLView",
      "description": "",
      "description_tooltip": null,
      "layout": "IPY_MODEL_534053c315a14b74bd408350f3fb57f6",
      "placeholder": "​",
      "style": "IPY_MODEL_3bfdf517bb884e35974b683f595013bf",
      "value": "model.safetensors: 100%"
     }
    },
    "d3a8fcb70d6e44dca5dace01f7ab5ad9": {
     "model_module": "@jupyter-widgets/base",
     "model_module_version": "1.2.0",
     "model_name": "LayoutModel",
     "state": {
      "_model_module": "@jupyter-widgets/base",
      "_model_module_version": "1.2.0",
      "_model_name": "LayoutModel",
      "_view_count": null,
      "_view_module": "@jupyter-widgets/base",
      "_view_module_version": "1.2.0",
      "_view_name": "LayoutView",
      "align_content": null,
      "align_items": null,
      "align_self": null,
      "border": null,
      "bottom": null,
      "display": null,
      "flex": null,
      "flex_flow": null,
      "grid_area": null,
      "grid_auto_columns": null,
      "grid_auto_flow": null,
      "grid_auto_rows": null,
      "grid_column": null,
      "grid_gap": null,
      "grid_row": null,
      "grid_template_areas": null,
      "grid_template_columns": null,
      "grid_template_rows": null,
      "height": null,
      "justify_content": null,
      "justify_items": null,
      "left": null,
      "margin": null,
      "max_height": null,
      "max_width": null,
      "min_height": null,
      "min_width": null,
      "object_fit": null,
      "object_position": null,
      "order": null,
      "overflow": null,
      "overflow_x": null,
      "overflow_y": null,
      "padding": null,
      "right": null,
      "top": null,
      "visibility": null,
      "width": null
     }
    },
    "d7ebc5e3445d429a9562162067df8937": {
     "model_module": "@jupyter-widgets/controls",
     "model_module_version": "1.5.0",
     "model_name": "FloatProgressModel",
     "state": {
      "_dom_classes": [],
      "_model_module": "@jupyter-widgets/controls",
      "_model_module_version": "1.5.0",
      "_model_name": "FloatProgressModel",
      "_view_count": null,
      "_view_module": "@jupyter-widgets/controls",
      "_view_module_version": "1.5.0",
      "_view_name": "ProgressView",
      "bar_style": "success",
      "description": "",
      "description_tooltip": null,
      "layout": "IPY_MODEL_530f573fcc234c23961c4183f5a8311b",
      "max": 480,
      "min": 0,
      "orientation": "horizontal",
      "style": "IPY_MODEL_2c2c2d5f326b40c6acaaf29754da554d",
      "value": 480
     }
    },
    "d876b7cfb6574da4a7c352f059988c78": {
     "model_module": "@jupyter-widgets/controls",
     "model_module_version": "1.5.0",
     "model_name": "DescriptionStyleModel",
     "state": {
      "_model_module": "@jupyter-widgets/controls",
      "_model_module_version": "1.5.0",
      "_model_name": "DescriptionStyleModel",
      "_view_count": null,
      "_view_module": "@jupyter-widgets/base",
      "_view_module_version": "1.2.0",
      "_view_name": "StyleView",
      "description_width": ""
     }
    },
    "da3e1c0384934ecbbeb81258bd046361": {
     "model_module": "@jupyter-widgets/controls",
     "model_module_version": "1.5.0",
     "model_name": "DescriptionStyleModel",
     "state": {
      "_model_module": "@jupyter-widgets/controls",
      "_model_module_version": "1.5.0",
      "_model_name": "DescriptionStyleModel",
      "_view_count": null,
      "_view_module": "@jupyter-widgets/base",
      "_view_module_version": "1.2.0",
      "_view_name": "StyleView",
      "description_width": ""
     }
    },
    "da9b5ae48b9748c3a19005c9f28251e1": {
     "model_module": "@jupyter-widgets/base",
     "model_module_version": "1.2.0",
     "model_name": "LayoutModel",
     "state": {
      "_model_module": "@jupyter-widgets/base",
      "_model_module_version": "1.2.0",
      "_model_name": "LayoutModel",
      "_view_count": null,
      "_view_module": "@jupyter-widgets/base",
      "_view_module_version": "1.2.0",
      "_view_name": "LayoutView",
      "align_content": null,
      "align_items": null,
      "align_self": null,
      "border": null,
      "bottom": null,
      "display": null,
      "flex": null,
      "flex_flow": null,
      "grid_area": null,
      "grid_auto_columns": null,
      "grid_auto_flow": null,
      "grid_auto_rows": null,
      "grid_column": null,
      "grid_gap": null,
      "grid_row": null,
      "grid_template_areas": null,
      "grid_template_columns": null,
      "grid_template_rows": null,
      "height": null,
      "justify_content": null,
      "justify_items": null,
      "left": null,
      "margin": null,
      "max_height": null,
      "max_width": null,
      "min_height": null,
      "min_width": null,
      "object_fit": null,
      "object_position": null,
      "order": null,
      "overflow": null,
      "overflow_x": null,
      "overflow_y": null,
      "padding": null,
      "right": null,
      "top": null,
      "visibility": null,
      "width": null
     }
    },
    "dcc80b3bf39746458d5b30e5a41fb468": {
     "model_module": "@jupyter-widgets/base",
     "model_module_version": "1.2.0",
     "model_name": "LayoutModel",
     "state": {
      "_model_module": "@jupyter-widgets/base",
      "_model_module_version": "1.2.0",
      "_model_name": "LayoutModel",
      "_view_count": null,
      "_view_module": "@jupyter-widgets/base",
      "_view_module_version": "1.2.0",
      "_view_name": "LayoutView",
      "align_content": null,
      "align_items": null,
      "align_self": null,
      "border": null,
      "bottom": null,
      "display": null,
      "flex": null,
      "flex_flow": null,
      "grid_area": null,
      "grid_auto_columns": null,
      "grid_auto_flow": null,
      "grid_auto_rows": null,
      "grid_column": null,
      "grid_gap": null,
      "grid_row": null,
      "grid_template_areas": null,
      "grid_template_columns": null,
      "grid_template_rows": null,
      "height": null,
      "justify_content": null,
      "justify_items": null,
      "left": null,
      "margin": null,
      "max_height": null,
      "max_width": null,
      "min_height": null,
      "min_width": null,
      "object_fit": null,
      "object_position": null,
      "order": null,
      "overflow": null,
      "overflow_x": null,
      "overflow_y": null,
      "padding": null,
      "right": null,
      "top": null,
      "visibility": null,
      "width": null
     }
    },
    "e1fc41c7e9e04cf4b2a9ac8d19561d3e": {
     "model_module": "@jupyter-widgets/controls",
     "model_module_version": "1.5.0",
     "model_name": "DescriptionStyleModel",
     "state": {
      "_model_module": "@jupyter-widgets/controls",
      "_model_module_version": "1.5.0",
      "_model_name": "DescriptionStyleModel",
      "_view_count": null,
      "_view_module": "@jupyter-widgets/base",
      "_view_module_version": "1.2.0",
      "_view_name": "StyleView",
      "description_width": ""
     }
    },
    "e377c3d540d54933b1100ef8a6a5eed4": {
     "model_module": "@jupyter-widgets/controls",
     "model_module_version": "1.5.0",
     "model_name": "HTMLModel",
     "state": {
      "_dom_classes": [],
      "_model_module": "@jupyter-widgets/controls",
      "_model_module_version": "1.5.0",
      "_model_name": "HTMLModel",
      "_view_count": null,
      "_view_module": "@jupyter-widgets/controls",
      "_view_module_version": "1.5.0",
      "_view_name": "HTMLView",
      "description": "",
      "description_tooltip": null,
      "layout": "IPY_MODEL_2fc1166873bb43dba0a4241ac7f7adac",
      "placeholder": "​",
      "style": "IPY_MODEL_5fafe5c014ae43b3ba8f6a482a0421f4",
      "value": " 842/842 [00:00&lt;00:00, 83.7kB/s]"
     }
    },
    "e3db2a2379af41bb87e407c7e9e1e73f": {
     "model_module": "@jupyter-widgets/controls",
     "model_module_version": "1.5.0",
     "model_name": "HBoxModel",
     "state": {
      "_dom_classes": [],
      "_model_module": "@jupyter-widgets/controls",
      "_model_module_version": "1.5.0",
      "_model_name": "HBoxModel",
      "_view_count": null,
      "_view_module": "@jupyter-widgets/controls",
      "_view_module_version": "1.5.0",
      "_view_name": "HBoxView",
      "box_style": "",
      "children": [
       "IPY_MODEL_9f7cbcbe09d94ac3b3d2caee27412541",
       "IPY_MODEL_f20a081fc4f7440e9279372d7807c4a7",
       "IPY_MODEL_f95bad5644254ddd9a933147c1490332"
      ],
      "layout": "IPY_MODEL_8860e3071a4c4f5c9c46169f9442afba"
     }
    },
    "e5bb2b76af3647128b9bbf8fc7efc278": {
     "model_module": "@jupyter-widgets/controls",
     "model_module_version": "1.5.0",
     "model_name": "HBoxModel",
     "state": {
      "_dom_classes": [],
      "_model_module": "@jupyter-widgets/controls",
      "_model_module_version": "1.5.0",
      "_model_name": "HBoxModel",
      "_view_count": null,
      "_view_module": "@jupyter-widgets/controls",
      "_view_module_version": "1.5.0",
      "_view_name": "HBoxView",
      "box_style": "",
      "children": [
       "IPY_MODEL_eef20537ba454bcea269d30d2c880c8b",
       "IPY_MODEL_279791cd2e554056b5d8821bdf5302ec",
       "IPY_MODEL_01c065d4284c445d821a67760d4cf179"
      ],
      "layout": "IPY_MODEL_ec094e6a9c5e4e3fb3432820a42d06c7"
     }
    },
    "e6502631b9254cfdb2b0f9308f7b21ba": {
     "model_module": "@jupyter-widgets/base",
     "model_module_version": "1.2.0",
     "model_name": "LayoutModel",
     "state": {
      "_model_module": "@jupyter-widgets/base",
      "_model_module_version": "1.2.0",
      "_model_name": "LayoutModel",
      "_view_count": null,
      "_view_module": "@jupyter-widgets/base",
      "_view_module_version": "1.2.0",
      "_view_name": "LayoutView",
      "align_content": null,
      "align_items": null,
      "align_self": null,
      "border": null,
      "bottom": null,
      "display": null,
      "flex": null,
      "flex_flow": null,
      "grid_area": null,
      "grid_auto_columns": null,
      "grid_auto_flow": null,
      "grid_auto_rows": null,
      "grid_column": null,
      "grid_gap": null,
      "grid_row": null,
      "grid_template_areas": null,
      "grid_template_columns": null,
      "grid_template_rows": null,
      "height": null,
      "justify_content": null,
      "justify_items": null,
      "left": null,
      "margin": null,
      "max_height": null,
      "max_width": null,
      "min_height": null,
      "min_width": null,
      "object_fit": null,
      "object_position": null,
      "order": null,
      "overflow": null,
      "overflow_x": null,
      "overflow_y": null,
      "padding": null,
      "right": null,
      "top": null,
      "visibility": null,
      "width": null
     }
    },
    "e86ba6ef5c854cf7a28ce855d1ed4c71": {
     "model_module": "@jupyter-widgets/controls",
     "model_module_version": "1.5.0",
     "model_name": "DescriptionStyleModel",
     "state": {
      "_model_module": "@jupyter-widgets/controls",
      "_model_module_version": "1.5.0",
      "_model_name": "DescriptionStyleModel",
      "_view_count": null,
      "_view_module": "@jupyter-widgets/base",
      "_view_module_version": "1.2.0",
      "_view_name": "StyleView",
      "description_width": ""
     }
    },
    "e95776418d1248f8a5f75bbd67adc4d8": {
     "model_module": "@jupyter-widgets/controls",
     "model_module_version": "1.5.0",
     "model_name": "ProgressStyleModel",
     "state": {
      "_model_module": "@jupyter-widgets/controls",
      "_model_module_version": "1.5.0",
      "_model_name": "ProgressStyleModel",
      "_view_count": null,
      "_view_module": "@jupyter-widgets/base",
      "_view_module_version": "1.2.0",
      "_view_name": "StyleView",
      "bar_color": null,
      "description_width": ""
     }
    },
    "ec094e6a9c5e4e3fb3432820a42d06c7": {
     "model_module": "@jupyter-widgets/base",
     "model_module_version": "1.2.0",
     "model_name": "LayoutModel",
     "state": {
      "_model_module": "@jupyter-widgets/base",
      "_model_module_version": "1.2.0",
      "_model_name": "LayoutModel",
      "_view_count": null,
      "_view_module": "@jupyter-widgets/base",
      "_view_module_version": "1.2.0",
      "_view_name": "LayoutView",
      "align_content": null,
      "align_items": null,
      "align_self": null,
      "border": null,
      "bottom": null,
      "display": null,
      "flex": null,
      "flex_flow": null,
      "grid_area": null,
      "grid_auto_columns": null,
      "grid_auto_flow": null,
      "grid_auto_rows": null,
      "grid_column": null,
      "grid_gap": null,
      "grid_row": null,
      "grid_template_areas": null,
      "grid_template_columns": null,
      "grid_template_rows": null,
      "height": null,
      "justify_content": null,
      "justify_items": null,
      "left": null,
      "margin": null,
      "max_height": null,
      "max_width": null,
      "min_height": null,
      "min_width": null,
      "object_fit": null,
      "object_position": null,
      "order": null,
      "overflow": null,
      "overflow_x": null,
      "overflow_y": null,
      "padding": null,
      "right": null,
      "top": null,
      "visibility": null,
      "width": null
     }
    },
    "eef20537ba454bcea269d30d2c880c8b": {
     "model_module": "@jupyter-widgets/controls",
     "model_module_version": "1.5.0",
     "model_name": "HTMLModel",
     "state": {
      "_dom_classes": [],
      "_model_module": "@jupyter-widgets/controls",
      "_model_module_version": "1.5.0",
      "_model_name": "HTMLModel",
      "_view_count": null,
      "_view_module": "@jupyter-widgets/controls",
      "_view_module_version": "1.5.0",
      "_view_name": "HTMLView",
      "description": "",
      "description_tooltip": null,
      "layout": "IPY_MODEL_d3a8fcb70d6e44dca5dace01f7ab5ad9",
      "placeholder": "​",
      "style": "IPY_MODEL_da3e1c0384934ecbbeb81258bd046361",
      "value": "pytorch_model.bin: 100%"
     }
    },
    "f0e473a7c2bf45d5be8793781205c888": {
     "model_module": "@jupyter-widgets/controls",
     "model_module_version": "1.5.0",
     "model_name": "HBoxModel",
     "state": {
      "_dom_classes": [],
      "_model_module": "@jupyter-widgets/controls",
      "_model_module_version": "1.5.0",
      "_model_name": "HBoxModel",
      "_view_count": null,
      "_view_module": "@jupyter-widgets/controls",
      "_view_module_version": "1.5.0",
      "_view_name": "HBoxView",
      "box_style": "",
      "children": [
       "IPY_MODEL_3179b4cae9f74bbb8308b45d954c64dd",
       "IPY_MODEL_912062ab2fdc4af9a3cc99cb38617294",
       "IPY_MODEL_2f7efc67744d427ba1c589eb907c9151"
      ],
      "layout": "IPY_MODEL_6eb9d3074d204bcb9a2dfb60d58ce8b8"
     }
    },
    "f20a081fc4f7440e9279372d7807c4a7": {
     "model_module": "@jupyter-widgets/controls",
     "model_module_version": "1.5.0",
     "model_name": "FloatProgressModel",
     "state": {
      "_dom_classes": [],
      "_model_module": "@jupyter-widgets/controls",
      "_model_module_version": "1.5.0",
      "_model_name": "FloatProgressModel",
      "_view_count": null,
      "_view_module": "@jupyter-widgets/controls",
      "_view_module_version": "1.5.0",
      "_view_name": "ProgressView",
      "bar_style": "success",
      "description": "",
      "description_tooltip": null,
      "layout": "IPY_MODEL_a5cdf9e3f3e7438b9b75ab87851a3f42",
      "max": 645,
      "min": 0,
      "orientation": "horizontal",
      "style": "IPY_MODEL_1d0cf1e1e350467e82dd7febd3d2bc10",
      "value": 645
     }
    },
    "f649a57b37654df095f51a3b7a745642": {
     "model_module": "@jupyter-widgets/base",
     "model_module_version": "1.2.0",
     "model_name": "LayoutModel",
     "state": {
      "_model_module": "@jupyter-widgets/base",
      "_model_module_version": "1.2.0",
      "_model_name": "LayoutModel",
      "_view_count": null,
      "_view_module": "@jupyter-widgets/base",
      "_view_module_version": "1.2.0",
      "_view_name": "LayoutView",
      "align_content": null,
      "align_items": null,
      "align_self": null,
      "border": null,
      "bottom": null,
      "display": null,
      "flex": null,
      "flex_flow": null,
      "grid_area": null,
      "grid_auto_columns": null,
      "grid_auto_flow": null,
      "grid_auto_rows": null,
      "grid_column": null,
      "grid_gap": null,
      "grid_row": null,
      "grid_template_areas": null,
      "grid_template_columns": null,
      "grid_template_rows": null,
      "height": null,
      "justify_content": null,
      "justify_items": null,
      "left": null,
      "margin": null,
      "max_height": null,
      "max_width": null,
      "min_height": null,
      "min_width": null,
      "object_fit": null,
      "object_position": null,
      "order": null,
      "overflow": null,
      "overflow_x": null,
      "overflow_y": null,
      "padding": null,
      "right": null,
      "top": null,
      "visibility": null,
      "width": null
     }
    },
    "f6d9224c9c7546e3993b3abc1ad04055": {
     "model_module": "@jupyter-widgets/controls",
     "model_module_version": "1.5.0",
     "model_name": "ProgressStyleModel",
     "state": {
      "_model_module": "@jupyter-widgets/controls",
      "_model_module_version": "1.5.0",
      "_model_name": "ProgressStyleModel",
      "_view_count": null,
      "_view_module": "@jupyter-widgets/base",
      "_view_module_version": "1.2.0",
      "_view_name": "StyleView",
      "bar_color": null,
      "description_width": ""
     }
    },
    "f7d4dcfab8c946a1a2d9d9af12d9f2b0": {
     "model_module": "@jupyter-widgets/controls",
     "model_module_version": "1.5.0",
     "model_name": "DescriptionStyleModel",
     "state": {
      "_model_module": "@jupyter-widgets/controls",
      "_model_module_version": "1.5.0",
      "_model_name": "DescriptionStyleModel",
      "_view_count": null,
      "_view_module": "@jupyter-widgets/base",
      "_view_module_version": "1.2.0",
      "_view_name": "StyleView",
      "description_width": ""
     }
    },
    "f95bad5644254ddd9a933147c1490332": {
     "model_module": "@jupyter-widgets/controls",
     "model_module_version": "1.5.0",
     "model_name": "HTMLModel",
     "state": {
      "_dom_classes": [],
      "_model_module": "@jupyter-widgets/controls",
      "_model_module_version": "1.5.0",
      "_model_name": "HTMLModel",
      "_view_count": null,
      "_view_module": "@jupyter-widgets/controls",
      "_view_module_version": "1.5.0",
      "_view_name": "HTMLView",
      "description": "",
      "description_tooltip": null,
      "layout": "IPY_MODEL_3dfc6bb24e374e529a1adc21d88f4610",
      "placeholder": "​",
      "style": "IPY_MODEL_e86ba6ef5c854cf7a28ce855d1ed4c71",
      "value": " 645/645 [00:00&lt;00:00, 42.7kB/s]"
     }
    }
   }
  }
 },
 "nbformat": 4,
 "nbformat_minor": 0
}
