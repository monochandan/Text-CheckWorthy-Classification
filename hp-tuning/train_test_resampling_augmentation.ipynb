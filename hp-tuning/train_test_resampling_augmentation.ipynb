{
 "cells": [
  {
   "cell_type": "markdown",
   "id": "432d1c5f-84bd-43fb-8b2e-e276bcf32956",
   "metadata": {},
   "source": [
    "#### train the original training data (new_10) with, embeddings, tfidf, and 10 created features\n",
    "#### train this data after undersample, oversample for Randomforest classifier, Logistic regression\n",
    "#### test on the gold dataset with those model (rfc_us, rfc_os, lr_us, lr_os)\n",
    "#### rfc_us gave little better than base model\n",
    "- trying the new tfidf best features (6300), random under sampling\n",
    "- trying the new wcbtfidf best features (1500) random under sampling"
   ]
  },
  {
   "cell_type": "code",
   "execution_count": 18,
   "id": "2ba84b5e-4be4-45e7-8ca3-4f21234f8425",
   "metadata": {},
   "outputs": [],
   "source": [
    "import pandas as pd\n",
    "import numpy as np\n",
    "from sklearn.decomposition import PCA\n",
    "import joblib\n",
    "from sklearn.metrics import f1_score\n",
    "from sklearn.metrics import accuracy_score\n",
    "from sklearn.metrics import recall_score\n",
    "from sklearn.metrics import precision_score\n",
    "\n",
    "# TF IDF\n",
    "from sklearn.feature_extraction.text import TfidfVectorizer\n",
    "from sklearn.linear_model import LogisticRegression\n",
    "from sklearn.model_selection import cross_val_score, train_test_split # fnding max_features\n",
    "from sklearn.ensemble import RandomForestClassifier\n",
    "from sklearn.decomposition import PCA\n",
    "from sklearn.metrics import classification_report\n",
    "# import joblib\n",
    "import os\n",
    "\n",
    "\n",
    "from sklearn.ensemble import RandomForestRegressor\n",
    "from pprint import pprint\n",
    "from sklearn.model_selection import RandomizedSearchCV, GridSearchCV # \n",
    "\n",
    "## try with other models\n",
    "from xgboost import XGBClassifier\n",
    "from sklearn.svm import SVC\n",
    "from sklearn.neighbors import KNeighborsClassifier\n",
    "from sklearn.naive_bayes import GaussianNB\n",
    "\n",
    "import spacy\n",
    "import ast\n",
    "\n",
    "import string\n",
    "import nltk\n",
    "from nltk.corpus import stopwords\n",
    "from nltk.tokenize import word_tokenize"
   ]
  },
  {
   "cell_type": "code",
   "execution_count": 224,
   "id": "cd0f86af-f085-41a6-9508-f0add601c0b8",
   "metadata": {},
   "outputs": [],
   "source": [
    "train_df = pd.read_csv('created_new_train_data/new_11.csv') # checkworthy_english_train dataset with new created features\n",
    "# dev_df = pd.read_csv('data/CT24_checkworthy_english/CT24_checkworthy_english/CT24_checkworthy_english_dev.tsv', delimiter = '\\t') # validation during training\n",
    "# dev_test_df = pd.read_csv('data/CT24_checkworthy_english/CT24_checkworthy_english/CT24_checkworthy_english_dev-test.tsv', delimiter = '\\t') # validation for fine tuning\n",
    "test_df = pd.read_csv('created_new_test_data/english_test_11_2.csv')"
   ]
  },
  {
   "cell_type": "code",
   "execution_count": 2,
   "id": "40e1d13a-f2af-4a29-ab7a-11b29ed8b624",
   "metadata": {},
   "outputs": [],
   "source": [
    "dev_train = pd.read_csv('created_new_dev_data/first_dev_train.csv')"
   ]
  },
  {
   "cell_type": "code",
   "execution_count": 138,
   "id": "fbe2f459-5c4e-498d-9ff9-38045868bb60",
   "metadata": {},
   "outputs": [
    {
     "name": "stdout",
     "output_type": "stream",
     "text": [
      "(341, 23)\n",
      "(22501, 40)\n"
     ]
    }
   ],
   "source": [
    "print(test_df.shape)\n",
    "# print(dev_df.shape)\n",
    "print(train_df.shape)"
   ]
  },
  {
   "cell_type": "code",
   "execution_count": 139,
   "id": "55343b30-baf3-49aa-8ee5-fc54fc5c2521",
   "metadata": {},
   "outputs": [
    {
     "data": {
      "text/plain": [
       "Index(['Sentence_id', 'Text', 'class_label', 'Tokens', 'text_length',\n",
       "       'cleaned_text', 'cleaned_text_length', 'roberta_sentiment',\n",
       "       'roberta_sent_pos', 'roberta_sent_neg', 'roberta_sent_mixed',\n",
       "       'roberta_sentiment_class', 'count_tokens', 'counts', 'names',\n",
       "       'organizations', 'dates', 'punctuation_count', 'embedding',\n",
       "       'converted_embedding', 'flattened_embedding', 'label', 'joined_tokens',\n",
       "       'text-tfidf'],\n",
       "      dtype='object')"
      ]
     },
     "execution_count": 139,
     "metadata": {},
     "output_type": "execute_result"
    }
   ],
   "source": [
    "dev_train.columns"
   ]
  },
  {
   "cell_type": "code",
   "execution_count": 225,
   "id": "a78f17bc-333f-4319-9bc4-2ab72725d414",
   "metadata": {},
   "outputs": [],
   "source": [
    "train_df.drop('Unnamed: 0', axis = 1, inplace = True)\n",
    "test_df.drop('Unnamed: 0', axis = 1, inplace = True)"
   ]
  },
  {
   "cell_type": "code",
   "execution_count": 6,
   "id": "5aca8ad3-92e7-44b8-b656-7cb4e39978d7",
   "metadata": {},
   "outputs": [],
   "source": [
    "# new_df.head()"
   ]
  },
  {
   "cell_type": "code",
   "execution_count": 7,
   "id": "b8c9929f-8c40-47bc-add3-b359beaf50e6",
   "metadata": {},
   "outputs": [],
   "source": [
    "# new_df['converted_embedding'].iloc[0]"
   ]
  },
  {
   "cell_type": "code",
   "execution_count": 14,
   "id": "19f06830-b2ed-4180-9813-1dfeae8ab394",
   "metadata": {},
   "outputs": [],
   "source": [
    "# new_df.rename(columns={'converted_embedding':'embedding'}, inplace = True)"
   ]
  },
  {
   "cell_type": "code",
   "execution_count": 8,
   "id": "fd5baff4-ed31-48d7-92c8-c61e49b9327c",
   "metadata": {},
   "outputs": [],
   "source": [
    "# new_df.columns"
   ]
  },
  {
   "cell_type": "code",
   "execution_count": 9,
   "id": "ae9eca47-ee92-438c-a759-23bb87e14901",
   "metadata": {},
   "outputs": [],
   "source": [
    "# new_df = new_df.astype({'text_length': 'int32', 'roberta_sent_neg': 'float32', 'roberta_sent_mixed': 'float32', 'roberta_sent_pos': 'float32',\n",
    "#                'names': 'int32', 'organizations': 'int32', 'dates': 'int32', 'count_tokens': 'int32', 'cleaned_text_length': 'int32', 'punctuation_count': 'int32'})"
   ]
  },
  {
   "cell_type": "code",
   "execution_count": 226,
   "id": "17fae05d-ff7d-4ee8-9fc4-f1929602c23b",
   "metadata": {},
   "outputs": [],
   "source": [
    "# ValueError: np.nan is an invalid document, expected byte or unicode string.\n",
    "# drop the columns with nan value in text-idf column\n",
    "train_df = train_df.dropna()"
   ]
  },
  {
   "cell_type": "code",
   "execution_count": 227,
   "id": "a74b0c34-8448-441c-8170-e6f493240f29",
   "metadata": {},
   "outputs": [
    {
     "data": {
      "text/plain": [
       "(22385, 39)"
      ]
     },
     "execution_count": 227,
     "metadata": {},
     "output_type": "execute_result"
    }
   ],
   "source": [
    "train_df.shape"
   ]
  },
  {
   "cell_type": "code",
   "execution_count": 228,
   "id": "162eea3f-b122-4319-b133-2c0d84a4fa13",
   "metadata": {},
   "outputs": [],
   "source": [
    "# convert the embeddnigs into numpy array and then flatten the array and store\n",
    "\n",
    "def convert_to_numpy_array(embd_str):\n",
    "    #print(f\"string: {embd_str}\")\n",
    "    #print(type(embd_str))\n",
    "    embd_str_clean = embd_str.replace(\"\\n\", \" \").replace(\" \", \" \")\n",
    "    #print(type(embd_str_clean))\n",
    "    #print(f\"string cleansing: {embd_str_clean}\")\n",
    "    embd_str_clean = embd_str_clean.strip('[]')\n",
    "    #print(type(embd_str_clean))\n",
    "    #print(f\"removing the outer brackets {embd_str_clean}\")\n",
    "    embd_list = embd_str_clean.split()\n",
    "    #print(f\"Split the string into individual values {embd_list}\")\n",
    "    embed_array = np.array(embd_list, dtype = float)\n",
    "    #print(f\"list to array {embed_array}\")\n",
    "    return embed_array"
   ]
  },
  {
   "cell_type": "code",
   "execution_count": 229,
   "id": "c859d09e-cd26-4e2a-ac4e-aa1b10029b63",
   "metadata": {},
   "outputs": [],
   "source": [
    "train_df['converted_embedding'] = train_df['converted_embedding'].apply(convert_to_numpy_array)"
   ]
  },
  {
   "cell_type": "code",
   "execution_count": 232,
   "id": "275d5eb5-bf74-47be-9ba7-698f63faa555",
   "metadata": {},
   "outputs": [],
   "source": [
    "pca_path = 'models/pca_356.pkl'\n",
    "pca = joblib.load(pca_path)"
   ]
  },
  {
   "cell_type": "code",
   "execution_count": 233,
   "id": "cccd5df3-011b-4977-b177-2cae583c9ace",
   "metadata": {},
   "outputs": [],
   "source": [
    "# pca = PCA(n_components = 356)\n",
    "reduced_embeddings = pca.fit_transform(train_df['converted_embedding'].to_list())\n",
    "# reduced_embeddings.shape"
   ]
  },
  {
   "cell_type": "code",
   "execution_count": 162,
   "id": "8a4a02c9-22a1-45ae-a64e-988f6e7476b4",
   "metadata": {},
   "outputs": [
    {
     "data": {
      "text/plain": [
       "['models\\\\pca_356.pkl']"
      ]
     },
     "execution_count": 162,
     "metadata": {},
     "output_type": "execute_result"
    }
   ],
   "source": [
    "save_folder = 'models'\n",
    "os.makedirs(save_folder, exist_ok = True)\n",
    "model_path = os.path.join(save_folder, 'pca_356.pkl')\n",
    "joblib.dump(pca, model_path)"
   ]
  },
  {
   "cell_type": "code",
   "execution_count": 234,
   "id": "5d94b17b-5e7d-4dc6-8505-c1afaf56bfdd",
   "metadata": {},
   "outputs": [],
   "source": [
    "text = train_df['text-tfidf']\n",
    "vectorizer_path = 'models/tfidf_vectorizer_4300.pkl'\n",
    "tfidf_vect = joblib.load(vectorizer_path) ## loading the trained tfidf vectorizer\n",
    "tfidf_features = tfidf_vect.transform(text)"
   ]
  },
  {
   "cell_type": "code",
   "execution_count": 235,
   "id": "90bb8689-8f38-4d59-99a2-bed2f870e27b",
   "metadata": {},
   "outputs": [],
   "source": [
    "additional_features = train_df[['text_length', 'roberta_sent_neg', 'roberta_sent_mixed',\n",
    "                            'roberta_sent_pos', 'names', 'organizations', 'dates',\n",
    "                            'count_tokens', 'cleaned_text_length', 'punctuation_count']].to_numpy()"
   ]
  },
  {
   "cell_type": "code",
   "execution_count": 113,
   "id": "61547e11-bd63-4bfc-83cb-691672ae24da",
   "metadata": {},
   "outputs": [],
   "source": [
    "# new_df['converted_embedding'] = new_df['embedding'].apply(convert_to_numpy_array)\n",
    "# pca = PCA(n_components = 50)\n",
    "# reduced_embeddings = pca.fit_transform(new_df['converted_embedding'].to_list())"
   ]
  },
  {
   "cell_type": "code",
   "execution_count": 236,
   "id": "ae4ab3f9-fc8e-4f7a-958d-57c377338b6c",
   "metadata": {},
   "outputs": [
    {
     "name": "stdout",
     "output_type": "stream",
     "text": [
      "(22385, 356)\n",
      "(22385, 4300)\n",
      "(22385, 10)\n"
     ]
    }
   ],
   "source": [
    "embeddings_np = np.array(reduced_embeddings)\n",
    "tfidf_features_np = tfidf_features.toarray()\n",
    "additional_features_np = np.array(additional_features)\n",
    "\n",
    "print(embeddings_np.shape)\n",
    "print(tfidf_features_np.shape)\n",
    "print(additional_features_np.shape)"
   ]
  },
  {
   "cell_type": "code",
   "execution_count": 237,
   "id": "df5658d9-cb99-4e02-8971-5b6c5d7c82b6",
   "metadata": {},
   "outputs": [],
   "source": [
    "X_train = np.hstack([tfidf_features_np,embeddings_np, additional_features_np])\n",
    "y_train = train_df['labels']"
   ]
  },
  {
   "cell_type": "code",
   "execution_count": 150,
   "id": "f2b52083-7972-4343-9c67-0588c405164d",
   "metadata": {},
   "outputs": [
    {
     "name": "stdout",
     "output_type": "stream",
     "text": [
      "(22385, 4666)\n",
      "(22385,)\n"
     ]
    }
   ],
   "source": [
    "print(X_train.shape)\n",
    "print(y_train.shape)"
   ]
  },
  {
   "cell_type": "code",
   "execution_count": 48,
   "id": "53fbe289-ca63-4bd3-bc24-4acd02d73b4a",
   "metadata": {},
   "outputs": [],
   "source": [
    "# X_train, X_test, y_train,y_test = train_test_split(X, y, test_size = 0.25, random_state = 42)"
   ]
  },
  {
   "cell_type": "code",
   "execution_count": 42,
   "id": "2fd09a8a-9783-430a-8121-7f5e87a38a2a",
   "metadata": {},
   "outputs": [],
   "source": [
    "# over sampling - MEMORY ERROR\n",
    "# from imblearn.over_sampling import SMOTE\n",
    "\n",
    "# smote = SMOTE(random_state=42)\n",
    "# X_train_balanced_o, y_train_balanced_o = smote.fit_resample(X, y)"
   ]
  },
  {
   "cell_type": "code",
   "execution_count": 238,
   "id": "7757fd3b-6713-4dd9-9554-4d1755aed0e9",
   "metadata": {},
   "outputs": [],
   "source": [
    "# under sampling\n",
    "from imblearn.under_sampling import  RandomUnderSampler\n",
    "rus = RandomUnderSampler(random_state = 42)\n",
    "X_train_u_balanced, y_train_u_balanced = rus.fit_resample(X_train, y_train)"
   ]
  },
  {
   "cell_type": "code",
   "execution_count": 45,
   "id": "bc0d7fa7-ceee-4de8-bdc4-fd49c2c6b703",
   "metadata": {},
   "outputs": [],
   "source": [
    "# train RFC with balanced_data - over sampling\n",
    "# clf = RandomForestClassifier()\n",
    "# clf.fit(X_train_u_balanced,y_train_u_balanced)"
   ]
  },
  {
   "cell_type": "code",
   "execution_count": 53,
   "id": "a83bf514-b99c-4553-9ec5-e1af97fc30c8",
   "metadata": {},
   "outputs": [
    {
     "data": {
      "text/plain": [
       "['models\\\\random_forest_tfidf_embeddings_10_features_os.pkl']"
      ]
     },
     "execution_count": 53,
     "metadata": {},
     "output_type": "execute_result"
    }
   ],
   "source": [
    "# save random forest model over sampling\n",
    "# save_folder = 'models'\n",
    "# os.makedirs(save_folder, exist_ok = True)\n",
    "# model_path = os.path.join(save_folder, 'random_forest_tfidf_embeddings_10_features_os.pkl')\n",
    "# joblib.dump(clf, model_path)"
   ]
  },
  {
   "cell_type": "code",
   "execution_count": 44,
   "id": "e33171cc-ba0d-4ef8-9742-ab01f8a0ba6e",
   "metadata": {},
   "outputs": [
    {
     "name": "stdout",
     "output_type": "stream",
     "text": [
      "              precision    recall  f1-score   support\n",
      "\n",
      "           0       0.86      0.93      0.89      4229\n",
      "           1       0.72      0.53      0.61      1397\n",
      "\n",
      "    accuracy                           0.83      5626\n",
      "   macro avg       0.79      0.73      0.75      5626\n",
      "weighted avg       0.82      0.83      0.82      5626\n",
      "\n"
     ]
    }
   ],
   "source": [
    "# y_pred = clf.predict(X_test)\n",
    "# print(classification_report(y_test, y_pred))"
   ]
  },
  {
   "cell_type": "code",
   "execution_count": 239,
   "id": "c8362212-8012-419c-8053-75c7f892c23e",
   "metadata": {},
   "outputs": [],
   "source": [
    "best_params = {'n_estimators': 800,\n",
    " 'min_samples_split': 5,\n",
    " 'min_samples_leaf': 1,\n",
    " 'max_features': 'sqrt',\n",
    " 'max_depth': 90,\n",
    " 'bootstrap': False}\n",
    "# best_params = {'n_estimators': 400,\n",
    "#  'min_samples_split': 2,\n",
    "#  'min_samples_leaf': 1,\n",
    "#  'max_features': 'sqrt',\n",
    "#  'max_depth': None,\n",
    "#  'bootstrap': False}"
   ]
  },
  {
   "cell_type": "code",
   "execution_count": 240,
   "id": "4cd7c371-1e4a-47c6-90fb-eb17f204b0f6",
   "metadata": {},
   "outputs": [
    {
     "data": {
      "text/html": [
       "<style>#sk-container-id-8 {\n",
       "  /* Definition of color scheme common for light and dark mode */\n",
       "  --sklearn-color-text: black;\n",
       "  --sklearn-color-line: gray;\n",
       "  /* Definition of color scheme for unfitted estimators */\n",
       "  --sklearn-color-unfitted-level-0: #fff5e6;\n",
       "  --sklearn-color-unfitted-level-1: #f6e4d2;\n",
       "  --sklearn-color-unfitted-level-2: #ffe0b3;\n",
       "  --sklearn-color-unfitted-level-3: chocolate;\n",
       "  /* Definition of color scheme for fitted estimators */\n",
       "  --sklearn-color-fitted-level-0: #f0f8ff;\n",
       "  --sklearn-color-fitted-level-1: #d4ebff;\n",
       "  --sklearn-color-fitted-level-2: #b3dbfd;\n",
       "  --sklearn-color-fitted-level-3: cornflowerblue;\n",
       "\n",
       "  /* Specific color for light theme */\n",
       "  --sklearn-color-text-on-default-background: var(--sg-text-color, var(--theme-code-foreground, var(--jp-content-font-color1, black)));\n",
       "  --sklearn-color-background: var(--sg-background-color, var(--theme-background, var(--jp-layout-color0, white)));\n",
       "  --sklearn-color-border-box: var(--sg-text-color, var(--theme-code-foreground, var(--jp-content-font-color1, black)));\n",
       "  --sklearn-color-icon: #696969;\n",
       "\n",
       "  @media (prefers-color-scheme: dark) {\n",
       "    /* Redefinition of color scheme for dark theme */\n",
       "    --sklearn-color-text-on-default-background: var(--sg-text-color, var(--theme-code-foreground, var(--jp-content-font-color1, white)));\n",
       "    --sklearn-color-background: var(--sg-background-color, var(--theme-background, var(--jp-layout-color0, #111)));\n",
       "    --sklearn-color-border-box: var(--sg-text-color, var(--theme-code-foreground, var(--jp-content-font-color1, white)));\n",
       "    --sklearn-color-icon: #878787;\n",
       "  }\n",
       "}\n",
       "\n",
       "#sk-container-id-8 {\n",
       "  color: var(--sklearn-color-text);\n",
       "}\n",
       "\n",
       "#sk-container-id-8 pre {\n",
       "  padding: 0;\n",
       "}\n",
       "\n",
       "#sk-container-id-8 input.sk-hidden--visually {\n",
       "  border: 0;\n",
       "  clip: rect(1px 1px 1px 1px);\n",
       "  clip: rect(1px, 1px, 1px, 1px);\n",
       "  height: 1px;\n",
       "  margin: -1px;\n",
       "  overflow: hidden;\n",
       "  padding: 0;\n",
       "  position: absolute;\n",
       "  width: 1px;\n",
       "}\n",
       "\n",
       "#sk-container-id-8 div.sk-dashed-wrapped {\n",
       "  border: 1px dashed var(--sklearn-color-line);\n",
       "  margin: 0 0.4em 0.5em 0.4em;\n",
       "  box-sizing: border-box;\n",
       "  padding-bottom: 0.4em;\n",
       "  background-color: var(--sklearn-color-background);\n",
       "}\n",
       "\n",
       "#sk-container-id-8 div.sk-container {\n",
       "  /* jupyter's `normalize.less` sets `[hidden] { display: none; }`\n",
       "     but bootstrap.min.css set `[hidden] { display: none !important; }`\n",
       "     so we also need the `!important` here to be able to override the\n",
       "     default hidden behavior on the sphinx rendered scikit-learn.org.\n",
       "     See: https://github.com/scikit-learn/scikit-learn/issues/21755 */\n",
       "  display: inline-block !important;\n",
       "  position: relative;\n",
       "}\n",
       "\n",
       "#sk-container-id-8 div.sk-text-repr-fallback {\n",
       "  display: none;\n",
       "}\n",
       "\n",
       "div.sk-parallel-item,\n",
       "div.sk-serial,\n",
       "div.sk-item {\n",
       "  /* draw centered vertical line to link estimators */\n",
       "  background-image: linear-gradient(var(--sklearn-color-text-on-default-background), var(--sklearn-color-text-on-default-background));\n",
       "  background-size: 2px 100%;\n",
       "  background-repeat: no-repeat;\n",
       "  background-position: center center;\n",
       "}\n",
       "\n",
       "/* Parallel-specific style estimator block */\n",
       "\n",
       "#sk-container-id-8 div.sk-parallel-item::after {\n",
       "  content: \"\";\n",
       "  width: 100%;\n",
       "  border-bottom: 2px solid var(--sklearn-color-text-on-default-background);\n",
       "  flex-grow: 1;\n",
       "}\n",
       "\n",
       "#sk-container-id-8 div.sk-parallel {\n",
       "  display: flex;\n",
       "  align-items: stretch;\n",
       "  justify-content: center;\n",
       "  background-color: var(--sklearn-color-background);\n",
       "  position: relative;\n",
       "}\n",
       "\n",
       "#sk-container-id-8 div.sk-parallel-item {\n",
       "  display: flex;\n",
       "  flex-direction: column;\n",
       "}\n",
       "\n",
       "#sk-container-id-8 div.sk-parallel-item:first-child::after {\n",
       "  align-self: flex-end;\n",
       "  width: 50%;\n",
       "}\n",
       "\n",
       "#sk-container-id-8 div.sk-parallel-item:last-child::after {\n",
       "  align-self: flex-start;\n",
       "  width: 50%;\n",
       "}\n",
       "\n",
       "#sk-container-id-8 div.sk-parallel-item:only-child::after {\n",
       "  width: 0;\n",
       "}\n",
       "\n",
       "/* Serial-specific style estimator block */\n",
       "\n",
       "#sk-container-id-8 div.sk-serial {\n",
       "  display: flex;\n",
       "  flex-direction: column;\n",
       "  align-items: center;\n",
       "  background-color: var(--sklearn-color-background);\n",
       "  padding-right: 1em;\n",
       "  padding-left: 1em;\n",
       "}\n",
       "\n",
       "\n",
       "/* Toggleable style: style used for estimator/Pipeline/ColumnTransformer box that is\n",
       "clickable and can be expanded/collapsed.\n",
       "- Pipeline and ColumnTransformer use this feature and define the default style\n",
       "- Estimators will overwrite some part of the style using the `sk-estimator` class\n",
       "*/\n",
       "\n",
       "/* Pipeline and ColumnTransformer style (default) */\n",
       "\n",
       "#sk-container-id-8 div.sk-toggleable {\n",
       "  /* Default theme specific background. It is overwritten whether we have a\n",
       "  specific estimator or a Pipeline/ColumnTransformer */\n",
       "  background-color: var(--sklearn-color-background);\n",
       "}\n",
       "\n",
       "/* Toggleable label */\n",
       "#sk-container-id-8 label.sk-toggleable__label {\n",
       "  cursor: pointer;\n",
       "  display: block;\n",
       "  width: 100%;\n",
       "  margin-bottom: 0;\n",
       "  padding: 0.5em;\n",
       "  box-sizing: border-box;\n",
       "  text-align: center;\n",
       "}\n",
       "\n",
       "#sk-container-id-8 label.sk-toggleable__label-arrow:before {\n",
       "  /* Arrow on the left of the label */\n",
       "  content: \"▸\";\n",
       "  float: left;\n",
       "  margin-right: 0.25em;\n",
       "  color: var(--sklearn-color-icon);\n",
       "}\n",
       "\n",
       "#sk-container-id-8 label.sk-toggleable__label-arrow:hover:before {\n",
       "  color: var(--sklearn-color-text);\n",
       "}\n",
       "\n",
       "/* Toggleable content - dropdown */\n",
       "\n",
       "#sk-container-id-8 div.sk-toggleable__content {\n",
       "  max-height: 0;\n",
       "  max-width: 0;\n",
       "  overflow: hidden;\n",
       "  text-align: left;\n",
       "  /* unfitted */\n",
       "  background-color: var(--sklearn-color-unfitted-level-0);\n",
       "}\n",
       "\n",
       "#sk-container-id-8 div.sk-toggleable__content.fitted {\n",
       "  /* fitted */\n",
       "  background-color: var(--sklearn-color-fitted-level-0);\n",
       "}\n",
       "\n",
       "#sk-container-id-8 div.sk-toggleable__content pre {\n",
       "  margin: 0.2em;\n",
       "  border-radius: 0.25em;\n",
       "  color: var(--sklearn-color-text);\n",
       "  /* unfitted */\n",
       "  background-color: var(--sklearn-color-unfitted-level-0);\n",
       "}\n",
       "\n",
       "#sk-container-id-8 div.sk-toggleable__content.fitted pre {\n",
       "  /* unfitted */\n",
       "  background-color: var(--sklearn-color-fitted-level-0);\n",
       "}\n",
       "\n",
       "#sk-container-id-8 input.sk-toggleable__control:checked~div.sk-toggleable__content {\n",
       "  /* Expand drop-down */\n",
       "  max-height: 200px;\n",
       "  max-width: 100%;\n",
       "  overflow: auto;\n",
       "}\n",
       "\n",
       "#sk-container-id-8 input.sk-toggleable__control:checked~label.sk-toggleable__label-arrow:before {\n",
       "  content: \"▾\";\n",
       "}\n",
       "\n",
       "/* Pipeline/ColumnTransformer-specific style */\n",
       "\n",
       "#sk-container-id-8 div.sk-label input.sk-toggleable__control:checked~label.sk-toggleable__label {\n",
       "  color: var(--sklearn-color-text);\n",
       "  background-color: var(--sklearn-color-unfitted-level-2);\n",
       "}\n",
       "\n",
       "#sk-container-id-8 div.sk-label.fitted input.sk-toggleable__control:checked~label.sk-toggleable__label {\n",
       "  background-color: var(--sklearn-color-fitted-level-2);\n",
       "}\n",
       "\n",
       "/* Estimator-specific style */\n",
       "\n",
       "/* Colorize estimator box */\n",
       "#sk-container-id-8 div.sk-estimator input.sk-toggleable__control:checked~label.sk-toggleable__label {\n",
       "  /* unfitted */\n",
       "  background-color: var(--sklearn-color-unfitted-level-2);\n",
       "}\n",
       "\n",
       "#sk-container-id-8 div.sk-estimator.fitted input.sk-toggleable__control:checked~label.sk-toggleable__label {\n",
       "  /* fitted */\n",
       "  background-color: var(--sklearn-color-fitted-level-2);\n",
       "}\n",
       "\n",
       "#sk-container-id-8 div.sk-label label.sk-toggleable__label,\n",
       "#sk-container-id-8 div.sk-label label {\n",
       "  /* The background is the default theme color */\n",
       "  color: var(--sklearn-color-text-on-default-background);\n",
       "}\n",
       "\n",
       "/* On hover, darken the color of the background */\n",
       "#sk-container-id-8 div.sk-label:hover label.sk-toggleable__label {\n",
       "  color: var(--sklearn-color-text);\n",
       "  background-color: var(--sklearn-color-unfitted-level-2);\n",
       "}\n",
       "\n",
       "/* Label box, darken color on hover, fitted */\n",
       "#sk-container-id-8 div.sk-label.fitted:hover label.sk-toggleable__label.fitted {\n",
       "  color: var(--sklearn-color-text);\n",
       "  background-color: var(--sklearn-color-fitted-level-2);\n",
       "}\n",
       "\n",
       "/* Estimator label */\n",
       "\n",
       "#sk-container-id-8 div.sk-label label {\n",
       "  font-family: monospace;\n",
       "  font-weight: bold;\n",
       "  display: inline-block;\n",
       "  line-height: 1.2em;\n",
       "}\n",
       "\n",
       "#sk-container-id-8 div.sk-label-container {\n",
       "  text-align: center;\n",
       "}\n",
       "\n",
       "/* Estimator-specific */\n",
       "#sk-container-id-8 div.sk-estimator {\n",
       "  font-family: monospace;\n",
       "  border: 1px dotted var(--sklearn-color-border-box);\n",
       "  border-radius: 0.25em;\n",
       "  box-sizing: border-box;\n",
       "  margin-bottom: 0.5em;\n",
       "  /* unfitted */\n",
       "  background-color: var(--sklearn-color-unfitted-level-0);\n",
       "}\n",
       "\n",
       "#sk-container-id-8 div.sk-estimator.fitted {\n",
       "  /* fitted */\n",
       "  background-color: var(--sklearn-color-fitted-level-0);\n",
       "}\n",
       "\n",
       "/* on hover */\n",
       "#sk-container-id-8 div.sk-estimator:hover {\n",
       "  /* unfitted */\n",
       "  background-color: var(--sklearn-color-unfitted-level-2);\n",
       "}\n",
       "\n",
       "#sk-container-id-8 div.sk-estimator.fitted:hover {\n",
       "  /* fitted */\n",
       "  background-color: var(--sklearn-color-fitted-level-2);\n",
       "}\n",
       "\n",
       "/* Specification for estimator info (e.g. \"i\" and \"?\") */\n",
       "\n",
       "/* Common style for \"i\" and \"?\" */\n",
       "\n",
       ".sk-estimator-doc-link,\n",
       "a:link.sk-estimator-doc-link,\n",
       "a:visited.sk-estimator-doc-link {\n",
       "  float: right;\n",
       "  font-size: smaller;\n",
       "  line-height: 1em;\n",
       "  font-family: monospace;\n",
       "  background-color: var(--sklearn-color-background);\n",
       "  border-radius: 1em;\n",
       "  height: 1em;\n",
       "  width: 1em;\n",
       "  text-decoration: none !important;\n",
       "  margin-left: 1ex;\n",
       "  /* unfitted */\n",
       "  border: var(--sklearn-color-unfitted-level-1) 1pt solid;\n",
       "  color: var(--sklearn-color-unfitted-level-1);\n",
       "}\n",
       "\n",
       ".sk-estimator-doc-link.fitted,\n",
       "a:link.sk-estimator-doc-link.fitted,\n",
       "a:visited.sk-estimator-doc-link.fitted {\n",
       "  /* fitted */\n",
       "  border: var(--sklearn-color-fitted-level-1) 1pt solid;\n",
       "  color: var(--sklearn-color-fitted-level-1);\n",
       "}\n",
       "\n",
       "/* On hover */\n",
       "div.sk-estimator:hover .sk-estimator-doc-link:hover,\n",
       ".sk-estimator-doc-link:hover,\n",
       "div.sk-label-container:hover .sk-estimator-doc-link:hover,\n",
       ".sk-estimator-doc-link:hover {\n",
       "  /* unfitted */\n",
       "  background-color: var(--sklearn-color-unfitted-level-3);\n",
       "  color: var(--sklearn-color-background);\n",
       "  text-decoration: none;\n",
       "}\n",
       "\n",
       "div.sk-estimator.fitted:hover .sk-estimator-doc-link.fitted:hover,\n",
       ".sk-estimator-doc-link.fitted:hover,\n",
       "div.sk-label-container:hover .sk-estimator-doc-link.fitted:hover,\n",
       ".sk-estimator-doc-link.fitted:hover {\n",
       "  /* fitted */\n",
       "  background-color: var(--sklearn-color-fitted-level-3);\n",
       "  color: var(--sklearn-color-background);\n",
       "  text-decoration: none;\n",
       "}\n",
       "\n",
       "/* Span, style for the box shown on hovering the info icon */\n",
       ".sk-estimator-doc-link span {\n",
       "  display: none;\n",
       "  z-index: 9999;\n",
       "  position: relative;\n",
       "  font-weight: normal;\n",
       "  right: .2ex;\n",
       "  padding: .5ex;\n",
       "  margin: .5ex;\n",
       "  width: min-content;\n",
       "  min-width: 20ex;\n",
       "  max-width: 50ex;\n",
       "  color: var(--sklearn-color-text);\n",
       "  box-shadow: 2pt 2pt 4pt #999;\n",
       "  /* unfitted */\n",
       "  background: var(--sklearn-color-unfitted-level-0);\n",
       "  border: .5pt solid var(--sklearn-color-unfitted-level-3);\n",
       "}\n",
       "\n",
       ".sk-estimator-doc-link.fitted span {\n",
       "  /* fitted */\n",
       "  background: var(--sklearn-color-fitted-level-0);\n",
       "  border: var(--sklearn-color-fitted-level-3);\n",
       "}\n",
       "\n",
       ".sk-estimator-doc-link:hover span {\n",
       "  display: block;\n",
       "}\n",
       "\n",
       "/* \"?\"-specific style due to the `<a>` HTML tag */\n",
       "\n",
       "#sk-container-id-8 a.estimator_doc_link {\n",
       "  float: right;\n",
       "  font-size: 1rem;\n",
       "  line-height: 1em;\n",
       "  font-family: monospace;\n",
       "  background-color: var(--sklearn-color-background);\n",
       "  border-radius: 1rem;\n",
       "  height: 1rem;\n",
       "  width: 1rem;\n",
       "  text-decoration: none;\n",
       "  /* unfitted */\n",
       "  color: var(--sklearn-color-unfitted-level-1);\n",
       "  border: var(--sklearn-color-unfitted-level-1) 1pt solid;\n",
       "}\n",
       "\n",
       "#sk-container-id-8 a.estimator_doc_link.fitted {\n",
       "  /* fitted */\n",
       "  border: var(--sklearn-color-fitted-level-1) 1pt solid;\n",
       "  color: var(--sklearn-color-fitted-level-1);\n",
       "}\n",
       "\n",
       "/* On hover */\n",
       "#sk-container-id-8 a.estimator_doc_link:hover {\n",
       "  /* unfitted */\n",
       "  background-color: var(--sklearn-color-unfitted-level-3);\n",
       "  color: var(--sklearn-color-background);\n",
       "  text-decoration: none;\n",
       "}\n",
       "\n",
       "#sk-container-id-8 a.estimator_doc_link.fitted:hover {\n",
       "  /* fitted */\n",
       "  background-color: var(--sklearn-color-fitted-level-3);\n",
       "}\n",
       "</style><div id=\"sk-container-id-8\" class=\"sk-top-container\"><div class=\"sk-text-repr-fallback\"><pre>RandomForestClassifier(bootstrap=False, max_depth=90, min_samples_split=5,\n",
       "                       n_estimators=800)</pre><b>In a Jupyter environment, please rerun this cell to show the HTML representation or trust the notebook. <br />On GitHub, the HTML representation is unable to render, please try loading this page with nbviewer.org.</b></div><div class=\"sk-container\" hidden><div class=\"sk-item\"><div class=\"sk-estimator fitted sk-toggleable\"><input class=\"sk-toggleable__control sk-hidden--visually\" id=\"sk-estimator-id-8\" type=\"checkbox\" checked><label for=\"sk-estimator-id-8\" class=\"sk-toggleable__label fitted sk-toggleable__label-arrow fitted\">&nbsp;&nbsp;RandomForestClassifier<a class=\"sk-estimator-doc-link fitted\" rel=\"noreferrer\" target=\"_blank\" href=\"https://scikit-learn.org/1.5/modules/generated/sklearn.ensemble.RandomForestClassifier.html\">?<span>Documentation for RandomForestClassifier</span></a><span class=\"sk-estimator-doc-link fitted\">i<span>Fitted</span></span></label><div class=\"sk-toggleable__content fitted\"><pre>RandomForestClassifier(bootstrap=False, max_depth=90, min_samples_split=5,\n",
       "                       n_estimators=800)</pre></div> </div></div></div></div>"
      ],
      "text/plain": [
       "RandomForestClassifier(bootstrap=False, max_depth=90, min_samples_split=5,\n",
       "                       n_estimators=800)"
      ]
     },
     "execution_count": 240,
     "metadata": {},
     "output_type": "execute_result"
    }
   ],
   "source": [
    "# train RFC with balanced_data - under sampling\n",
    "clf = RandomForestClassifier(**best_params)\n",
    "clf.fit(X_train_u_balanced,y_train_u_balanced)"
   ]
  },
  {
   "cell_type": "code",
   "execution_count": 251,
   "id": "9e57b8c3-a476-40e8-8394-9822f6c95632",
   "metadata": {},
   "outputs": [
    {
     "data": {
      "text/plain": [
       "['models\\\\rfc_f1_59_4300_356.pkl']"
      ]
     },
     "execution_count": 251,
     "metadata": {},
     "output_type": "execute_result"
    }
   ],
   "source": [
    "# save random forest model\n",
    "save_folder = 'models'\n",
    "os.makedirs(save_folder, exist_ok = True)\n",
    "model_path = os.path.join(save_folder, 'rfc_f1_59_4300_356.pkl')\n",
    "joblib.dump(clf, model_path)"
   ]
  },
  {
   "cell_type": "code",
   "execution_count": 46,
   "id": "79cb4b4f-75c2-4f70-8942-e481513740ca",
   "metadata": {},
   "outputs": [
    {
     "name": "stdout",
     "output_type": "stream",
     "text": [
      "              precision    recall  f1-score   support\n",
      "\n",
      "           0       0.92      0.78      0.85      4229\n",
      "           1       0.55      0.80      0.65      1397\n",
      "\n",
      "    accuracy                           0.79      5626\n",
      "   macro avg       0.74      0.79      0.75      5626\n",
      "weighted avg       0.83      0.79      0.80      5626\n",
      "\n"
     ]
    }
   ],
   "source": [
    "y_pred = clf.predict(X_test)\n",
    "print(classification_report(y_test, y_pred))"
   ]
  },
  {
   "cell_type": "markdown",
   "id": "b1123f9f-2336-4f1f-accb-8aa8f0a1a7ff",
   "metadata": {},
   "source": [
    "# test with gold data RFC US and OS without hyperparameter tuned rfc"
   ]
  },
  {
   "cell_type": "code",
   "execution_count": 242,
   "id": "f69f6830-c14a-41e8-be82-7249ed1c2374",
   "metadata": {},
   "outputs": [],
   "source": [
    "# load test dataset \n",
    "test_df = pd.read_csv('created_new_test_data/english_test_11_2.csv') # without label\n",
    "# same test data but with actual label\n",
    "gold_df = pd.read_csv('data/CT24_checkworthy_english/CT24_checkworthy_english/test_english_gold/CT24_checkworthy_english_test_gold.tsv',delimiter = '\\t')"
   ]
  },
  {
   "cell_type": "code",
   "execution_count": 55,
   "id": "2fa38e5f-7ab7-428f-8257-2876fd3828a0",
   "metadata": {},
   "outputs": [],
   "source": [
    "# test_sf.sample(2)"
   ]
  },
  {
   "cell_type": "code",
   "execution_count": 243,
   "id": "f256cf83-4508-4484-93c9-1b2f12c6b0ee",
   "metadata": {},
   "outputs": [],
   "source": [
    "text = test_df['text-tfidf']\n",
    "# vectorizer_path = 'models/tfidf_vectorizer_4300.pkl'\n",
    "# tfidf_vect = joblib.load(vectorizer_path) ## loading the trained tfidf vectorizer\n",
    "tfidf_features = tfidf_vect.transform(text)"
   ]
  },
  {
   "cell_type": "code",
   "execution_count": 244,
   "id": "1c5a6f7a-e673-437b-9e29-6d958be3a3c3",
   "metadata": {},
   "outputs": [],
   "source": [
    "additional_features = test_df[['text_length', 'roberta_sent_neg', 'roberta_sent_mixed',\n",
    "                            'roberta_sent_pos', 'names', 'organizations', 'dates',\n",
    "                            'count_tokens', 'cleaned_text_length', 'punctuation_count']].to_numpy()"
   ]
  },
  {
   "cell_type": "code",
   "execution_count": 245,
   "id": "91dafc29-2700-4add-bad1-a9e015f86518",
   "metadata": {},
   "outputs": [],
   "source": [
    "test_df['converted_embedding'] = test_df['embedding'].apply(convert_to_numpy_array)"
   ]
  },
  {
   "cell_type": "code",
   "execution_count": 179,
   "id": "20cdb3af-af2a-432f-85bb-39b1c70bf723",
   "metadata": {},
   "outputs": [
    {
     "data": {
      "text/plain": [
       "(768,)"
      ]
     },
     "execution_count": 179,
     "metadata": {},
     "output_type": "execute_result"
    }
   ],
   "source": [
    "test_df['converted_embedding'].iloc[0].shape"
   ]
  },
  {
   "cell_type": "code",
   "execution_count": 246,
   "id": "fa144ad7-41c3-4a9d-8012-d0c11806b6d4",
   "metadata": {},
   "outputs": [],
   "source": [
    "# pca = PCA(n_components = 356)\n",
    "reduced_embeddings = pca.transform(test_df['converted_embedding'].to_list()) # the pcs from training data"
   ]
  },
  {
   "cell_type": "code",
   "execution_count": 247,
   "id": "a05d69c5-183c-4787-a98a-b80cd088039d",
   "metadata": {},
   "outputs": [
    {
     "name": "stdout",
     "output_type": "stream",
     "text": [
      "(341, 356)\n"
     ]
    }
   ],
   "source": [
    "embeddings_np = np.array(reduced_embeddings)\n",
    "tfidf_features_np = tfidf_features.toarray()\n",
    "additional_features_np = np.array(additional_features)\n",
    "print(embeddings_np.shape)"
   ]
  },
  {
   "cell_type": "code",
   "execution_count": 248,
   "id": "86daf124-fea8-47f3-b417-af11395cb9d2",
   "metadata": {},
   "outputs": [],
   "source": [
    "X_test = np.hstack([tfidf_features_np,embeddings_np, additional_features_np])"
   ]
  },
  {
   "cell_type": "code",
   "execution_count": 249,
   "id": "e3b8479f-6516-4197-b262-d67df77e1a44",
   "metadata": {},
   "outputs": [],
   "source": [
    "# load model rfc us\n",
    "# model_path_rfc_us = 'models/random_forest_tfidf_embeddings_10_features_us.pkl'\n",
    "# model_rfc_us = joblib.load(model_path_rfc_us)\n",
    "# predictions_rfc_us = model_rfc_us.predict(X_test)\n",
    "# predictions_rfc_us\n",
    "\n",
    "predictions_rfc_us = clf.predict(X_test)\n",
    "# # # load model rfc os - MEMORY ERROR\n",
    "# model_path_rfc_os = 'models/random_forest_tfidf_embeddings_10_features_os.pkl'\n",
    "# model_rfc_os = joblib.load(model_path_rfc_os)\n",
    "# predictions_rfc_os = model_rfc_os.predict(X)\n",
    "# # predictions_rfc_os"
   ]
  },
  {
   "cell_type": "code",
   "execution_count": 250,
   "id": "a37b1ddd-cb6e-4f65-936a-83d4a75ce6e6",
   "metadata": {},
   "outputs": [
    {
     "name": "stdout",
     "output_type": "stream",
     "text": [
      "RFC US\n",
      "Accuracy: 0.76\n",
      "Precision: 0.53\n",
      "Recall: 0.67\n",
      "F1 Score: 0.59\n"
     ]
    }
   ],
   "source": [
    "test_data_rfc_us = pd.DataFrame({\n",
    "    'id': test_df['Sentence_id'],\n",
    "    'predictions': predictions_rfc_us\n",
    "})\n",
    "# test_data_rfc_os = pd.DataFrame({\n",
    "#     'id': test_df['Sentence_id'],\n",
    "#     'predictions': predictions_rfc_os\n",
    "# })\n",
    "test_data_rfc_us['predictions'] = test_data_rfc_us['predictions'].apply([lambda x: 'No' if x == 0 else 'Yes'])\n",
    "# test_data_rfc_os['predictions'] = test_data_rfc_os['predictions'].apply([lambda x: 'No' if x == 0 else 'Yes'])\n",
    "## for LR\n",
    "df_merged_rfc_us = pd.merge(gold_df, test_data_rfc_us, left_on='Sentence_id', right_on='id', how='inner')\n",
    "# df_merged_rfc_os = pd.merge(gold_df, test_data_rfc_os, left_on='Sentence_id', right_on='id', how='inner')\n",
    "\n",
    "\n",
    "gold_labels_us = df_merged_rfc_us['class_label'].tolist()\n",
    "pred_labels_us = df_merged_rfc_us['predictions'].tolist()\n",
    "\n",
    "# gold_labels_os = df_merged_rfc_os['class_label'].tolist()\n",
    "# pred_labels_os = df_merged_rfc_os['predictions'].tolist()\n",
    "\n",
    "print(f\"RFC US\")\n",
    "acc = accuracy_score(gold_labels_us, pred_labels_us)\n",
    "precision = precision_score(gold_labels_us, pred_labels_us, pos_label='Yes', average='binary')\n",
    "recall = recall_score(gold_labels_us, pred_labels_us, pos_label='Yes', average='binary')\n",
    "f1 = f1_score(gold_labels_us, pred_labels_us, pos_label='Yes', average='binary')\n",
    "\n",
    "# Print the metrics\n",
    "print(f\"Accuracy: {acc:.2f}\")\n",
    "print(f\"Precision: {precision:.2f}\")\n",
    "print(f\"Recall: {recall:.2f}\")\n",
    "print(f\"F1 Score: {f1:.2f}\")\n",
    "\n",
    "# print(f\"RFC OS\")\n",
    "# acc = accuracy_score(gold_labels_os, pred_labels_os)\n",
    "# precision = precision_score(gold_labels_os, pred_labels_os, pos_label='Yes', average='binary')\n",
    "# recall = recall_score(gold_labels_os, pred_labels_os, pos_label='Yes', average='binary')\n",
    "# f1 = f1_score(gold_labels_os, pred_labels_os, pos_label='Yes', average='binary')\n",
    "\n",
    "# # Print the metrics\n",
    "# print(f\"Accuracy: {acc}\")\n",
    "# print(f\"Precision: {precision}\")\n",
    "# print(f\"Recall: {recall}\")\n",
    "# print(f\"F1 Score: {f1}\")"
   ]
  },
  {
   "cell_type": "markdown",
   "id": "9213ad68-1bfb-4598-a282-ee5763c0f4fb",
   "metadata": {},
   "source": [
    "### NOW  CREAETE A NEW MODEL RFC  WITH TUNED HYPERPARAMETER FROM DEV_TRAIN data,  train on UNDER SAMPLED DATA, test on gold data"
   ]
  },
  {
   "cell_type": "code",
   "execution_count": 59,
   "id": "3c8867bd-5d1d-42b6-a5ac-be2180703a40",
   "metadata": {},
   "outputs": [],
   "source": [
    "best_params = {'n_estimators': 800,\n",
    " 'min_samples_split': 5,\n",
    " 'min_samples_leaf': 1,\n",
    " 'max_features': 'sqrt',\n",
    " 'max_depth': 90,\n",
    " 'bootstrap': False}"
   ]
  },
  {
   "cell_type": "code",
   "execution_count": 60,
   "id": "918f0802-cf68-4a68-88ce-67dc7a4a75ec",
   "metadata": {},
   "outputs": [
    {
     "data": {
      "text/html": [
       "<style>#sk-container-id-2 {\n",
       "  /* Definition of color scheme common for light and dark mode */\n",
       "  --sklearn-color-text: black;\n",
       "  --sklearn-color-line: gray;\n",
       "  /* Definition of color scheme for unfitted estimators */\n",
       "  --sklearn-color-unfitted-level-0: #fff5e6;\n",
       "  --sklearn-color-unfitted-level-1: #f6e4d2;\n",
       "  --sklearn-color-unfitted-level-2: #ffe0b3;\n",
       "  --sklearn-color-unfitted-level-3: chocolate;\n",
       "  /* Definition of color scheme for fitted estimators */\n",
       "  --sklearn-color-fitted-level-0: #f0f8ff;\n",
       "  --sklearn-color-fitted-level-1: #d4ebff;\n",
       "  --sklearn-color-fitted-level-2: #b3dbfd;\n",
       "  --sklearn-color-fitted-level-3: cornflowerblue;\n",
       "\n",
       "  /* Specific color for light theme */\n",
       "  --sklearn-color-text-on-default-background: var(--sg-text-color, var(--theme-code-foreground, var(--jp-content-font-color1, black)));\n",
       "  --sklearn-color-background: var(--sg-background-color, var(--theme-background, var(--jp-layout-color0, white)));\n",
       "  --sklearn-color-border-box: var(--sg-text-color, var(--theme-code-foreground, var(--jp-content-font-color1, black)));\n",
       "  --sklearn-color-icon: #696969;\n",
       "\n",
       "  @media (prefers-color-scheme: dark) {\n",
       "    /* Redefinition of color scheme for dark theme */\n",
       "    --sklearn-color-text-on-default-background: var(--sg-text-color, var(--theme-code-foreground, var(--jp-content-font-color1, white)));\n",
       "    --sklearn-color-background: var(--sg-background-color, var(--theme-background, var(--jp-layout-color0, #111)));\n",
       "    --sklearn-color-border-box: var(--sg-text-color, var(--theme-code-foreground, var(--jp-content-font-color1, white)));\n",
       "    --sklearn-color-icon: #878787;\n",
       "  }\n",
       "}\n",
       "\n",
       "#sk-container-id-2 {\n",
       "  color: var(--sklearn-color-text);\n",
       "}\n",
       "\n",
       "#sk-container-id-2 pre {\n",
       "  padding: 0;\n",
       "}\n",
       "\n",
       "#sk-container-id-2 input.sk-hidden--visually {\n",
       "  border: 0;\n",
       "  clip: rect(1px 1px 1px 1px);\n",
       "  clip: rect(1px, 1px, 1px, 1px);\n",
       "  height: 1px;\n",
       "  margin: -1px;\n",
       "  overflow: hidden;\n",
       "  padding: 0;\n",
       "  position: absolute;\n",
       "  width: 1px;\n",
       "}\n",
       "\n",
       "#sk-container-id-2 div.sk-dashed-wrapped {\n",
       "  border: 1px dashed var(--sklearn-color-line);\n",
       "  margin: 0 0.4em 0.5em 0.4em;\n",
       "  box-sizing: border-box;\n",
       "  padding-bottom: 0.4em;\n",
       "  background-color: var(--sklearn-color-background);\n",
       "}\n",
       "\n",
       "#sk-container-id-2 div.sk-container {\n",
       "  /* jupyter's `normalize.less` sets `[hidden] { display: none; }`\n",
       "     but bootstrap.min.css set `[hidden] { display: none !important; }`\n",
       "     so we also need the `!important` here to be able to override the\n",
       "     default hidden behavior on the sphinx rendered scikit-learn.org.\n",
       "     See: https://github.com/scikit-learn/scikit-learn/issues/21755 */\n",
       "  display: inline-block !important;\n",
       "  position: relative;\n",
       "}\n",
       "\n",
       "#sk-container-id-2 div.sk-text-repr-fallback {\n",
       "  display: none;\n",
       "}\n",
       "\n",
       "div.sk-parallel-item,\n",
       "div.sk-serial,\n",
       "div.sk-item {\n",
       "  /* draw centered vertical line to link estimators */\n",
       "  background-image: linear-gradient(var(--sklearn-color-text-on-default-background), var(--sklearn-color-text-on-default-background));\n",
       "  background-size: 2px 100%;\n",
       "  background-repeat: no-repeat;\n",
       "  background-position: center center;\n",
       "}\n",
       "\n",
       "/* Parallel-specific style estimator block */\n",
       "\n",
       "#sk-container-id-2 div.sk-parallel-item::after {\n",
       "  content: \"\";\n",
       "  width: 100%;\n",
       "  border-bottom: 2px solid var(--sklearn-color-text-on-default-background);\n",
       "  flex-grow: 1;\n",
       "}\n",
       "\n",
       "#sk-container-id-2 div.sk-parallel {\n",
       "  display: flex;\n",
       "  align-items: stretch;\n",
       "  justify-content: center;\n",
       "  background-color: var(--sklearn-color-background);\n",
       "  position: relative;\n",
       "}\n",
       "\n",
       "#sk-container-id-2 div.sk-parallel-item {\n",
       "  display: flex;\n",
       "  flex-direction: column;\n",
       "}\n",
       "\n",
       "#sk-container-id-2 div.sk-parallel-item:first-child::after {\n",
       "  align-self: flex-end;\n",
       "  width: 50%;\n",
       "}\n",
       "\n",
       "#sk-container-id-2 div.sk-parallel-item:last-child::after {\n",
       "  align-self: flex-start;\n",
       "  width: 50%;\n",
       "}\n",
       "\n",
       "#sk-container-id-2 div.sk-parallel-item:only-child::after {\n",
       "  width: 0;\n",
       "}\n",
       "\n",
       "/* Serial-specific style estimator block */\n",
       "\n",
       "#sk-container-id-2 div.sk-serial {\n",
       "  display: flex;\n",
       "  flex-direction: column;\n",
       "  align-items: center;\n",
       "  background-color: var(--sklearn-color-background);\n",
       "  padding-right: 1em;\n",
       "  padding-left: 1em;\n",
       "}\n",
       "\n",
       "\n",
       "/* Toggleable style: style used for estimator/Pipeline/ColumnTransformer box that is\n",
       "clickable and can be expanded/collapsed.\n",
       "- Pipeline and ColumnTransformer use this feature and define the default style\n",
       "- Estimators will overwrite some part of the style using the `sk-estimator` class\n",
       "*/\n",
       "\n",
       "/* Pipeline and ColumnTransformer style (default) */\n",
       "\n",
       "#sk-container-id-2 div.sk-toggleable {\n",
       "  /* Default theme specific background. It is overwritten whether we have a\n",
       "  specific estimator or a Pipeline/ColumnTransformer */\n",
       "  background-color: var(--sklearn-color-background);\n",
       "}\n",
       "\n",
       "/* Toggleable label */\n",
       "#sk-container-id-2 label.sk-toggleable__label {\n",
       "  cursor: pointer;\n",
       "  display: block;\n",
       "  width: 100%;\n",
       "  margin-bottom: 0;\n",
       "  padding: 0.5em;\n",
       "  box-sizing: border-box;\n",
       "  text-align: center;\n",
       "}\n",
       "\n",
       "#sk-container-id-2 label.sk-toggleable__label-arrow:before {\n",
       "  /* Arrow on the left of the label */\n",
       "  content: \"▸\";\n",
       "  float: left;\n",
       "  margin-right: 0.25em;\n",
       "  color: var(--sklearn-color-icon);\n",
       "}\n",
       "\n",
       "#sk-container-id-2 label.sk-toggleable__label-arrow:hover:before {\n",
       "  color: var(--sklearn-color-text);\n",
       "}\n",
       "\n",
       "/* Toggleable content - dropdown */\n",
       "\n",
       "#sk-container-id-2 div.sk-toggleable__content {\n",
       "  max-height: 0;\n",
       "  max-width: 0;\n",
       "  overflow: hidden;\n",
       "  text-align: left;\n",
       "  /* unfitted */\n",
       "  background-color: var(--sklearn-color-unfitted-level-0);\n",
       "}\n",
       "\n",
       "#sk-container-id-2 div.sk-toggleable__content.fitted {\n",
       "  /* fitted */\n",
       "  background-color: var(--sklearn-color-fitted-level-0);\n",
       "}\n",
       "\n",
       "#sk-container-id-2 div.sk-toggleable__content pre {\n",
       "  margin: 0.2em;\n",
       "  border-radius: 0.25em;\n",
       "  color: var(--sklearn-color-text);\n",
       "  /* unfitted */\n",
       "  background-color: var(--sklearn-color-unfitted-level-0);\n",
       "}\n",
       "\n",
       "#sk-container-id-2 div.sk-toggleable__content.fitted pre {\n",
       "  /* unfitted */\n",
       "  background-color: var(--sklearn-color-fitted-level-0);\n",
       "}\n",
       "\n",
       "#sk-container-id-2 input.sk-toggleable__control:checked~div.sk-toggleable__content {\n",
       "  /* Expand drop-down */\n",
       "  max-height: 200px;\n",
       "  max-width: 100%;\n",
       "  overflow: auto;\n",
       "}\n",
       "\n",
       "#sk-container-id-2 input.sk-toggleable__control:checked~label.sk-toggleable__label-arrow:before {\n",
       "  content: \"▾\";\n",
       "}\n",
       "\n",
       "/* Pipeline/ColumnTransformer-specific style */\n",
       "\n",
       "#sk-container-id-2 div.sk-label input.sk-toggleable__control:checked~label.sk-toggleable__label {\n",
       "  color: var(--sklearn-color-text);\n",
       "  background-color: var(--sklearn-color-unfitted-level-2);\n",
       "}\n",
       "\n",
       "#sk-container-id-2 div.sk-label.fitted input.sk-toggleable__control:checked~label.sk-toggleable__label {\n",
       "  background-color: var(--sklearn-color-fitted-level-2);\n",
       "}\n",
       "\n",
       "/* Estimator-specific style */\n",
       "\n",
       "/* Colorize estimator box */\n",
       "#sk-container-id-2 div.sk-estimator input.sk-toggleable__control:checked~label.sk-toggleable__label {\n",
       "  /* unfitted */\n",
       "  background-color: var(--sklearn-color-unfitted-level-2);\n",
       "}\n",
       "\n",
       "#sk-container-id-2 div.sk-estimator.fitted input.sk-toggleable__control:checked~label.sk-toggleable__label {\n",
       "  /* fitted */\n",
       "  background-color: var(--sklearn-color-fitted-level-2);\n",
       "}\n",
       "\n",
       "#sk-container-id-2 div.sk-label label.sk-toggleable__label,\n",
       "#sk-container-id-2 div.sk-label label {\n",
       "  /* The background is the default theme color */\n",
       "  color: var(--sklearn-color-text-on-default-background);\n",
       "}\n",
       "\n",
       "/* On hover, darken the color of the background */\n",
       "#sk-container-id-2 div.sk-label:hover label.sk-toggleable__label {\n",
       "  color: var(--sklearn-color-text);\n",
       "  background-color: var(--sklearn-color-unfitted-level-2);\n",
       "}\n",
       "\n",
       "/* Label box, darken color on hover, fitted */\n",
       "#sk-container-id-2 div.sk-label.fitted:hover label.sk-toggleable__label.fitted {\n",
       "  color: var(--sklearn-color-text);\n",
       "  background-color: var(--sklearn-color-fitted-level-2);\n",
       "}\n",
       "\n",
       "/* Estimator label */\n",
       "\n",
       "#sk-container-id-2 div.sk-label label {\n",
       "  font-family: monospace;\n",
       "  font-weight: bold;\n",
       "  display: inline-block;\n",
       "  line-height: 1.2em;\n",
       "}\n",
       "\n",
       "#sk-container-id-2 div.sk-label-container {\n",
       "  text-align: center;\n",
       "}\n",
       "\n",
       "/* Estimator-specific */\n",
       "#sk-container-id-2 div.sk-estimator {\n",
       "  font-family: monospace;\n",
       "  border: 1px dotted var(--sklearn-color-border-box);\n",
       "  border-radius: 0.25em;\n",
       "  box-sizing: border-box;\n",
       "  margin-bottom: 0.5em;\n",
       "  /* unfitted */\n",
       "  background-color: var(--sklearn-color-unfitted-level-0);\n",
       "}\n",
       "\n",
       "#sk-container-id-2 div.sk-estimator.fitted {\n",
       "  /* fitted */\n",
       "  background-color: var(--sklearn-color-fitted-level-0);\n",
       "}\n",
       "\n",
       "/* on hover */\n",
       "#sk-container-id-2 div.sk-estimator:hover {\n",
       "  /* unfitted */\n",
       "  background-color: var(--sklearn-color-unfitted-level-2);\n",
       "}\n",
       "\n",
       "#sk-container-id-2 div.sk-estimator.fitted:hover {\n",
       "  /* fitted */\n",
       "  background-color: var(--sklearn-color-fitted-level-2);\n",
       "}\n",
       "\n",
       "/* Specification for estimator info (e.g. \"i\" and \"?\") */\n",
       "\n",
       "/* Common style for \"i\" and \"?\" */\n",
       "\n",
       ".sk-estimator-doc-link,\n",
       "a:link.sk-estimator-doc-link,\n",
       "a:visited.sk-estimator-doc-link {\n",
       "  float: right;\n",
       "  font-size: smaller;\n",
       "  line-height: 1em;\n",
       "  font-family: monospace;\n",
       "  background-color: var(--sklearn-color-background);\n",
       "  border-radius: 1em;\n",
       "  height: 1em;\n",
       "  width: 1em;\n",
       "  text-decoration: none !important;\n",
       "  margin-left: 1ex;\n",
       "  /* unfitted */\n",
       "  border: var(--sklearn-color-unfitted-level-1) 1pt solid;\n",
       "  color: var(--sklearn-color-unfitted-level-1);\n",
       "}\n",
       "\n",
       ".sk-estimator-doc-link.fitted,\n",
       "a:link.sk-estimator-doc-link.fitted,\n",
       "a:visited.sk-estimator-doc-link.fitted {\n",
       "  /* fitted */\n",
       "  border: var(--sklearn-color-fitted-level-1) 1pt solid;\n",
       "  color: var(--sklearn-color-fitted-level-1);\n",
       "}\n",
       "\n",
       "/* On hover */\n",
       "div.sk-estimator:hover .sk-estimator-doc-link:hover,\n",
       ".sk-estimator-doc-link:hover,\n",
       "div.sk-label-container:hover .sk-estimator-doc-link:hover,\n",
       ".sk-estimator-doc-link:hover {\n",
       "  /* unfitted */\n",
       "  background-color: var(--sklearn-color-unfitted-level-3);\n",
       "  color: var(--sklearn-color-background);\n",
       "  text-decoration: none;\n",
       "}\n",
       "\n",
       "div.sk-estimator.fitted:hover .sk-estimator-doc-link.fitted:hover,\n",
       ".sk-estimator-doc-link.fitted:hover,\n",
       "div.sk-label-container:hover .sk-estimator-doc-link.fitted:hover,\n",
       ".sk-estimator-doc-link.fitted:hover {\n",
       "  /* fitted */\n",
       "  background-color: var(--sklearn-color-fitted-level-3);\n",
       "  color: var(--sklearn-color-background);\n",
       "  text-decoration: none;\n",
       "}\n",
       "\n",
       "/* Span, style for the box shown on hovering the info icon */\n",
       ".sk-estimator-doc-link span {\n",
       "  display: none;\n",
       "  z-index: 9999;\n",
       "  position: relative;\n",
       "  font-weight: normal;\n",
       "  right: .2ex;\n",
       "  padding: .5ex;\n",
       "  margin: .5ex;\n",
       "  width: min-content;\n",
       "  min-width: 20ex;\n",
       "  max-width: 50ex;\n",
       "  color: var(--sklearn-color-text);\n",
       "  box-shadow: 2pt 2pt 4pt #999;\n",
       "  /* unfitted */\n",
       "  background: var(--sklearn-color-unfitted-level-0);\n",
       "  border: .5pt solid var(--sklearn-color-unfitted-level-3);\n",
       "}\n",
       "\n",
       ".sk-estimator-doc-link.fitted span {\n",
       "  /* fitted */\n",
       "  background: var(--sklearn-color-fitted-level-0);\n",
       "  border: var(--sklearn-color-fitted-level-3);\n",
       "}\n",
       "\n",
       ".sk-estimator-doc-link:hover span {\n",
       "  display: block;\n",
       "}\n",
       "\n",
       "/* \"?\"-specific style due to the `<a>` HTML tag */\n",
       "\n",
       "#sk-container-id-2 a.estimator_doc_link {\n",
       "  float: right;\n",
       "  font-size: 1rem;\n",
       "  line-height: 1em;\n",
       "  font-family: monospace;\n",
       "  background-color: var(--sklearn-color-background);\n",
       "  border-radius: 1rem;\n",
       "  height: 1rem;\n",
       "  width: 1rem;\n",
       "  text-decoration: none;\n",
       "  /* unfitted */\n",
       "  color: var(--sklearn-color-unfitted-level-1);\n",
       "  border: var(--sklearn-color-unfitted-level-1) 1pt solid;\n",
       "}\n",
       "\n",
       "#sk-container-id-2 a.estimator_doc_link.fitted {\n",
       "  /* fitted */\n",
       "  border: var(--sklearn-color-fitted-level-1) 1pt solid;\n",
       "  color: var(--sklearn-color-fitted-level-1);\n",
       "}\n",
       "\n",
       "/* On hover */\n",
       "#sk-container-id-2 a.estimator_doc_link:hover {\n",
       "  /* unfitted */\n",
       "  background-color: var(--sklearn-color-unfitted-level-3);\n",
       "  color: var(--sklearn-color-background);\n",
       "  text-decoration: none;\n",
       "}\n",
       "\n",
       "#sk-container-id-2 a.estimator_doc_link.fitted:hover {\n",
       "  /* fitted */\n",
       "  background-color: var(--sklearn-color-fitted-level-3);\n",
       "}\n",
       "</style><div id=\"sk-container-id-2\" class=\"sk-top-container\"><div class=\"sk-text-repr-fallback\"><pre>RandomForestClassifier(bootstrap=False, max_depth=90, min_samples_split=5,\n",
       "                       n_estimators=800)</pre><b>In a Jupyter environment, please rerun this cell to show the HTML representation or trust the notebook. <br />On GitHub, the HTML representation is unable to render, please try loading this page with nbviewer.org.</b></div><div class=\"sk-container\" hidden><div class=\"sk-item\"><div class=\"sk-estimator fitted sk-toggleable\"><input class=\"sk-toggleable__control sk-hidden--visually\" id=\"sk-estimator-id-2\" type=\"checkbox\" checked><label for=\"sk-estimator-id-2\" class=\"sk-toggleable__label fitted sk-toggleable__label-arrow fitted\">&nbsp;&nbsp;RandomForestClassifier<a class=\"sk-estimator-doc-link fitted\" rel=\"noreferrer\" target=\"_blank\" href=\"https://scikit-learn.org/1.5/modules/generated/sklearn.ensemble.RandomForestClassifier.html\">?<span>Documentation for RandomForestClassifier</span></a><span class=\"sk-estimator-doc-link fitted\">i<span>Fitted</span></span></label><div class=\"sk-toggleable__content fitted\"><pre>RandomForestClassifier(bootstrap=False, max_depth=90, min_samples_split=5,\n",
       "                       n_estimators=800)</pre></div> </div></div></div></div>"
      ],
      "text/plain": [
       "RandomForestClassifier(bootstrap=False, max_depth=90, min_samples_split=5,\n",
       "                       n_estimators=800)"
      ]
     },
     "execution_count": 60,
     "metadata": {},
     "output_type": "execute_result"
    }
   ],
   "source": [
    "clf = RandomForestClassifier(**best_params)\n",
    "clf.fit(X_train_u_balanced,y_train_u_balanced)"
   ]
  },
  {
   "cell_type": "code",
   "execution_count": 62,
   "id": "7373e44f-75f0-42a9-ac0d-d53fcfe24b00",
   "metadata": {},
   "outputs": [],
   "source": [
    "predictions_rfc_us_hpt = clf.predict(X) "
   ]
  },
  {
   "cell_type": "code",
   "execution_count": 64,
   "id": "1087ac39-87dc-4694-aed8-146691a345b1",
   "metadata": {},
   "outputs": [
    {
     "name": "stdout",
     "output_type": "stream",
     "text": [
      "RFC US\n",
      "Accuracy: 0.7683284457478006\n",
      "Precision: 0.5463917525773195\n",
      "Recall: 0.6022727272727273\n",
      "F1 Score: 0.572972972972973\n"
     ]
    }
   ],
   "source": [
    "test_data_rfc_us_hpt = pd.DataFrame({\n",
    "    'id': test_df['Sentence_id'],\n",
    "    'predictions': predictions_rfc_us_hpt\n",
    "})\n",
    "# test_data_rfc_os = pd.DataFrame({\n",
    "#     'id': test_df['Sentence_id'],\n",
    "#     'predictions': predictions_rfc_os\n",
    "# })\n",
    "test_data_rfc_us_hpt['predictions'] = test_data_rfc_us_hpt['predictions'].apply([lambda x: 'No' if x == 0 else 'Yes'])\n",
    "# test_data_rfc_os['predictions'] = test_data_rfc_os['predictions'].apply([lambda x: 'No' if x == 0 else 'Yes'])\n",
    "## for LR\n",
    "df_merged_rfc_us_hpt = pd.merge(gold_df, test_data_rfc_us_hpt, left_on='Sentence_id', right_on='id', how='inner')\n",
    "# df_merged_rfc_os = pd.merge(gold_df, test_data_rfc_os, left_on='Sentence_id', right_on='id', how='inner')\n",
    "\n",
    "\n",
    "gold_labels_us = df_merged_rfc_us_hpt['class_label'].tolist()\n",
    "pred_labels_us = df_merged_rfc_us_hpt['predictions'].tolist()\n",
    "\n",
    "# gold_labels_os = df_merged_rfc_os['class_label'].tolist()\n",
    "# pred_labels_os = df_merged_rfc_os['predictions'].tolist()\n",
    "\n",
    "print(f\"RFC US\")\n",
    "acc = accuracy_score(gold_labels_us, pred_labels_us)\n",
    "precision = precision_score(gold_labels_us, pred_labels_us, pos_label='Yes', average='binary')\n",
    "recall = recall_score(gold_labels_us, pred_labels_us, pos_label='Yes', average='binary')\n",
    "f1 = f1_score(gold_labels_us, pred_labels_us, pos_label='Yes', average='binary')\n",
    "\n",
    "# Print the metrics\n",
    "print(f\"Accuracy: {acc}\")\n",
    "print(f\"Precision: {precision}\")\n",
    "print(f\"Recall: {recall}\")\n",
    "print(f\"F1 Score: {f1}\")\n"
   ]
  },
  {
   "cell_type": "code",
   "execution_count": 61,
   "id": "081939ee-8f6f-41b6-9395-d639fbed2581",
   "metadata": {},
   "outputs": [
    {
     "data": {
      "text/plain": [
       "['models\\\\random_forest_tfidf_embeddings_10_features_us_best_params.pkl']"
      ]
     },
     "execution_count": 61,
     "metadata": {},
     "output_type": "execute_result"
    }
   ],
   "source": [
    "# save random forest model\n",
    "save_folder = 'models'\n",
    "os.makedirs(save_folder, exist_ok = True)\n",
    "model_path = os.path.join(save_folder, 'random_forest_tfidf_embeddings_10_features_us_best_params.pkl')\n",
    "joblib.dump(clf, model_path)"
   ]
  },
  {
   "cell_type": "code",
   "execution_count": 65,
   "id": "5de7bb88-b578-446d-9248-92a0879ce460",
   "metadata": {},
   "outputs": [],
   "source": [
    "# train LR with balanced_data - over sampling\n",
    "# lr = LogisticRegression(max_iter=1000)\n",
    "# lr.fit(X_train_balanced,y_train_balanced)"
   ]
  },
  {
   "cell_type": "code",
   "execution_count": 66,
   "id": "1bdbc508-6987-47c6-9389-54b3c008f193",
   "metadata": {},
   "outputs": [],
   "source": [
    "# save linear regression model\n",
    "# save_folder = 'models'\n",
    "# os.makedirs(save_folder, exist_ok = True)\n",
    "# model_path = os.path.join(save_folder, 'linear_regression_tfidf_embeddings_10_features_os.pkl')\n",
    "# joblib.dump(lr, model_path)"
   ]
  },
  {
   "cell_type": "code",
   "execution_count": 67,
   "id": "c7eeadfb-4083-4321-a8d9-7029852db9d8",
   "metadata": {},
   "outputs": [],
   "source": [
    "# y_pred = lr.predict(X_test)\n",
    "# print(classification_report(y_test, y_pred))"
   ]
  },
  {
   "cell_type": "code",
   "execution_count": 68,
   "id": "07e4e696-f53b-4c14-8523-95d585a7973d",
   "metadata": {},
   "outputs": [],
   "source": [
    "# train LR with balanced_data - under sampling\n",
    "# lr = LogisticRegression(max_iter=1000)\n",
    "# lr.fit(X_train_u_balanced,y_train_u_balanced)"
   ]
  },
  {
   "cell_type": "code",
   "execution_count": 69,
   "id": "09703105-36f1-4fc6-8b73-f94623c56664",
   "metadata": {},
   "outputs": [],
   "source": [
    "# save linear regression model\n",
    "# save_folder = 'models'\n",
    "# os.makedirs(save_folder, exist_ok = True)\n",
    "# model_path = os.path.join(save_folder, 'linear_regression_tfidf_embeddings_10_features_us.pkl')\n",
    "# joblib.dump(lr, model_path)"
   ]
  },
  {
   "cell_type": "code",
   "execution_count": 70,
   "id": "7ebda4a7-4591-4af1-85b2-8aa2326f3d1d",
   "metadata": {},
   "outputs": [],
   "source": [
    "# y_pred = lr.predict(X_test)\n",
    "# print(classification_report(y_test, y_pred))"
   ]
  },
  {
   "cell_type": "markdown",
   "id": "a189569d-b1c3-42fd-b686-f5de43139019",
   "metadata": {},
   "source": [
    "## Test with gold dataset for Liner regression over sampling and under sampling"
   ]
  },
  {
   "cell_type": "code",
   "execution_count": 71,
   "id": "5c01b180-4b36-4269-9b7e-60772c99dca4",
   "metadata": {},
   "outputs": [],
   "source": [
    "# load model LR us\n",
    "# model_path_lr_us = 'models/linear_regression_tfidf_embeddings_10_features_us.pkl'\n",
    "# model_lr_us = joblib.load(model_path_lr_us)\n",
    "# predictions_lr_us = model_lr_us.predict(X)\n",
    "# # predictions_rfc_us\n",
    "\n",
    "# # # load model LR os\n",
    "# model_path_lr_os = 'models/linear_regression_tfidf_embeddings_10_features_os.pkl'\n",
    "# model_lr_os = joblib.load(model_path_lr_os)\n",
    "# predictions_lr_os = model_lr_os.predict(X)\n",
    "# # predictions_rfc_os"
   ]
  },
  {
   "cell_type": "code",
   "execution_count": 72,
   "id": "bd20b8a3-f123-4180-8b30-4c78d3b1e23e",
   "metadata": {},
   "outputs": [],
   "source": [
    "# test_data_lr_us = pd.DataFrame({\n",
    "#     'id': test_df['Sentence_id'],\n",
    "#     'predictions': predictions_lr_us\n",
    "# })\n",
    "# test_data_lr_os = pd.DataFrame({\n",
    "#     'id': test_df['Sentence_id'],\n",
    "#     'predictions': predictions_lr_os\n",
    "# })\n",
    "# test_data_lr_us['predictions'] = test_data_lr_us['predictions'].apply([lambda x: 'No' if x == 0 else 'Yes'])\n",
    "# test_data_lr_os['predictions'] = test_data_lr_os['predictions'].apply([lambda x: 'No' if x == 0 else 'Yes'])\n",
    "# ## for LR\n",
    "# df_merged_lr_us = pd.merge(gold_df, test_data_lr_us, left_on='Sentence_id', right_on='id', how='inner')\n",
    "# df_merged_lr_os = pd.merge(gold_df, test_data_lr_os, left_on='Sentence_id', right_on='id', how='inner')\n",
    "\n",
    "\n",
    "# gold_labels_us = df_merged_lr_us['class_label'].tolist()\n",
    "# pred_labels_us = df_merged_lr_us['predictions'].tolist()\n",
    "\n",
    "# gold_labels_os = df_merged_lr_os['class_label'].tolist()\n",
    "# pred_labels_os = df_merged_lr_os['predictions'].tolist()\n",
    "\n",
    "# print(f\"LR US\")\n",
    "# acc = accuracy_score(gold_labels_us, pred_labels_us)\n",
    "# precision = precision_score(gold_labels_us, pred_labels_us, pos_label='Yes', average='binary')\n",
    "# recall = recall_score(gold_labels_us, pred_labels_us, pos_label='Yes', average='binary')\n",
    "# f1 = f1_score(gold_labels_us, pred_labels_us, pos_label='Yes', average='binary')\n",
    "\n",
    "# # Print the metrics\n",
    "# print(f\"Accuracy: {acc}\")\n",
    "# print(f\"Precision: {precision}\")\n",
    "# print(f\"Recall: {recall}\")\n",
    "# print(f\"F1 Score: {f1}\")\n",
    "\n",
    "# print(f\"LR OS\")\n",
    "# acc = accuracy_score(gold_labels_os, pred_labels_os)\n",
    "# precision = precision_score(gold_labels_os, pred_labels_os, pos_label='Yes', average='binary')\n",
    "# recall = recall_score(gold_labels_os, pred_labels_os, pos_label='Yes', average='binary')\n",
    "# f1 = f1_score(gold_labels_os, pred_labels_os, pos_label='Yes', average='binary')\n",
    "\n",
    "# # Print the metrics\n",
    "# print(f\"Accuracy: {acc}\")\n",
    "# print(f\"Precision: {precision}\")\n",
    "# print(f\"Recall: {recall}\")\n",
    "# print(f\"F1 Score: {f1}\")"
   ]
  },
  {
   "cell_type": "markdown",
   "id": "7541b52f-c295-46db-9529-9b0eb7436356",
   "metadata": {},
   "source": [
    "## Using other models - hyperparameter tuning - train - test"
   ]
  },
  {
   "cell_type": "markdown",
   "id": "de06c5ce-b9e8-4211-974e-2b0a4d4608e9",
   "metadata": {},
   "source": [
    "## validation data process start"
   ]
  },
  {
   "cell_type": "code",
   "execution_count": 19,
   "id": "51c887e0-f757-4b50-858b-5827ca05a18b",
   "metadata": {},
   "outputs": [
    {
     "name": "stderr",
     "output_type": "stream",
     "text": [
      "[nltk_data] Downloading package stopwords to\n",
      "[nltk_data]     C:\\Users\\looka\\AppData\\Roaming\\nltk_data...\n",
      "[nltk_data]   Package stopwords is already up-to-date!\n",
      "[nltk_data] Downloading package punkt to\n",
      "[nltk_data]     C:\\Users\\looka\\AppData\\Roaming\\nltk_data...\n",
      "[nltk_data]   Package punkt is already up-to-date!\n"
     ]
    }
   ],
   "source": [
    "nltk.download('stopwords')\n",
    "nltk.download('punkt')\n",
    "stop_words = set(stopwords.words('english'))"
   ]
  },
  {
   "cell_type": "code",
   "execution_count": 8,
   "id": "1fa0b340-496e-45f3-b33a-da63da781556",
   "metadata": {},
   "outputs": [
    {
     "data": {
      "text/plain": [
       "Index(['Sentence_id', 'Text', 'class_label', 'Tokens', 'text_length',\n",
       "       'cleaned_text', 'cleaned_text_length', 'roberta_sentiment',\n",
       "       'roberta_sent_pos', 'roberta_sent_neg', 'roberta_sent_mixed',\n",
       "       'roberta_sentiment_class', 'count_tokens', 'counts', 'names',\n",
       "       'organizations', 'dates', 'punctuation_count', 'embedding',\n",
       "       'converted_embedding', 'flattened_embedding', 'label'],\n",
       "      dtype='object')"
      ]
     },
     "execution_count": 8,
     "metadata": {},
     "output_type": "execute_result"
    }
   ],
   "source": [
    "dev_train.columns"
   ]
  },
  {
   "cell_type": "code",
   "execution_count": 41,
   "id": "5b93d591-62f4-435f-b6b9-d0efea42c478",
   "metadata": {},
   "outputs": [],
   "source": [
    "punct_list = list(string.punctuation)\n",
    "def joined_tokens(row):\n",
    "    tokens = row['Tokens']\n",
    "    token_list = ast.literal_eval(tokens)\n",
    "    if len(token_list)==0:\n",
    "        text = ''.join([char for char in row['Text'] if char not in string.punctuation]) #\n",
    "        text_tokens = text.lower().split()\n",
    "    else:\n",
    "        text_tokens = token_list\n",
    "        \n",
    "    filtered_tokens = [word for word in text_tokens if word.lower() not in punct_list]\n",
    "    \n",
    "    return ' '.join(filtered_tokens)\n",
    "\n",
    "\n",
    "# def joined_tokens(row):\n",
    "#     tokens = row['Tokens']\n",
    "#     print(tokens)\n",
    "#     token_list = ast.literal_eval(tokens)\n",
    "#     print(token_list)\n",
    "#     if len(token_list) == 0:\n",
    "#         text_tokens = row['Text'].lower().split()  # Tokenize the text\n",
    "#         print(text_tokens)\n",
    "#     else:\n",
    "#         text_tokens = token_list\n",
    "    \n",
    "#     # Remove stop words\n",
    "#     # filtered_tokens = [word for word in text_tokens if word.lower() not in stop_words]\n",
    "    \n",
    "#     return ' '.join(text_tokens)"
   ]
  },
  {
   "cell_type": "code",
   "execution_count": 10,
   "id": "1b5e5842-6c41-4060-b84e-8f1586c77f13",
   "metadata": {},
   "outputs": [],
   "source": [
    "nlp = spacy.load('en_core_web_sm')\n",
    "def lemmatiz_text(text):\n",
    "    doc = nlp(text)\n",
    "    lemma_tokens = [token.lemma_ for token in doc]\n",
    "    lemma_text = ' '.join(lemma_tokens)\n",
    "    return lemma_text"
   ]
  },
  {
   "cell_type": "code",
   "execution_count": 42,
   "id": "4ce61437-2e45-4462-9815-1d88bf223be5",
   "metadata": {},
   "outputs": [],
   "source": [
    "dev_train['joined_tokens'] = dev_train.apply(joined_tokens, axis=1)\n",
    "# dev_train['text-tfidf'] = dev_train['joined_tokens'].apply(lemmatiz_text)"
   ]
  },
  {
   "cell_type": "code",
   "execution_count": 43,
   "id": "b83889ea-1158-474d-9a22-5356ce89e066",
   "metadata": {},
   "outputs": [
    {
     "data": {
      "text/plain": [
       "'we do not have to do it'"
      ]
     },
     "execution_count": 43,
     "metadata": {},
     "output_type": "execute_result"
    }
   ],
   "source": [
    "# dev_train[dev_train['joined_tokens'].isnull() == True]\n",
    "dev_train['joined_tokens'].iloc[736]"
   ]
  },
  {
   "cell_type": "code",
   "execution_count": 12,
   "id": "3c957cf6-7118-4af2-8465-b1a47b1c6bdb",
   "metadata": {},
   "outputs": [],
   "source": [
    "text = dev_train['text-tfidf']\n",
    "vectorizer_path = 'models/tfidf_vectorizer_6300.pkl'\n",
    "tfidf_vect = joblib.load(vectorizer_path)\n",
    "tfidf_features = tfidf_vect.transform(text)"
   ]
  },
  {
   "cell_type": "code",
   "execution_count": 13,
   "id": "5d1d2815-a164-4792-951b-ec295b9e12f9",
   "metadata": {},
   "outputs": [
    {
     "data": {
      "text/plain": [
       "(1032, 6300)"
      ]
     },
     "execution_count": 13,
     "metadata": {},
     "output_type": "execute_result"
    }
   ],
   "source": [
    "tfidf_features.shape"
   ]
  },
  {
   "cell_type": "code",
   "execution_count": 17,
   "id": "d99d2ff9-5316-4f9b-a6b5-549499a32bbf",
   "metadata": {},
   "outputs": [],
   "source": [
    "dev_train.to_csv('created_new_dev_data/second_dev_train.csv')"
   ]
  },
  {
   "cell_type": "code",
   "execution_count": 16,
   "id": "1af33c7f-e0d8-4721-89eb-336aaa3d55b7",
   "metadata": {},
   "outputs": [
    {
     "data": {
      "text/html": [
       "<div>\n",
       "<style scoped>\n",
       "    .dataframe tbody tr th:only-of-type {\n",
       "        vertical-align: middle;\n",
       "    }\n",
       "\n",
       "    .dataframe tbody tr th {\n",
       "        vertical-align: top;\n",
       "    }\n",
       "\n",
       "    .dataframe thead th {\n",
       "        text-align: right;\n",
       "    }\n",
       "</style>\n",
       "<table border=\"1\" class=\"dataframe\">\n",
       "  <thead>\n",
       "    <tr style=\"text-align: right;\">\n",
       "      <th></th>\n",
       "      <th>Sentence_id</th>\n",
       "      <th>Text</th>\n",
       "      <th>class_label</th>\n",
       "      <th>Tokens</th>\n",
       "      <th>text_length</th>\n",
       "      <th>cleaned_text</th>\n",
       "      <th>cleaned_text_length</th>\n",
       "      <th>roberta_sentiment</th>\n",
       "      <th>roberta_sent_pos</th>\n",
       "      <th>roberta_sent_neg</th>\n",
       "      <th>...</th>\n",
       "      <th>names</th>\n",
       "      <th>organizations</th>\n",
       "      <th>dates</th>\n",
       "      <th>punctuation_count</th>\n",
       "      <th>embedding</th>\n",
       "      <th>converted_embedding</th>\n",
       "      <th>flattened_embedding</th>\n",
       "      <th>label</th>\n",
       "      <th>joined_tokens</th>\n",
       "      <th>text-tfidf</th>\n",
       "    </tr>\n",
       "  </thead>\n",
       "  <tbody>\n",
       "    <tr>\n",
       "      <th>493</th>\n",
       "      <td>10465</td>\n",
       "      <td>Now, I have a plan to fix this problem and it ...</td>\n",
       "      <td>No</td>\n",
       "      <td>['plan', 'fix', 'problem', 'got', 'energy', 'i...</td>\n",
       "      <td>85</td>\n",
       "      <td>plan fix problem got energy independence</td>\n",
       "      <td>40</td>\n",
       "      <td>{'positive_score': 0.31958216428756714, 'negat...</td>\n",
       "      <td>0.319582</td>\n",
       "      <td>0.067757</td>\n",
       "      <td>...</td>\n",
       "      <td>0</td>\n",
       "      <td>0</td>\n",
       "      <td>0</td>\n",
       "      <td>0</td>\n",
       "      <td>[[ 1.15189850e-01  2.02788115e-01 -1.70146152e...</td>\n",
       "      <td>[[ 1.15189850e-01  2.02788115e-01 -1.70146152e...</td>\n",
       "      <td>[ 1.15189850e-01  2.02788115e-01 -1.70146152e-...</td>\n",
       "      <td>0</td>\n",
       "      <td>plan fix problem got energy independence</td>\n",
       "      <td>plan fix problem get energy independence</td>\n",
       "    </tr>\n",
       "  </tbody>\n",
       "</table>\n",
       "<p>1 rows × 24 columns</p>\n",
       "</div>"
      ],
      "text/plain": [
       "     Sentence_id                                               Text  \\\n",
       "493        10465  Now, I have a plan to fix this problem and it ...   \n",
       "\n",
       "    class_label                                             Tokens  \\\n",
       "493          No  ['plan', 'fix', 'problem', 'got', 'energy', 'i...   \n",
       "\n",
       "     text_length                              cleaned_text  \\\n",
       "493           85  plan fix problem got energy independence   \n",
       "\n",
       "     cleaned_text_length                                  roberta_sentiment  \\\n",
       "493                   40  {'positive_score': 0.31958216428756714, 'negat...   \n",
       "\n",
       "     roberta_sent_pos  roberta_sent_neg  ...  names organizations  dates  \\\n",
       "493          0.319582          0.067757  ...      0             0      0   \n",
       "\n",
       "    punctuation_count                                          embedding  \\\n",
       "493                 0  [[ 1.15189850e-01  2.02788115e-01 -1.70146152e...   \n",
       "\n",
       "                                   converted_embedding  \\\n",
       "493  [[ 1.15189850e-01  2.02788115e-01 -1.70146152e...   \n",
       "\n",
       "                                   flattened_embedding  label  \\\n",
       "493  [ 1.15189850e-01  2.02788115e-01 -1.70146152e-...      0   \n",
       "\n",
       "                                joined_tokens  \\\n",
       "493  plan fix problem got energy independence   \n",
       "\n",
       "                                   text-tfidf  \n",
       "493  plan fix problem get energy independence  \n",
       "\n",
       "[1 rows x 24 columns]"
      ]
     },
     "execution_count": 16,
     "metadata": {},
     "output_type": "execute_result"
    }
   ],
   "source": [
    "dev_train.sample()"
   ]
  },
  {
   "cell_type": "code",
   "execution_count": 78,
   "id": "8b66fe45-df87-439f-af1b-1a7022f5acbc",
   "metadata": {},
   "outputs": [],
   "source": [
    "def convert_to_numpy_array(embd_str):\n",
    "    #print(f\"string: {embd_str}\")\n",
    "    #print(type(embd_str))\n",
    "    embd_str_clean = embd_str.replace(\"\\n\", \" \").replace(\" \", \" \")\n",
    "    #print(type(embd_str_clean))\n",
    "    #print(f\"string cleansing: {embd_str_clean}\")\n",
    "    embd_str_clean = embd_str_clean.strip('[]')\n",
    "    #print(type(embd_str_clean))\n",
    "    #print(f\"removing the outer brackets {embd_str_clean}\")\n",
    "    embd_list = embd_str_clean.split()\n",
    "    #print(f\"Split the string into individual values {embd_list}\")\n",
    "    embed_array = np.array(embd_list, dtype = float)\n",
    "    #print(f\"list to array {embed_array}\")\n",
    "    return embed_array"
   ]
  },
  {
   "cell_type": "code",
   "execution_count": 80,
   "id": "65d9d72b-393b-420d-befe-47d3d57e4136",
   "metadata": {},
   "outputs": [],
   "source": [
    "additional_features = dev_train[['text_length', 'roberta_sent_neg', 'roberta_sent_mixed',\n",
    "                            'roberta_sent_pos', 'names', 'organizations', 'dates',\n",
    "                            'count_tokens', 'cleaned_text_length', 'punctuation_count']].to_numpy()"
   ]
  },
  {
   "cell_type": "code",
   "execution_count": 81,
   "id": "681060e6-19c5-43f5-b404-b8146056e2b6",
   "metadata": {},
   "outputs": [],
   "source": [
    "dev_train['converted_embedding'] = dev_train['embedding'].apply(convert_to_numpy_array)"
   ]
  },
  {
   "cell_type": "code",
   "execution_count": 83,
   "id": "d13b4792-a956-4da8-8e79-8b31e342ccaf",
   "metadata": {},
   "outputs": [],
   "source": [
    "pca = PCA(n_components = 50)\n",
    "reduced_embeddings = pca.fit_transform(dev_train['converted_embedding'].to_list())"
   ]
  },
  {
   "cell_type": "code",
   "execution_count": 84,
   "id": "b889de3c-c1d3-443e-b125-7c2b165d055a",
   "metadata": {},
   "outputs": [],
   "source": [
    "embeddings_np = np.array(reduced_embeddings)\n",
    "tfidf_features_np = tfidf_features.toarray()\n",
    "additional_features_np = np.array(additional_features)"
   ]
  },
  {
   "cell_type": "code",
   "execution_count": 85,
   "id": "afbf919b-10b8-49e1-af49-e3018e94e6e4",
   "metadata": {},
   "outputs": [],
   "source": [
    "X_eval = np.hstack([tfidf_features_np,embeddings_np, additional_features_np])\n",
    "y_eval = dev_train['label']"
   ]
  },
  {
   "cell_type": "code",
   "execution_count": null,
   "id": "9aef41cb-2323-4da5-8ee8-045a75404dc8",
   "metadata": {},
   "outputs": [],
   "source": []
  },
  {
   "cell_type": "markdown",
   "id": "44b9f1c8-9e0f-4b2e-9d0b-6bc3e205e7f3",
   "metadata": {},
   "source": [
    "### validation data process end"
   ]
  },
  {
   "cell_type": "markdown",
   "id": "81e53258-46d6-4829-bca5-daece0a2712b",
   "metadata": {},
   "source": [
    "## XGBoost"
   ]
  },
  {
   "cell_type": "code",
   "execution_count": 65,
   "id": "1af1bb47-2adf-4bc5-ac1a-f52eeb4b0477",
   "metadata": {},
   "outputs": [],
   "source": [
    "# {'objective': 'binary:logistic', 'base_score': None, 'booster': None, 'callbacks': None, 'colsample_bylevel': None, \n",
    "#  'colsample_bynode': None, 'colsample_bytree': None, 'device': None, 'early_stopping_rounds': None, 'enable_categorical': False, \n",
    "#  'eval_metric': None, 'feature_types': None, 'gamma': None, 'grow_policy': None, 'importance_type': None, 'interaction_constraints': None, \n",
    "#  'learning_rate': None, 'max_bin': None, 'max_cat_threshold': None, 'max_cat_to_onehot': None, 'max_delta_step': None, 'max_depth': None, \n",
    "#  'max_leaves': None, 'min_child_weight': None, 'missing': nan, 'monotone_constraints': None, 'multi_strategy': None, 'n_estimators': None, \n",
    "#  'n_jobs': None, 'num_parallel_tree': None, 'random_state': None, 'reg_alpha': None, 'reg_lambda': None, 'sampling_method': None, \n",
    "#  'scale_pos_weight': None, 'subsample': None, 'tree_method': None, 'validate_parameters': None, 'verbosity': None}\n",
    "best_params = {\n",
    " 'learning_rate': 0.09460545700275623,\n",
    " 'max_depth': 10, #20\n",
    " 'n_estimators': 400,\n",
    " 'subsample': 0.8, # 0.5115069174630871\n",
    "    'colsample_bytree': 0.8,\n",
    "    'tree_method': 'hist'\n",
    "}"
   ]
  },
  {
   "cell_type": "code",
   "execution_count": 109,
   "id": "d53268e0-cf20-4b59-a451-e2834d460c12",
   "metadata": {},
   "outputs": [],
   "source": [
    "# X , y - real data\n",
    "# X_train_u_balanced, y_train_u_balanced - under sampleed data\n",
    "# test_df - without label\n",
    "# gold_df - with label"
   ]
  },
  {
   "cell_type": "code",
   "execution_count": 2,
   "id": "5de6b260-3eef-4a9a-ba99-a7f129685f31",
   "metadata": {},
   "outputs": [],
   "source": [
    "# # new_df['class_label'].value_counts()\n",
    "# scale_pos_weight = 17088 / 5413\n",
    "# # print(scale_pos_weight)\n",
    "# xgb_model = XGBClassifier(**best_params, random_state = 42, scale_pos_weight = scale_pos_weight, early_stopping_rounds = 10, eval_metric = 'logloss')\n",
    "# xgb_model.fit(X_train, y_train, eval_set=[(X_eval, y_eval)], verbose = True)"
   ]
  },
  {
   "cell_type": "code",
   "execution_count": null,
   "id": "f78494de-16ad-4778-a11d-72fb972f3cea",
   "metadata": {},
   "outputs": [],
   "source": []
  },
  {
   "cell_type": "code",
   "execution_count": 76,
   "id": "2df453cf-c9f0-4d7c-80d0-0ec20c0bfb23",
   "metadata": {},
   "outputs": [
    {
     "name": "stdout",
     "output_type": "stream",
     "text": [
      "{'objective': 'binary:logistic', 'base_score': None, 'booster': None, 'callbacks': None, 'colsample_bylevel': None, 'colsample_bynode': None, 'colsample_bytree': None, 'device': None, 'early_stopping_rounds': None, 'enable_categorical': False, 'eval_metric': None, 'feature_types': None, 'gamma': None, 'grow_policy': None, 'importance_type': None, 'interaction_constraints': None, 'learning_rate': None, 'max_bin': None, 'max_cat_threshold': None, 'max_cat_to_onehot': None, 'max_delta_step': None, 'max_depth': None, 'max_leaves': None, 'min_child_weight': None, 'missing': nan, 'monotone_constraints': None, 'multi_strategy': None, 'n_estimators': None, 'n_jobs': None, 'num_parallel_tree': None, 'random_state': None, 'reg_alpha': None, 'reg_lambda': None, 'sampling_method': None, 'scale_pos_weight': None, 'subsample': None, 'tree_method': None, 'validate_parameters': None, 'verbosity': None}\n"
     ]
    }
   ],
   "source": [
    "# xgb = XGBClassifier()\n",
    "# print(xgb.get_params())"
   ]
  },
  {
   "cell_type": "code",
   "execution_count": 131,
   "id": "121b5732-22b0-4678-8440-bbab4c19dfdf",
   "metadata": {},
   "outputs": [],
   "source": [
    "y_pred_xgb_imblnc = xgb_model.predict(X_test)\n",
    "# print(classification_report(y_test, y_pred))"
   ]
  },
  {
   "cell_type": "code",
   "execution_count": 132,
   "id": "36ac6f6c-1eac-409a-b720-7f18a1c7bb2d",
   "metadata": {},
   "outputs": [
    {
     "name": "stdout",
     "output_type": "stream",
     "text": [
      "XGB on original imbalance dataset\n",
      "Accuracy: 0.7302052785923754\n",
      "Precision: 0.4803921568627451\n",
      "Recall: 0.5568181818181818\n",
      "F1 Score: 0.5157894736842106\n"
     ]
    }
   ],
   "source": [
    "test_data_xgb = pd.DataFrame({\n",
    "    'id': test_df['Sentence_id'],\n",
    "    'predictions': y_pred_xgb_imblnc\n",
    "})\n",
    "# test_data_rfc_os = pd.DataFrame({\n",
    "#     'id': test_df['Sentence_id'],\n",
    "#     'predictions': predictions_rfc_os\n",
    "# })\n",
    "test_data_xgb['predictions'] = test_data_xgb['predictions'].apply([lambda x: 'No' if x == 0 else 'Yes'])\n",
    "# test_data_rfc_os['predictions'] = test_data_rfc_os['predictions'].apply([lambda x: 'No' if x == 0 else 'Yes'])\n",
    "## for LR\n",
    "test_data_merged_xgb = pd.merge(gold_df, test_data_xgb, left_on='Sentence_id', right_on='id', how='inner')\n",
    "# df_merged_rfc_os = pd.merge(gold_df, test_data_rfc_os, left_on='Sentence_id', right_on='id', how='inner')\n",
    "\n",
    "\n",
    "gold_labels_us = test_data_merged_xgb['class_label'].tolist()\n",
    "pred_labels_us = test_data_merged_xgb['predictions'].tolist()\n",
    "\n",
    "# gold_labels_os = df_merged_rfc_os['class_label'].tolist()\n",
    "# pred_labels_os = df_merged_rfc_os['predictions'].tolist()\n",
    "\n",
    "print(f\"XGB on original imbalance dataset\")\n",
    "acc = accuracy_score(gold_labels_us, pred_labels_us)\n",
    "precision = precision_score(gold_labels_us, pred_labels_us, pos_label='Yes', average='binary')\n",
    "recall = recall_score(gold_labels_us, pred_labels_us, pos_label='Yes', average='binary')\n",
    "f1 = f1_score(gold_labels_us, pred_labels_us, pos_label='Yes', average='binary')\n",
    "\n",
    "# Print the metrics\n",
    "print(f\"Accuracy: {acc}\")\n",
    "print(f\"Precision: {precision}\")\n",
    "print(f\"Recall: {recall}\")\n",
    "print(f\"F1 Score: {f1}\")\n"
   ]
  },
  {
   "cell_type": "markdown",
   "id": "0b920fe7-8f25-403e-a6d1-ffc16c139d92",
   "metadata": {},
   "source": [
    "## SVM"
   ]
  },
  {
   "cell_type": "code",
   "execution_count": null,
   "id": "d3297daa-c208-4de9-984d-42a978769251",
   "metadata": {},
   "outputs": [],
   "source": [
    "svm = SVC(class_weight='balanced', random_state=42)\n",
    "svm.fit(X_train, y_train)"
   ]
  },
  {
   "cell_type": "code",
   "execution_count": null,
   "id": "0e6cadac-768e-42ab-9e2d-dbf1f523b877",
   "metadata": {},
   "outputs": [],
   "source": [
    "y_pred = xgb.predict(X_test)\n",
    "print(classification_report(y_test, y_pred))"
   ]
  },
  {
   "cell_type": "markdown",
   "id": "6aa639d6-b3d8-49ef-9c26-b7fe4c9cf5e0",
   "metadata": {},
   "source": [
    "## KNN"
   ]
  },
  {
   "cell_type": "code",
   "execution_count": null,
   "id": "f2258f12-12bd-47d6-b695-b43663c72d55",
   "metadata": {},
   "outputs": [],
   "source": [
    "knn = KNeighborsClassifier(weights='distance')\n",
    "knn.fit(X_train, y_train)"
   ]
  },
  {
   "cell_type": "code",
   "execution_count": null,
   "id": "1a149452-178e-44d8-9723-18a975e4d749",
   "metadata": {},
   "outputs": [],
   "source": [
    "y_pred = knn.predict(X_test)\n",
    "print(classification_report(y_test, y_pred))"
   ]
  },
  {
   "cell_type": "markdown",
   "id": "1bd8d7fb-0572-46e7-a7d1-235474ed128a",
   "metadata": {},
   "source": [
    "## GNB"
   ]
  },
  {
   "cell_type": "code",
   "execution_count": null,
   "id": "8c0e7641-2959-408e-bb8a-0d64c7f4bad6",
   "metadata": {},
   "outputs": [],
   "source": [
    "nb = GaussianNB()\n",
    "nb.fit(X_train, y_train)"
   ]
  },
  {
   "cell_type": "code",
   "execution_count": null,
   "id": "860ee499-b2ce-4a56-94a3-6612143fd39e",
   "metadata": {},
   "outputs": [],
   "source": [
    "y_pred = nb.predict(X_test)\n",
    "print(classification_report(y_test, y_pred))"
   ]
  },
  {
   "cell_type": "markdown",
   "id": "7c982909-b7e5-4527-bc5b-5fb306f16423",
   "metadata": {},
   "source": [
    "## AUGMENTATION TECHNIQUE"
   ]
  },
  {
   "cell_type": "code",
   "execution_count": null,
   "id": "aa68f665-c1cf-444f-961c-72aeb638e94b",
   "metadata": {},
   "outputs": [],
   "source": []
  }
 ],
 "metadata": {
  "kernelspec": {
   "display_name": "Python 3 (ipykernel)",
   "language": "python",
   "name": "python3"
  },
  "language_info": {
   "codemirror_mode": {
    "name": "ipython",
    "version": 3
   },
   "file_extension": ".py",
   "mimetype": "text/x-python",
   "name": "python",
   "nbconvert_exporter": "python",
   "pygments_lexer": "ipython3",
   "version": "3.10.0"
  }
 },
 "nbformat": 4,
 "nbformat_minor": 5
}
