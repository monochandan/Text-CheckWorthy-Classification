{
 "cells": [
  {
   "cell_type": "code",
   "execution_count": 4,
   "id": "b8a49be0-5185-41d6-a36d-a0479e51b812",
   "metadata": {},
   "outputs": [],
   "source": [
    "import pandas as pd\n",
    "import polars as pl\n",
    "from transformers import AutoTokenizer, AutoModelForSequenceClassification\n",
    "import torch"
   ]
  },
  {
   "cell_type": "code",
   "execution_count": 5,
   "id": "901d7813-0635-4541-b23f-46554c8d387f",
   "metadata": {},
   "outputs": [],
   "source": [
    "df_new = pd.read_csv('data/CT24_checkworthy_english/CT24_checkworthy_english/CT24_checkworthy_english_train.tsv', delimiter = '\\t')"
   ]
  },
  {
   "cell_type": "code",
   "execution_count": 6,
   "id": "3278bdf4-f59a-49b3-b417-6f1351ded925",
   "metadata": {},
   "outputs": [
    {
     "data": {
      "text/plain": [
       "Sentence_id     int64\n",
       "Text           object\n",
       "class_label    object\n",
       "dtype: object"
      ]
     },
     "execution_count": 6,
     "metadata": {},
     "output_type": "execute_result"
    }
   ],
   "source": [
    "df_new.dtypes"
   ]
  },
  {
   "cell_type": "code",
   "execution_count": 7,
   "id": "edf9ecc6-fc76-4b48-92a5-3e2e5f8e5ae3",
   "metadata": {},
   "outputs": [
    {
     "name": "stdout",
     "output_type": "stream",
     "text": [
      "Sentence_id    17088\n",
      "Text           17088\n",
      "class_label    17088\n",
      "dtype: int64\n",
      "Sentence_id    5413\n",
      "Text           5413\n",
      "class_label    5413\n",
      "dtype: int64\n"
     ]
    }
   ],
   "source": [
    "print(df_new[df_new['class_label'] == 'No'].count()) # gold_data -> 253\n",
    "print(df_new[df_new['class_label'] == 'Yes'].count()) # gold_data -> 88"
   ]
  },
  {
   "cell_type": "code",
   "execution_count": 8,
   "id": "6666dcc6-1bbf-416e-871a-1e485ad9f03f",
   "metadata": {},
   "outputs": [],
   "source": [
    "# class FeatureEngineering:\n",
    "#     \"\"\" cleane_text : take text column and reaturn tokens\n",
    "#     \"\"\"\n",
    "   \n",
    "#     # def class_label_to_numeric()\n",
    "      "
   ]
  },
  {
   "cell_type": "code",
   "execution_count": 9,
   "id": "26807f73-20c5-4c28-a89e-d4a4b4115cd8",
   "metadata": {},
   "outputs": [
    {
     "data": {
      "text/html": [
       "<div>\n",
       "<style scoped>\n",
       "    .dataframe tbody tr th:only-of-type {\n",
       "        vertical-align: middle;\n",
       "    }\n",
       "\n",
       "    .dataframe tbody tr th {\n",
       "        vertical-align: top;\n",
       "    }\n",
       "\n",
       "    .dataframe thead th {\n",
       "        text-align: right;\n",
       "    }\n",
       "</style>\n",
       "<table border=\"1\" class=\"dataframe\">\n",
       "  <thead>\n",
       "    <tr style=\"text-align: right;\">\n",
       "      <th></th>\n",
       "      <th>Sentence_id</th>\n",
       "      <th>Text</th>\n",
       "      <th>class_label</th>\n",
       "    </tr>\n",
       "  </thead>\n",
       "  <tbody>\n",
       "    <tr>\n",
       "      <th>0</th>\n",
       "      <td>30313</td>\n",
       "      <td>And so I know that this campaign has caused so...</td>\n",
       "      <td>No</td>\n",
       "    </tr>\n",
       "    <tr>\n",
       "      <th>1</th>\n",
       "      <td>19099</td>\n",
       "      <td>Now, let's balance the budget and protect Medi...</td>\n",
       "      <td>No</td>\n",
       "    </tr>\n",
       "    <tr>\n",
       "      <th>2</th>\n",
       "      <td>33964</td>\n",
       "      <td>I'd like to mention one thing.</td>\n",
       "      <td>No</td>\n",
       "    </tr>\n",
       "    <tr>\n",
       "      <th>3</th>\n",
       "      <td>16871</td>\n",
       "      <td>I must remind him the Democrats have controlle...</td>\n",
       "      <td>Yes</td>\n",
       "    </tr>\n",
       "    <tr>\n",
       "      <th>4</th>\n",
       "      <td>13150</td>\n",
       "      <td>And to take a chance uh - now be - and not mak...</td>\n",
       "      <td>No</td>\n",
       "    </tr>\n",
       "  </tbody>\n",
       "</table>\n",
       "</div>"
      ],
      "text/plain": [
       "   Sentence_id                                               Text class_label\n",
       "0        30313  And so I know that this campaign has caused so...          No\n",
       "1        19099  Now, let's balance the budget and protect Medi...          No\n",
       "2        33964                     I'd like to mention one thing.          No\n",
       "3        16871  I must remind him the Democrats have controlle...         Yes\n",
       "4        13150  And to take a chance uh - now be - and not mak...          No"
      ]
     },
     "execution_count": 9,
     "metadata": {},
     "output_type": "execute_result"
    }
   ],
   "source": [
    "df_new.head()"
   ]
  },
  {
   "cell_type": "code",
   "execution_count": 1,
   "id": "2ae06ad5-9db8-4f8b-a98a-846e7d57e366",
   "metadata": {},
   "outputs": [],
   "source": [
    "# for index, row in df_new.iterrows():\n",
    "#     print(row['Text'])\n",
    "#     print(row['class_label'])"
   ]
  },
  {
   "cell_type": "code",
   "execution_count": 98,
   "id": "841b4a38-75e5-48c6-9e39-14e1970e3c45",
   "metadata": {},
   "outputs": [],
   "source": [
    "df_last = pd.read_csv('add_embedding_features_9.csv')"
   ]
  },
  {
   "cell_type": "code",
   "execution_count": null,
   "id": "37000a79-68fc-47a4-aa7a-5749c2718d46",
   "metadata": {},
   "outputs": [],
   "source": []
  },
  {
   "cell_type": "code",
   "execution_count": 99,
   "id": "3f959002-ee59-4f67-888d-631fef4ca4f1",
   "metadata": {},
   "outputs": [
    {
     "data": {
      "text/html": [
       "<div>\n",
       "<style scoped>\n",
       "    .dataframe tbody tr th:only-of-type {\n",
       "        vertical-align: middle;\n",
       "    }\n",
       "\n",
       "    .dataframe tbody tr th {\n",
       "        vertical-align: top;\n",
       "    }\n",
       "\n",
       "    .dataframe thead th {\n",
       "        text-align: right;\n",
       "    }\n",
       "</style>\n",
       "<table border=\"1\" class=\"dataframe\">\n",
       "  <thead>\n",
       "    <tr style=\"text-align: right;\">\n",
       "      <th></th>\n",
       "      <th>Sentence_id</th>\n",
       "      <th>Text</th>\n",
       "      <th>class_label</th>\n",
       "      <th>Tokens</th>\n",
       "      <th>text_length</th>\n",
       "      <th>sentiment_score_veda</th>\n",
       "      <th>sentiment_score_textblob</th>\n",
       "      <th>sentiment_score_bert</th>\n",
       "      <th>sentiment_score_roberta</th>\n",
       "      <th>bert_sent_neg</th>\n",
       "      <th>...</th>\n",
       "      <th>cleaned_text</th>\n",
       "      <th>cleaned_text_length</th>\n",
       "      <th>contains_question_mark</th>\n",
       "      <th>contains_exclamation</th>\n",
       "      <th>contains_ellipsis</th>\n",
       "      <th>num_exclamations</th>\n",
       "      <th>num_questions</th>\n",
       "      <th>num_ellipses</th>\n",
       "      <th>punctuation_count</th>\n",
       "      <th>embedding</th>\n",
       "    </tr>\n",
       "  </thead>\n",
       "  <tbody>\n",
       "    <tr>\n",
       "      <th>0</th>\n",
       "      <td>30313</td>\n",
       "      <td>And so I know that this campaign has caused so...</td>\n",
       "      <td>No</td>\n",
       "      <td>['campaign', 'caused', 'questioning', 'worries...</td>\n",
       "      <td>118</td>\n",
       "      <td>-0.4939</td>\n",
       "      <td>0.5</td>\n",
       "      <td>[0.9687058329582214, 0.031294114887714386]</td>\n",
       "      <td>[0.11130036413669586, 0.014399373903870583, 0....</td>\n",
       "      <td>0.968706</td>\n",
       "      <td>...</td>\n",
       "      <td>And so I know that this campaign has caused so...</td>\n",
       "      <td>117</td>\n",
       "      <td>False</td>\n",
       "      <td>False</td>\n",
       "      <td>False</td>\n",
       "      <td>0</td>\n",
       "      <td>0</td>\n",
       "      <td>0</td>\n",
       "      <td>1</td>\n",
       "      <td>[[-2.65752003e-02  2.48833038e-02 -1.60991415e...</td>\n",
       "    </tr>\n",
       "    <tr>\n",
       "      <th>1</th>\n",
       "      <td>19099</td>\n",
       "      <td>Now, let's balance the budget and protect Medi...</td>\n",
       "      <td>No</td>\n",
       "      <td>['lets', 'balance', 'budget', 'protect', 'medi...</td>\n",
       "      <td>92</td>\n",
       "      <td>0.3818</td>\n",
       "      <td>0.0</td>\n",
       "      <td>[0.5200970768928528, 0.4799029529094696]</td>\n",
       "      <td>[0.10983521491289139, 0.03143635019659996, 0.7...</td>\n",
       "      <td>0.520097</td>\n",
       "      <td>...</td>\n",
       "      <td>Now lets balance the budget and protect Medica...</td>\n",
       "      <td>87</td>\n",
       "      <td>False</td>\n",
       "      <td>False</td>\n",
       "      <td>False</td>\n",
       "      <td>0</td>\n",
       "      <td>0</td>\n",
       "      <td>0</td>\n",
       "      <td>5</td>\n",
       "      <td>[[-6.90975189e-02 -5.70267588e-02 -1.18759215e...</td>\n",
       "    </tr>\n",
       "  </tbody>\n",
       "</table>\n",
       "<p>2 rows × 38 columns</p>\n",
       "</div>"
      ],
      "text/plain": [
       "   Sentence_id                                               Text class_label  \\\n",
       "0        30313  And so I know that this campaign has caused so...          No   \n",
       "1        19099  Now, let's balance the budget and protect Medi...          No   \n",
       "\n",
       "                                              Tokens  text_length  \\\n",
       "0  ['campaign', 'caused', 'questioning', 'worries...          118   \n",
       "1  ['lets', 'balance', 'budget', 'protect', 'medi...           92   \n",
       "\n",
       "   sentiment_score_veda  sentiment_score_textblob  \\\n",
       "0               -0.4939                       0.5   \n",
       "1                0.3818                       0.0   \n",
       "\n",
       "                         sentiment_score_bert  \\\n",
       "0  [0.9687058329582214, 0.031294114887714386]   \n",
       "1    [0.5200970768928528, 0.4799029529094696]   \n",
       "\n",
       "                             sentiment_score_roberta  bert_sent_neg  ...  \\\n",
       "0  [0.11130036413669586, 0.014399373903870583, 0....       0.968706  ...   \n",
       "1  [0.10983521491289139, 0.03143635019659996, 0.7...       0.520097  ...   \n",
       "\n",
       "                                        cleaned_text  cleaned_text_length  \\\n",
       "0  And so I know that this campaign has caused so...                  117   \n",
       "1  Now lets balance the budget and protect Medica...                   87   \n",
       "\n",
       "   contains_question_mark  contains_exclamation  contains_ellipsis  \\\n",
       "0                   False                 False              False   \n",
       "1                   False                 False              False   \n",
       "\n",
       "   num_exclamations  num_questions  num_ellipses  punctuation_count  \\\n",
       "0                 0              0             0                  1   \n",
       "1                 0              0             0                  5   \n",
       "\n",
       "                                           embedding  \n",
       "0  [[-2.65752003e-02  2.48833038e-02 -1.60991415e...  \n",
       "1  [[-6.90975189e-02 -5.70267588e-02 -1.18759215e...  \n",
       "\n",
       "[2 rows x 38 columns]"
      ]
     },
     "execution_count": 99,
     "metadata": {},
     "output_type": "execute_result"
    }
   ],
   "source": [
    "df_last.head(2)"
   ]
  },
  {
   "cell_type": "markdown",
   "id": "d3190e4b-35d5-4588-990f-5c37165d5b08",
   "metadata": {},
   "source": [
    "# 1. yes\\no -> 1\\0"
   ]
  },
  {
   "cell_type": "code",
   "execution_count": 102,
   "id": "666c70c8-ab42-4ff0-9b97-20cf37a4dda1",
   "metadata": {},
   "outputs": [],
   "source": [
    "# new label from text to 0/1\n",
    "df_new['label'] = df_new['class_label'].apply(lambda x: 1 if x == 'Yes' else 0)"
   ]
  },
  {
   "cell_type": "markdown",
   "id": "689db623-6b7a-4547-9f1a-304fc561d3f5",
   "metadata": {},
   "source": [
    "## TEXT MANIPULATION- cleaned the text and create new columns"
   ]
  },
  {
   "cell_type": "code",
   "execution_count": 105,
   "id": "cb7baa5c-ff15-4059-a2a6-b8f43a5e4b23",
   "metadata": {},
   "outputs": [],
   "source": [
    "# clean text and then tokenize\n",
    "import string\n",
    "import nltk\n",
    "from nltk.corpus import stopwords\n",
    "from nltk.tokenize import word_tokenize"
   ]
  },
  {
   "cell_type": "code",
   "execution_count": 106,
   "id": "75a2eeb4-3f69-47d0-8721-be48b6bbdbc6",
   "metadata": {},
   "outputs": [
    {
     "name": "stderr",
     "output_type": "stream",
     "text": [
      "[nltk_data] Downloading package stopwords to\n",
      "[nltk_data]     C:\\Users\\looka\\AppData\\Roaming\\nltk_data...\n",
      "[nltk_data]   Package stopwords is already up-to-date!\n",
      "[nltk_data] Downloading package punkt to\n",
      "[nltk_data]     C:\\Users\\looka\\AppData\\Roaming\\nltk_data...\n",
      "[nltk_data]   Package punkt is already up-to-date!\n"
     ]
    }
   ],
   "source": [
    "nltk.download('stopwords')\n",
    "nltk.download('punkt')\n",
    "stop_words = set(stopwords.words('english'))"
   ]
  },
  {
   "cell_type": "markdown",
   "id": "453459f4-a7f9-450c-bb1c-72bd002ca955",
   "metadata": {},
   "source": [
    "# 2. Token generation"
   ]
  },
  {
   "cell_type": "code",
   "execution_count": 18,
   "id": "afb03a96-a42b-4677-bb51-67cfd4c2afb7",
   "metadata": {},
   "outputs": [],
   "source": [
    "\n",
    "def clean_text(text):\n",
    "        # remove punctuation\n",
    "        text = ''.join([char for char in text if char not in string.punctuation]) # \n",
    "        # tokenize\n",
    "        tokens = word_tokenize(text)\n",
    "        # remove stop words\n",
    "        token = [word for word in tokens if word.lower() not in stop_words]\n",
    "        return token"
   ]
  },
  {
   "cell_type": "code",
   "execution_count": 108,
   "id": "5d7acc95-db4b-4384-9bb0-facc6ce8beb2",
   "metadata": {},
   "outputs": [],
   "source": [
    "# creating new column name Token\n",
    "df_new['Tokens'] = df_new['Text'].apply(clean_text)"
   ]
  },
  {
   "cell_type": "code",
   "execution_count": 19,
   "id": "0c2a6c06-8961-4298-bc84-36b46fb55884",
   "metadata": {},
   "outputs": [],
   "source": [
    "#df_new.head()\n",
    "# df_new.drop(['vader_neg', 'vader_neu', 'vader_pos',\t'vader_compound'], axis = 1, inplace = True)"
   ]
  },
  {
   "cell_type": "code",
   "execution_count": 110,
   "id": "d2398511-38cd-4d99-aa92-bf01c04a7050",
   "metadata": {},
   "outputs": [],
   "source": [
    "# nwrong feature - counting the whole length, not counting the words\n",
    "# def verious_text_length(text):\n",
    "#         text_length = len(text)\n",
    "#         return text_length"
   ]
  },
  {
   "cell_type": "markdown",
   "id": "8c6e8ce1-cfd6-4a84-9929-000a640341f3",
   "metadata": {},
   "source": [
    "# 3. Text Length (without cleaning)"
   ]
  },
  {
   "cell_type": "code",
   "execution_count": 111,
   "id": "5b205bba-2a3d-4369-bca1-520d4d4ba044",
   "metadata": {},
   "outputs": [],
   "source": [
    "df_new['raw_text_length'] = df_new['Text'].apply(verious_text_length)"
   ]
  },
  {
   "cell_type": "markdown",
   "id": "6a0b41ed-911a-4a75-b402-da4102ff7bc4",
   "metadata": {},
   "source": [
    "# 4. cleaned text and cleaned text length"
   ]
  },
  {
   "cell_type": "code",
   "execution_count": 112,
   "id": "f197e7ed-c72a-4c13-84c1-bd21679b90d3",
   "metadata": {},
   "outputs": [],
   "source": [
    "def cleaned_text(text):\n",
    "        # lowercase the data\n",
    "        lower_text = text.lower()\n",
    "        # removing the punctuations\n",
    "        remove_punct = ''.join([char for char in lower_text if char not in string.punctuation])\n",
    "        # remove the stop words\n",
    "        words = word_tokenize(remove_punct)\n",
    "        remove_stop_words = [word for word in words if word not in stop_words]\n",
    "        # removing the numbers\n",
    "        # removing the extra space\n",
    "        # replace the repetations of punctuations\n",
    "        # removing emojis\n",
    "        # removing emoticons\n",
    "        # removing contractions\n",
    "        \n",
    "        return ' '.join(remove_stop_words)"
   ]
  },
  {
   "cell_type": "code",
   "execution_count": 113,
   "id": "5d7bc8de-faff-47d2-b0fe-49e49fc8faca",
   "metadata": {},
   "outputs": [],
   "source": [
    "df_new['cleaned_text'] = df_new['Text'].apply(cleaned_text)"
   ]
  },
  {
   "cell_type": "code",
   "execution_count": 114,
   "id": "ba2176c5-4565-4b60-9704-895301deb464",
   "metadata": {},
   "outputs": [],
   "source": [
    "df_new['cleaned_text_length'] = df_new['cleaned_text'].apply(verious_text_length)"
   ]
  },
  {
   "cell_type": "markdown",
   "id": "da545e18-6730-43b5-ba2a-beeed951ac57",
   "metadata": {},
   "source": [
    "## TEXT SENTIMENT ANALYSIS -  score and create new columns"
   ]
  },
  {
   "cell_type": "code",
   "execution_count": 115,
   "id": "2dacb298-7c90-4c01-9a73-6da30b12308a",
   "metadata": {},
   "outputs": [
    {
     "name": "stderr",
     "output_type": "stream",
     "text": [
      "[nltk_data] Downloading package vader_lexicon to\n",
      "[nltk_data]     C:\\Users\\looka\\AppData\\Roaming\\nltk_data...\n",
      "[nltk_data]   Package vader_lexicon is already up-to-date!\n"
     ]
    },
    {
     "data": {
      "text/plain": [
       "True"
      ]
     },
     "execution_count": 115,
     "metadata": {},
     "output_type": "execute_result"
    }
   ],
   "source": [
    "nltk.download('vader_lexicon')"
   ]
  },
  {
   "cell_type": "code",
   "execution_count": 116,
   "id": "e8df2415-b0e3-4d6f-9511-0dac838dd71e",
   "metadata": {},
   "outputs": [],
   "source": [
    "from nltk.sentiment import SentimentIntensityAnalyzer"
   ]
  },
  {
   "cell_type": "code",
   "execution_count": 117,
   "id": "762cb56e-4f5f-419c-99d7-f90985437e52",
   "metadata": {},
   "outputs": [],
   "source": [
    "sia = SentimentIntensityAnalyzer()"
   ]
  },
  {
   "cell_type": "markdown",
   "id": "5b576d51-a776-4baa-9ffe-b63f7d331f03",
   "metadata": {},
   "source": [
    "# 5. sentiment score vedar"
   ]
  },
  {
   "cell_type": "code",
   "execution_count": 118,
   "id": "a99d351b-7098-48a1-a9d0-def539dff580",
   "metadata": {},
   "outputs": [],
   "source": [
    " def get_vader_sentiment_score(text):\n",
    "        return sia.polarity_scores(text)"
   ]
  },
  {
   "cell_type": "code",
   "execution_count": 119,
   "id": "bbd42901-4b2f-43b8-a0db-95ca251655db",
   "metadata": {},
   "outputs": [],
   "source": [
    "df_new['sentiment_scores'] = df_new['Text'].apply(get_vader_sentiment_score) \n",
    "# extract individual sentiment into seperate columns\n",
    "df_new = pd.concat([df_new.drop(['sentiment_scores'], axis = 1), \n",
    "                   df_new['sentiment_scores'].apply(pd.Series)], axis = 1).rename(columns= {'neg' : 'vader_neg', 'neu': 'vader_neu','pos' : 'vader_pos','compound' : 'vader_compound'})\n"
   ]
  },
  {
   "cell_type": "code",
   "execution_count": 20,
   "id": "34934b0f-9d83-4720-9353-a5216811223c",
   "metadata": {},
   "outputs": [],
   "source": [
    "# df_new.head()"
   ]
  },
  {
   "cell_type": "code",
   "execution_count": 91,
   "id": "8ece3f67-84ca-4895-b5c8-039062f995e7",
   "metadata": {},
   "outputs": [],
   "source": [
    "# 'text_length', 'roberta_sent_neg', 'roberta_sent_mixed',\n",
    "#                             'roberta_sent_pos', 'names', 'organizations', 'dates',\n",
    "#                             'count_tokens', 'cleaned_text_length', 'punctuation_count'"
   ]
  },
  {
   "cell_type": "markdown",
   "id": "3860cfa3-a3f5-4b87-ba40-72272801d3b4",
   "metadata": {},
   "source": [
    "# 6. roberta sentiment"
   ]
  },
  {
   "cell_type": "code",
   "execution_count": 122,
   "id": "2597aa49-2954-4686-9851-c2a24e71d703",
   "metadata": {},
   "outputs": [],
   "source": [
    "# Load the tokenizer and model\n",
    "tokenizer = AutoTokenizer.from_pretrained(\"cardiffnlp/twitter-roberta-base-sentiment\")\n",
    "model = AutoModelForSequenceClassification.from_pretrained(\"cardiffnlp/twitter-roberta-base-sentiment\")"
   ]
  },
  {
   "cell_type": "code",
   "execution_count": 123,
   "id": "1aeba83d-b128-4412-83dd-e4b7150b89cb",
   "metadata": {},
   "outputs": [],
   "source": [
    "def get_sentiment_features(text):\n",
    "    # Tokenize the input text\n",
    "    tokens = tokenizer(text, return_tensors=\"pt\", truncation=True, padding=True, max_length=512)\n",
    "    \n",
    "    # Perform inference\n",
    "    outputs = model(**tokens)\n",
    "    logits = outputs.logits\n",
    "    \n",
    "    # Apply softmax to calculate probabilities\n",
    "    probs = torch.nn.functional.softmax(logits, dim=-1)\n",
    "    negative, neutral, positive = probs[0].tolist()\n",
    "    \n",
    "    # Define thresholds for \"mixed\" classification (adjust as needed)\n",
    "    if max([positive, negative, neutral]) == positive and positive > 0.5:\n",
    "        sentiment = \"Positive\"\n",
    "    elif max([positive, negative, neutral]) == negative and negative > 0.5:\n",
    "        sentiment = \"Negative\"\n",
    "    else:\n",
    "        sentiment = \"Mixed\"\n",
    "    \n",
    "    return {\n",
    "        \"positive_score\": positive,\n",
    "        \"negative_score\": negative,\n",
    "        \"neutral_score\": neutral,\n",
    "        \"sentiment_class\": sentiment\n",
    "    }"
   ]
  },
  {
   "cell_type": "code",
   "execution_count": 124,
   "id": "a44c8cfa-0dfd-4277-bc1c-be668d47996b",
   "metadata": {},
   "outputs": [],
   "source": [
    "df_new['roberta_sentiment'] = df_new['Text'].apply(get_sentiment_features) "
   ]
  },
  {
   "cell_type": "code",
   "execution_count": 125,
   "id": "d821bc1c-1382-4c0c-b1d6-20016c8aad5c",
   "metadata": {},
   "outputs": [
    {
     "data": {
      "text/html": [
       "<div>\n",
       "<style scoped>\n",
       "    .dataframe tbody tr th:only-of-type {\n",
       "        vertical-align: middle;\n",
       "    }\n",
       "\n",
       "    .dataframe tbody tr th {\n",
       "        vertical-align: top;\n",
       "    }\n",
       "\n",
       "    .dataframe thead th {\n",
       "        text-align: right;\n",
       "    }\n",
       "</style>\n",
       "<table border=\"1\" class=\"dataframe\">\n",
       "  <thead>\n",
       "    <tr style=\"text-align: right;\">\n",
       "      <th></th>\n",
       "      <th>Sentence_id</th>\n",
       "      <th>Text</th>\n",
       "      <th>class_label</th>\n",
       "      <th>label</th>\n",
       "      <th>Tokens</th>\n",
       "      <th>raw_text_length</th>\n",
       "      <th>cleaned_text</th>\n",
       "      <th>cleaned_text_length</th>\n",
       "      <th>vader_neg</th>\n",
       "      <th>vader_neu</th>\n",
       "      <th>vader_pos</th>\n",
       "      <th>vader_compound</th>\n",
       "      <th>roberta_sentiment</th>\n",
       "    </tr>\n",
       "  </thead>\n",
       "  <tbody>\n",
       "    <tr>\n",
       "      <th>0</th>\n",
       "      <td>30313</td>\n",
       "      <td>And so I know that this campaign has caused so...</td>\n",
       "      <td>No</td>\n",
       "      <td>0</td>\n",
       "      <td>[know, campaign, caused, questioning, worries,...</td>\n",
       "      <td>118</td>\n",
       "      <td>know campaign caused questioning worries part ...</td>\n",
       "      <td>71</td>\n",
       "      <td>0.181</td>\n",
       "      <td>0.819</td>\n",
       "      <td>0.000</td>\n",
       "      <td>-0.4939</td>\n",
       "      <td>{'positive_score': 0.01179150864481926, 'negat...</td>\n",
       "    </tr>\n",
       "    <tr>\n",
       "      <th>1</th>\n",
       "      <td>19099</td>\n",
       "      <td>Now, let's balance the budget and protect Medi...</td>\n",
       "      <td>No</td>\n",
       "      <td>0</td>\n",
       "      <td>[lets, balance, budget, protect, Medicare, Med...</td>\n",
       "      <td>92</td>\n",
       "      <td>lets balance budget protect medicare medicaid ...</td>\n",
       "      <td>67</td>\n",
       "      <td>0.000</td>\n",
       "      <td>0.822</td>\n",
       "      <td>0.178</td>\n",
       "      <td>0.3818</td>\n",
       "      <td>{'positive_score': 0.2761276066303253, 'negati...</td>\n",
       "    </tr>\n",
       "  </tbody>\n",
       "</table>\n",
       "</div>"
      ],
      "text/plain": [
       "   Sentence_id                                               Text class_label  \\\n",
       "0        30313  And so I know that this campaign has caused so...          No   \n",
       "1        19099  Now, let's balance the budget and protect Medi...          No   \n",
       "\n",
       "   label                                             Tokens  raw_text_length  \\\n",
       "0      0  [know, campaign, caused, questioning, worries,...              118   \n",
       "1      0  [lets, balance, budget, protect, Medicare, Med...               92   \n",
       "\n",
       "                                        cleaned_text  cleaned_text_length  \\\n",
       "0  know campaign caused questioning worries part ...                   71   \n",
       "1  lets balance budget protect medicare medicaid ...                   67   \n",
       "\n",
       "   vader_neg  vader_neu  vader_pos  vader_compound  \\\n",
       "0      0.181      0.819      0.000         -0.4939   \n",
       "1      0.000      0.822      0.178          0.3818   \n",
       "\n",
       "                                   roberta_sentiment  \n",
       "0  {'positive_score': 0.01179150864481926, 'negat...  \n",
       "1  {'positive_score': 0.2761276066303253, 'negati...  "
      ]
     },
     "execution_count": 125,
     "metadata": {},
     "output_type": "execute_result"
    }
   ],
   "source": [
    "df_new.head(2)"
   ]
  },
  {
   "cell_type": "markdown",
   "id": "f12b201e-5eba-412f-9b3a-d9233d718322",
   "metadata": {},
   "source": [
    "## different score into different columns (roberta)"
   ]
  },
  {
   "cell_type": "code",
   "execution_count": 127,
   "id": "06ec6de4-7591-41d5-8d9f-7a5e2ba81169",
   "metadata": {},
   "outputs": [],
   "source": [
    "df_new[\"positive_score\"] = df_new[\"roberta_sentiment\"].apply(lambda x: x[\"positive_score\"])\n",
    "df_new[\"negative_score\"] = df_new[\"roberta_sentiment\"].apply(lambda x: x[\"negative_score\"])\n",
    "df_new[\"neutral_score\"] = df_new[\"roberta_sentiment\"].apply(lambda x: x[\"neutral_score\"])\n",
    "df_new[\"sentiment_class\"] = df_new[\"roberta_sentiment\"].apply(lambda x: x[\"sentiment_class\"])"
   ]
  },
  {
   "cell_type": "code",
   "execution_count": 135,
   "id": "87cc7b9d-4ec2-4ce5-9eb5-44bf9a7e30d2",
   "metadata": {},
   "outputs": [
    {
     "data": {
      "text/html": [
       "<div>\n",
       "<style scoped>\n",
       "    .dataframe tbody tr th:only-of-type {\n",
       "        vertical-align: middle;\n",
       "    }\n",
       "\n",
       "    .dataframe tbody tr th {\n",
       "        vertical-align: top;\n",
       "    }\n",
       "\n",
       "    .dataframe thead th {\n",
       "        text-align: right;\n",
       "    }\n",
       "</style>\n",
       "<table border=\"1\" class=\"dataframe\">\n",
       "  <thead>\n",
       "    <tr style=\"text-align: right;\">\n",
       "      <th></th>\n",
       "      <th>Sentence_id</th>\n",
       "      <th>Text</th>\n",
       "      <th>class_label</th>\n",
       "      <th>label</th>\n",
       "      <th>Tokens</th>\n",
       "      <th>raw_text_length</th>\n",
       "      <th>cleaned_text</th>\n",
       "      <th>cleaned_text_length</th>\n",
       "      <th>vader_neg</th>\n",
       "      <th>vader_neu</th>\n",
       "      <th>...</th>\n",
       "      <th>vader_compound</th>\n",
       "      <th>roberta_sentiment</th>\n",
       "      <th>positive_score</th>\n",
       "      <th>negative_score</th>\n",
       "      <th>neutral_score</th>\n",
       "      <th>sentiment_class</th>\n",
       "      <th>is_positive</th>\n",
       "      <th>is_negative</th>\n",
       "      <th>is_mixed</th>\n",
       "      <th>token_length</th>\n",
       "    </tr>\n",
       "  </thead>\n",
       "  <tbody>\n",
       "    <tr>\n",
       "      <th>0</th>\n",
       "      <td>30313</td>\n",
       "      <td>And so I know that this campaign has caused so...</td>\n",
       "      <td>No</td>\n",
       "      <td>0</td>\n",
       "      <td>[know, campaign, caused, questioning, worries,...</td>\n",
       "      <td>118</td>\n",
       "      <td>know campaign caused questioning worries part ...</td>\n",
       "      <td>71</td>\n",
       "      <td>0.181</td>\n",
       "      <td>0.819</td>\n",
       "      <td>...</td>\n",
       "      <td>-0.4939</td>\n",
       "      <td>{'positive_score': 0.01179150864481926, 'negat...</td>\n",
       "      <td>0.011792</td>\n",
       "      <td>0.662901</td>\n",
       "      <td>0.325308</td>\n",
       "      <td>Negative</td>\n",
       "      <td>0</td>\n",
       "      <td>1</td>\n",
       "      <td>0</td>\n",
       "      <td>10</td>\n",
       "    </tr>\n",
       "    <tr>\n",
       "      <th>1</th>\n",
       "      <td>19099</td>\n",
       "      <td>Now, let's balance the budget and protect Medi...</td>\n",
       "      <td>No</td>\n",
       "      <td>0</td>\n",
       "      <td>[lets, balance, budget, protect, Medicare, Med...</td>\n",
       "      <td>92</td>\n",
       "      <td>lets balance budget protect medicare medicaid ...</td>\n",
       "      <td>67</td>\n",
       "      <td>0.000</td>\n",
       "      <td>0.822</td>\n",
       "      <td>...</td>\n",
       "      <td>0.3818</td>\n",
       "      <td>{'positive_score': 0.2761276066303253, 'negati...</td>\n",
       "      <td>0.276128</td>\n",
       "      <td>0.131543</td>\n",
       "      <td>0.592329</td>\n",
       "      <td>Mixed</td>\n",
       "      <td>0</td>\n",
       "      <td>0</td>\n",
       "      <td>1</td>\n",
       "      <td>8</td>\n",
       "    </tr>\n",
       "    <tr>\n",
       "      <th>2</th>\n",
       "      <td>33964</td>\n",
       "      <td>I'd like to mention one thing.</td>\n",
       "      <td>No</td>\n",
       "      <td>0</td>\n",
       "      <td>[Id, like, mention, one, thing]</td>\n",
       "      <td>30</td>\n",
       "      <td>id like mention one thing</td>\n",
       "      <td>25</td>\n",
       "      <td>0.000</td>\n",
       "      <td>0.667</td>\n",
       "      <td>...</td>\n",
       "      <td>0.3612</td>\n",
       "      <td>{'positive_score': 0.10868842899799347, 'negat...</td>\n",
       "      <td>0.108688</td>\n",
       "      <td>0.039342</td>\n",
       "      <td>0.851969</td>\n",
       "      <td>Mixed</td>\n",
       "      <td>0</td>\n",
       "      <td>0</td>\n",
       "      <td>1</td>\n",
       "      <td>5</td>\n",
       "    </tr>\n",
       "    <tr>\n",
       "      <th>3</th>\n",
       "      <td>16871</td>\n",
       "      <td>I must remind him the Democrats have controlle...</td>\n",
       "      <td>Yes</td>\n",
       "      <td>1</td>\n",
       "      <td>[must, remind, Democrats, controlled, Congress...</td>\n",
       "      <td>124</td>\n",
       "      <td>must remind democrats controlled congress last...</td>\n",
       "      <td>78</td>\n",
       "      <td>0.000</td>\n",
       "      <td>1.000</td>\n",
       "      <td>...</td>\n",
       "      <td>0.0000</td>\n",
       "      <td>{'positive_score': 0.06000441685318947, 'negat...</td>\n",
       "      <td>0.060004</td>\n",
       "      <td>0.232579</td>\n",
       "      <td>0.707417</td>\n",
       "      <td>Mixed</td>\n",
       "      <td>0</td>\n",
       "      <td>0</td>\n",
       "      <td>1</td>\n",
       "      <td>11</td>\n",
       "    </tr>\n",
       "    <tr>\n",
       "      <th>4</th>\n",
       "      <td>13150</td>\n",
       "      <td>And to take a chance uh - now be - and not mak...</td>\n",
       "      <td>No</td>\n",
       "      <td>0</td>\n",
       "      <td>[take, chance, uh, make, every, effort, could,...</td>\n",
       "      <td>161</td>\n",
       "      <td>take chance uh make every effort could make pr...</td>\n",
       "      <td>93</td>\n",
       "      <td>0.146</td>\n",
       "      <td>0.687</td>\n",
       "      <td>...</td>\n",
       "      <td>0.2023</td>\n",
       "      <td>{'positive_score': 0.02639774978160858, 'negat...</td>\n",
       "      <td>0.026398</td>\n",
       "      <td>0.688611</td>\n",
       "      <td>0.284991</td>\n",
       "      <td>Negative</td>\n",
       "      <td>0</td>\n",
       "      <td>1</td>\n",
       "      <td>0</td>\n",
       "      <td>15</td>\n",
       "    </tr>\n",
       "  </tbody>\n",
       "</table>\n",
       "<p>5 rows × 21 columns</p>\n",
       "</div>"
      ],
      "text/plain": [
       "   Sentence_id                                               Text class_label  \\\n",
       "0        30313  And so I know that this campaign has caused so...          No   \n",
       "1        19099  Now, let's balance the budget and protect Medi...          No   \n",
       "2        33964                     I'd like to mention one thing.          No   \n",
       "3        16871  I must remind him the Democrats have controlle...         Yes   \n",
       "4        13150  And to take a chance uh - now be - and not mak...          No   \n",
       "\n",
       "   label                                             Tokens  raw_text_length  \\\n",
       "0      0  [know, campaign, caused, questioning, worries,...              118   \n",
       "1      0  [lets, balance, budget, protect, Medicare, Med...               92   \n",
       "2      0                    [Id, like, mention, one, thing]               30   \n",
       "3      1  [must, remind, Democrats, controlled, Congress...              124   \n",
       "4      0  [take, chance, uh, make, every, effort, could,...              161   \n",
       "\n",
       "                                        cleaned_text  cleaned_text_length  \\\n",
       "0  know campaign caused questioning worries part ...                   71   \n",
       "1  lets balance budget protect medicare medicaid ...                   67   \n",
       "2                          id like mention one thing                   25   \n",
       "3  must remind democrats controlled congress last...                   78   \n",
       "4  take chance uh make every effort could make pr...                   93   \n",
       "\n",
       "   vader_neg  vader_neu  ...  vader_compound  \\\n",
       "0      0.181      0.819  ...         -0.4939   \n",
       "1      0.000      0.822  ...          0.3818   \n",
       "2      0.000      0.667  ...          0.3612   \n",
       "3      0.000      1.000  ...          0.0000   \n",
       "4      0.146      0.687  ...          0.2023   \n",
       "\n",
       "                                   roberta_sentiment positive_score  \\\n",
       "0  {'positive_score': 0.01179150864481926, 'negat...       0.011792   \n",
       "1  {'positive_score': 0.2761276066303253, 'negati...       0.276128   \n",
       "2  {'positive_score': 0.10868842899799347, 'negat...       0.108688   \n",
       "3  {'positive_score': 0.06000441685318947, 'negat...       0.060004   \n",
       "4  {'positive_score': 0.02639774978160858, 'negat...       0.026398   \n",
       "\n",
       "   negative_score  neutral_score  sentiment_class is_positive  is_negative  \\\n",
       "0        0.662901       0.325308         Negative           0            1   \n",
       "1        0.131543       0.592329            Mixed           0            0   \n",
       "2        0.039342       0.851969            Mixed           0            0   \n",
       "3        0.232579       0.707417            Mixed           0            0   \n",
       "4        0.688611       0.284991         Negative           0            1   \n",
       "\n",
       "   is_mixed  token_length  \n",
       "0         0            10  \n",
       "1         1             8  \n",
       "2         1             5  \n",
       "3         1            11  \n",
       "4         0            15  \n",
       "\n",
       "[5 rows x 21 columns]"
      ]
     },
     "execution_count": 135,
     "metadata": {},
     "output_type": "execute_result"
    }
   ],
   "source": [
    "df_new.head()"
   ]
  },
  {
   "cell_type": "markdown",
   "id": "7010bd8c-56c4-475d-b29e-2b4e86647e1d",
   "metadata": {},
   "source": [
    "## roberta sentiment class (pos neg mix)"
   ]
  },
  {
   "cell_type": "code",
   "execution_count": 129,
   "id": "7fa7d02a-f615-46aa-9dad-2f3591f31dd5",
   "metadata": {},
   "outputs": [
    {
     "data": {
      "text/plain": [
       "array(['Negative', 'Mixed', 'Positive'], dtype=object)"
      ]
     },
     "execution_count": 129,
     "metadata": {},
     "output_type": "execute_result"
    }
   ],
   "source": [
    "# negative - 0, mixed - 1, positive - 2\n",
    "df_new['sentiment_class'].unique()"
   ]
  },
  {
   "cell_type": "markdown",
   "id": "86e52472-16d3-41cd-b356-c196158005da",
   "metadata": {},
   "source": [
    "# 7. create new columns for neg, pos, mix using roberta sentiment class"
   ]
  },
  {
   "cell_type": "code",
   "execution_count": 130,
   "id": "1f5a7f0e-1e0e-4c2d-b082-6aa3018871c6",
   "metadata": {},
   "outputs": [],
   "source": [
    "df_new[\"is_positive\"] = df_new[\"sentiment_class\"].apply(lambda x: 1 if x == \"Positive\" else 0)\n",
    "df_new[\"is_negative\"] = df_new[\"sentiment_class\"].apply(lambda x: 1 if x == \"Negative\" else 0)\n",
    "df_new[\"is_mixed\"] = df_new[\"sentiment_class\"].apply(lambda x: 1 if x == \"Mixed\" else 0)"
   ]
  },
  {
   "cell_type": "code",
   "execution_count": 131,
   "id": "7c1f99c2-9401-418e-b304-d9bb05a567b0",
   "metadata": {},
   "outputs": [
    {
     "data": {
      "text/plain": [
       "Sentence_id              int64\n",
       "Text                    object\n",
       "class_label             object\n",
       "label                    int64\n",
       "Tokens                  object\n",
       "raw_text_length          int64\n",
       "cleaned_text            object\n",
       "cleaned_text_length      int64\n",
       "vader_neg              float64\n",
       "vader_neu              float64\n",
       "vader_pos              float64\n",
       "vader_compound         float64\n",
       "roberta_sentiment       object\n",
       "positive_score         float64\n",
       "negative_score         float64\n",
       "neutral_score          float64\n",
       "sentiment_class         object\n",
       "is_positive              int64\n",
       "is_negative              int64\n",
       "is_mixed                 int64\n",
       "dtype: object"
      ]
     },
     "execution_count": 131,
     "metadata": {},
     "output_type": "execute_result"
    }
   ],
   "source": [
    "# count tokens\n",
    "df_new.dtypes"
   ]
  },
  {
   "cell_type": "code",
   "execution_count": 132,
   "id": "76125a14-f7ea-4e11-9eca-837d4b3cf5cc",
   "metadata": {},
   "outputs": [
    {
     "data": {
      "text/plain": [
       "['know',\n",
       " 'campaign',\n",
       " 'caused',\n",
       " 'questioning',\n",
       " 'worries',\n",
       " 'part',\n",
       " 'many',\n",
       " 'leaders',\n",
       " 'across',\n",
       " 'globe']"
      ]
     },
     "execution_count": 132,
     "metadata": {},
     "output_type": "execute_result"
    }
   ],
   "source": [
    "df_new['Tokens'].iloc[0]"
   ]
  },
  {
   "cell_type": "markdown",
   "id": "8ff72206-a54a-4a89-8f3c-0adc579cfbb1",
   "metadata": {},
   "source": [
    "# 8. Token length"
   ]
  },
  {
   "cell_type": "code",
   "execution_count": 133,
   "id": "964933b4-801b-4f99-977a-b339a0940853",
   "metadata": {},
   "outputs": [],
   "source": [
    "def count_tokens(tokens):\n",
    "    return len(tokens)"
   ]
  },
  {
   "cell_type": "code",
   "execution_count": 134,
   "id": "2a3299b7-94c8-4a22-bba3-009a1182be8d",
   "metadata": {},
   "outputs": [],
   "source": [
    "df_new['token_length'] = df_new['Tokens'].apply(count_tokens)"
   ]
  },
  {
   "cell_type": "code",
   "execution_count": 157,
   "id": "31541739-b237-437a-bf8e-229e8c340183",
   "metadata": {},
   "outputs": [],
   "source": [
    "# from transformers import pipeline"
   ]
  },
  {
   "cell_type": "code",
   "execution_count": 158,
   "id": "78e9fac1-cdb7-486d-a1be-99fa58311777",
   "metadata": {},
   "outputs": [],
   "source": [
    "# ner_pipeline = pipeline(\"ner\", model=\"dbmdz/bert-large-cased-finetuned-conll03-english\", grouped_entities=True)"
   ]
  },
  {
   "cell_type": "code",
   "execution_count": 155,
   "id": "911a1f33-2d88-47f9-9ad9-5e156ad495f0",
   "metadata": {},
   "outputs": [],
   "source": [
    "import spacy\n",
    "from collections import Counter"
   ]
  },
  {
   "cell_type": "code",
   "execution_count": 156,
   "id": "cf72653f-b8f9-49fc-b527-94be30e43ead",
   "metadata": {},
   "outputs": [],
   "source": [
    "nlp = spacy.load(\"en_core_web_sm\")"
   ]
  },
  {
   "cell_type": "code",
   "execution_count": 162,
   "id": "5d42d090-03b3-4faf-9c70-bd83dccd546d",
   "metadata": {},
   "outputs": [],
   "source": [
    "def count_entities_to_columns(text):\n",
    "    \n",
    "\n",
    "    # # Process each row in the DataFrame\n",
    "    # for text in df[text_column]:\n",
    "    #     # Default counts for each row\n",
    "    names = 0\n",
    "    orgs = 0\n",
    "    dates = 0\n",
    "\n",
    "        # Process text using spaCy\n",
    "    doc = nlp(text)\n",
    "    for ent in doc.ents:\n",
    "        if ent.label_ == \"PERSON\":\n",
    "            names += 1\n",
    "        elif ent.label_ == \"ORG\":\n",
    "            orgs += 1\n",
    "        elif ent.label_ == \"DATE\":\n",
    "            dates += 1\n",
    "\n",
    "    return {\n",
    "        \"names\": names,\n",
    "        \"organizations\": orgs,\n",
    "        \"dates\": dates\n",
    "    }"
   ]
  },
  {
   "cell_type": "markdown",
   "id": "05ec8543-6617-4e12-a61d-93a82cb5bb6e",
   "metadata": {},
   "source": [
    "# 9. count column dictionary with names organizations, dates"
   ]
  },
  {
   "cell_type": "code",
   "execution_count": 163,
   "id": "95de5907-1f2f-4bfa-b980-bc0b29db4aa4",
   "metadata": {},
   "outputs": [],
   "source": [
    "df_new['counts'] = df_new['Text'].apply(count_entities_to_columns)"
   ]
  },
  {
   "cell_type": "code",
   "execution_count": 164,
   "id": "551024e4-1d66-41a6-8c03-61f164a0ca75",
   "metadata": {},
   "outputs": [
    {
     "data": {
      "text/html": [
       "<div>\n",
       "<style scoped>\n",
       "    .dataframe tbody tr th:only-of-type {\n",
       "        vertical-align: middle;\n",
       "    }\n",
       "\n",
       "    .dataframe tbody tr th {\n",
       "        vertical-align: top;\n",
       "    }\n",
       "\n",
       "    .dataframe thead th {\n",
       "        text-align: right;\n",
       "    }\n",
       "</style>\n",
       "<table border=\"1\" class=\"dataframe\">\n",
       "  <thead>\n",
       "    <tr style=\"text-align: right;\">\n",
       "      <th></th>\n",
       "      <th>Sentence_id</th>\n",
       "      <th>Text</th>\n",
       "      <th>class_label</th>\n",
       "      <th>label</th>\n",
       "      <th>Tokens</th>\n",
       "      <th>raw_text_length</th>\n",
       "      <th>cleaned_text</th>\n",
       "      <th>cleaned_text_length</th>\n",
       "      <th>vader_neg</th>\n",
       "      <th>vader_neu</th>\n",
       "      <th>...</th>\n",
       "      <th>positive_score</th>\n",
       "      <th>negative_score</th>\n",
       "      <th>neutral_score</th>\n",
       "      <th>sentiment_class</th>\n",
       "      <th>is_positive</th>\n",
       "      <th>is_negative</th>\n",
       "      <th>is_mixed</th>\n",
       "      <th>token_length</th>\n",
       "      <th>punctuation_count</th>\n",
       "      <th>counts</th>\n",
       "    </tr>\n",
       "  </thead>\n",
       "  <tbody>\n",
       "    <tr>\n",
       "      <th>0</th>\n",
       "      <td>30313</td>\n",
       "      <td>And so I know that this campaign has caused so...</td>\n",
       "      <td>No</td>\n",
       "      <td>0</td>\n",
       "      <td>[know, campaign, caused, questioning, worries,...</td>\n",
       "      <td>118</td>\n",
       "      <td>know campaign caused questioning worries part ...</td>\n",
       "      <td>71</td>\n",
       "      <td>0.181</td>\n",
       "      <td>0.819</td>\n",
       "      <td>...</td>\n",
       "      <td>0.011792</td>\n",
       "      <td>0.662901</td>\n",
       "      <td>0.325308</td>\n",
       "      <td>Negative</td>\n",
       "      <td>0</td>\n",
       "      <td>1</td>\n",
       "      <td>0</td>\n",
       "      <td>10</td>\n",
       "      <td>0</td>\n",
       "      <td>{'names': 0, 'organizations': 0, 'dates': 0}</td>\n",
       "    </tr>\n",
       "    <tr>\n",
       "      <th>1</th>\n",
       "      <td>19099</td>\n",
       "      <td>Now, let's balance the budget and protect Medi...</td>\n",
       "      <td>No</td>\n",
       "      <td>0</td>\n",
       "      <td>[lets, balance, budget, protect, Medicare, Med...</td>\n",
       "      <td>92</td>\n",
       "      <td>lets balance budget protect medicare medicaid ...</td>\n",
       "      <td>67</td>\n",
       "      <td>0.000</td>\n",
       "      <td>0.822</td>\n",
       "      <td>...</td>\n",
       "      <td>0.276128</td>\n",
       "      <td>0.131543</td>\n",
       "      <td>0.592329</td>\n",
       "      <td>Mixed</td>\n",
       "      <td>0</td>\n",
       "      <td>0</td>\n",
       "      <td>1</td>\n",
       "      <td>8</td>\n",
       "      <td>0</td>\n",
       "      <td>{'names': 0, 'organizations': 2, 'dates': 0}</td>\n",
       "    </tr>\n",
       "    <tr>\n",
       "      <th>2</th>\n",
       "      <td>33964</td>\n",
       "      <td>I'd like to mention one thing.</td>\n",
       "      <td>No</td>\n",
       "      <td>0</td>\n",
       "      <td>[Id, like, mention, one, thing]</td>\n",
       "      <td>30</td>\n",
       "      <td>id like mention one thing</td>\n",
       "      <td>25</td>\n",
       "      <td>0.000</td>\n",
       "      <td>0.667</td>\n",
       "      <td>...</td>\n",
       "      <td>0.108688</td>\n",
       "      <td>0.039342</td>\n",
       "      <td>0.851969</td>\n",
       "      <td>Mixed</td>\n",
       "      <td>0</td>\n",
       "      <td>0</td>\n",
       "      <td>1</td>\n",
       "      <td>5</td>\n",
       "      <td>0</td>\n",
       "      <td>{'names': 0, 'organizations': 0, 'dates': 0}</td>\n",
       "    </tr>\n",
       "    <tr>\n",
       "      <th>3</th>\n",
       "      <td>16871</td>\n",
       "      <td>I must remind him the Democrats have controlle...</td>\n",
       "      <td>Yes</td>\n",
       "      <td>1</td>\n",
       "      <td>[must, remind, Democrats, controlled, Congress...</td>\n",
       "      <td>124</td>\n",
       "      <td>must remind democrats controlled congress last...</td>\n",
       "      <td>78</td>\n",
       "      <td>0.000</td>\n",
       "      <td>1.000</td>\n",
       "      <td>...</td>\n",
       "      <td>0.060004</td>\n",
       "      <td>0.232579</td>\n",
       "      <td>0.707417</td>\n",
       "      <td>Mixed</td>\n",
       "      <td>0</td>\n",
       "      <td>0</td>\n",
       "      <td>1</td>\n",
       "      <td>11</td>\n",
       "      <td>0</td>\n",
       "      <td>{'names': 0, 'organizations': 1, 'dates': 0}</td>\n",
       "    </tr>\n",
       "    <tr>\n",
       "      <th>4</th>\n",
       "      <td>13150</td>\n",
       "      <td>And to take a chance uh - now be - and not mak...</td>\n",
       "      <td>No</td>\n",
       "      <td>0</td>\n",
       "      <td>[take, chance, uh, make, every, effort, could,...</td>\n",
       "      <td>161</td>\n",
       "      <td>take chance uh make every effort could make pr...</td>\n",
       "      <td>93</td>\n",
       "      <td>0.146</td>\n",
       "      <td>0.687</td>\n",
       "      <td>...</td>\n",
       "      <td>0.026398</td>\n",
       "      <td>0.688611</td>\n",
       "      <td>0.284991</td>\n",
       "      <td>Negative</td>\n",
       "      <td>0</td>\n",
       "      <td>1</td>\n",
       "      <td>0</td>\n",
       "      <td>15</td>\n",
       "      <td>0</td>\n",
       "      <td>{'names': 0, 'organizations': 0, 'dates': 0}</td>\n",
       "    </tr>\n",
       "  </tbody>\n",
       "</table>\n",
       "<p>5 rows × 23 columns</p>\n",
       "</div>"
      ],
      "text/plain": [
       "   Sentence_id                                               Text class_label  \\\n",
       "0        30313  And so I know that this campaign has caused so...          No   \n",
       "1        19099  Now, let's balance the budget and protect Medi...          No   \n",
       "2        33964                     I'd like to mention one thing.          No   \n",
       "3        16871  I must remind him the Democrats have controlle...         Yes   \n",
       "4        13150  And to take a chance uh - now be - and not mak...          No   \n",
       "\n",
       "   label                                             Tokens  raw_text_length  \\\n",
       "0      0  [know, campaign, caused, questioning, worries,...              118   \n",
       "1      0  [lets, balance, budget, protect, Medicare, Med...               92   \n",
       "2      0                    [Id, like, mention, one, thing]               30   \n",
       "3      1  [must, remind, Democrats, controlled, Congress...              124   \n",
       "4      0  [take, chance, uh, make, every, effort, could,...              161   \n",
       "\n",
       "                                        cleaned_text  cleaned_text_length  \\\n",
       "0  know campaign caused questioning worries part ...                   71   \n",
       "1  lets balance budget protect medicare medicaid ...                   67   \n",
       "2                          id like mention one thing                   25   \n",
       "3  must remind democrats controlled congress last...                   78   \n",
       "4  take chance uh make every effort could make pr...                   93   \n",
       "\n",
       "   vader_neg  vader_neu  ...  positive_score  negative_score neutral_score  \\\n",
       "0      0.181      0.819  ...        0.011792        0.662901      0.325308   \n",
       "1      0.000      0.822  ...        0.276128        0.131543      0.592329   \n",
       "2      0.000      0.667  ...        0.108688        0.039342      0.851969   \n",
       "3      0.000      1.000  ...        0.060004        0.232579      0.707417   \n",
       "4      0.146      0.687  ...        0.026398        0.688611      0.284991   \n",
       "\n",
       "   sentiment_class  is_positive  is_negative is_mixed  token_length  \\\n",
       "0         Negative            0            1        0            10   \n",
       "1            Mixed            0            0        1             8   \n",
       "2            Mixed            0            0        1             5   \n",
       "3            Mixed            0            0        1            11   \n",
       "4         Negative            0            1        0            15   \n",
       "\n",
       "   punctuation_count                                        counts  \n",
       "0                  0  {'names': 0, 'organizations': 0, 'dates': 0}  \n",
       "1                  0  {'names': 0, 'organizations': 2, 'dates': 0}  \n",
       "2                  0  {'names': 0, 'organizations': 0, 'dates': 0}  \n",
       "3                  0  {'names': 0, 'organizations': 1, 'dates': 0}  \n",
       "4                  0  {'names': 0, 'organizations': 0, 'dates': 0}  \n",
       "\n",
       "[5 rows x 23 columns]"
      ]
     },
     "execution_count": 164,
     "metadata": {},
     "output_type": "execute_result"
    }
   ],
   "source": [
    "df_new.head()"
   ]
  },
  {
   "cell_type": "markdown",
   "id": "b8b9d3b8-eda5-48ab-97b3-0afd29963bc7",
   "metadata": {},
   "source": [
    "# 10. new columns seperated the count column into 3 different column for names organizations dates"
   ]
  },
  {
   "cell_type": "code",
   "execution_count": 166,
   "id": "165b12d0-0d98-42b0-a914-8711ef705a45",
   "metadata": {},
   "outputs": [],
   "source": [
    "df_new[\"names\"] = df_new[\"counts\"].apply(lambda x: x[\"names\"])\n",
    "df_new[\"organizations\"] = df_new[\"counts\"].apply(lambda x: x[\"organizations\"])\n",
    "df_new[\"dates\"] = df_new[\"counts\"].apply(lambda x: x[\"dates\"])\n",
    "# df_new[\"sentiment_class\"] = df_new[\"roberta_sentiment\"].apply(lambda x: x[\"sentiment_class\"])"
   ]
  },
  {
   "cell_type": "code",
   "execution_count": 151,
   "id": "19df539c-d0c3-4fe4-ac75-d9628106a105",
   "metadata": {},
   "outputs": [],
   "source": [
    "import re"
   ]
  },
  {
   "cell_type": "code",
   "execution_count": 152,
   "id": "3e640f16-9010-4ef0-8ee7-2674107f3104",
   "metadata": {},
   "outputs": [],
   "source": [
    "def count_punctuation(text):\n",
    "    # Define a regular expression pattern to match punctuation characters\n",
    "    punctuation_pattern = r'[!\"#$%&\\'()*+,-./:;<=>?@[\\\\]^_`{|}~]'\n",
    "    # Find all punctuation marks in the text\n",
    "    punctuation_count = len(re.findall(punctuation_pattern, text))\n",
    "    return punctuation_count"
   ]
  },
  {
   "cell_type": "markdown",
   "id": "8c6ca00b-ba8e-4f49-940d-c56dd2ce9fe0",
   "metadata": {},
   "source": [
    "# 11. puctuatoin count column"
   ]
  },
  {
   "cell_type": "code",
   "execution_count": 153,
   "id": "a40e89a5-a4b1-4177-b760-a3e5ad7a02da",
   "metadata": {},
   "outputs": [],
   "source": [
    "df_new['punctuation_count'] = df_new['Text'].apply(count_punctuation)"
   ]
  },
  {
   "cell_type": "code",
   "execution_count": 168,
   "id": "f3c2ddfa-f486-4ea8-b785-6578a8511be1",
   "metadata": {},
   "outputs": [
    {
     "data": {
      "text/plain": [
       "Index(['Sentence_id', 'Text', 'class_label', 'label', 'Tokens',\n",
       "       'raw_text_length', 'cleaned_text', 'cleaned_text_length', 'vader_neg',\n",
       "       'vader_neu', 'vader_pos', 'vader_compound', 'roberta_sentiment',\n",
       "       'positive_score', 'negative_score', 'neutral_score', 'sentiment_class',\n",
       "       'is_positive', 'is_negative', 'is_mixed', 'token_length',\n",
       "       'punctuation_count', 'counts', 'names', 'organizations', 'dates'],\n",
       "      dtype='object')"
      ]
     },
     "execution_count": 168,
     "metadata": {},
     "output_type": "execute_result"
    }
   ],
   "source": [
    "df_new.columns"
   ]
  },
  {
   "cell_type": "code",
   "execution_count": 170,
   "id": "09a83a9b-d24f-4b95-a614-ce255252cf4d",
   "metadata": {},
   "outputs": [],
   "source": [
    "# 'text_length', 'roberta_sent_neg', 'roberta_sent_mixed',\n",
    "# 'roberta_sent_pos', 'names', 'organizations', 'dates',\n",
    "# 'count_tokens', 'cleaned_text_length', 'punctuation_count\n",
    "df_new.rename(columns = {'raw_text_length': 'text_length', 'negative_score': 'roberta_sent_neg', 'neutral_score': 'roberta_sent_mixed', 'positive_score': 'roberta_sent_pos', 'token_length': 'count_tokens'}, inplace = True)"
   ]
  },
  {
   "cell_type": "code",
   "execution_count": 171,
   "id": "f4b3bc2d-520f-4faa-83fb-1f407e91fb75",
   "metadata": {},
   "outputs": [
    {
     "data": {
      "text/html": [
       "<div>\n",
       "<style scoped>\n",
       "    .dataframe tbody tr th:only-of-type {\n",
       "        vertical-align: middle;\n",
       "    }\n",
       "\n",
       "    .dataframe tbody tr th {\n",
       "        vertical-align: top;\n",
       "    }\n",
       "\n",
       "    .dataframe thead th {\n",
       "        text-align: right;\n",
       "    }\n",
       "</style>\n",
       "<table border=\"1\" class=\"dataframe\">\n",
       "  <thead>\n",
       "    <tr style=\"text-align: right;\">\n",
       "      <th></th>\n",
       "      <th>Sentence_id</th>\n",
       "      <th>Text</th>\n",
       "      <th>class_label</th>\n",
       "      <th>label</th>\n",
       "      <th>Tokens</th>\n",
       "      <th>text_length</th>\n",
       "      <th>cleaned_text</th>\n",
       "      <th>cleaned_text_length</th>\n",
       "      <th>vader_neg</th>\n",
       "      <th>vader_neu</th>\n",
       "      <th>...</th>\n",
       "      <th>sentiment_class</th>\n",
       "      <th>is_positive</th>\n",
       "      <th>is_negative</th>\n",
       "      <th>is_mixed</th>\n",
       "      <th>count_tokens</th>\n",
       "      <th>punctuation_count</th>\n",
       "      <th>counts</th>\n",
       "      <th>names</th>\n",
       "      <th>organizations</th>\n",
       "      <th>dates</th>\n",
       "    </tr>\n",
       "  </thead>\n",
       "  <tbody>\n",
       "    <tr>\n",
       "      <th>0</th>\n",
       "      <td>30313</td>\n",
       "      <td>And so I know that this campaign has caused so...</td>\n",
       "      <td>No</td>\n",
       "      <td>0</td>\n",
       "      <td>[know, campaign, caused, questioning, worries,...</td>\n",
       "      <td>118</td>\n",
       "      <td>know campaign caused questioning worries part ...</td>\n",
       "      <td>71</td>\n",
       "      <td>0.181</td>\n",
       "      <td>0.819</td>\n",
       "      <td>...</td>\n",
       "      <td>Negative</td>\n",
       "      <td>0</td>\n",
       "      <td>1</td>\n",
       "      <td>0</td>\n",
       "      <td>10</td>\n",
       "      <td>0</td>\n",
       "      <td>{'names': 0, 'organizations': 0, 'dates': 0}</td>\n",
       "      <td>0</td>\n",
       "      <td>0</td>\n",
       "      <td>0</td>\n",
       "    </tr>\n",
       "    <tr>\n",
       "      <th>1</th>\n",
       "      <td>19099</td>\n",
       "      <td>Now, let's balance the budget and protect Medi...</td>\n",
       "      <td>No</td>\n",
       "      <td>0</td>\n",
       "      <td>[lets, balance, budget, protect, Medicare, Med...</td>\n",
       "      <td>92</td>\n",
       "      <td>lets balance budget protect medicare medicaid ...</td>\n",
       "      <td>67</td>\n",
       "      <td>0.000</td>\n",
       "      <td>0.822</td>\n",
       "      <td>...</td>\n",
       "      <td>Mixed</td>\n",
       "      <td>0</td>\n",
       "      <td>0</td>\n",
       "      <td>1</td>\n",
       "      <td>8</td>\n",
       "      <td>0</td>\n",
       "      <td>{'names': 0, 'organizations': 2, 'dates': 0}</td>\n",
       "      <td>0</td>\n",
       "      <td>2</td>\n",
       "      <td>0</td>\n",
       "    </tr>\n",
       "    <tr>\n",
       "      <th>2</th>\n",
       "      <td>33964</td>\n",
       "      <td>I'd like to mention one thing.</td>\n",
       "      <td>No</td>\n",
       "      <td>0</td>\n",
       "      <td>[Id, like, mention, one, thing]</td>\n",
       "      <td>30</td>\n",
       "      <td>id like mention one thing</td>\n",
       "      <td>25</td>\n",
       "      <td>0.000</td>\n",
       "      <td>0.667</td>\n",
       "      <td>...</td>\n",
       "      <td>Mixed</td>\n",
       "      <td>0</td>\n",
       "      <td>0</td>\n",
       "      <td>1</td>\n",
       "      <td>5</td>\n",
       "      <td>0</td>\n",
       "      <td>{'names': 0, 'organizations': 0, 'dates': 0}</td>\n",
       "      <td>0</td>\n",
       "      <td>0</td>\n",
       "      <td>0</td>\n",
       "    </tr>\n",
       "    <tr>\n",
       "      <th>3</th>\n",
       "      <td>16871</td>\n",
       "      <td>I must remind him the Democrats have controlle...</td>\n",
       "      <td>Yes</td>\n",
       "      <td>1</td>\n",
       "      <td>[must, remind, Democrats, controlled, Congress...</td>\n",
       "      <td>124</td>\n",
       "      <td>must remind democrats controlled congress last...</td>\n",
       "      <td>78</td>\n",
       "      <td>0.000</td>\n",
       "      <td>1.000</td>\n",
       "      <td>...</td>\n",
       "      <td>Mixed</td>\n",
       "      <td>0</td>\n",
       "      <td>0</td>\n",
       "      <td>1</td>\n",
       "      <td>11</td>\n",
       "      <td>0</td>\n",
       "      <td>{'names': 0, 'organizations': 1, 'dates': 0}</td>\n",
       "      <td>0</td>\n",
       "      <td>1</td>\n",
       "      <td>0</td>\n",
       "    </tr>\n",
       "    <tr>\n",
       "      <th>4</th>\n",
       "      <td>13150</td>\n",
       "      <td>And to take a chance uh - now be - and not mak...</td>\n",
       "      <td>No</td>\n",
       "      <td>0</td>\n",
       "      <td>[take, chance, uh, make, every, effort, could,...</td>\n",
       "      <td>161</td>\n",
       "      <td>take chance uh make every effort could make pr...</td>\n",
       "      <td>93</td>\n",
       "      <td>0.146</td>\n",
       "      <td>0.687</td>\n",
       "      <td>...</td>\n",
       "      <td>Negative</td>\n",
       "      <td>0</td>\n",
       "      <td>1</td>\n",
       "      <td>0</td>\n",
       "      <td>15</td>\n",
       "      <td>0</td>\n",
       "      <td>{'names': 0, 'organizations': 0, 'dates': 0}</td>\n",
       "      <td>0</td>\n",
       "      <td>0</td>\n",
       "      <td>0</td>\n",
       "    </tr>\n",
       "  </tbody>\n",
       "</table>\n",
       "<p>5 rows × 26 columns</p>\n",
       "</div>"
      ],
      "text/plain": [
       "   Sentence_id                                               Text class_label  \\\n",
       "0        30313  And so I know that this campaign has caused so...          No   \n",
       "1        19099  Now, let's balance the budget and protect Medi...          No   \n",
       "2        33964                     I'd like to mention one thing.          No   \n",
       "3        16871  I must remind him the Democrats have controlle...         Yes   \n",
       "4        13150  And to take a chance uh - now be - and not mak...          No   \n",
       "\n",
       "   label                                             Tokens  text_length  \\\n",
       "0      0  [know, campaign, caused, questioning, worries,...          118   \n",
       "1      0  [lets, balance, budget, protect, Medicare, Med...           92   \n",
       "2      0                    [Id, like, mention, one, thing]           30   \n",
       "3      1  [must, remind, Democrats, controlled, Congress...          124   \n",
       "4      0  [take, chance, uh, make, every, effort, could,...          161   \n",
       "\n",
       "                                        cleaned_text  cleaned_text_length  \\\n",
       "0  know campaign caused questioning worries part ...                   71   \n",
       "1  lets balance budget protect medicare medicaid ...                   67   \n",
       "2                          id like mention one thing                   25   \n",
       "3  must remind democrats controlled congress last...                   78   \n",
       "4  take chance uh make every effort could make pr...                   93   \n",
       "\n",
       "   vader_neg  vader_neu  ...  sentiment_class  is_positive is_negative  \\\n",
       "0      0.181      0.819  ...         Negative            0           1   \n",
       "1      0.000      0.822  ...            Mixed            0           0   \n",
       "2      0.000      0.667  ...            Mixed            0           0   \n",
       "3      0.000      1.000  ...            Mixed            0           0   \n",
       "4      0.146      0.687  ...         Negative            0           1   \n",
       "\n",
       "   is_mixed  count_tokens  punctuation_count  \\\n",
       "0         0            10                  0   \n",
       "1         1             8                  0   \n",
       "2         1             5                  0   \n",
       "3         1            11                  0   \n",
       "4         0            15                  0   \n",
       "\n",
       "                                         counts  names  organizations  dates  \n",
       "0  {'names': 0, 'organizations': 0, 'dates': 0}      0              0      0  \n",
       "1  {'names': 0, 'organizations': 2, 'dates': 0}      0              2      0  \n",
       "2  {'names': 0, 'organizations': 0, 'dates': 0}      0              0      0  \n",
       "3  {'names': 0, 'organizations': 1, 'dates': 0}      0              1      0  \n",
       "4  {'names': 0, 'organizations': 0, 'dates': 0}      0              0      0  \n",
       "\n",
       "[5 rows x 26 columns]"
      ]
     },
     "execution_count": 171,
     "metadata": {},
     "output_type": "execute_result"
    }
   ],
   "source": [
    "df_new.head()"
   ]
  },
  {
   "cell_type": "code",
   "execution_count": 172,
   "id": "16812b91-e639-49aa-a1bd-79d2a27d3038",
   "metadata": {},
   "outputs": [],
   "source": [
    "df_new.to_csv('07_01_data.csv', index = False)"
   ]
  },
  {
   "cell_type": "code",
   "execution_count": 8,
   "id": "6ec8114a-762f-43ed-91f0-2dda4ca911d1",
   "metadata": {},
   "outputs": [],
   "source": [
    "df_gold = pd.read_csv('data/CT24_checkworthy_english/CT24_checkworthy_english/test_english_gold/CT24_checkworthy_english_test_gold.tsv', delimiter = '\\t')"
   ]
  },
  {
   "cell_type": "code",
   "execution_count": 9,
   "id": "88672154-149b-42c4-8295-a4c842cd44cf",
   "metadata": {},
   "outputs": [
    {
     "data": {
      "text/html": [
       "<div>\n",
       "<style scoped>\n",
       "    .dataframe tbody tr th:only-of-type {\n",
       "        vertical-align: middle;\n",
       "    }\n",
       "\n",
       "    .dataframe tbody tr th {\n",
       "        vertical-align: top;\n",
       "    }\n",
       "\n",
       "    .dataframe thead th {\n",
       "        text-align: right;\n",
       "    }\n",
       "</style>\n",
       "<table border=\"1\" class=\"dataframe\">\n",
       "  <thead>\n",
       "    <tr style=\"text-align: right;\">\n",
       "      <th></th>\n",
       "      <th>Sentence_id</th>\n",
       "      <th>Text</th>\n",
       "      <th>class_label</th>\n",
       "    </tr>\n",
       "  </thead>\n",
       "  <tbody>\n",
       "    <tr>\n",
       "      <th>0</th>\n",
       "      <td>35988</td>\n",
       "      <td>They said they were just going to get inspecto...</td>\n",
       "      <td>Yes</td>\n",
       "    </tr>\n",
       "    <tr>\n",
       "      <th>1</th>\n",
       "      <td>35991</td>\n",
       "      <td>And from that point on, I've voted to -- I mov...</td>\n",
       "      <td>Yes</td>\n",
       "    </tr>\n",
       "    <tr>\n",
       "      <th>2</th>\n",
       "      <td>36029</td>\n",
       "      <td>I sit on the Senate Armed Services Committee.</td>\n",
       "      <td>No</td>\n",
       "    </tr>\n",
       "    <tr>\n",
       "      <th>3</th>\n",
       "      <td>36043</td>\n",
       "      <td>We need to depend on all of our tools -- diplo...</td>\n",
       "      <td>No</td>\n",
       "    </tr>\n",
       "    <tr>\n",
       "      <th>4</th>\n",
       "      <td>36063</td>\n",
       "      <td>And that is -- and I don't know if my colleagu...</td>\n",
       "      <td>No</td>\n",
       "    </tr>\n",
       "  </tbody>\n",
       "</table>\n",
       "</div>"
      ],
      "text/plain": [
       "   Sentence_id                                               Text class_label\n",
       "0        35988  They said they were just going to get inspecto...         Yes\n",
       "1        35991  And from that point on, I've voted to -- I mov...         Yes\n",
       "2        36029      I sit on the Senate Armed Services Committee.          No\n",
       "3        36043  We need to depend on all of our tools -- diplo...          No\n",
       "4        36063  And that is -- and I don't know if my colleagu...          No"
      ]
     },
     "execution_count": 9,
     "metadata": {},
     "output_type": "execute_result"
    }
   ],
   "source": [
    "df_gold.head()"
   ]
  },
  {
   "cell_type": "code",
   "execution_count": 12,
   "id": "0f5dec5d-73cc-424e-b370-324a39d850ff",
   "metadata": {},
   "outputs": [
    {
     "data": {
      "text/plain": [
       "array(['Yes', 'No'], dtype=object)"
      ]
     },
     "execution_count": 12,
     "metadata": {},
     "output_type": "execute_result"
    }
   ],
   "source": [
    "df_gold['class_label'].unique()"
   ]
  },
  {
   "cell_type": "code",
   "execution_count": 13,
   "id": "1c9fbe2f-edd8-4df3-842b-098ddfd5e48a",
   "metadata": {},
   "outputs": [
    {
     "data": {
      "text/plain": [
       "Sentence_id    88\n",
       "Text           88\n",
       "class_label    88\n",
       "dtype: int64"
      ]
     },
     "execution_count": 13,
     "metadata": {},
     "output_type": "execute_result"
    }
   ],
   "source": [
    "df_gold[df_gold['class_label'] == 'Yes'].count()"
   ]
  },
  {
   "cell_type": "code",
   "execution_count": 14,
   "id": "47b0c790-2334-4e8f-8ba6-de0356dd5779",
   "metadata": {},
   "outputs": [
    {
     "data": {
      "text/plain": [
       "Sentence_id    253\n",
       "Text           253\n",
       "class_label    253\n",
       "dtype: int64"
      ]
     },
     "execution_count": 14,
     "metadata": {},
     "output_type": "execute_result"
    }
   ],
   "source": [
    "df_gold[df_gold['class_label'] == 'No'].count()"
   ]
  },
  {
   "cell_type": "code",
   "execution_count": null,
   "id": "f8ef267f-028f-4a32-9ac3-fe56e6c59657",
   "metadata": {},
   "outputs": [],
   "source": []
  }
 ],
 "metadata": {
  "kernelspec": {
   "display_name": "Python 3 (ipykernel)",
   "language": "python",
   "name": "python3"
  },
  "language_info": {
   "codemirror_mode": {
    "name": "ipython",
    "version": 3
   },
   "file_extension": ".py",
   "mimetype": "text/x-python",
   "name": "python",
   "nbconvert_exporter": "python",
   "pygments_lexer": "ipython3",
   "version": "3.10.0"
  }
 },
 "nbformat": 4,
 "nbformat_minor": 5
}
