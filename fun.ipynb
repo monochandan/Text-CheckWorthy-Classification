{
 "cells": [
  {
   "cell_type": "code",
   "execution_count": 3,
   "id": "b4daa7a8-015d-46f4-88c9-b96174846a6a",
   "metadata": {},
   "outputs": [
    {
     "name": "stderr",
     "output_type": "stream",
     "text": [
      "[nltk_data] Downloading package stopwords to\n",
      "[nltk_data]     C:\\Users\\looka\\AppData\\Roaming\\nltk_data...\n",
      "[nltk_data]   Unzipping corpora\\stopwords.zip.\n",
      "[nltk_data] Downloading package punkt to\n",
      "[nltk_data]     C:\\Users\\looka\\AppData\\Roaming\\nltk_data...\n",
      "[nltk_data]   Package punkt is already up-to-date!\n"
     ]
    },
    {
     "data": {
      "text/plain": [
       "True"
      ]
     },
     "execution_count": 3,
     "metadata": {},
     "output_type": "execute_result"
    }
   ],
   "source": [
    "import nltk\n",
    "from nltk.tag import pos_tag\n",
    "from nltk.tokenize import word_tokenize\n",
    "from nltk.corpus import stopwords\n",
    "from nltk.stem import WordNetLemmatizer\n",
    "\n",
    "nltk.download('stopwords')\n",
    "nltk.download('punkt')\n",
    "# nltk.download('all')"
   ]
  },
  {
   "cell_type": "code",
   "execution_count": 9,
   "id": "334a4405-9ceb-49c8-bbb1-3be5d68a9715",
   "metadata": {},
   "outputs": [
    {
     "name": "stdout",
     "output_type": "stream",
     "text": [
      "['And', ',', 'so', 'I', 'know', 'that', 'this', 'campaign', 'has', 'caused', 'some', 'questioning', '!', 'and', 'worries', 'on', 'the', 'part', 'of', 'many', 'leaders', 'across', 'the', 'globe', '.']\n",
      "[('And', 'CC'), (',', ','), ('so', 'RB'), ('I', 'PRP'), ('know', 'VBP'), ('that', 'IN'), ('this', 'DT'), ('campaign', 'NN'), ('has', 'VBZ'), ('caused', 'VBN'), ('some', 'DT'), ('questioning', 'NN'), ('!', '.'), ('and', 'CC'), ('worries', 'NNS'), ('on', 'IN'), ('the', 'DT'), ('part', 'NN'), ('of', 'IN'), ('many', 'JJ'), ('leaders', 'NNS'), ('across', 'IN'), ('the', 'DT'), ('globe', 'NN'), ('.', '.')]\n"
     ]
    }
   ],
   "source": [
    "tokens = nltk.word_tokenize('And, so I know that this campaign has caused some questioning! and worries on the part of many leaders across the globe.')\n",
    "print(tokens)\n",
    "pos_tagged_word = pos_tag(tokens)\n",
    "print(pos_tagged_word)"
   ]
  },
  {
   "cell_type": "code",
   "execution_count": 13,
   "id": "38167181-61bb-4510-8e99-f1375f7650d3",
   "metadata": {},
   "outputs": [],
   "source": [
    "# from sklearn.feature_extraction.text import TfidfVectorizer\n",
    "\n",
    "data = [\"And so I know that this campaign has caused some questioning! and worries on the part of many leaders across the globe.\",\n",
    "        \"Now, let's balance-- the budget and;, protect Medicare, Medicaid, education and the environment\",\n",
    "        \"I'd like to mention one thing.\",\n",
    "        \"I must remind him the Democrats ? have controlled the Congress for the. last twenty-two years and they wrote all the tax bills.\"]"
   ]
  },
  {
   "cell_type": "code",
   "execution_count": 3,
   "id": "c21921c0-0769-4188-8fed-e20d5e42b31e",
   "metadata": {},
   "outputs": [
    {
     "data": {
      "text/plain": [
       "'gpu processor cpu performance'"
      ]
     },
     "execution_count": 3,
     "metadata": {},
     "output_type": "execute_result"
    }
   ],
   "source": [
    "data[0]"
   ]
  },
  {
   "cell_type": "code",
   "execution_count": 31,
   "id": "44165db2-108f-4c91-a07a-3aa4e4fe27ff",
   "metadata": {},
   "outputs": [],
   "source": [
    "tf = TfidfVectorizer(max_features = None, analyzer = 'word', stop_words = 'english', min_df = 0.2, max_df = 0.8, ngram_range = (1, 2)).fit(data)\n"
   ]
  },
  {
   "cell_type": "code",
   "execution_count": 32,
   "id": "aecc89b0-f152-487d-bc76-b753670d79ae",
   "metadata": {},
   "outputs": [
    {
     "data": {
      "text/plain": [
       "48"
      ]
     },
     "execution_count": 32,
     "metadata": {},
     "output_type": "execute_result"
    }
   ],
   "source": [
    "tf.vocabulary_.__len__()"
   ]
  },
  {
   "cell_type": "code",
   "execution_count": 33,
   "id": "6b735c75-3861-44fc-9577-6f6c6dd81eab",
   "metadata": {},
   "outputs": [
    {
     "data": {
      "text/plain": [
       "{'know': 19,\n",
       " 'campaign': 5,\n",
       " 'caused': 7,\n",
       " 'questioning': 35,\n",
       " 'worries': 42,\n",
       " 'leaders': 21,\n",
       " 'globe': 18,\n",
       " 'know campaign': 20,\n",
       " 'campaign caused': 6,\n",
       " 'caused questioning': 8,\n",
       " 'questioning worries': 36,\n",
       " 'worries leaders': 43,\n",
       " 'leaders globe': 22,\n",
       " 'let': 23,\n",
       " 'balance': 0,\n",
       " 'budget': 3,\n",
       " 'protect': 33,\n",
       " 'medicare': 29,\n",
       " 'medicaid': 27,\n",
       " 'education': 15,\n",
       " 'environment': 17,\n",
       " 'let balance': 24,\n",
       " 'balance budget': 1,\n",
       " 'budget protect': 4,\n",
       " 'protect medicare': 34,\n",
       " 'medicare medicaid': 30,\n",
       " 'medicaid education': 28,\n",
       " 'education environment': 16,\n",
       " 'like': 25,\n",
       " 'mention': 31,\n",
       " 'thing': 41,\n",
       " 'like mention': 26,\n",
       " 'mention thing': 32,\n",
       " 'remind': 37,\n",
       " 'democrats': 13,\n",
       " 'controlled': 11,\n",
       " 'congress': 9,\n",
       " 'years': 46,\n",
       " 'wrote': 44,\n",
       " 'tax': 39,\n",
       " 'bills': 2,\n",
       " 'remind democrats': 38,\n",
       " 'democrats controlled': 14,\n",
       " 'controlled congress': 12,\n",
       " 'congress years': 10,\n",
       " 'years wrote': 47,\n",
       " 'wrote tax': 45,\n",
       " 'tax bills': 40}"
      ]
     },
     "execution_count": 33,
     "metadata": {},
     "output_type": "execute_result"
    }
   ],
   "source": [
    "tf.vocabulary_"
   ]
  },
  {
   "cell_type": "code",
   "execution_count": 9,
   "id": "b6a8b3a8-15bd-4350-ba33-a9280cf93a10",
   "metadata": {},
   "outputs": [],
   "source": [
    "tf = TfidfVectorizer(max_features = 6).fit(data)\n"
   ]
  },
  {
   "cell_type": "code",
   "execution_count": 11,
   "id": "9d369c87-c68f-427c-b8b9-e359750ddba4",
   "metadata": {},
   "outputs": [
    {
     "name": "stdout",
     "output_type": "stream",
     "text": [
      "6\n"
     ]
    },
    {
     "data": {
      "text/plain": [
       "{'gpu': np.int64(2),\n",
       " 'processor': np.int64(4),\n",
       " 'cpu': np.int64(1),\n",
       " 'performance': np.int64(3),\n",
       " 'ram': np.int64(5),\n",
       " 'computer': np.int64(0)}"
      ]
     },
     "execution_count": 11,
     "metadata": {},
     "output_type": "execute_result"
    }
   ],
   "source": [
    "print(tf.vocabulary_.__len__())\n",
    "tf.vocabulary_"
   ]
  },
  {
   "cell_type": "code",
   "execution_count": 3,
   "id": "670e999b-9608-4970-90be-9816268817de",
   "metadata": {},
   "outputs": [
    {
     "name": "stderr",
     "output_type": "stream",
     "text": [
      "[nltk_data] Downloading package stopwords to\n",
      "[nltk_data]     C:\\Users\\looka\\AppData\\Roaming\\nltk_data...\n",
      "[nltk_data]   Package stopwords is already up-to-date!\n"
     ]
    }
   ],
   "source": [
    "import numpy as np\n",
    "import ast\n",
    "import nltk\n",
    "from nltk.corpus import stopwords\n",
    "\n",
    "# Ensure stopwords are downloaded\n",
    "nltk.download('stopwords')\n",
    "stop_words = set(stopwords.words('english'))"
   ]
  },
  {
   "cell_type": "code",
   "execution_count": 36,
   "id": "666ba035-a135-4409-ba7e-300c0e60676c",
   "metadata": {},
   "outputs": [
    {
     "data": {
      "text/plain": [
       "array([10., 14., 18., 22., 26., 30., 34., 38., 42., 46., 50.])"
      ]
     },
     "execution_count": 36,
     "metadata": {},
     "output_type": "execute_result"
    }
   ],
   "source": [
    " np.linspace(10, 50, num = 11)"
   ]
  },
  {
   "cell_type": "code",
   "execution_count": 17,
   "id": "33059eb8-095a-42f2-93a2-6dd3ad83a40a",
   "metadata": {},
   "outputs": [],
   "source": [
    "import string"
   ]
  },
  {
   "cell_type": "code",
   "execution_count": 40,
   "id": "c636818d-4b37-462b-b15b-6c1c3f80df0c",
   "metadata": {},
   "outputs": [
    {
     "name": "stdout",
     "output_type": "stream",
     "text": [
      "                                           Text  \\\n",
      "0        This is a sample sentence for testing.   \n",
      "1          Another example with some stopwords.   \n",
      "2         Python programming is fun and useful.   \n",
      "3              Data science is a growing field.   \n",
      "4  Machine learning and AI are trending topics.   \n",
      "\n",
      "                                              Tokens  \n",
      "0                  ['sample', 'sentence', 'testing']  \n",
      "1                                                 []  \n",
      "2         ['Python', 'programming', 'fun', 'useful']  \n",
      "3                                                 []  \n",
      "4  ['Machine', 'learning', 'AI', 'trending', 'top...  \n"
     ]
    }
   ],
   "source": [
    "import pandas as pd\n",
    "\n",
    "data = {\n",
    "    'Text': [\n",
    "        \"This is a sample sentence for testing.\",\n",
    "        \"Another example with some stopwords.\",\n",
    "        \"Python programming is fun and useful.\",\n",
    "        \"Data science is a growing field.\",\n",
    "        \"Machine learning and AI are trending topics.\"\n",
    "    ],\n",
    "    'Tokens': [\n",
    "        \"['sample', 'sentence', 'testing']\",\n",
    "        \"[]\",  # Empty token list\n",
    "        \"['Python', 'programming', 'fun', 'useful']\",\n",
    "        \"[]\",  # Empty token list\n",
    "        \"['Machine', 'learning', 'AI', 'trending', 'topics']\"\n",
    "    ]\n",
    "}\n",
    "\n",
    "df = pd.DataFrame(data)\n",
    "\n",
    "print(df)\n"
   ]
  },
  {
   "cell_type": "code",
   "execution_count": 51,
   "id": "229821f6-53f7-414a-9b9b-8c2c98400fd8",
   "metadata": {},
   "outputs": [
    {
     "name": "stdout",
     "output_type": "stream",
     "text": [
      "RangeIndex(start=0, stop=5, step=1)\n"
     ]
    }
   ],
   "source": [
    "new_df = df.index\n",
    "print(new_df)"
   ]
  },
  {
   "cell_type": "code",
   "execution_count": 38,
   "id": "bf52342d-7965-416d-a316-75eee34f8ab7",
   "metadata": {},
   "outputs": [],
   "source": [
    "def joined_tokens(row):\n",
    "    tokens = row['Tokens']\n",
    "    print(tokens)\n",
    "    token_list = ast.literal_eval(tokens)\n",
    "    print(token_list)\n",
    "    if len(token_list) == 0:\n",
    "        text = ''.join([char for char in row['Text'] if char not in string.punctuation]) # \n",
    "        text_tokens = text.lower().split()  # Tokenize the text\n",
    "        print(text_tokens)\n",
    "    else:\n",
    "        text_tokens = token_list\n",
    "    \n",
    "    # Remove stop words\n",
    "    # filtered_tokens = [word for word in text_tokens if word.lower() not in stop_words]\n",
    "    \n",
    "    return ' '.join(text_tokens)\n",
    "    "
   ]
  },
  {
   "cell_type": "code",
   "execution_count": 39,
   "id": "672ed413-2749-4b54-aa6f-0f7cbffabf0b",
   "metadata": {},
   "outputs": [
    {
     "name": "stdout",
     "output_type": "stream",
     "text": [
      "['sample', 'sentence', 'testing']\n",
      "['sample', 'sentence', 'testing']\n",
      "[]\n",
      "[]\n",
      "['another', 'example', 'with', 'some', 'stopwords']\n",
      "['Python', 'programming', 'fun', 'useful']\n",
      "['Python', 'programming', 'fun', 'useful']\n",
      "[]\n",
      "[]\n",
      "['data', 'science', 'is', 'a', 'growing', 'field']\n",
      "['Machine', 'learning', 'AI', 'trending', 'topics']\n",
      "['Machine', 'learning', 'AI', 'trending', 'topics']\n"
     ]
    }
   ],
   "source": [
    "df['joined_tokens'] = df.apply(joined_tokens, axis = 1)"
   ]
  },
  {
   "cell_type": "code",
   "execution_count": 40,
   "id": "5c97c456-9dba-4564-83b7-1360388721b6",
   "metadata": {},
   "outputs": [
    {
     "data": {
      "text/html": [
       "<div>\n",
       "<style scoped>\n",
       "    .dataframe tbody tr th:only-of-type {\n",
       "        vertical-align: middle;\n",
       "    }\n",
       "\n",
       "    .dataframe tbody tr th {\n",
       "        vertical-align: top;\n",
       "    }\n",
       "\n",
       "    .dataframe thead th {\n",
       "        text-align: right;\n",
       "    }\n",
       "</style>\n",
       "<table border=\"1\" class=\"dataframe\">\n",
       "  <thead>\n",
       "    <tr style=\"text-align: right;\">\n",
       "      <th></th>\n",
       "      <th>Text</th>\n",
       "      <th>Tokens</th>\n",
       "      <th>joined_tokens</th>\n",
       "    </tr>\n",
       "  </thead>\n",
       "  <tbody>\n",
       "    <tr>\n",
       "      <th>0</th>\n",
       "      <td>This is a sample sentence for testing.</td>\n",
       "      <td>['sample', 'sentence', 'testing']</td>\n",
       "      <td>sample sentence testing</td>\n",
       "    </tr>\n",
       "    <tr>\n",
       "      <th>1</th>\n",
       "      <td>Another example with some stopwords.</td>\n",
       "      <td>[]</td>\n",
       "      <td>another example with some stopwords</td>\n",
       "    </tr>\n",
       "    <tr>\n",
       "      <th>2</th>\n",
       "      <td>Python programming is fun and useful.</td>\n",
       "      <td>['Python', 'programming', 'fun', 'useful']</td>\n",
       "      <td>Python programming fun useful</td>\n",
       "    </tr>\n",
       "    <tr>\n",
       "      <th>3</th>\n",
       "      <td>Data science is a growing field.</td>\n",
       "      <td>[]</td>\n",
       "      <td>data science is a growing field</td>\n",
       "    </tr>\n",
       "    <tr>\n",
       "      <th>4</th>\n",
       "      <td>Machine learning and AI are trending topics.</td>\n",
       "      <td>['Machine', 'learning', 'AI', 'trending', 'top...</td>\n",
       "      <td>Machine learning AI trending topics</td>\n",
       "    </tr>\n",
       "  </tbody>\n",
       "</table>\n",
       "</div>"
      ],
      "text/plain": [
       "                                           Text  \\\n",
       "0        This is a sample sentence for testing.   \n",
       "1          Another example with some stopwords.   \n",
       "2         Python programming is fun and useful.   \n",
       "3              Data science is a growing field.   \n",
       "4  Machine learning and AI are trending topics.   \n",
       "\n",
       "                                              Tokens  \\\n",
       "0                  ['sample', 'sentence', 'testing']   \n",
       "1                                                 []   \n",
       "2         ['Python', 'programming', 'fun', 'useful']   \n",
       "3                                                 []   \n",
       "4  ['Machine', 'learning', 'AI', 'trending', 'top...   \n",
       "\n",
       "                         joined_tokens  \n",
       "0              sample sentence testing  \n",
       "1  another example with some stopwords  \n",
       "2        Python programming fun useful  \n",
       "3      data science is a growing field  \n",
       "4  Machine learning AI trending topics  "
      ]
     },
     "execution_count": 40,
     "metadata": {},
     "output_type": "execute_result"
    }
   ],
   "source": [
    "df"
   ]
  },
  {
   "cell_type": "code",
   "execution_count": 10,
   "id": "9489e19a-52fd-4a4e-8ba5-0401935912ef",
   "metadata": {},
   "outputs": [],
   "source": [
    "lemmatizer = WordNetLemmatizer()  "
   ]
  },
  {
   "cell_type": "code",
   "execution_count": 13,
   "id": "e397b73a-b3c0-415a-8697-30c9ec5501e5",
   "metadata": {},
   "outputs": [
    {
     "name": "stdout",
     "output_type": "stream",
     "text": [
      "heading\n"
     ]
    }
   ],
   "source": [
    "print(lemmatizer.lemmatize('heading'))"
   ]
  },
  {
   "cell_type": "code",
   "execution_count": 2,
   "id": "ec3dc069-779b-449a-97d7-99e6332306db",
   "metadata": {},
   "outputs": [
    {
     "name": "stdout",
     "output_type": "stream",
     "text": [
      "[(0, 'm1'), (1, 'm2'), (2, 'm3'), (3, 'm4'), (4, 'm5')]\n"
     ]
    }
   ],
   "source": [
    "# enumerate adds a counter to an ietrable and returns it as an enumerate object\n",
    "\n",
    "language = ['m1', 'm2', 'm3', 'm4', 'm5']\n",
    "\n",
    "enumerated_language = enumerate(language)\n",
    "print(list(enumerated_language))"
   ]
  },
  {
   "cell_type": "code",
   "execution_count": 7,
   "id": "585f9a6f-c678-4c56-95d4-50ff4ae6b486",
   "metadata": {},
   "outputs": [
    {
     "data": {
      "text/html": [
       "<div>\n",
       "<style scoped>\n",
       "    .dataframe tbody tr th:only-of-type {\n",
       "        vertical-align: middle;\n",
       "    }\n",
       "\n",
       "    .dataframe tbody tr th {\n",
       "        vertical-align: top;\n",
       "    }\n",
       "\n",
       "    .dataframe thead th {\n",
       "        text-align: right;\n",
       "    }\n",
       "</style>\n",
       "<table border=\"1\" class=\"dataframe\">\n",
       "  <thead>\n",
       "    <tr style=\"text-align: right;\">\n",
       "      <th></th>\n",
       "      <th>Text</th>\n",
       "      <th>Tokens</th>\n",
       "    </tr>\n",
       "  </thead>\n",
       "  <tbody>\n",
       "    <tr>\n",
       "      <th>0</th>\n",
       "      <td>This is a sample sentence for testing.</td>\n",
       "      <td>['sample', 'sentence', 'testing']</td>\n",
       "    </tr>\n",
       "    <tr>\n",
       "      <th>1</th>\n",
       "      <td>Another example with some stopwords.</td>\n",
       "      <td>[]</td>\n",
       "    </tr>\n",
       "    <tr>\n",
       "      <th>2</th>\n",
       "      <td>Python programming is fun and useful.</td>\n",
       "      <td>['Python', 'programming', 'fun', 'useful']</td>\n",
       "    </tr>\n",
       "    <tr>\n",
       "      <th>3</th>\n",
       "      <td>Data science is a growing field.</td>\n",
       "      <td>[]</td>\n",
       "    </tr>\n",
       "    <tr>\n",
       "      <th>4</th>\n",
       "      <td>Machine learning and AI are trending topics.</td>\n",
       "      <td>['Machine', 'learning', 'AI', 'trending', 'top...</td>\n",
       "    </tr>\n",
       "  </tbody>\n",
       "</table>\n",
       "</div>"
      ],
      "text/plain": [
       "                                           Text  \\\n",
       "0        This is a sample sentence for testing.   \n",
       "1          Another example with some stopwords.   \n",
       "2         Python programming is fun and useful.   \n",
       "3              Data science is a growing field.   \n",
       "4  Machine learning and AI are trending topics.   \n",
       "\n",
       "                                              Tokens  \n",
       "0                  ['sample', 'sentence', 'testing']  \n",
       "1                                                 []  \n",
       "2         ['Python', 'programming', 'fun', 'useful']  \n",
       "3                                                 []  \n",
       "4  ['Machine', 'learning', 'AI', 'trending', 'top...  "
      ]
     },
     "execution_count": 7,
     "metadata": {},
     "output_type": "execute_result"
    }
   ],
   "source": [
    "df"
   ]
  },
  {
   "cell_type": "code",
   "execution_count": 12,
   "id": "44360e66-f7c6-4181-a9a6-30507c23ceda",
   "metadata": {},
   "outputs": [
    {
     "name": "stdout",
     "output_type": "stream",
     "text": [
      "[2, 3]\n"
     ]
    }
   ],
   "source": [
    "x_text = ['Data science is a growing field.', 'Python programming is fun and useful.']\n",
    "indecies = [i for i, x in enumerate(df['Text']) if x in x_text]\n",
    "print(indecies)"
   ]
  },
  {
   "cell_type": "code",
   "execution_count": 24,
   "id": "41b4af22-43e9-48d9-af27-90cb10f2fa60",
   "metadata": {},
   "outputs": [],
   "source": [
    "from imblearn import under_sampling as us\n",
    "from imblearn import over_sampling as os\n",
    "from imblearn import combine as mixed"
   ]
  },
  {
   "cell_type": "code",
   "execution_count": 25,
   "id": "165c245f-fdc0-44ac-aa1d-380702379741",
   "metadata": {},
   "outputs": [
    {
     "name": "stdout",
     "output_type": "stream",
     "text": [
      "ClusterCentroids(): {'estimator': None, 'random_state': None, 'sampling_strategy': 'auto', 'voting': 'auto'}\n",
      "CondensedNearestNeighbour(): {'n_jobs': None, 'n_neighbors': None, 'n_seeds_S': 1, 'random_state': None, 'sampling_strategy': 'auto'}\n",
      "EditedNearestNeighbours(): {'kind_sel': 'all', 'n_jobs': None, 'n_neighbors': 3, 'sampling_strategy': 'auto'}\n",
      "RepeatedEditedNearestNeighbours(): {'kind_sel': 'all', 'max_iter': 100, 'n_jobs': None, 'n_neighbors': 3, 'sampling_strategy': 'auto'}\n",
      "AllKNN(): {'allow_minority': False, 'kind_sel': 'all', 'n_jobs': None, 'n_neighbors': 3, 'sampling_strategy': 'auto'}\n",
      "InstanceHardnessThreshold(): {'cv': 5, 'estimator': None, 'n_jobs': None, 'random_state': None, 'sampling_strategy': 'auto'}\n",
      "NearMiss(): {'n_jobs': None, 'n_neighbors': 3, 'n_neighbors_ver3': 3, 'sampling_strategy': 'auto', 'version': 1}\n",
      "NeighbourhoodCleaningRule(): {'edited_nearest_neighbours': None, 'kind_sel': 'deprecated', 'n_jobs': None, 'n_neighbors': 3, 'sampling_strategy': 'auto', 'threshold_cleaning': 0.5}\n",
      "OneSidedSelection(): {'n_jobs': None, 'n_neighbors': None, 'n_seeds_S': 1, 'random_state': None, 'sampling_strategy': 'auto'}\n",
      "RandomUnderSampler(): {'random_state': None, 'replacement': False, 'sampling_strategy': 'auto'}\n",
      "TomekLinks(): {'n_jobs': None, 'sampling_strategy': 'auto'}\n",
      "RandomOverSampler(): {'random_state': None, 'sampling_strategy': 'auto', 'shrinkage': None}\n",
      "SMOTE(): {'k_neighbors': 5, 'random_state': None, 'sampling_strategy': 'auto'}\n",
      "SMOTENC(categorical_features='auto'): {'categorical_encoder': None, 'categorical_features': 'auto', 'k_neighbors': 5, 'random_state': None, 'sampling_strategy': 'auto'}\n",
      "SMOTEN(): {'categorical_encoder': None, 'k_neighbors': 5, 'random_state': None, 'sampling_strategy': 'auto'}\n",
      "ADASYN(): {'n_neighbors': 5, 'random_state': None, 'sampling_strategy': 'auto'}\n",
      "BorderlineSMOTE(): {'k_neighbors': 5, 'kind': 'borderline-1', 'm_neighbors': 10, 'random_state': None, 'sampling_strategy': 'auto'}\n",
      "KMeansSMOTE(): {'cluster_balance_threshold': 'auto', 'density_exponent': 'auto', 'k_neighbors': 2, 'kmeans_estimator': None, 'n_jobs': None, 'random_state': None, 'sampling_strategy': 'auto'}\n",
      "SVMSMOTE(): {'k_neighbors': 5, 'm_neighbors': 10, 'out_step': 0.5, 'random_state': None, 'sampling_strategy': 'auto', 'svm_estimator': None}\n",
      "SMOTEENN(): {'enn': None, 'n_jobs': None, 'random_state': None, 'sampling_strategy': 'auto', 'smote': None}\n",
      "SMOTETomek(): {'n_jobs': None, 'random_state': None, 'sampling_strategy': 'auto', 'smote': None, 'tomek': None}\n"
     ]
    }
   ],
   "source": [
    "cc = us.ClusterCentroids()\n",
    "cnn = us.CondensedNearestNeighbour()\n",
    "enn = us.EditedNearestNeighbours()\n",
    "renn = us.RepeatedEditedNearestNeighbours()\n",
    "aiknn = us.AllKNN()\n",
    "iht = us.InstanceHardnessThreshold()\n",
    "nm = us.NearMiss()\n",
    "ncr = us.NeighbourhoodCleaningRule()\n",
    "oss = us.OneSidedSelection()\n",
    "rus = us.RandomUnderSampler()\n",
    "tl = us.TomekLinks()\n",
    "\n",
    "ros = os.RandomOverSampler()\n",
    "sm = os.SMOTE()\n",
    "smtenc = os.SMOTENC(\"auto\")\n",
    "smen = os.SMOTEN()\n",
    "adasyn = os.ADASYN()\n",
    "bsmt = os.BorderlineSMOTE()\n",
    "kmsmt = os.KMeansSMOTE()\n",
    "svmsmt = os.SVMSMOTE()\n",
    "\n",
    "smtenn = mixed.SMOTEENN()\n",
    "smttmk = mixed.SMOTETomek()\n",
    "sampling_list = [cc, cnn, enn, renn, aiknn, iht, nm, ncr, oss, rus, tl, ros, sm, smtenc, smen, adasyn, bsmt, kmsmt, svmsmt, smtenn, smttmk]\n",
    "for i in sampling_list:\n",
    "    print(f\"{i}: {i.get_params(deep = True)}\")"
   ]
  },
  {
   "cell_type": "code",
   "execution_count": 11,
   "id": "5a15eb25-65ec-4c81-be93-da288d389b83",
   "metadata": {},
   "outputs": [],
   "source": [
    "from time import gmtime,strftime, timezone\n",
    "# import tzlocal\n",
    "from datetime import datetime"
   ]
  },
  {
   "cell_type": "code",
   "execution_count": 7,
   "id": "0098d432-8d9d-4f5c-9021-70b5dad59f6e",
   "metadata": {},
   "outputs": [
    {
     "name": "stdout",
     "output_type": "stream",
     "text": [
      "Tue, 11, Mar, 2025 02:11:47 PM +0000\n"
     ]
    }
   ],
   "source": [
    "print(strftime(\"%a, %d, %b, %Y %I:%M:%S %p +0000\", gmtime()))"
   ]
  },
  {
   "cell_type": "code",
   "execution_count": 13,
   "id": "a0ba4a73-dea1-483e-914e-188f5b86d544",
   "metadata": {},
   "outputs": [
    {
     "name": "stdout",
     "output_type": "stream",
     "text": [
      "03:42:50\n"
     ]
    }
   ],
   "source": [
    "print(datetime.now().strftime('%I:%M:%S'))"
   ]
  },
  {
   "cell_type": "code",
   "execution_count": null,
   "id": "4dbdb498-82d4-4db0-8555-9b446056de03",
   "metadata": {},
   "outputs": [],
   "source": [
    "# tune the parameters for different resampling technique\n",
    "X_train = None\n",
    "y_train = None\n"
   ]
  },
  {
   "cell_type": "code",
   "execution_count": 1,
   "id": "3960bf69-e45d-4fdc-b6fb-367fa65073f6",
   "metadata": {},
   "outputs": [],
   "source": [
    "from sklearn.datasets import make_blobs\n",
    "from matplotlib import pyplot\n",
    "from pandas import DataFrame"
   ]
  },
  {
   "cell_type": "code",
   "execution_count": 2,
   "id": "6706e3d4-9bf1-4fe6-a12e-4433471b4e6d",
   "metadata": {},
   "outputs": [],
   "source": [
    "X, y = make_blobs(n_samples = 100, n_features = 2)"
   ]
  },
  {
   "cell_type": "code",
   "execution_count": 5,
   "id": "c5af2de4-8959-4e7b-ab9e-69928c337777",
   "metadata": {},
   "outputs": [
    {
     "data": {
      "text/plain": [
       "array([1, 2, 0, 1, 2, 1, 1, 1, 2, 2, 2, 2, 1, 1, 0, 2, 1, 2, 2, 1, 0, 0,\n",
       "       2, 2, 1, 1, 0, 2, 1, 0, 0, 0, 2, 2, 2, 0, 2, 1, 1, 0, 1, 2, 0, 0,\n",
       "       0, 2, 1, 0, 1, 2, 1, 0, 0, 2, 2, 1, 2, 0, 2, 2, 1, 1, 1, 2, 0, 2,\n",
       "       1, 0, 1, 2, 0, 0, 0, 2, 2, 1, 0, 1, 0, 0, 0, 0, 1, 1, 0, 2, 1, 0,\n",
       "       2, 1, 0, 2, 0, 1, 0, 0, 1, 2, 0, 1])"
      ]
     },
     "execution_count": 5,
     "metadata": {},
     "output_type": "execute_result"
    }
   ],
   "source": [
    "y"
   ]
  },
  {
   "cell_type": "code",
   "execution_count": 7,
   "id": "a2eec50b-1e52-424a-85bf-32efa844b400",
   "metadata": {},
   "outputs": [],
   "source": [
    "df = DataFrame(dict(x=X[:, 0], y=X[:, 1], label=y))# first column of X as x, second column of X into y, lable as label feature"
   ]
  },
  {
   "cell_type": "code",
   "execution_count": 8,
   "id": "1edf5897-ce84-4c56-9707-ec53e4896ccb",
   "metadata": {},
   "outputs": [
    {
     "data": {
      "text/html": [
       "<div>\n",
       "<style scoped>\n",
       "    .dataframe tbody tr th:only-of-type {\n",
       "        vertical-align: middle;\n",
       "    }\n",
       "\n",
       "    .dataframe tbody tr th {\n",
       "        vertical-align: top;\n",
       "    }\n",
       "\n",
       "    .dataframe thead th {\n",
       "        text-align: right;\n",
       "    }\n",
       "</style>\n",
       "<table border=\"1\" class=\"dataframe\">\n",
       "  <thead>\n",
       "    <tr style=\"text-align: right;\">\n",
       "      <th></th>\n",
       "      <th>x</th>\n",
       "      <th>y</th>\n",
       "      <th>label</th>\n",
       "    </tr>\n",
       "  </thead>\n",
       "  <tbody>\n",
       "    <tr>\n",
       "      <th>0</th>\n",
       "      <td>-0.196778</td>\n",
       "      <td>6.381429</td>\n",
       "      <td>1</td>\n",
       "    </tr>\n",
       "    <tr>\n",
       "      <th>1</th>\n",
       "      <td>2.426054</td>\n",
       "      <td>8.251955</td>\n",
       "      <td>2</td>\n",
       "    </tr>\n",
       "    <tr>\n",
       "      <th>2</th>\n",
       "      <td>-8.316549</td>\n",
       "      <td>-5.228763</td>\n",
       "      <td>0</td>\n",
       "    </tr>\n",
       "    <tr>\n",
       "      <th>3</th>\n",
       "      <td>-0.010837</td>\n",
       "      <td>4.417343</td>\n",
       "      <td>1</td>\n",
       "    </tr>\n",
       "    <tr>\n",
       "      <th>4</th>\n",
       "      <td>2.583053</td>\n",
       "      <td>7.377850</td>\n",
       "      <td>2</td>\n",
       "    </tr>\n",
       "    <tr>\n",
       "      <th>...</th>\n",
       "      <td>...</td>\n",
       "      <td>...</td>\n",
       "      <td>...</td>\n",
       "    </tr>\n",
       "    <tr>\n",
       "      <th>95</th>\n",
       "      <td>-6.533749</td>\n",
       "      <td>-3.106002</td>\n",
       "      <td>0</td>\n",
       "    </tr>\n",
       "    <tr>\n",
       "      <th>96</th>\n",
       "      <td>0.792023</td>\n",
       "      <td>7.327033</td>\n",
       "      <td>1</td>\n",
       "    </tr>\n",
       "    <tr>\n",
       "      <th>97</th>\n",
       "      <td>3.585926</td>\n",
       "      <td>7.135829</td>\n",
       "      <td>2</td>\n",
       "    </tr>\n",
       "    <tr>\n",
       "      <th>98</th>\n",
       "      <td>-5.426979</td>\n",
       "      <td>-3.577427</td>\n",
       "      <td>0</td>\n",
       "    </tr>\n",
       "    <tr>\n",
       "      <th>99</th>\n",
       "      <td>0.265720</td>\n",
       "      <td>5.466615</td>\n",
       "      <td>1</td>\n",
       "    </tr>\n",
       "  </tbody>\n",
       "</table>\n",
       "<p>100 rows × 3 columns</p>\n",
       "</div>"
      ],
      "text/plain": [
       "           x         y  label\n",
       "0  -0.196778  6.381429      1\n",
       "1   2.426054  8.251955      2\n",
       "2  -8.316549 -5.228763      0\n",
       "3  -0.010837  4.417343      1\n",
       "4   2.583053  7.377850      2\n",
       "..       ...       ...    ...\n",
       "95 -6.533749 -3.106002      0\n",
       "96  0.792023  7.327033      1\n",
       "97  3.585926  7.135829      2\n",
       "98 -5.426979 -3.577427      0\n",
       "99  0.265720  5.466615      1\n",
       "\n",
       "[100 rows x 3 columns]"
      ]
     },
     "execution_count": 8,
     "metadata": {},
     "output_type": "execute_result"
    }
   ],
   "source": [
    "df"
   ]
  },
  {
   "cell_type": "code",
   "execution_count": 4,
   "id": "3a5805e8-c30e-4922-89a2-30fb22196dbd",
   "metadata": {},
   "outputs": [
    {
     "data": {
      "text/plain": [
       "{'x': array([-1.96778060e-01,  2.42605390e+00, -8.31654935e+00, -1.08371802e-02,\n",
       "         2.58305319e+00, -1.49622910e-01, -3.44540098e-01,  1.60288291e+00,\n",
       "         2.82444395e+00, -8.65449785e-03,  2.33245693e+00,  2.53334987e+00,\n",
       "        -1.43089373e+00,  4.75944757e-01, -6.98242973e+00,  3.11288561e+00,\n",
       "        -9.07801620e-02,  2.75725406e+00,  2.52074575e+00, -5.50686235e-01,\n",
       "        -7.73140414e+00, -6.57702859e+00,  1.82013141e+00,  4.78290828e+00,\n",
       "        -1.78954326e+00,  5.01063131e-01, -7.81806485e+00,  5.44207850e+00,\n",
       "        -9.33009817e-01, -7.50980029e+00, -7.29397339e+00, -7.32257116e+00,\n",
       "         1.77280197e+00,  4.50032963e+00,  2.89051506e+00, -6.42281163e+00,\n",
       "         1.66324564e+00,  1.36305297e+00,  1.81555576e+00, -6.58567604e+00,\n",
       "         1.66495192e+00,  4.16990778e+00, -5.64757155e+00, -6.74579679e+00,\n",
       "        -7.28497508e+00,  1.87708263e+00,  7.25411093e-02, -7.16655647e+00,\n",
       "        -1.29995954e+00,  2.61741034e+00, -6.34376639e-01, -5.06202406e+00,\n",
       "        -6.98185026e+00,  3.07836773e+00,  3.05412175e+00, -2.12620931e+00,\n",
       "         2.83779207e+00, -8.64526188e+00,  2.58407907e+00,  4.02421996e+00,\n",
       "        -1.40053811e+00,  9.02372915e-02, -2.76582858e-01,  2.72347348e+00,\n",
       "        -6.64376465e+00,  3.33652129e+00, -9.35686026e-01, -5.95072707e+00,\n",
       "        -8.75415023e-01,  2.80497492e+00, -7.34973663e+00, -6.66509935e+00,\n",
       "        -6.83884873e+00,  3.88059916e+00,  4.38037840e+00, -2.78301612e+00,\n",
       "        -7.07925050e+00,  8.18729050e-01, -7.30100934e+00, -9.17957530e+00,\n",
       "        -7.70739500e+00, -7.35022686e+00, -5.83939564e-01,  7.68999594e-01,\n",
       "        -6.60066313e+00,  3.33017421e+00, -2.98268215e-01, -7.60682487e+00,\n",
       "         2.46027386e+00, -4.71524243e-01, -7.28989422e+00,  2.09137142e+00,\n",
       "        -7.13117882e+00,  2.84186478e-01, -7.71598813e+00, -6.53374891e+00,\n",
       "         7.92022803e-01,  3.58592582e+00, -5.42697872e+00,  2.65719541e-01]),\n",
       " 'y': array([ 6.38142885,  8.25195512, -5.22876283,  4.41734256,  7.37785045,\n",
       "         4.6009017 ,  5.38083793,  4.70389324,  7.92645782,  8.42633616,\n",
       "         8.05511764,  8.96045366,  5.73326166,  5.50489287, -6.62205617,\n",
       "         9.36062417,  6.21219265,  6.8873358 ,  8.9929316 ,  6.87378613,\n",
       "        -4.19311722, -3.9280052 ,  9.57869549,  8.92365   ,  5.52484016,\n",
       "         5.00793537, -6.64003278,  8.78696837,  6.71813153, -3.36328886,\n",
       "        -3.99644719, -6.127843  ,  8.4867611 ,  7.19569955,  8.13945825,\n",
       "        -6.02875033,  8.17888209,  7.28781111,  4.75553597, -6.11667506,\n",
       "         5.52661174,  6.2614848 , -6.06338793, -4.07999237, -5.36264103,\n",
       "         8.15540868,  5.65130428, -4.37492175,  7.23471508,  6.50137589,\n",
       "         5.40078424, -4.44270173, -3.75902566,  7.62163703,  7.64112122,\n",
       "         5.50825609,  7.5073554 , -4.02448229,  8.30894764,  7.24914502,\n",
       "         6.55076877,  5.26719343,  6.05738979,  7.79997813, -4.87414735,\n",
       "         8.21383862,  4.75126714, -4.62681811,  4.98030729,  7.62002024,\n",
       "        -4.77977688, -5.0807008 , -5.49632971,  8.96149481,  6.84472162,\n",
       "         5.80132918, -5.97315225,  6.18234583, -4.38363591, -3.44232376,\n",
       "        -6.38996992, -4.32261544,  5.6120511 ,  4.8462747 , -5.03715193,\n",
       "         6.74266956,  4.01294993, -5.68045402,  7.60798068,  5.64668866,\n",
       "        -4.77161792,  7.95588413, -5.67518372,  6.53921821, -4.86148459,\n",
       "        -3.10600199,  7.32703303,  7.13582864, -3.57742667,  5.46661537]),\n",
       " 'label': array([1, 2, 0, 1, 2, 1, 1, 1, 2, 2, 2, 2, 1, 1, 0, 2, 1, 2, 2, 1, 0, 0,\n",
       "        2, 2, 1, 1, 0, 2, 1, 0, 0, 0, 2, 2, 2, 0, 2, 1, 1, 0, 1, 2, 0, 0,\n",
       "        0, 2, 1, 0, 1, 2, 1, 0, 0, 2, 2, 1, 2, 0, 2, 2, 1, 1, 1, 2, 0, 2,\n",
       "        1, 0, 1, 2, 0, 0, 0, 2, 2, 1, 0, 1, 0, 0, 0, 0, 1, 1, 0, 2, 1, 0,\n",
       "        2, 1, 0, 2, 0, 1, 0, 0, 1, 2, 0, 1])}"
      ]
     },
     "execution_count": 4,
     "metadata": {},
     "output_type": "execute_result"
    }
   ],
   "source": [
    "dict(x=X[:, 0], y=X[:, 1], label=y)"
   ]
  },
  {
   "cell_type": "code",
   "execution_count": 11,
   "id": "a2f73a12-5bad-4f17-9e46-d7cc6e985ba7",
   "metadata": {},
   "outputs": [
    {
     "data": {
      "image/png": "[encoded data removed]",
      "text/plain": [
       "<Figure size 640x480 with 1 Axes>"
      ]
     },
     "metadata": {},
     "output_type": "display_data"
    }
   ],
   "source": [
    "colors = {0:'red', 1:'blue', 2:'green'}\n",
    "fig, ax = pyplot.subplots()\n",
    "grouped = df.groupby('label')\n",
    "\n",
    "for key, group in grouped:\n",
    "    group.plot(ax = ax, kind = 'scatter', x='x', y='y', label=key, color = colors[key])"
   ]
  },
  {
   "cell_type": "code",
   "execution_count": 12,
   "id": "9fa5e93c-3bac-40f8-b3d5-0a9a3bcc2172",
   "metadata": {},
   "outputs": [
    {
     "name": "stdout",
     "output_type": "stream",
     "text": [
      "           x         y  label\n",
      "0  -0.196778  6.381429      1\n",
      "1   2.426054  8.251955      2\n",
      "2  -8.316549 -5.228763      0\n",
      "3  -0.010837  4.417343      1\n",
      "4   2.583053  7.377850      2\n",
      "..       ...       ...    ...\n",
      "95 -6.533749 -3.106002      0\n",
      "96  0.792023  7.327033      1\n",
      "97  3.585926  7.135829      2\n",
      "98 -5.426979 -3.577427      0\n",
      "99  0.265720  5.466615      1\n",
      "\n",
      "[100 rows x 3 columns]\n"
     ]
    }
   ],
   "source": [
    "print(df)"
   ]
  },
  {
   "cell_type": "code",
   "execution_count": 13,
   "id": "2339f218-29ce-4c1e-889d-300c10405d39",
   "metadata": {},
   "outputs": [
    {
     "name": "stdout",
     "output_type": "stream",
     "text": [
      "Index(['x', 'y', 'label'], dtype='object')\n"
     ]
    }
   ],
   "source": [
    "print(df.columns)"
   ]
  },
  {
   "cell_type": "code",
   "execution_count": 14,
   "id": "03146d13-a321-45f8-b825-7e5e02240a31",
   "metadata": {},
   "outputs": [
    {
     "data": {
      "text/html": [
       "<div>\n",
       "<style scoped>\n",
       "    .dataframe tbody tr th:only-of-type {\n",
       "        vertical-align: middle;\n",
       "    }\n",
       "\n",
       "    .dataframe tbody tr th {\n",
       "        vertical-align: top;\n",
       "    }\n",
       "\n",
       "    .dataframe thead th {\n",
       "        text-align: right;\n",
       "    }\n",
       "</style>\n",
       "<table border=\"1\" class=\"dataframe\">\n",
       "  <thead>\n",
       "    <tr style=\"text-align: right;\">\n",
       "      <th></th>\n",
       "      <th>x</th>\n",
       "      <th>y</th>\n",
       "    </tr>\n",
       "  </thead>\n",
       "  <tbody>\n",
       "    <tr>\n",
       "      <th>0</th>\n",
       "      <td>-0.196778</td>\n",
       "      <td>6.381429</td>\n",
       "    </tr>\n",
       "    <tr>\n",
       "      <th>1</th>\n",
       "      <td>2.426054</td>\n",
       "      <td>8.251955</td>\n",
       "    </tr>\n",
       "    <tr>\n",
       "      <th>2</th>\n",
       "      <td>-8.316549</td>\n",
       "      <td>-5.228763</td>\n",
       "    </tr>\n",
       "    <tr>\n",
       "      <th>3</th>\n",
       "      <td>-0.010837</td>\n",
       "      <td>4.417343</td>\n",
       "    </tr>\n",
       "    <tr>\n",
       "      <th>4</th>\n",
       "      <td>2.583053</td>\n",
       "      <td>7.377850</td>\n",
       "    </tr>\n",
       "    <tr>\n",
       "      <th>...</th>\n",
       "      <td>...</td>\n",
       "      <td>...</td>\n",
       "    </tr>\n",
       "    <tr>\n",
       "      <th>95</th>\n",
       "      <td>-6.533749</td>\n",
       "      <td>-3.106002</td>\n",
       "    </tr>\n",
       "    <tr>\n",
       "      <th>96</th>\n",
       "      <td>0.792023</td>\n",
       "      <td>7.327033</td>\n",
       "    </tr>\n",
       "    <tr>\n",
       "      <th>97</th>\n",
       "      <td>3.585926</td>\n",
       "      <td>7.135829</td>\n",
       "    </tr>\n",
       "    <tr>\n",
       "      <th>98</th>\n",
       "      <td>-5.426979</td>\n",
       "      <td>-3.577427</td>\n",
       "    </tr>\n",
       "    <tr>\n",
       "      <th>99</th>\n",
       "      <td>0.265720</td>\n",
       "      <td>5.466615</td>\n",
       "    </tr>\n",
       "  </tbody>\n",
       "</table>\n",
       "<p>100 rows × 2 columns</p>\n",
       "</div>"
      ],
      "text/plain": [
       "           x         y\n",
       "0  -0.196778  6.381429\n",
       "1   2.426054  8.251955\n",
       "2  -8.316549 -5.228763\n",
       "3  -0.010837  4.417343\n",
       "4   2.583053  7.377850\n",
       "..       ...       ...\n",
       "95 -6.533749 -3.106002\n",
       "96  0.792023  7.327033\n",
       "97  3.585926  7.135829\n",
       "98 -5.426979 -3.577427\n",
       "99  0.265720  5.466615\n",
       "\n",
       "[100 rows x 2 columns]"
      ]
     },
     "execution_count": 14,
     "metadata": {},
     "output_type": "execute_result"
    }
   ],
   "source": [
    "df_x = df[['x', 'y']]\n",
    "df_x"
   ]
  },
  {
   "cell_type": "code",
   "execution_count": 30,
   "id": "dd22f653-6056-406a-99a2-b98b7f50a253",
   "metadata": {},
   "outputs": [],
   "source": [
    "import sklearn.cluster\n",
    "from sklearn.pipeline import Pipeline\n",
    "from imblearn.under_sampling import RandomUnderSampler, NearMiss, TomekLinks, ClusterCentroids\n",
    "from sklearn.model_selection import RandomizedSearchCV, GridSearchCV\n",
    "from sklearn.ensemble import RandomForestClassifier"
   ]
  },
  {
   "cell_type": "code",
   "execution_count": 19,
   "id": "40d44418-d009-44c3-89d8-2f5d68984102",
   "metadata": {},
   "outputs": [],
   "source": [
    "kmeans = sklearn.cluster.KMeans(n_clusters = 3, init = 'k-means++', random_state = 0).fit(df_x)"
   ]
  },
  {
   "cell_type": "code",
   "execution_count": 20,
   "id": "187d4e2b-dfa8-41d2-b713-4a2c3c79078d",
   "metadata": {},
   "outputs": [
    {
     "name": "stdout",
     "output_type": "stream",
     "text": [
      "[[ 2.97460547  7.89453165]\n",
      " [-7.07250751 -4.89502713]\n",
      " [-0.24357658  5.71528547]]\n"
     ]
    }
   ],
   "source": [
    "print(kmeans.cluster_centers_)"
   ]
  },
  {
   "cell_type": "code",
   "execution_count": 22,
   "id": "8833e75b-f8d9-4a85-beaf-d9f8deff2a9b",
   "metadata": {},
   "outputs": [
    {
     "name": "stdout",
     "output_type": "stream",
     "text": [
      "[2 0 1 2 0 2 2 2 0 2 0 0 2 2 1 0 2 0 0 2 1 1 0 0 2 2 1 0 2 1 1 1 0 0 0 1 0\n",
      " 0 2 1 2 0 1 1 1 0 2 1 2 0 2 1 1 0 0 2 0 1 0 0 2 2 2 0 1 0 2 1 2 0 1 1 1 0\n",
      " 0 2 1 2 1 1 1 1 2 2 1 0 2 1 0 2 1 0 1 2 1 1 2 0 1 2]\n",
      "0     1\n",
      "1     2\n",
      "2     0\n",
      "3     1\n",
      "4     2\n",
      "     ..\n",
      "95    0\n",
      "96    1\n",
      "97    2\n",
      "98    0\n",
      "99    1\n",
      "Name: label, Length: 100, dtype: int64\n"
     ]
    }
   ],
   "source": [
    "print(kmeans.labels_)\n",
    "print(df['label'])"
   ]
  },
  {
   "cell_type": "code",
   "execution_count": 23,
   "id": "68522fec-ee92-4128-91c5-92db44f6f607",
   "metadata": {},
   "outputs": [
    {
     "data": {
      "text/plain": [
       "<matplotlib.collections.PathCollection at 0x2b4ec6c7b50>"
      ]
     },
     "execution_count": 23,
     "metadata": {},
     "output_type": "execute_result"
    },
    {
     "data": {
      "image/png": "[encoded data removed]",
      "text/plain": [
       "<Figure size 640x480 with 1 Axes>"
      ]
     },
     "metadata": {},
     "output_type": "display_data"
    }
   ],
   "source": [
    "pyplot.scatter(df_x['x'], df_x['y'], c = kmeans.labels_, cmap = 'rainbow')"
   ]
  },
  {
   "cell_type": "code",
   "execution_count": 26,
   "id": "b9e328de-99be-4443-98cb-4eb8483a693a",
   "metadata": {},
   "outputs": [],
   "source": [
    "param_distribution_us = {\n",
    "    'RandomUnderSampler': {\n",
    "        'sampling_strategy': [0.5, 0.7, 0.6, 0.8, 0.9, 'majority', 'not minority', 'not majority', 'all', 'auto'],\n",
    "        'random_state': [42]\n",
    "    },\n",
    "    'EditedNearestNeighbours': {\n",
    "         'sampling_strategy': [0.5, 0.7, 0.6, 0.8, 0.9, 'majority', 'not minority', 'not majority', 'all', 'auto'],\n",
    "        'random_state': [42],\n",
    "        'n_jobs': -1,\n",
    "        'n_neighbors': [3, 4, 5, 6],\n",
    "        'kind_sel': ['all', 'mode']\n",
    "    },\n",
    "    'CondensedNearestNeighbour': {\n",
    "        'sampling_strategy': [0.5, 0.7, 0.6, 0.8, 0.9, 'majority', 'not minority', 'not majority', 'all', 'auto'],\n",
    "        'random_state': [42],\n",
    "        'n_jobs': -1,\n",
    "        'n_neighbors': [3, 4, 5, 6],\n",
    "        'n_seed_S':[1,5,10,20]\n",
    "    },\n",
    "    'TomekLinks': {\n",
    "        'sampling_strategy': [0.5, 0.7, 0.6, 0.8, 0.9, 'majority', 'not minority', 'not majority', 'all', 'auto'],\n",
    "        'n_jobs': -1\n",
    "    },\n",
    "    'ClusterCentroids': {\n",
    "        'sampling_strategy': [0.5, 0.7, 0.6, 0.8, 0.9, 'majority', 'not minority', 'not majority', 'all', 'auto'],\n",
    "        'random_state':[42, 10, 15],\n",
    "        'voting': ['hard', 'soft', 'auto']       \n",
    "    },\n",
    "    'RepeatedEditedNearestNeighbours': {\n",
    "        'sampling_strategy': [0.5, 0.7, 0.6, 0.8, 0.9, 'majority', 'not minority', 'not majority', 'all', 'auto'],\n",
    "        'random_state':[42, 10, 15],\n",
    "        'n_jobs': -1,\n",
    "        'kind_sel': ['all', 'mode'],\n",
    "        'n_neighbors': [3, 4, 5, 6],\n",
    "        'max_iter': [50, 100, 200] \n",
    "    },\n",
    "    'NearMiss': {\n",
    "        'sampling_strategy': [0.5, 0.7, 0.6, 0.8, 0.9, 'majority', 'not minority', 'not majority', 'all', 'auto'],\n",
    "        'version': [1, 2, 3],\n",
    "        'n_neighbors': [3, 5, 7, 10],\n",
    "        'n_neighbors_ver3':[3, 5, 7],\n",
    "        'n_jobs': -1\n",
    "    },\n",
    "    'NeighbourhoodCleaningRule': {\n",
    "        'sampling_strategy': [0.5, 0.7, 0.6, 0.8, 0.9, 'majority', 'not minority', 'not majority', 'all', 'auto'],\n",
    "        'edited_nearest_neughbors': [None, 'all', 'mode'],\n",
    "        'n_neighbors': [3, 5, 7],\n",
    "        'n_jobs': -1\n",
    "    },\n",
    "    'AllKNN': {\n",
    "        'sampling_strategy': [0.5, 0.7, 0.6, 0.8, 0.9, 'majority', 'not minority', 'not majority', 'all', 'auto'],\n",
    "        'n_neighbors': [3, 5, 7],\n",
    "        'kind_sel': ['all', 'mode'],\n",
    "        'allow_minority': [True, False],\n",
    "        'n_jobs': -1\n",
    "    },\n",
    "    'OneSidedSelection': {\n",
    "        'sampling_strategy': [0.5, 0.7, 0.6, 0.8, 0.9, 'majority', 'not minority', 'not majority', 'all', 'auto'],\n",
    "        'n_seed_S':[1,5,10,20],\n",
    "        'n_jobs': -1,\n",
    "        'n_neighbors': [3, 5, 7],\n",
    "        'random_state': [42, 20, 30]\n",
    "    },\n",
    "    'InstanceHardnessThreshold': {\n",
    "        'estimator': XGBoost(**best_params),\n",
    "        'cv': [3, 5, 10],\n",
    "        'sampling_strategy': [0.5, 0.7, 0.6, 0.8, 0.9, 'majority', 'not minority', 'not majority', 'all', 'auto'],\n",
    "        'n_jobs': -1,        \n",
    "    }\n",
    "\n",
    "}"
   ]
  },
  {
   "cell_type": "code",
   "execution_count": null,
   "id": "b8a49bf1-6cd1-4e9f-96b7-a8c410903f72",
   "metadata": {},
   "outputs": [],
   "source": [
    "param_distribution_os = {\n",
    "    'RandomOverSampler': {\n",
    "        'sampling_strategy': [0.5, 0.7, 0.6, 0.8, 0.9, 'majority', 'not minority', 'not majority', 'all', 'auto'],\n",
    "        'random_state': [42],\n",
    "        'shrinkage': [0.1, 0.3, 0.5]\n",
    "    },\n",
    "    'SMOTE': {\n",
    "         'sampling_strategy': [0.5, 0.7, 0.6, 0.8, 0.9, 'majority', 'not minority', 'not majority', 'all', 'auto'],\n",
    "        'random_state': [42],\n",
    "        'k_neighbors': [2, 3, 5]\n",
    "    },\n",
    "    'SMOTENC': {\n",
    "        'sampling_strategy': [0.5, 0.7, 0.6, 0.8, 0.9, 'majority', 'not minority', 'not majority', 'all', 'auto'],\n",
    "        'random_state': [42],\n",
    "        'k_neighbors': [2, 3, 5],\n",
    "    },\n",
    "    'ADASYN': {\n",
    "        'sampling_strategy': [0.5, 0.7, 0.6, 0.8, 0.9, 'majority', 'not minority', 'not majority', 'all', 'auto'],\n",
    "         'random_state': [42],\n",
    "        'n_neighbors': [3, 5, 7]\n",
    "        \n",
    "    },\n",
    "    'BorderlineSMOTE': {\n",
    "        'sampling_strategy': [0.5, 0.7, 0.6, 0.8, 0.9, 'majority', 'not minority', 'not majority', 'all', 'auto'],\n",
    "        'random_state':[42],\n",
    "        'k_neighbors': [2, 3, 5],\n",
    "        'm_neighbors': [3, 5, 10, 15, 20],\n",
    "        'kind': ['borderline-1', 'borderline-2']       \n",
    "    },\n",
    "    'KMeansSMOTE': {\n",
    "        'sampling_strategy': [0.5, 0.7, 0.6, 0.8, 0.9, 'majority', 'not minority', 'not majority', 'all', 'auto'],\n",
    "        'random_state':[42, 10, 15],\n",
    "        'n_jobs': -1,\n",
    "        'k_neighbors': [2, 3, 5]\n",
    "    },\n",
    "    'SVMSMOTE': {\n",
    "        'sampling_strategy': [0.5, 0.7, 0.6, 0.8, 0.9, 'majority', 'not minority', 'not majority', 'all', 'auto'],\n",
    "        'random_state':[42, 10, 15],\n",
    "        'k_neighbors': [3, 5, 7, 10],\n",
    "        'm_neighbors': [3, 5, 10, 15],\n",
    "        # 'n_neighbors_ver3':[3, 5, 7],\n",
    "        # 'n_jobs': -1\n",
    "        'out_step': [0.3, 0.5, 0.7]\n",
    "    }\n",
    "}"
   ]
  },
  {
   "cell_type": "code",
   "execution_count": null,
   "id": "65535888-7abb-4cb0-96ae-901c514d7094",
   "metadata": {},
   "outputs": [],
   "source": [
    "param_distribution_mixed = {\n",
    "    'SMOTEENN': {\n",
    "        'sampling_strategy': [0.5, 0.7, 0.6, 0.8, 0.9, 'majority', 'not minority', 'not majority', 'all', 'auto'],\n",
    "        'random_state': [42],\n",
    "        'n_jobs': -1,\n",
    "        \n",
    "    },\n",
    "    'SMOTETomek': {\n",
    "         'sampling_strategy': [0.5, 0.7, 0.6, 0.8, 0.9, 'majority', 'not minority', 'not majority', 'all', 'auto'],\n",
    "        'random_state': [42],\n",
    "        'k_neighbors': [2, 3, 5]\n",
    "    }\n",
    "}"
   ]
  },
  {
   "cell_type": "code",
   "execution_count": 31,
   "id": "bb3f3c64-a1a7-4680-b587-d890c6267eca",
   "metadata": {},
   "outputs": [],
   "source": [
    "pipeline = {\n",
    "    'RandomUnderSampler': Pipeline([('sampler', RandomUnderSampler()),\n",
    "                                   ('classifier', RandomForestClassifier())]),\n",
    "    \n",
    "}"
   ]
  },
  {
   "cell_type": "code",
   "execution_count": 32,
   "id": "89150f73-5dd0-4b47-947e-997accfbe992",
   "metadata": {},
   "outputs": [
    {
     "name": "stdout",
     "output_type": "stream",
     "text": [
      "RandomUnderSampler\n",
      "Pipeline(steps=[('sampler', RandomUnderSampler()),\n",
      "                ('classifier', RandomForestClassifier())])\n"
     ]
    }
   ],
   "source": [
    "for technique, pipeline in pipeline.items():\n",
    "    print(technique)\n",
    "    print(pipeline)"
   ]
  },
  {
   "cell_type": "code",
   "execution_count": null,
   "id": "118a1868-b22f-4f7d-81bc-b8046704ade0",
   "metadata": {},
   "outputs": [],
   "source": [
    "best_params = {}\n",
    "best_score = {}\n",
    "\n",
    "for technique, pipeline in pipeline.items():\n",
    "    print(f\"technique:{technique}\")\n",
    "\n",
    "    rscv = RandomizedSearchCV(\n",
    "        pipeline,\n",
    "        param_distribution[technique],\n",
    "        n_iter=10,  # Number of parameter combinations to try\n",
    "        cv=5,       # 5-fold cross-validation\n",
    "        scoring='f1',  # Metric to optimize (F1 score for binary classification)\n",
    "        verbose=2,   # Print progress\n",
    "        random_state=42,\n",
    "        n_jobs=-1    # Use all available cores\n",
    "    )\n",
    "    rscv.fit(X_train, y_train)\n",
    "\n",
    "    best_params[technique] = rscv.best_params_\n",
    "    best_score[technique] = rscv.best_score_\n",
    "\n",
    "    print(f\"best parameters: {technique} : {best_params[technique]}\")\n",
    "    print(f\"best scores: {technique} : {best_score[technique]}\")\n",
    "    print('#'*30)"
   ]
  },
  {
   "cell_type": "markdown",
   "id": "b18b2ae6-dae4-46b4-a8be-9a7d75702fdb",
   "metadata": {},
   "source": [
    "### DECORATORS"
   ]
  },
  {
   "cell_type": "code",
   "execution_count": 3,
   "id": "19c394a4-a56f-4e00-b597-06ae6aa1c6bb",
   "metadata": {},
   "outputs": [
    {
     "name": "stdout",
     "output_type": "stream",
     "text": [
      "I got decorated\n",
      "I am ordinary\n"
     ]
    }
   ],
   "source": [
    "def make_pretty(func): # decorator function\n",
    "    def inner():\n",
    "        print('I got decorated')\n",
    "        func()\n",
    "    return inner\n",
    "\n",
    "def ordinary():\n",
    "    print('I am ordinary')\n",
    "\n",
    "decorated_func = make_pretty(ordinary)\n",
    "decorated_func()"
   ]
  },
  {
   "cell_type": "code",
   "execution_count": 6,
   "id": "14c087f5-f3bb-4e8e-92b2-2c5c0cbd5c9f",
   "metadata": {},
   "outputs": [
    {
     "name": "stdout",
     "output_type": "stream",
     "text": [
      "make_pretty(inner): I am here no worries!!\n",
      "ordinary: I am ordinary need some extrnal energy, please help someone!!\n"
     ]
    }
   ],
   "source": [
    "def make_pretty(func): # decorator function\n",
    "    def inner():\n",
    "        print(f\"make_pretty(inner): I am here no worries!!\")\n",
    "        func()\n",
    "    return inner\n",
    "\n",
    "@make_pretty\n",
    "def ordinary():\n",
    "    print(f\"ordinary: I am ordinary need some extrnal energy, please help someone!!\")\n",
    "\n",
    "ordinary()"
   ]
  },
  {
   "cell_type": "code",
   "execution_count": 17,
   "id": "86704e37-6dcf-4d91-8070-8108db2192cc",
   "metadata": {},
   "outputs": [],
   "source": [
    "def smart_devide(func): #decorator\n",
    "    def inner(x, y):\n",
    "        print(\"I am going to divide\", x ,\" and \", y)\n",
    "        if y == 0:\n",
    "            print(\"Whopps! can not devide, sorry...\")\n",
    "            return\n",
    "        return func(x, y)\n",
    "    return inner\n",
    "    "
   ]
  },
  {
   "cell_type": "code",
   "execution_count": 18,
   "id": "528931a0-37b5-4f85-8f18-4353ddfadc95",
   "metadata": {},
   "outputs": [],
   "source": [
    "@smart_devide\n",
    "def divide(a, b):\n",
    "    print(a/b)"
   ]
  },
  {
   "cell_type": "code",
   "execution_count": 19,
   "id": "558bcbfc-e77d-4b99-b8fe-c6aefe973b23",
   "metadata": {},
   "outputs": [
    {
     "name": "stdout",
     "output_type": "stream",
     "text": [
      "I am going to divide 2  and  5\n",
      "0.4\n"
     ]
    }
   ],
   "source": [
    "divide(2,5)"
   ]
  },
  {
   "cell_type": "code",
   "execution_count": 24,
   "id": "711de7bb-0fc5-4df7-83ab-f153cb1f288d",
   "metadata": {},
   "outputs": [
    {
     "name": "stdout",
     "output_type": "stream",
     "text": [
      "***************\n",
      "%%%%%%%%%%%%%%%\n",
      "hello\n",
      "%%%%%%%%%%%%%%%\n",
      "***************\n"
     ]
    }
   ],
   "source": [
    "# chaining decorators\n",
    "def star(func):\n",
    "    def inner(*args, **kwargs):\n",
    "        print('*'*15)\n",
    "        func(*args, **kwargs)\n",
    "        print('*'*15)\n",
    "    return inner\n",
    "\n",
    "def percent(func):\n",
    "    def inner(*args, **kwargs):\n",
    "        print('%'*15)\n",
    "        print(*args, **kwargs)\n",
    "        print('%'*15)\n",
    "    return inner\n",
    "\n",
    "@star\n",
    "@percent\n",
    "def printer(msg):\n",
    "    print(msg)\n",
    "    \n",
    "printer('hello')"
   ]
  },
  {
   "cell_type": "markdown",
   "id": "93fe8a89-7c79-4261-82a6-d903c179e308",
   "metadata": {},
   "source": [
    "### private methods in class"
   ]
  },
  {
   "cell_type": "code",
   "execution_count": 38,
   "id": "808d1b6c-b5d2-4efb-a315-c30a27be9a81",
   "metadata": {},
   "outputs": [],
   "source": [
    "class Base:\n",
    "    def fun(self):\n",
    "        print(\"public method\")\n",
    "    def __fun(self):\n",
    "        print(\"Private method\")\n",
    "        \n",
    "    def help(self):\n",
    "        self.__fun()\n",
    "\n",
    "class Derived(Base):\n",
    "    def __init__(self):\n",
    "        # calling constructor of base class\n",
    "        Base.__init__(self)\n",
    "        \n",
    "    def call_public(self):\n",
    "        print(\"\\n Inside derived class\")\n",
    "        self.fun()\n",
    "        \n",
    "    def call_private(self):\n",
    "        self.__func()"
   ]
  },
  {
   "cell_type": "code",
   "execution_count": 39,
   "id": "b7d853bc-5e5f-4ff5-ba3a-c77397f7daf8",
   "metadata": {},
   "outputs": [
    {
     "name": "stdout",
     "output_type": "stream",
     "text": [
      "public method\n",
      "Private method\n"
     ]
    }
   ],
   "source": [
    "obj1 = Base()\n",
    "\n",
    "obj1.fun()\n",
    "obj1.help()\n",
    "obj2 = Derived()\n",
    "\n"
   ]
  },
  {
   "cell_type": "markdown",
   "id": "db440cbe-7818-4b75-bf53-319ecbaac46d",
   "metadata": {},
   "source": [
    "## hstack vstack"
   ]
  },
  {
   "cell_type": "code",
   "execution_count": 53,
   "id": "18e8d380-348c-4181-9b1a-50083f1c9a62",
   "metadata": {},
   "outputs": [],
   "source": [
    "import numpy as np"
   ]
  },
  {
   "cell_type": "code",
   "execution_count": 54,
   "id": "f55b9a3e-cccc-4266-acde-9ac80bca5e3b",
   "metadata": {},
   "outputs": [],
   "source": [
    "y_train = np.array([0, 1, 0, 1])\n",
    "y_synthetic = np.array([1, 0, 1, 0])"
   ]
  },
  {
   "cell_type": "code",
   "execution_count": 62,
   "id": "32297e80-5298-4f35-beb1-fe122a8230dd",
   "metadata": {},
   "outputs": [
    {
     "name": "stdout",
     "output_type": "stream",
     "text": [
      "[0 1 0 1 1 0 1 0]\n"
     ]
    }
   ],
   "source": [
    "y = np.hstack([y_train, y_synthetic])\n",
    "print(y)"
   ]
  },
  {
   "cell_type": "code",
   "execution_count": 58,
   "id": "24ffc44b-3151-4780-b20d-e58904403873",
   "metadata": {},
   "outputs": [],
   "source": [
    "y = pd.Series(y)"
   ]
  },
  {
   "cell_type": "code",
   "execution_count": 59,
   "id": "56319d7e-b6f6-466c-acdd-c06693003af5",
   "metadata": {},
   "outputs": [
    {
     "name": "stdout",
     "output_type": "stream",
     "text": [
      "0    0\n",
      "1    1\n",
      "2    0\n",
      "3    1\n",
      "4    1\n",
      "5    0\n",
      "6    1\n",
      "7    0\n",
      "dtype: int64\n"
     ]
    }
   ],
   "source": [
    "print(y)"
   ]
  },
  {
   "cell_type": "code",
   "execution_count": null,
   "id": "8aded09f-22b2-41cf-99fb-030c8f2405ce",
   "metadata": {},
   "outputs": [],
   "source": []
  }
 ],
 "metadata": {
  "kernelspec": {
   "display_name": "Python 3 (ipykernel)",
   "language": "python",
   "name": "python3"
  },
  "language_info": {
   "codemirror_mode": {
    "name": "ipython",
    "version": 3
   },
   "file_extension": ".py",
   "mimetype": "text/x-python",
   "name": "python",
   "nbconvert_exporter": "python",
   "pygments_lexer": "ipython3",
   "version": "3.10.0"
  }
 },
 "nbformat": 4,
 "nbformat_minor": 5
}
