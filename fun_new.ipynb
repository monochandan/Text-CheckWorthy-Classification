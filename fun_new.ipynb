{
 "cells": [
  {
   "cell_type": "code",
   "execution_count": 4,
   "id": "733f4e03-ceec-4e4c-8a8c-e95eaa8c7eba",
   "metadata": {},
   "outputs": [],
   "source": [
    "import numpy as np"
   ]
  },
  {
   "cell_type": "code",
   "execution_count": 2,
   "id": "063e460d-c5f1-40d5-a620-73e4c4e1a925",
   "metadata": {},
   "outputs": [],
   "source": [
    "a = 127\n",
    "b = 127"
   ]
  },
  {
   "cell_type": "code",
   "execution_count": 3,
   "id": "f05f6c57-788d-4778-87cd-a9714ee23041",
   "metadata": {},
   "outputs": [
    {
     "data": {
      "text/plain": [
       "int"
      ]
     },
     "execution_count": 3,
     "metadata": {},
     "output_type": "execute_result"
    }
   ],
   "source": [
    "type(a)"
   ]
  },
  {
   "cell_type": "code",
   "execution_count": 5,
   "id": "4b9ed3a0-84cc-4ad6-982a-0ea3227ea971",
   "metadata": {},
   "outputs": [
    {
     "name": "stdout",
     "output_type": "stream",
     "text": [
      "[0 1 2 3 4 5 6 7 8 9]\n"
     ]
    }
   ],
   "source": [
    "a = np.arange(10)\n",
    "print(a)"
   ]
  },
  {
   "cell_type": "code",
   "execution_count": 6,
   "id": "762ca757-d71d-4ef8-82ac-9daa30a82c5a",
   "metadata": {},
   "outputs": [
    {
     "data": {
      "text/plain": [
       "array([1, 1, 2, 3, 4, 5, 6, 7, 8, 8])"
      ]
     },
     "execution_count": 6,
     "metadata": {},
     "output_type": "execute_result"
    }
   ],
   "source": [
    "np.clip(a, 1, 8)"
   ]
  },
  {
   "cell_type": "code",
   "execution_count": 12,
   "id": "225a9aae-b977-403d-acf1-95be59545af3",
   "metadata": {},
   "outputs": [],
   "source": [
    "from functools import partial\n",
    "def greater_than(a, b):\n",
    "    return a>b\n",
    "    \n",
    "def make_comparator(n):\n",
    "    return lambda a: a > n\n"
   ]
  },
  {
   "cell_type": "code",
   "execution_count": 19,
   "id": "e5b985b5-d712-48e7-8470-5c5ecc0f35f3",
   "metadata": {},
   "outputs": [
    {
     "name": "stdout",
     "output_type": "stream",
     "text": [
      "False\n",
      "True\n",
      "True\n"
     ]
    }
   ],
   "source": [
    "\n",
    "# greater_than_20 = make_comparator(20)\n",
    "\n",
    "# print(greater_than_20(10))\n",
    "# print(greater_than_20(20))\n",
    "# print(greater_than_20(40))\n",
    "\n",
    "greater_than_20 = partial(greater_than, b=20)\n",
    "print(greater_than_20(10))\n",
    "print(greater_than_20(30))\n",
    "print(greater_than_20(40))"
   ]
  },
  {
   "cell_type": "markdown",
   "id": "48baaf0a",
   "metadata": {},
   "source": [
    "### STATIC TYPE IN PYTHON\n",
    "- Catch error before execute"
   ]
  },
  {
   "cell_type": "code",
   "execution_count": 1,
   "id": "fa1012c6-a8f0-4680-9859-24a52c299c6c",
   "metadata": {},
   "outputs": [
    {
     "name": "stdout",
     "output_type": "stream",
     "text": [
      "<class 'str'>\n"
     ]
    }
   ],
   "source": [
    "president = \"Franklin\"\n",
    "print(type(president))"
   ]
  },
  {
   "cell_type": "code",
   "execution_count": 11,
   "id": "2520c10f",
   "metadata": {},
   "outputs": [
    {
     "ename": "AttributeError",
     "evalue": "'dict' object has no attribute 'split'",
     "output_type": "error",
     "traceback": [
      "\u001b[1;31m---------------------------------------------------------------------------\u001b[0m",
      "\u001b[1;31mAttributeError\u001b[0m                            Traceback (most recent call last)",
      "Input \u001b[1;32mIn [11]\u001b[0m, in \u001b[0;36m<cell line: 12>\u001b[1;34m()\u001b[0m\n\u001b[0;32m     10\u001b[0m last_name \u001b[38;5;241m=\u001b[39m \u001b[38;5;28minput\u001b[39m(\u001b[38;5;124m\"\u001b[39m\u001b[38;5;124mEnter your last name:\u001b[39m\u001b[38;5;124m\"\u001b[39m)\n\u001b[0;32m     12\u001b[0m \u001b[38;5;28;01mif\u001b[39;00m \u001b[38;5;129;01mnot\u001b[39;00m first_name:\n\u001b[1;32m---> 13\u001b[0m     first_name \u001b[38;5;241m=\u001b[39m \u001b[43mget_first_name\u001b[49m\u001b[43m(\u001b[49m\u001b[43mfallback_name\u001b[49m\u001b[43m)\u001b[49m\n\u001b[0;32m     15\u001b[0m \u001b[38;5;28mprint\u001b[39m(\u001b[38;5;124mf\u001b[39m\u001b[38;5;124m\"\u001b[39m\u001b[38;5;124mHi, \u001b[39m\u001b[38;5;132;01m{\u001b[39;00mfirst_name\u001b[38;5;132;01m}\u001b[39;00m\u001b[38;5;124m\"\u001b[39m)\n\u001b[0;32m     17\u001b[0m \u001b[38;5;124;03m\"\"\"\u001b[39;00m\n\u001b[0;32m     18\u001b[0m \u001b[38;5;124;03mIf I dont pass the string:\u001b[39;00m\n\u001b[0;32m     19\u001b[0m \u001b[38;5;124;03mAttributeError: 'dict' object has no attribute 'split'\u001b[39;00m\n\u001b[0;32m     20\u001b[0m \u001b[38;5;124;03m\"\"\"\u001b[39;00m\n",
      "Input \u001b[1;32mIn [11]\u001b[0m, in \u001b[0;36mget_first_name\u001b[1;34m(full_name)\u001b[0m\n\u001b[0;32m      1\u001b[0m \u001b[38;5;28;01mdef\u001b[39;00m \u001b[38;5;21mget_first_name\u001b[39m(full_name):\n\u001b[1;32m----> 2\u001b[0m     \u001b[38;5;28;01mreturn\u001b[39;00m \u001b[43mfull_name\u001b[49m\u001b[38;5;241;43m.\u001b[39;49m\u001b[43msplit\u001b[49m(\u001b[38;5;124m\"\u001b[39m\u001b[38;5;124m \u001b[39m\u001b[38;5;124m\"\u001b[39m)[\u001b[38;5;241m0\u001b[39m]\n",
      "\u001b[1;31mAttributeError\u001b[0m: 'dict' object has no attribute 'split'"
     ]
    }
   ],
   "source": [
    "def get_first_name(full_name):\n",
    "    return full_name.split(\" \")[0]\n",
    "\n",
    "fallback_name = {\n",
    "    \"first_name\": \"UserFirstName\",\n",
    "    \"last_name\": \"UserLastName\"\n",
    "}\n",
    "\n",
    "first_name = input(\"Enter your name:\")\n",
    "last_name = input(\"Enter your last name:\")\n",
    "\n",
    "if not first_name:\n",
    "    first_name = get_first_name(fallback_name)\n",
    "\n",
    "print(f\"Hi, {first_name}\")\n",
    "\n",
    "\"\"\"\n",
    "If I dont pass the string:\n",
    "AttributeError: 'dict' object has no attribute 'split'\n",
    "\"\"\""
   ]
  },
  {
   "cell_type": "code",
   "execution_count": 10,
   "id": "1d4a394e",
   "metadata": {},
   "outputs": [
    {
     "ename": "AttributeError",
     "evalue": "'dict' object has no attribute 'split'",
     "output_type": "error",
     "traceback": [
      "\u001b[1;31m---------------------------------------------------------------------------\u001b[0m",
      "\u001b[1;31mAttributeError\u001b[0m                            Traceback (most recent call last)",
      "Input \u001b[1;32mIn [10]\u001b[0m, in \u001b[0;36m<cell line: 15>\u001b[1;34m()\u001b[0m\n\u001b[0;32m     14\u001b[0m \u001b[38;5;66;03m# if row_name is empty, first\u001b[39;00m\n\u001b[0;32m     15\u001b[0m \u001b[38;5;28;01mif\u001b[39;00m \u001b[38;5;129;01mnot\u001b[39;00m first_name:\n\u001b[1;32m---> 16\u001b[0m     first_name \u001b[38;5;241m=\u001b[39m \u001b[43mget_first_name\u001b[49m\u001b[43m(\u001b[49m\u001b[43mfallback_name\u001b[49m\u001b[43m)\u001b[49m\n\u001b[0;32m     18\u001b[0m \u001b[38;5;28mprint\u001b[39m(\u001b[38;5;124mf\u001b[39m\u001b[38;5;124m\"\u001b[39m\u001b[38;5;124mHi, \u001b[39m\u001b[38;5;132;01m{\u001b[39;00mfirst_name\u001b[38;5;132;01m}\u001b[39;00m\u001b[38;5;124m\"\u001b[39m)\n",
      "Input \u001b[1;32mIn [10]\u001b[0m, in \u001b[0;36mget_first_name\u001b[1;34m(full_name)\u001b[0m\n\u001b[0;32m      3\u001b[0m \u001b[38;5;28;01mdef\u001b[39;00m \u001b[38;5;21mget_first_name\u001b[39m(full_name: \u001b[38;5;28mstr\u001b[39m) \u001b[38;5;241m-\u001b[39m\u001b[38;5;241m>\u001b[39m \u001b[38;5;28mstr\u001b[39m:\n\u001b[1;32m----> 4\u001b[0m     \u001b[38;5;28;01mreturn\u001b[39;00m \u001b[43mfull_name\u001b[49m\u001b[38;5;241;43m.\u001b[39;49m\u001b[43msplit\u001b[49m(\u001b[38;5;124m\"\u001b[39m\u001b[38;5;124m \u001b[39m\u001b[38;5;124m\"\u001b[39m)[\u001b[38;5;241m0\u001b[39m]\n",
      "\u001b[1;31mAttributeError\u001b[0m: 'dict' object has no attribute 'split'"
     ]
    }
   ],
   "source": [
    "from typing import Dict\n",
    "\n",
    "def get_first_name(full_name: str) -> str:\n",
    "    return full_name.split(\" \")[0]\n",
    "\n",
    "fallback_name: Dict[str, str] = {\n",
    "    \"first_name\": \"UserFirstName\",\n",
    "    \"last_name\": \"UserLastName\"\n",
    "}\n",
    "\n",
    "row_name: str = input(\"Enter your name: \")\n",
    "first_name: str = get_first_name(row_name)\n",
    "\n",
    "# if row_name is empty, first\n",
    "if not first_name:\n",
    "    first_name = get_first_name(fallback_name)\n",
    "\n",
    "print(f\"Hi, {first_name}\")"
   ]
  },
  {
   "cell_type": "code",
   "execution_count": null,
   "id": "2100e31b",
   "metadata": {},
   "outputs": [],
   "source": [
    "from typing import Dict, List, Tuple\n",
    "\n",
    "# dictionary with string keys and integer values\n",
    "name_counts: Dict[str, str] = {\n",
    "    \"Adam\": 10,\n",
    "    \"Guido\": 12\n",
    "}\n",
    "\n",
    "# list with integer values\n",
    "numbers: List[int] = [1, 2, 3, 4, 5, 6]\n",
    "\n",
    "# list of dictionarys with string keys and integer values\n",
    "list_of_dicts: List[Dict[str, int]] = [\n",
    "    {\"key\":1},\n",
    "    {\"key2\":2}\n",
    "]\n",
    "# tuple with string, integer and float values\n",
    "my_data: Tuple[str, int, float] = (\"string\", 1, 2.30)\n"
   ]
  },
  {
   "cell_type": "code",
   "execution_count": 12,
   "id": "e6b2d3a4",
   "metadata": {},
   "outputs": [
    {
     "name": "stdout",
     "output_type": "stream",
     "text": [
      "[(25.91375, -60.15503), (-11.01983, -166.48477), (-11.01983, -166.48477)]\n"
     ]
    }
   ],
   "source": [
    "from typing import List, Tuple\n",
    "\n",
    "LatLongVector = List[Tuple[float, float]]\n",
    "\n",
    "points: LatLongVector=[\n",
    "    (25.91375, -60.15503),\n",
    "    (-11.01983, -166.48477),\n",
    "    (-11.01983, -166.48477)\n",
    "]\n",
    "\n",
    "print(points)"
   ]
  },
  {
   "cell_type": "code",
   "execution_count": null,
   "id": "79f60c9b",
   "metadata": {},
   "outputs": [],
   "source": [
    "# Union type -  to declare a function that can accept multiple types\n",
    "# Any - to accept anything"
   ]
  },
  {
   "cell_type": "code",
   "execution_count": 14,
   "id": "a852fd13",
   "metadata": {},
   "outputs": [],
   "source": [
    "# !pip freeze\n",
    "# !pip install mypy-ipython\n"
   ]
  },
  {
   "cell_type": "code",
   "execution_count": 16,
   "id": "d4e70128",
   "metadata": {},
   "outputs": [],
   "source": [
    "# %load_ext mypy_ipython"
   ]
  },
  {
   "cell_type": "code",
   "execution_count": 11,
   "id": "d5a7ef1b",
   "metadata": {},
   "outputs": [
    {
     "name": "stderr",
     "output_type": "stream",
     "text": [
      "UsageError: Cell magic `%%mypy` not found.\n"
     ]
    }
   ],
   "source": [
    "%%mypy\n",
    "def greeting(name: str) -> str:\n",
    "    return 'Hello ' + name\n",
    "\n",
    "greeting(1234)"
   ]
  },
  {
   "cell_type": "code",
   "execution_count": 17,
   "id": "0dec7088",
   "metadata": {},
   "outputs": [],
   "source": [
    "# https://mypy.readthedocs.io/en/stable/error_code_list.html"
   ]
  },
  {
   "cell_type": "code",
   "execution_count": null,
   "id": "8a4d4a27",
   "metadata": {},
   "outputs": [],
   "source": []
  }
 ],
 "metadata": {
  "kernelspec": {
   "display_name": "master_thesis",
   "language": "python",
   "name": "python3"
  },
  "language_info": {
   "codemirror_mode": {
    "name": "ipython",
    "version": 3
   },
   "file_extension": ".py",
   "mimetype": "text/x-python",
   "name": "python",
   "nbconvert_exporter": "python",
   "pygments_lexer": "ipython3",
   "version": "3.10.0"
  }
 },
 "nbformat": 4,
 "nbformat_minor": 5
}
