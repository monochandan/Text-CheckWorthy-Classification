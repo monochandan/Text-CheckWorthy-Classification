{
 "cells": [
  {
   "cell_type": "code",
   "execution_count": 32,
   "id": "2b407dad-958a-44cd-8bda-123bef01fe2d",
   "metadata": {},
   "outputs": [],
   "source": [
    "from transformers import AutoTokenizer\n",
    "from transformers import AutoModel\n",
    "import torch\n",
    "import numpy as np"
   ]
  },
  {
   "cell_type": "code",
   "execution_count": 2,
   "id": "57bd6847-7ff6-43f8-abae-77f885936b85",
   "metadata": {},
   "outputs": [],
   "source": [
    "claims = [\n",
    "    \"The COVID-19 vaccine is 95% effective.\",  # Positive (1)\n",
    "    \"The sun rises in the west.\",              # Negative (0)\n",
    "    \"Global warming is accelerating rapidly.\", # Positive (1)\n",
    "    \"Cats are mammals.\",                       # Negative (0)\n",
    "]\n",
    "labels = [1, 0, 1, 0]"
   ]
  },
  {
   "cell_type": "code",
   "execution_count": 5,
   "id": "4d41d366-9b9c-412a-a976-e8218709faa6",
   "metadata": {},
   "outputs": [
    {
     "data": {
      "application/vnd.jupyter.widget-view+json": {
       "model_id": "52a813ab06b64405b671d6c9536af3ad",
       "version_major": 2,
       "version_minor": 0
      },
      "text/plain": [
       "tokenizer_config.json:   0%|          | 0.00/48.0 [00:00<?, ?B/s]"
      ]
     },
     "metadata": {},
     "output_type": "display_data"
    },
    {
     "name": "stderr",
     "output_type": "stream",
     "text": [
      "C:\\Users\\looka\\OneDrive\\Documents\\Thesis\\master_thesis\\lib\\site-packages\\huggingface_hub\\file_download.py:139: UserWarning: `huggingface_hub` cache-system uses symlinks by default to efficiently store duplicated files but your machine does not support them in C:\\Users\\looka\\.cache\\huggingface\\hub\\models--bert-base-uncased. Caching files will still work but in a degraded version that might require more space on your disk. This warning can be disabled by setting the `HF_HUB_DISABLE_SYMLINKS_WARNING` environment variable. For more details, see https://huggingface.co/docs/huggingface_hub/how-to-cache#limitations.\n",
      "To support symlinks on Windows, you either need to activate Developer Mode or to run Python as an administrator. In order to activate developer mode, see this article: https://docs.microsoft.com/en-us/windows/apps/get-started/enable-your-device-for-development\n",
      "  warnings.warn(message)\n"
     ]
    },
    {
     "data": {
      "application/vnd.jupyter.widget-view+json": {
       "model_id": "391d48c95c594e4d8abbee302fa7a0b1",
       "version_major": 2,
       "version_minor": 0
      },
      "text/plain": [
       "config.json:   0%|          | 0.00/570 [00:00<?, ?B/s]"
      ]
     },
     "metadata": {},
     "output_type": "display_data"
    },
    {
     "data": {
      "application/vnd.jupyter.widget-view+json": {
       "model_id": "3f69069696c442f6bf24cb6d66d3510d",
       "version_major": 2,
       "version_minor": 0
      },
      "text/plain": [
       "vocab.txt:   0%|          | 0.00/232k [00:00<?, ?B/s]"
      ]
     },
     "metadata": {},
     "output_type": "display_data"
    },
    {
     "data": {
      "application/vnd.jupyter.widget-view+json": {
       "model_id": "81e1ee446ec84fe9b5c1fbff25aebc1f",
       "version_major": 2,
       "version_minor": 0
      },
      "text/plain": [
       "tokenizer.json:   0%|          | 0.00/466k [00:00<?, ?B/s]"
      ]
     },
     "metadata": {},
     "output_type": "display_data"
    }
   ],
   "source": [
    "tokenizer = AutoTokenizer.from_pretrained(\"bert-base-uncased\")"
   ]
  },
  {
   "cell_type": "code",
   "execution_count": 6,
   "id": "2b9ffb89-be37-4755-af8c-3e10aac3b906",
   "metadata": {},
   "outputs": [],
   "source": [
    "text = \"This is a check-worthy claims.\""
   ]
  },
  {
   "cell_type": "code",
   "execution_count": 11,
   "id": "68515ebd-ad73-4115-b35d-5d7790ffa430",
   "metadata": {},
   "outputs": [],
   "source": [
    "inputs = tokenizer(text, return_tensors=\"pt\", max_length=128, truncation=True, padding=\"max_length\")\n"
   ]
  },
  {
   "cell_type": "code",
   "execution_count": 12,
   "id": "cb52954e-1249-4156-8e44-da7e19c6678f",
   "metadata": {},
   "outputs": [
    {
     "name": "stdout",
     "output_type": "stream",
     "text": [
      "['_MutableMapping__marker', '__abstractmethods__', '__class__', '__class_getitem__', '__contains__', '__copy__', '__delattr__', '__delitem__', '__dict__', '__dir__', '__doc__', '__eq__', '__format__', '__ge__', '__getattr__', '__getattribute__', '__getitem__', '__getstate__', '__gt__', '__hash__', '__init__', '__init_subclass__', '__ior__', '__iter__', '__le__', '__len__', '__lt__', '__module__', '__ne__', '__new__', '__or__', '__reduce__', '__reduce_ex__', '__repr__', '__reversed__', '__ror__', '__setattr__', '__setitem__', '__setstate__', '__sizeof__', '__slots__', '__str__', '__subclasshook__', '__weakref__', '_abc_impl', '_encodings', '_n_sequences', 'char_to_token', 'char_to_word', 'clear', 'convert_to_tensors', 'copy', 'data', 'encodings', 'fromkeys', 'get', 'is_fast', 'items', 'keys', 'n_sequences', 'pop', 'popitem', 'sequence_ids', 'setdefault', 'to', 'token_to_chars', 'token_to_sequence', 'token_to_word', 'tokens', 'update', 'values', 'word_ids', 'word_to_chars', 'word_to_tokens', 'words']\n"
     ]
    }
   ],
   "source": [
    "print(dir(inputs))"
   ]
  },
  {
   "cell_type": "code",
   "execution_count": 15,
   "id": "0174dd3c-d152-4eab-a1f2-9a0ff8a3fae1",
   "metadata": {},
   "outputs": [
    {
     "data": {
      "text/plain": [
       "<bound method BatchEncoding.words of {'input_ids': tensor([[  101,  2023,  2003,  1037,  4638,  1011, 11007,  4447,  1012,   102,\n",
       "             0,     0,     0,     0,     0,     0,     0,     0,     0,     0,\n",
       "             0,     0,     0,     0,     0,     0,     0,     0,     0,     0,\n",
       "             0,     0,     0,     0,     0,     0,     0,     0,     0,     0,\n",
       "             0,     0,     0,     0,     0,     0,     0,     0,     0,     0,\n",
       "             0,     0,     0,     0,     0,     0,     0,     0,     0,     0,\n",
       "             0,     0,     0,     0,     0,     0,     0,     0,     0,     0,\n",
       "             0,     0,     0,     0,     0,     0,     0,     0,     0,     0,\n",
       "             0,     0,     0,     0,     0,     0,     0,     0,     0,     0,\n",
       "             0,     0,     0,     0,     0,     0,     0,     0,     0,     0,\n",
       "             0,     0,     0,     0,     0,     0,     0,     0,     0,     0,\n",
       "             0,     0,     0,     0,     0,     0,     0,     0,     0,     0,\n",
       "             0,     0,     0,     0,     0,     0,     0,     0]]), 'token_type_ids': tensor([[0, 0, 0, 0, 0, 0, 0, 0, 0, 0, 0, 0, 0, 0, 0, 0, 0, 0, 0, 0, 0, 0, 0, 0,\n",
       "         0, 0, 0, 0, 0, 0, 0, 0, 0, 0, 0, 0, 0, 0, 0, 0, 0, 0, 0, 0, 0, 0, 0, 0,\n",
       "         0, 0, 0, 0, 0, 0, 0, 0, 0, 0, 0, 0, 0, 0, 0, 0, 0, 0, 0, 0, 0, 0, 0, 0,\n",
       "         0, 0, 0, 0, 0, 0, 0, 0, 0, 0, 0, 0, 0, 0, 0, 0, 0, 0, 0, 0, 0, 0, 0, 0,\n",
       "         0, 0, 0, 0, 0, 0, 0, 0, 0, 0, 0, 0, 0, 0, 0, 0, 0, 0, 0, 0, 0, 0, 0, 0,\n",
       "         0, 0, 0, 0, 0, 0, 0, 0]]), 'attention_mask': tensor([[1, 1, 1, 1, 1, 1, 1, 1, 1, 1, 0, 0, 0, 0, 0, 0, 0, 0, 0, 0, 0, 0, 0, 0,\n",
       "         0, 0, 0, 0, 0, 0, 0, 0, 0, 0, 0, 0, 0, 0, 0, 0, 0, 0, 0, 0, 0, 0, 0, 0,\n",
       "         0, 0, 0, 0, 0, 0, 0, 0, 0, 0, 0, 0, 0, 0, 0, 0, 0, 0, 0, 0, 0, 0, 0, 0,\n",
       "         0, 0, 0, 0, 0, 0, 0, 0, 0, 0, 0, 0, 0, 0, 0, 0, 0, 0, 0, 0, 0, 0, 0, 0,\n",
       "         0, 0, 0, 0, 0, 0, 0, 0, 0, 0, 0, 0, 0, 0, 0, 0, 0, 0, 0, 0, 0, 0, 0, 0,\n",
       "         0, 0, 0, 0, 0, 0, 0, 0]])}>"
      ]
     },
     "execution_count": 15,
     "metadata": {},
     "output_type": "execute_result"
    }
   ],
   "source": [
    "inputs.words"
   ]
  },
  {
   "cell_type": "code",
   "execution_count": 17,
   "id": "0d52f524-b63e-4c20-9eba-9c62264188f6",
   "metadata": {},
   "outputs": [
    {
     "data": {
      "application/vnd.jupyter.widget-view+json": {
       "model_id": "2f13f9c955174a22ab43efa45e28a9f5",
       "version_major": 2,
       "version_minor": 0
      },
      "text/plain": [
       "model.safetensors:   0%|          | 0.00/440M [00:00<?, ?B/s]"
      ]
     },
     "metadata": {},
     "output_type": "display_data"
    }
   ],
   "source": [
    "model = AutoModel.from_pretrained(\"bert-base-uncased\")"
   ]
  },
  {
   "cell_type": "code",
   "execution_count": 18,
   "id": "8beaa9c4-6e77-42af-89b6-14d3f8ec480c",
   "metadata": {},
   "outputs": [],
   "source": [
    "outputs = model(**inputs)"
   ]
  },
  {
   "cell_type": "code",
   "execution_count": 20,
   "id": "b253f181-aaa3-4fbe-8db2-bef6a4d3ae64",
   "metadata": {},
   "outputs": [
    {
     "name": "stdout",
     "output_type": "stream",
     "text": [
      "['__annotations__', '__class__', '__class_getitem__', '__contains__', '__dataclass_fields__', '__dataclass_params__', '__delattr__', '__delitem__', '__dict__', '__dir__', '__doc__', '__eq__', '__format__', '__ge__', '__getattribute__', '__getitem__', '__gt__', '__hash__', '__init__', '__init_subclass__', '__ior__', '__iter__', '__le__', '__len__', '__lt__', '__match_args__', '__module__', '__ne__', '__new__', '__or__', '__post_init__', '__reduce__', '__reduce_ex__', '__repr__', '__reversed__', '__ror__', '__setattr__', '__setitem__', '__sizeof__', '__str__', '__subclasshook__', 'attentions', 'clear', 'copy', 'cross_attentions', 'fromkeys', 'get', 'hidden_states', 'items', 'keys', 'last_hidden_state', 'move_to_end', 'past_key_values', 'pooler_output', 'pop', 'popitem', 'setdefault', 'to_tuple', 'update', 'values']\n"
     ]
    }
   ],
   "source": [
    "print(dir(outputs))"
   ]
  },
  {
   "cell_type": "code",
   "execution_count": 24,
   "id": "802f70e8-13ec-43de-8896-5aa0d301b2ec",
   "metadata": {},
   "outputs": [
    {
     "data": {
      "text/plain": [
       "tensor([[[ 0.0730,  0.2082,  0.0338,  ..., -0.1317,  0.1904,  0.4111],\n",
       "         [-0.0927,  0.0700,  0.1076,  ..., -0.2908,  0.8230,  0.2622],\n",
       "         [-0.0639, -0.2738,  0.2560,  ..., -0.1699,  0.4539,  1.0347],\n",
       "         ...,\n",
       "         [ 0.4896,  0.2103,  0.5174,  ...,  0.0960,  0.0387, -0.0320],\n",
       "         [ 0.2743, -0.0257,  0.4728,  ...,  0.2218,  0.0713, -0.0612],\n",
       "         [ 0.2097,  0.0261,  0.5128,  ...,  0.1832, -0.0424, -0.1300]]],\n",
       "       grad_fn=<NativeLayerNormBackward0>)"
      ]
     },
     "execution_count": 24,
     "metadata": {},
     "output_type": "execute_result"
    }
   ],
   "source": [
    "outputs.last_hidden_state"
   ]
  },
  {
   "cell_type": "code",
   "execution_count": 23,
   "id": "854eacc9-a372-4fb9-8704-6d030f6e9e3d",
   "metadata": {},
   "outputs": [],
   "source": [
    "embeddings = outputs.last_hidden_state"
   ]
  },
  {
   "cell_type": "code",
   "execution_count": 25,
   "id": "f399a735-e1e4-4189-b87e-4295d4c9ae7d",
   "metadata": {},
   "outputs": [],
   "source": [
    "sentence_embedding = embeddings[:, 0, :]"
   ]
  },
  {
   "cell_type": "code",
   "execution_count": 29,
   "id": "72b43696-b499-4e87-b1b1-62cc75c417af",
   "metadata": {},
   "outputs": [],
   "source": [
    "sentence_embedding_mean = torch.mean(embeddings, dim = 1)"
   ]
  },
  {
   "cell_type": "code",
   "execution_count": 30,
   "id": "6a0ae46d-36a0-47f9-baac-0528c51d120a",
   "metadata": {},
   "outputs": [
    {
     "data": {
      "text/plain": [
       "tensor([[ 2.6997e-01, -9.2370e-02,  4.2314e-01,  7.0397e-02,  2.1066e-01,\n",
       "         -1.2302e-01, -2.3111e-01,  1.0322e-01,  2.9295e-01, -1.9263e-01,\n",
       "          1.3381e-02,  2.3441e-01,  5.4512e-02,  1.6221e-01, -7.4305e-02,\n",
       "          5.9054e-02,  1.7020e-01,  2.2697e-01,  2.3640e-01, -1.0089e-01,\n",
       "          1.4266e-01,  1.3784e-01, -5.3768e-02, -3.5821e-01,  1.2550e-01,\n",
       "          1.7650e-01, -1.1821e-01, -3.7235e-02, -4.8220e-01,  3.2538e-01,\n",
       "          1.6118e-01, -1.2860e-02,  8.4659e-02,  2.5338e-01, -3.5383e-01,\n",
       "         -1.5656e-01, -1.7799e-01,  1.8444e-01, -4.5237e-01, -2.5410e-01,\n",
       "          1.6088e-01, -9.1544e-02,  1.1247e-01, -1.8027e-01, -3.5593e-01,\n",
       "          1.0413e-01, -1.9658e-01, -1.9689e-01, -7.8384e-02, -2.6450e-01,\n",
       "         -3.5689e-01,  4.9328e-02, -2.2502e-01,  3.4766e-01, -1.2673e-01,\n",
       "         -5.4412e-02, -1.3023e-01, -5.0276e-01, -2.9700e-01, -2.0184e-01,\n",
       "          3.5665e-01, -3.7245e-01,  3.8939e-01,  1.1395e-01,  1.5827e-01,\n",
       "          3.7758e-02,  3.1621e-01,  9.9016e-02, -3.8788e-01,  1.3100e-01,\n",
       "         -1.3794e-01, -1.9444e-01, -2.0191e-01, -3.0696e-01,  2.2205e-01,\n",
       "          2.7760e-01,  2.5144e-02,  3.6532e-02,  2.7702e-01, -2.1794e-02,\n",
       "          1.5640e-01,  1.9584e-01, -2.6716e-01,  5.4016e-02, -2.2205e-01,\n",
       "         -5.1989e-02,  4.8804e-02,  3.7306e-01, -4.6790e-03,  2.5408e-01,\n",
       "          3.4968e-01, -4.8071e-02, -1.3327e-01, -7.0566e-03,  1.0647e-01,\n",
       "         -4.7526e-01, -2.1017e-01, -3.0574e-01,  2.2886e-01, -2.9941e-01,\n",
       "         -3.3844e-01, -5.6068e-01, -3.1999e-01,  1.3780e-03, -3.5944e-01,\n",
       "         -1.4495e-01,  1.5171e-01, -2.4651e-02, -9.1013e-02, -1.9451e-01,\n",
       "         -5.2263e-04,  3.5530e-01,  4.0492e-02,  1.5106e-01, -3.3569e-01,\n",
       "          2.0501e-01, -1.2506e-01, -8.9438e-02,  2.3400e-01,  1.5101e-01,\n",
       "         -7.2670e-02,  1.4919e-01, -2.6961e-02,  3.5521e-01,  2.6477e-01,\n",
       "          2.2994e-02, -1.2703e-01,  1.5163e-01, -2.5354e-01, -1.3874e-01,\n",
       "          3.0247e-01,  2.2576e-01,  3.1508e-01,  3.3494e-01,  3.4047e-02,\n",
       "         -8.9145e-03,  2.4488e-02, -5.6422e-01,  2.6047e-01, -4.1653e-01,\n",
       "          2.0680e-01,  1.4695e-01,  2.6561e-01,  1.2371e-01,  9.3903e-03,\n",
       "         -3.8536e-01, -7.9586e-02,  1.2877e-01, -3.5155e-01, -6.9562e-03,\n",
       "         -1.3712e-01,  6.6776e-01, -6.3945e-02, -5.7074e-01,  1.1650e-01,\n",
       "         -5.1652e-02, -5.4252e-02, -3.9885e-02, -2.2301e-01,  2.1980e-01,\n",
       "          4.0547e-01,  2.7899e-01, -3.0072e-02,  2.4170e-01,  1.2965e-01,\n",
       "          4.7261e-04,  1.0682e-01,  3.6635e-01,  1.6916e-02, -2.4534e-01,\n",
       "         -9.1819e-02, -1.5754e-01,  6.0063e-01,  6.6538e-02, -2.5997e-01,\n",
       "          4.2285e-01,  1.3031e-01,  2.1050e-01,  3.7825e-01, -1.1534e-01,\n",
       "         -2.6148e-01,  1.5510e-01, -9.1974e-02, -4.0345e-01,  1.6484e-01,\n",
       "         -1.7793e-01,  1.3950e-01, -3.5638e-01,  3.5169e-01,  1.4115e-01,\n",
       "         -2.3166e-01, -3.9055e-01,  1.1014e-01, -1.7136e-01,  1.8213e-02,\n",
       "         -2.0880e-01,  9.0257e-02,  3.0871e-01,  2.5078e-01, -9.0985e-02,\n",
       "          3.2523e-01,  3.0665e-01, -1.7377e-01,  1.2090e-01, -2.3372e-02,\n",
       "          3.3214e-01,  2.3018e-01, -1.2424e-01, -1.9396e-01, -7.4438e-03,\n",
       "         -2.4453e-01,  5.3716e-01, -5.0104e-02,  1.2151e-02,  1.5416e-01,\n",
       "         -1.0841e-01,  2.2795e-01, -5.8973e-02, -1.9061e-02,  7.9099e-02,\n",
       "          2.4559e-01, -3.4055e-01,  1.4458e-01,  1.6689e-01, -3.4108e-01,\n",
       "          1.5276e-02,  7.7138e-02, -9.2001e-02,  3.6197e-01, -1.3734e-01,\n",
       "         -4.3583e-01, -6.6637e-02,  1.7648e-01, -4.7983e-02,  3.7853e-01,\n",
       "          3.5195e-01,  1.6129e-01, -1.3117e-02,  1.0656e-01,  1.7606e-01,\n",
       "         -2.7543e-01,  1.1064e-01,  7.3006e-02,  3.2371e-01, -2.8096e-01,\n",
       "          2.5960e-01,  3.5637e-01, -2.5089e-01, -1.8388e-01, -8.6158e-02,\n",
       "         -3.5632e-01, -1.2659e-01, -1.7518e-01, -8.4395e-02,  8.4617e-02,\n",
       "         -1.5064e-02, -2.4133e-01, -6.6356e-02,  1.5345e-01,  4.3037e-03,\n",
       "          1.9330e-02,  2.4613e-02, -5.4670e-02, -5.7053e-02,  2.4325e-02,\n",
       "          2.6636e-02, -2.6335e-02,  2.0046e-01, -6.1360e-02,  1.2557e-03,\n",
       "         -1.6632e-01,  2.0579e-02, -2.2425e-01,  2.3450e-01, -1.7239e-01,\n",
       "         -1.0746e-01,  1.9306e-01,  1.5051e-01,  1.9903e-01,  3.3290e-01,\n",
       "         -1.7862e-01,  2.1871e-01, -2.8898e-01, -6.4043e-02,  7.6254e-01,\n",
       "         -3.8033e-01,  1.1624e-02, -5.8016e-01, -2.6776e-01,  6.5709e-02,\n",
       "         -1.5319e-01,  4.0750e-01,  5.6263e-02, -3.5759e-01,  5.3519e-01,\n",
       "          1.0834e-02, -7.3904e-04,  2.4407e-01, -1.1905e-01, -1.9619e-01,\n",
       "         -3.2957e-01, -1.1327e-01,  2.1341e-01, -3.0935e-01,  2.9279e-01,\n",
       "         -6.7245e-02, -8.5698e-03,  9.0025e-02, -6.3362e+00, -9.2359e-05,\n",
       "          6.1809e-02,  2.3263e-02, -7.7789e-02, -1.3124e-01,  4.1750e-02,\n",
       "          1.3322e-01, -1.1304e-01, -1.0697e-01,  3.5384e-01, -1.6763e-01,\n",
       "         -2.4195e-02,  1.1016e-01,  1.3426e-01, -3.4094e-02,  1.9451e-01,\n",
       "         -6.3582e-02, -7.1660e-02,  3.0946e-01, -3.9634e-01, -2.4335e-01,\n",
       "          2.8357e-01, -1.4441e-01, -2.7130e-01,  3.9442e-01, -1.0256e-01,\n",
       "          4.7271e-01, -3.8038e-01,  2.6504e-02, -3.5789e-01, -1.1282e-01,\n",
       "          9.6296e-02,  9.8578e-02, -1.9093e-01,  3.2850e-02,  7.4556e-02,\n",
       "         -4.3639e-01,  2.6607e-01, -1.0563e-02,  2.5744e-01, -4.8890e-02,\n",
       "         -1.5602e-02, -9.0078e-03, -1.6595e-01, -1.4146e-01, -8.7787e-02,\n",
       "         -3.3512e-03,  3.8116e-01,  2.7789e-02,  1.1506e-01, -1.9391e-01,\n",
       "         -1.2336e-01, -1.1918e-01, -2.5715e-01, -7.1507e-02,  1.4429e-01,\n",
       "          1.8218e-01,  4.0069e-02,  1.5835e-02, -6.1688e-02, -2.2045e-01,\n",
       "         -1.3525e-02,  1.2011e-01, -3.7475e-01,  9.0308e-02,  1.8788e-02,\n",
       "         -2.1203e-01,  6.8751e-02, -1.6722e-02,  1.3878e-01, -1.6932e-01,\n",
       "          1.2649e-01, -6.6365e-01, -2.3031e-01, -2.1546e-01, -2.2341e-02,\n",
       "         -1.1418e-01,  1.2124e-01,  1.6465e-01, -1.0994e-01, -1.6851e-01,\n",
       "         -4.1744e-02,  6.1960e-02,  1.5363e-01, -4.8943e-02,  2.3607e-01,\n",
       "          8.0329e-02, -2.5842e-03,  5.1720e-02,  2.8994e-01,  2.6661e-01,\n",
       "          3.8299e-01, -1.4576e-01,  3.5813e-01,  3.0293e-01,  3.0902e-01,\n",
       "         -2.9767e-01,  2.1788e-02,  2.9972e-01, -3.6342e-02,  4.1872e-02,\n",
       "          1.4945e-01, -1.8133e-01,  1.6302e-01, -2.5177e-03, -5.2243e-01,\n",
       "          1.0657e-01,  2.1809e-01, -4.3896e-02,  3.0017e-01, -1.2627e-01,\n",
       "          5.1649e-01,  1.5053e-01, -1.0308e-01, -1.4456e-01, -3.5188e-02,\n",
       "         -1.9197e-01,  8.3457e-02, -1.6064e-01,  3.9237e-02,  9.2707e-02,\n",
       "         -2.6160e-01, -1.1196e-01, -3.5861e-01, -1.3559e-01,  9.2388e-03,\n",
       "         -6.0815e-02, -6.6220e-02,  2.5300e-01, -2.9038e-02,  5.5791e-01,\n",
       "         -1.3985e-01, -1.5072e-01,  2.5607e-02,  2.5774e-02, -7.0969e-02,\n",
       "          2.5567e-01,  2.2497e-02,  8.2672e-02,  4.1646e-01, -1.0431e-01,\n",
       "         -1.8742e-01,  1.5885e-01,  9.3867e-02,  2.4599e-03,  2.1315e-02,\n",
       "          2.4778e-01, -1.1719e-02,  1.5681e-01,  3.1814e-01, -1.5249e-01,\n",
       "          1.6705e-01,  3.9792e-01, -3.0944e-01, -1.1928e-01,  4.3589e-01,\n",
       "         -7.5795e-02, -1.6941e-01, -2.4139e-01,  9.2376e-02,  1.2065e-01,\n",
       "          1.5458e-01, -8.3221e-02,  3.9953e-01,  2.5068e-01, -3.4948e-01,\n",
       "         -3.0970e-02, -5.5883e-01, -1.1452e-01,  9.3299e-02, -3.3710e-01,\n",
       "         -2.9575e-01,  5.5513e-02,  2.0114e-01,  2.3834e-02, -1.3035e-01,\n",
       "         -3.4386e-01, -9.3563e-02, -8.9450e-02,  1.4544e-01, -1.9256e-01,\n",
       "          2.1726e-01, -4.6503e-02,  2.8015e-01,  1.3015e-01, -2.4759e-01,\n",
       "          1.3407e-01,  1.6801e-01,  2.9525e-01, -6.2430e-02, -6.2730e-02,\n",
       "         -3.6961e-02, -1.0034e-01,  2.1456e-01, -1.3556e-01,  1.1437e-01,\n",
       "         -6.5197e-02,  8.7065e-02,  1.2043e-01, -1.3860e-01,  2.9120e-02,\n",
       "         -1.4089e-01, -2.0566e-01,  2.0152e-01, -1.4035e-01,  1.5841e-01,\n",
       "          2.6746e-02, -2.4894e-01, -3.8085e-02,  1.6857e-01, -3.8014e-01,\n",
       "         -2.8161e-01, -3.3229e-01, -1.4212e-01,  2.6423e-02,  7.8366e-02,\n",
       "          2.2461e-01, -1.8131e-01,  5.4418e-02,  1.0405e-01, -3.4704e-01,\n",
       "          2.8084e-01, -3.6382e-02,  4.0778e-02,  6.0374e-02, -5.4982e-01,\n",
       "         -3.6138e-01,  1.6102e-01, -8.4986e-02, -2.0943e-01, -4.3755e-03,\n",
       "         -5.1706e-02,  2.8198e-01,  6.2524e-02, -3.1060e-01, -2.5692e-01,\n",
       "          2.2080e-01, -2.3627e-01, -1.4870e-01, -1.0466e-01, -1.1720e-01,\n",
       "         -3.9625e-01, -2.7443e-02, -2.6072e-02, -3.1939e-01, -1.7618e-02,\n",
       "          1.1005e-01,  1.0804e-01,  6.1308e-01, -1.3743e-01,  3.2312e-02,\n",
       "         -5.4848e-02, -2.2482e-01,  1.7207e-01, -2.8778e-01,  2.1673e-01,\n",
       "         -1.1099e-01, -2.6928e-01,  2.3115e-01,  1.9482e-02,  1.4507e-01,\n",
       "         -1.7994e-01, -8.7322e-02, -3.8759e-01, -4.0423e-02, -3.0419e-01,\n",
       "          2.6754e-01,  9.4087e-03,  2.9366e-01, -2.3062e-01,  1.0527e-01,\n",
       "          4.9068e-02,  3.5562e-01,  1.3750e-02,  1.0443e-01, -1.3195e-01,\n",
       "         -2.0357e-01, -1.5955e-01,  3.5365e-01,  1.5442e-01,  2.7981e-01,\n",
       "          1.9845e-02, -4.6109e-02, -1.5263e-01, -2.7623e-02, -9.9782e-02,\n",
       "         -3.7699e-02, -2.3122e-01, -3.0957e-01, -2.2931e-03,  1.7913e-01,\n",
       "          6.2816e-02,  1.6917e-01,  4.8637e-02, -4.9425e-02,  1.4234e-02,\n",
       "          2.4394e-01, -1.4014e-01, -3.7270e-02, -6.0844e-02,  5.0334e-02,\n",
       "          1.6479e-01, -2.8451e-01,  7.0575e-02,  2.1635e-01,  6.6844e-03,\n",
       "          9.9486e-02,  2.3674e-02,  1.5646e-01, -5.3343e-02,  2.2893e-02,\n",
       "          1.1193e-01,  3.7087e-01, -3.9625e-02, -1.4462e-01,  2.4076e-01,\n",
       "         -3.5419e-01, -1.6340e-01,  1.6334e-01,  1.1991e-01, -1.1510e-01,\n",
       "          2.4942e-01, -2.8648e-02, -3.4459e-02,  2.7597e-02, -3.4666e-01,\n",
       "          1.6778e-01,  6.4861e-03,  3.4182e-01,  1.5498e-01,  4.7056e-01,\n",
       "          3.0498e-01,  8.9504e-02,  4.3095e-02,  1.3736e-04,  3.6608e-01,\n",
       "         -1.4702e-01,  1.6029e-02,  1.8006e-01, -5.6658e-02, -1.1340e-01,\n",
       "         -9.3840e-03,  6.2109e-02, -2.4468e-01, -9.4258e-02,  1.3916e-01,\n",
       "         -6.9716e-03, -3.2760e-02,  3.5280e-01, -2.2319e-01,  1.6988e-01,\n",
       "         -1.3613e-01, -1.6105e-01,  7.4058e-02, -2.1529e-02, -4.0950e-02,\n",
       "          3.6218e-01, -3.9001e-01,  1.5462e-01,  1.5952e-01,  2.0679e-01,\n",
       "         -4.9608e-03,  1.4862e-01, -8.4009e-02,  9.6387e-03,  2.5650e-01,\n",
       "          9.5163e-04,  1.0126e-01, -2.7925e-01,  1.1329e-01, -1.5561e-02,\n",
       "          1.5881e-02,  4.7267e-01, -2.2699e-01,  9.0861e-02,  2.1627e-01,\n",
       "          2.8088e-01, -1.7365e-01, -1.5316e-01,  1.3105e-01, -2.2492e-02,\n",
       "         -6.1157e-02, -7.1629e-02,  3.2727e-01, -3.8948e-01,  3.0915e-01,\n",
       "          3.3103e-01, -6.5843e-02,  5.4862e-02, -3.0911e-01, -4.4045e-01,\n",
       "         -3.6041e-01,  1.4354e-01,  3.3696e-01, -2.1911e-01, -1.0504e-01,\n",
       "         -3.5384e-02,  2.4635e-01, -8.1677e-02, -1.3302e-01, -2.1948e-01,\n",
       "          2.5329e-01,  2.1637e-01, -1.3813e-01, -1.5620e-02,  2.1930e-01,\n",
       "         -2.2655e-01, -5.9845e-01, -2.6830e-01,  2.8878e-01,  3.2535e-01,\n",
       "         -4.5079e-01,  3.5861e-01, -1.7159e-01, -2.9286e-01,  1.9673e-01,\n",
       "          4.2825e-02,  2.7999e-01, -2.6790e-01, -4.7465e-01,  1.4223e-01,\n",
       "         -5.0771e-02,  2.4395e-01, -3.3924e-01,  1.0525e-01, -1.8569e-01,\n",
       "          2.4723e-01, -2.3309e-01,  2.8321e-01,  6.7340e-02,  2.6270e-02,\n",
       "         -2.2137e-01,  1.4992e-01, -1.5506e-01, -2.4054e-01, -1.1202e-01,\n",
       "         -2.6104e-01, -4.9739e-02, -2.0348e-01, -1.0872e-01,  6.2147e-02,\n",
       "         -2.4900e-01, -5.5714e-01, -7.4822e-03,  1.9890e-01, -2.5962e-01,\n",
       "          1.0640e-01, -3.2703e-01,  2.7394e-01,  2.3066e-02, -1.5274e-01,\n",
       "         -4.8452e-02, -2.5233e-01, -1.0450e-01,  2.0437e-01,  1.1916e-01,\n",
       "          1.7661e-01,  8.8156e-02, -2.9616e-02]], grad_fn=<MeanBackward1>)"
      ]
     },
     "execution_count": 30,
     "metadata": {},
     "output_type": "execute_result"
    }
   ],
   "source": [
    "sentence_embedding_mean"
   ]
  },
  {
   "cell_type": "code",
   "execution_count": 33,
   "id": "b0d58379-6dc1-4cde-8a8d-a3f304851621",
   "metadata": {},
   "outputs": [],
   "source": [
    "data = {'embedding': [\n",
    "    np.array([1, 2, 3]),  # Embedding for row 1 (size 3)\n",
    "    np.array([4, 5, 6]),  # Embedding for row 2\n",
    "    np.array([7, 8, 9])   # Embedding for row 3\n",
    "]}"
   ]
  },
  {
   "cell_type": "code",
   "execution_count": 34,
   "id": "9d954601-878b-4f68-b766-f5b58a0812c5",
   "metadata": {},
   "outputs": [
    {
     "data": {
      "text/plain": [
       "{'embedding': [array([1, 2, 3]), array([4, 5, 6]), array([7, 8, 9])]}"
      ]
     },
     "execution_count": 34,
     "metadata": {},
     "output_type": "execute_result"
    }
   ],
   "source": [
    "data"
   ]
  },
  {
   "cell_type": "code",
   "execution_count": null,
   "id": "5c76b5f4-56f3-483c-8eb8-30ba08c8d647",
   "metadata": {},
   "outputs": [],
   "source": []
  }
 ],
 "metadata": {
  "kernelspec": {
   "display_name": "Python 3 (ipykernel)",
   "language": "python",
   "name": "python3"
  },
  "language_info": {
   "codemirror_mode": {
    "name": "ipython",
    "version": 3
   },
   "file_extension": ".py",
   "mimetype": "text/x-python",
   "name": "python",
   "nbconvert_exporter": "python",
   "pygments_lexer": "ipython3",
   "version": "3.10.0"
  }
 },
 "nbformat": 4,
 "nbformat_minor": 5
}
