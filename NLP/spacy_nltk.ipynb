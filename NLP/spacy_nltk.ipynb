{
 "cells": [
  {
   "cell_type": "code",
   "execution_count": 1,
   "id": "6f61d137-045b-48b5-ba19-de8cb13d02ea",
   "metadata": {},
   "outputs": [],
   "source": [
    "import spacy"
   ]
  },
  {
   "cell_type": "code",
   "execution_count": 4,
   "id": "2dcc7e89-2d7b-4181-8e29-543ad6e75c8e",
   "metadata": {},
   "outputs": [
    {
     "name": "stdout",
     "output_type": "stream",
     "text": [
      "I am doing masters in data science.\n",
      "Dr. Ralf is supervised my master thesis\n"
     ]
    }
   ],
   "source": [
    "nlp = spacy.load(\"en_core_web_sm\")\n",
    "doc = nlp(\"I am doing masters in data science. Dr. Ralf is supervised my master thesis\")\n",
    "\n",
    "for sentence in doc.sents:\n",
    "    print(sentence)"
   ]
  },
  {
   "cell_type": "code",
   "execution_count": 6,
   "id": "f6b57404-add3-43d5-b9ec-dddc90edbb01",
   "metadata": {},
   "outputs": [
    {
     "name": "stdout",
     "output_type": "stream",
     "text": [
      "I\n",
      "am\n",
      "doing\n",
      "masters\n",
      "in\n",
      "data\n",
      "science\n",
      ".\n",
      "Dr.\n",
      "Ralf\n",
      "is\n",
      "supervised\n",
      "my\n",
      "master\n",
      "thesis\n"
     ]
    }
   ],
   "source": [
    "for sentence in doc.sents:\n",
    "    for word in sentence:\n",
    "        print(word)"
   ]
  },
  {
   "cell_type": "code",
   "execution_count": 7,
   "id": "03baaa27-62f8-4622-be22-0dc7c055621e",
   "metadata": {},
   "outputs": [],
   "source": [
    "import nltk"
   ]
  },
  {
   "cell_type": "code",
   "execution_count": 10,
   "id": "ac1a6eb3-544c-4a44-accb-b1fef24cc3a4",
   "metadata": {},
   "outputs": [
    {
     "name": "stderr",
     "output_type": "stream",
     "text": [
      "[nltk_data] Downloading package punkt to\n",
      "[nltk_data]     C:\\Users\\looka\\AppData\\Roaming\\nltk_data...\n",
      "[nltk_data]   Package punkt is already up-to-date!\n"
     ]
    },
    {
     "data": {
      "text/plain": [
       "True"
      ]
     },
     "execution_count": 10,
     "metadata": {},
     "output_type": "execute_result"
    }
   ],
   "source": [
    "nltk.download('punkt')"
   ]
  },
  {
   "cell_type": "code",
   "execution_count": 11,
   "id": "64667f11-522c-4f6a-98ec-a1edf9f1b470",
   "metadata": {},
   "outputs": [],
   "source": [
    "from nltk.tokenize import sent_tokenize"
   ]
  },
  {
   "cell_type": "code",
   "execution_count": 12,
   "id": "f259e659-259b-4a44-9a66-084c3544a2fb",
   "metadata": {},
   "outputs": [
    {
     "data": {
      "text/plain": [
       "['I am doing masters in data science.',\n",
       " 'Dr. Ralf is supervised my master thesis']"
      ]
     },
     "execution_count": 12,
     "metadata": {},
     "output_type": "execute_result"
    }
   ],
   "source": [
    "sent_tokenize(\"I am doing masters in data science. Dr. Ralf is supervised my master thesis\")"
   ]
  },
  {
   "cell_type": "code",
   "execution_count": 13,
   "id": "7d6c55f7-65c5-477a-afc1-97cd22c7a4fc",
   "metadata": {},
   "outputs": [],
   "source": [
    "from nltk.tokenize import word_tokenize"
   ]
  },
  {
   "cell_type": "code",
   "execution_count": 14,
   "id": "a3212e9f-9180-43d2-9e6c-ec9b9f749ecb",
   "metadata": {},
   "outputs": [
    {
     "data": {
      "text/plain": [
       "['I',\n",
       " 'am',\n",
       " 'doing',\n",
       " 'masters',\n",
       " 'in',\n",
       " 'data',\n",
       " 'science',\n",
       " '.',\n",
       " 'Dr.',\n",
       " 'Ralf',\n",
       " 'is',\n",
       " 'supervised',\n",
       " 'my',\n",
       " 'master',\n",
       " 'thesis']"
      ]
     },
     "execution_count": 14,
     "metadata": {},
     "output_type": "execute_result"
    }
   ],
   "source": [
    "word_tokenize(\"I am doing masters in data science. Dr. Ralf is supervised my master thesis\")"
   ]
  },
  {
   "cell_type": "markdown",
   "id": "954d0131-8038-4939-8def-ba5ccf4b30c1",
   "metadata": {},
   "source": [
    "### Tookenization"
   ]
  },
  {
   "cell_type": "code",
   "execution_count": 15,
   "id": "6e1bdcf5-1d1e-446d-8de1-a74ee5abdb77",
   "metadata": {},
   "outputs": [
    {
     "name": "stdout",
     "output_type": "stream",
     "text": [
      "I\n",
      "am\n",
      "doing\n",
      "masters\n",
      "in\n",
      "data\n",
      "science\n",
      ".\n",
      "Dr.\n",
      "Ralf\n",
      "is\n",
      "supervised\n",
      "my\n",
      "master\n",
      "thesis\n",
      ".\n"
     ]
    }
   ],
   "source": [
    "nlp = spacy.blank(\"en\") # blank english language component\n",
    "\n",
    "doc = nlp(\"I am doing masters in data science. Dr. Ralf is supervised my master thesis.\")\n",
    "\n",
    "for token in doc:\n",
    "    print(token)"
   ]
  },
  {
   "cell_type": "markdown",
   "id": "ab64c382-8b0e-460f-86fa-ff76d358b2d0",
   "metadata": {},
   "source": [
    "## website : firstlanguage.in"
   ]
  },
  {
   "cell_type": "code",
   "execution_count": 17,
   "id": "39c6d389-0731-4fc7-8184-272e7a6e430f",
   "metadata": {},
   "outputs": [
    {
     "data": {
      "text/plain": [
       "."
      ]
     },
     "execution_count": 17,
     "metadata": {},
     "output_type": "execute_result"
    }
   ],
   "source": [
    "doc[-1]"
   ]
  },
  {
   "cell_type": "code",
   "execution_count": 18,
   "id": "89b6886e-9ab1-49b0-a316-8c895adf32cb",
   "metadata": {},
   "outputs": [
    {
     "data": {
      "text/plain": [
       "I"
      ]
     },
     "execution_count": 18,
     "metadata": {},
     "output_type": "execute_result"
    }
   ],
   "source": [
    "token0 = doc[0]\n",
    "token0"
   ]
  },
  {
   "cell_type": "code",
   "execution_count": 19,
   "id": "0d682555-f62b-4f5c-9d24-9721ab4e802d",
   "metadata": {},
   "outputs": [
    {
     "data": {
      "text/plain": [
       "['_',\n",
       " '__bytes__',\n",
       " '__class__',\n",
       " '__delattr__',\n",
       " '__dir__',\n",
       " '__doc__',\n",
       " '__eq__',\n",
       " '__format__',\n",
       " '__ge__',\n",
       " '__getattribute__',\n",
       " '__gt__',\n",
       " '__hash__',\n",
       " '__init__',\n",
       " '__init_subclass__',\n",
       " '__le__',\n",
       " '__len__',\n",
       " '__lt__',\n",
       " '__ne__',\n",
       " '__new__',\n",
       " '__pyx_vtable__',\n",
       " '__reduce__',\n",
       " '__reduce_ex__',\n",
       " '__repr__',\n",
       " '__setattr__',\n",
       " '__sizeof__',\n",
       " '__str__',\n",
       " '__subclasshook__',\n",
       " '__unicode__',\n",
       " 'ancestors',\n",
       " 'check_flag',\n",
       " 'children',\n",
       " 'cluster',\n",
       " 'conjuncts',\n",
       " 'dep',\n",
       " 'dep_',\n",
       " 'doc',\n",
       " 'ent_id',\n",
       " 'ent_id_',\n",
       " 'ent_iob',\n",
       " 'ent_iob_',\n",
       " 'ent_kb_id',\n",
       " 'ent_kb_id_',\n",
       " 'ent_type',\n",
       " 'ent_type_',\n",
       " 'get_extension',\n",
       " 'has_dep',\n",
       " 'has_extension',\n",
       " 'has_head',\n",
       " 'has_morph',\n",
       " 'has_vector',\n",
       " 'head',\n",
       " 'i',\n",
       " 'idx',\n",
       " 'iob_strings',\n",
       " 'is_alpha',\n",
       " 'is_ancestor',\n",
       " 'is_ascii',\n",
       " 'is_bracket',\n",
       " 'is_currency',\n",
       " 'is_digit',\n",
       " 'is_left_punct',\n",
       " 'is_lower',\n",
       " 'is_oov',\n",
       " 'is_punct',\n",
       " 'is_quote',\n",
       " 'is_right_punct',\n",
       " 'is_sent_end',\n",
       " 'is_sent_start',\n",
       " 'is_space',\n",
       " 'is_stop',\n",
       " 'is_title',\n",
       " 'is_upper',\n",
       " 'lang',\n",
       " 'lang_',\n",
       " 'left_edge',\n",
       " 'lefts',\n",
       " 'lemma',\n",
       " 'lemma_',\n",
       " 'lex',\n",
       " 'lex_id',\n",
       " 'like_email',\n",
       " 'like_num',\n",
       " 'like_url',\n",
       " 'lower',\n",
       " 'lower_',\n",
       " 'morph',\n",
       " 'n_lefts',\n",
       " 'n_rights',\n",
       " 'nbor',\n",
       " 'norm',\n",
       " 'norm_',\n",
       " 'orth',\n",
       " 'orth_',\n",
       " 'pos',\n",
       " 'pos_',\n",
       " 'prefix',\n",
       " 'prefix_',\n",
       " 'prob',\n",
       " 'rank',\n",
       " 'remove_extension',\n",
       " 'right_edge',\n",
       " 'rights',\n",
       " 'sent',\n",
       " 'sent_start',\n",
       " 'sentiment',\n",
       " 'set_extension',\n",
       " 'set_morph',\n",
       " 'shape',\n",
       " 'shape_',\n",
       " 'similarity',\n",
       " 'subtree',\n",
       " 'suffix',\n",
       " 'suffix_',\n",
       " 'tag',\n",
       " 'tag_',\n",
       " 'tensor',\n",
       " 'text',\n",
       " 'text_with_ws',\n",
       " 'vector',\n",
       " 'vector_norm',\n",
       " 'vocab',\n",
       " 'whitespace_']"
      ]
     },
     "execution_count": 19,
     "metadata": {},
     "output_type": "execute_result"
    }
   ],
   "source": [
    "dir(token0)"
   ]
  },
  {
   "cell_type": "code",
   "execution_count": 20,
   "id": "4e66cc31-345d-4da1-adae-e9e7083383cb",
   "metadata": {},
   "outputs": [],
   "source": [
    "string = \"Tony gave 2$ to Tom.\"\n",
    "doc = nlp(string)"
   ]
  },
  {
   "cell_type": "code",
   "execution_count": 22,
   "id": "7d0f996b-04b8-4b88-80a1-ce61c4d80dc3",
   "metadata": {},
   "outputs": [
    {
     "name": "stdout",
     "output_type": "stream",
     "text": [
      "Tony ==> index: 0  is_alpha: True  is_punct: False  like_num: False  is_currency: False\n",
      "gave ==> index: 1  is_alpha: True  is_punct: False  like_num: False  is_currency: False\n",
      "2 ==> index: 2  is_alpha: False  is_punct: False  like_num: True  is_currency: False\n",
      "$ ==> index: 3  is_alpha: False  is_punct: False  like_num: False  is_currency: True\n",
      "to ==> index: 4  is_alpha: True  is_punct: False  like_num: False  is_currency: False\n",
      "Tom ==> index: 5  is_alpha: True  is_punct: False  like_num: False  is_currency: False\n",
      ". ==> index: 6  is_alpha: False  is_punct: True  like_num: False  is_currency: False\n"
     ]
    }
   ],
   "source": [
    "for token in doc:\n",
    "    print(token, \"==>\", \"index:\", token.i,\n",
    "         \" is_alpha:\", token.is_alpha,\n",
    "         \" is_punct:\", token.is_punct,\n",
    "         \" like_num:\", token.like_num,\n",
    "         \" is_currency:\", token.is_currency)"
   ]
  },
  {
   "cell_type": "code",
   "execution_count": 23,
   "id": "269fbeb6-0d91-430b-a4b0-a57cd4c3900e",
   "metadata": {},
   "outputs": [],
   "source": [
    "with open('students.txt') as f:\n",
    "    text = f.readlines()"
   ]
  },
  {
   "cell_type": "code",
   "execution_count": 24,
   "id": "59a6701c-7ad2-4330-814e-c7b6416651a1",
   "metadata": {},
   "outputs": [
    {
     "data": {
      "text/plain": [
       "['------------------------------------------------\\n',\n",
       " 'Name\\t       Email\\t                Grade\\n',\n",
       " '------------------------------------------------\\n',\n",
       " 'John Doe      johndoe@example.com\\t         A\\n',\n",
       " '------------------------------------------------\\n',\n",
       " 'Jane Smith\\t  janesmith@example.com\\t         B+\\n',\n",
       " '------------------------------------------------\\n',\n",
       " 'Alice Johnson\\talicej@example.com\\t         A-\\n',\n",
       " '------------------------------------------------\\n',\n",
       " 'Bob Brown\\t   bobbrown@example.com\\t         B\\n',\n",
       " '------------------------------------------------\\n',\n",
       " 'Emily Davis\\t   emilydavis@example.com\\t     A\\n',\n",
       " '------------------------------------------------\\n']"
      ]
     },
     "execution_count": 24,
     "metadata": {},
     "output_type": "execute_result"
    }
   ],
   "source": [
    "text"
   ]
  },
  {
   "cell_type": "code",
   "execution_count": 25,
   "id": "c687d391-7c81-49c8-9548-e2df624a5129",
   "metadata": {},
   "outputs": [
    {
     "data": {
      "text/plain": [
       "'------------------------------------------------\\n Name\\t       Email\\t                Grade\\n ------------------------------------------------\\n John Doe      johndoe@example.com\\t         A\\n ------------------------------------------------\\n Jane Smith\\t  janesmith@example.com\\t         B+\\n ------------------------------------------------\\n Alice Johnson\\talicej@example.com\\t         A-\\n ------------------------------------------------\\n Bob Brown\\t   bobbrown@example.com\\t         B\\n ------------------------------------------------\\n Emily Davis\\t   emilydavis@example.com\\t     A\\n ------------------------------------------------\\n'"
      ]
     },
     "execution_count": 25,
     "metadata": {},
     "output_type": "execute_result"
    }
   ],
   "source": [
    "text = ' '.join(text)\n",
    "text"
   ]
  },
  {
   "cell_type": "code",
   "execution_count": 26,
   "id": "5e7121ba-caa2-4c63-a108-0a73be0dbb60",
   "metadata": {},
   "outputs": [],
   "source": [
    "doc = nlp(text)\n",
    "emails = []\n",
    "for token in doc:\n",
    "    if token.like_email:\n",
    "        emails.append(token)"
   ]
  },
  {
   "cell_type": "code",
   "execution_count": 27,
   "id": "e07745a6-920a-41d2-a20d-388718c6d9d1",
   "metadata": {},
   "outputs": [
    {
     "name": "stdout",
     "output_type": "stream",
     "text": [
      "[johndoe@example.com, janesmith@example.com, alicej@example.com, bobbrown@example.com, emilydavis@example.com]\n"
     ]
    }
   ],
   "source": [
    "print(emails)"
   ]
  },
  {
   "cell_type": "code",
   "execution_count": null,
   "id": "75ae1bd7-95c2-44e1-8e93-cdd104745b98",
   "metadata": {},
   "outputs": [],
   "source": []
  }
 ],
 "metadata": {
  "kernelspec": {
   "display_name": "Python 3 (ipykernel)",
   "language": "python",
   "name": "python3"
  },
  "language_info": {
   "codemirror_mode": {
    "name": "ipython",
    "version": 3
   },
   "file_extension": ".py",
   "mimetype": "text/x-python",
   "name": "python",
   "nbconvert_exporter": "python",
   "pygments_lexer": "ipython3",
   "version": "3.10.0"
  }
 },
 "nbformat": 4,
 "nbformat_minor": 5
}
